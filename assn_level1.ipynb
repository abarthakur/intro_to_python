{
 "cells": [
  {
   "cell_type": "markdown",
   "metadata": {},
   "source": [
    "### Level 1 exercises\n",
    "\n",
    "**Instructions**\n",
    "\n",
    "* These exercises are tiny problems which will help you to revise the syntax. \n",
    "* Every answer is a function - this makes it easy for me to check, and easy for you to understand what the input and output are. \n",
    "* Please keep the same names and arguments for the functions as below so it is easy for me too check (automatically :P).\n",
    "* Compile them all into one file \"FIRSTNAME_LASTNAME_level1.py\". Put any required imports at the top.\n",
    "* Make sure there are no syntax errors in your file. \n",
    "\n",
    "**Questions**\n",
    "\n",
    "1. Write a function ``am_gm_hm(x,y)`` that takes as input two numbers and returns the Arithmetic Mean, Geometric Mean and Harmonic mean of the two - in that order. What happens if one of the numbers is 0?\n",
    "2. Triangle inequality states that for the sum of any two sides of a triangle is greater than the third side. Write a function ``check_triangle_inequality(a,b,c)`` that returns False if some combination of sides violates the triangle inequality (Hint: there are 3 scenarios) and True otherwise.\n",
    "3. You already know how to calculate factorials from the lecture. Use that function (or better write it again yourself) to compute the value of sin(x) according to the Taylor formula upto k terms. Thus your function should be ``calculate_sin(x,k)``. The Taylor formula for sin(x) is as follows-\n",
    "    > sin(x) = x - x^3/3! + x^5/5! - x^7/7! + x^9/9! ....\n",
    "4. Write a function ``check_substring(string1,string2)`` to check if ``string2`` is a substring of ``string1``. For example \"chem\" is a substring of \"alchemy\" and \"chemistry\". It returns True or False.\n",
    "5. Write a function to generate all substrings of a string and return it as a list of strings. Let the function be called ``generate_substrings(string)``. For example, ``generate_substrings(\"alchemy\")`` returns ``[\"a\",\"al\",\"alc\",\"alch\",\"alche\",\"alchem\",\"alchemy\",\"l\",\"lc\",... etc]``. There should be no repititions in the list.\n",
    "6. Write a function ``greet_me()`` to take your name as input from the command line and print a personalized greeting like \"Hello, Rani, how are you today?\"\n",
    "7. Write a function ``mean_calculator()`` to take two floats as input from command line and print the AM,GM,HM of those numbers. \n",
    "8. Write a function to print only odd numbers in the range(a,b). Write it two times - once with a for loop (``print_odd_for(a,b)``) and once with a while loop (``print_odd_while(a,b)``).\n",
    "9. Write a function that uses recursion to calculate the nth term of the Fibonacci series called ``fibonacci(n)``. (Google fibonacci series if you don't know it.) \n",
    "10. Write a function that uses a loop to **print** the Fibonacci series upto n terms called ``fibonacci_loop(n)``.\n",
    "11. Write a function ``sum_game(value)`` that runs a loop that takes numbers as input from command line, and exits only when the sum of the numbers so far reaches ``value``. Make sure value is positive, but the numbers which come from command line can be negative.\n",
    "12. Write a function ``count_alphabet(filepath,character)`` which counts the number of times the ``character`` which is passed occurs in the file at ``filepath``. The file is guaranteed to exist, but I might input a string as character - in which case you should reject it (and exit).\n",
    "13. Write a function ``write_to_file(filepath)`` that starts a REPL loop and ask the user to enter some string in the command line. Then this string is written by the function into the file with a newline. If the user writes \"exit\" the loop should exit.\n",
    "14. Write a function ``serialize(filepath)`` that starts a REPL loop to get strings from the user like the previous question. The function stores the strings in a list. If the user writes \"save\", you should ask the user \"Save as pickle or json?\". According to the user's reply use the pickle or json module to save to filepath. Afterwards exit. \n",
    "15. Write a function ``list_overlap(list1,list2)`` that takes two lists of integers as input, and returns a list of the common elements. You can use sets for this.\n",
    "16. Write a function ``count_frequencies(mylist)`` that takes a list of integers as input and returns a dictionary where the key are the unique numbers in the list, and the value is their frequencies.\n"
   ]
  }
 ],
 "metadata": {
  "hide_input": false,
  "kernelspec": {
   "display_name": "Python 3",
   "language": "python",
   "name": "python3"
  },
  "language_info": {
   "codemirror_mode": {
    "name": "ipython",
    "version": 3
   },
   "file_extension": ".py",
   "mimetype": "text/x-python",
   "name": "python",
   "nbconvert_exporter": "python",
   "pygments_lexer": "ipython3",
   "version": "3.6.9"
  },
  "toc": {
   "base_numbering": 1,
   "nav_menu": {},
   "number_sections": true,
   "sideBar": true,
   "skip_h1_title": false,
   "title_cell": "Table of Contents",
   "title_sidebar": "Contents",
   "toc_cell": false,
   "toc_position": {},
   "toc_section_display": true,
   "toc_window_display": false
  }
 },
 "nbformat": 4,
 "nbformat_minor": 2
}
