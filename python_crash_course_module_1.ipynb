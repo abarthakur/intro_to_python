{
 "cells": [
  {
   "cell_type": "markdown",
   "metadata": {},
   "source": [
    "# Introduction"
   ]
  },
  {
   "cell_type": "markdown",
   "metadata": {
    "heading_collapsed": true
   },
   "source": [
    "## What is programming? Why learn it?"
   ]
  },
  {
   "cell_type": "markdown",
   "metadata": {
    "hidden": true
   },
   "source": [
    "Programming converts a process to a program. \n",
    "\n",
    "* A process/algorithm is a set of precise steps that starts with some data, does some things with that data, and then (usually) returns some data.\n",
    "\n",
    "\n",
    "* Processes are everywhere. \n",
    "* When you make tea - that's a process. When you have robots that can handle a stove (I think there are now?) people will be writing programs for it.\n",
    "* When you apply for something, you have to fill up the form, then it goes to certain people and then comes back to you depending on the result - that's usually a very clearly defined process. That's why these things are mostly handled by programs today.\n",
    "\n",
    "It is quite likely that many parts of your job also follow processes - these things can possibly be automated by writing programs.\n",
    "\n",
    "Consider the following example"
   ]
  },
  {
   "cell_type": "markdown",
   "metadata": {
    "hidden": true
   },
   "source": [
    "**Process**\n",
    "\n",
    "* Your job is to solve linear equations in 2 variables. Your boss gives you the following equations\n",
    "  ```\n",
    "  x+2y=10\n",
    "  2x+y=8\n",
    "  ```\n",
    "* You know how to solve these equations by process of elimination, so you write\n",
    "\n",
    "    ```\n",
    "    First eliminate x by matching coefficients\n",
    "\n",
    "    2*(x+2y)-(2x+y)=2*10-8\n",
    "    => 3y=12\n",
    "    => y=4\n",
    "\n",
    "    Now substiting y in eqn 1,\n",
    "\n",
    "    x+8=10\n",
    "    => x=2\n",
    "\n",
    "    ```\n",
    "* Here, the **inputs** to you were the 2 equations, or more specifically the coefficients, i.e. \n",
    "    ```\n",
    "    (1,2,10) and (2,1,8)\n",
    "    ```\n",
    "* The **logic** you applied was the substitution method.\n",
    "* The **output** was your answer, the values for x and y\n",
    "    ```\n",
    "    (2,4)\n",
    "    ``` "
   ]
  },
  {
   "cell_type": "markdown",
   "metadata": {
    "hidden": true
   },
   "source": [
    "**Program**\n",
    "\n",
    "* Now, suppose you had to write an algorithm to do your job. \n",
    "* If you can do that, your boss will promote you to solving 3D equations! How would you do it?\n",
    "* If you know Python, you can write something like this"
   ]
  },
  {
   "cell_type": "code",
   "execution_count": null,
   "metadata": {
    "ExecuteTime": {
     "end_time": "2020-05-04T15:24:04.286609Z",
     "start_time": "2020-05-04T15:24:04.282862Z"
    },
    "hidden": true
   },
   "outputs": [],
   "source": [
    "def solve_equations(a,b,c,u,v,w):\n",
    "    # solve system of linear equations\n",
    "    # ax + by = c\n",
    "    # ux + vy = w\n",
    "    \n",
    "    ## First eliminate x, how?\n",
    "    \n",
    "    # Multiply eqn 1 by \"u\", and eqn 2 by \"a\" and subtract them\n",
    "    # Then y = (c*u - w*a)/(b-v)\n",
    "    y=(c*u-w*a)/(b*u-v*a)\n",
    "    \n",
    "    # Now get x from eqn 1\n",
    "    \n",
    "    x = (c - b*y)/a\n",
    "    \n",
    "    # return the values\n",
    "    \n",
    "    return x,y"
   ]
  },
  {
   "cell_type": "code",
   "execution_count": null,
   "metadata": {
    "ExecuteTime": {
     "end_time": "2020-05-04T15:24:07.047023Z",
     "start_time": "2020-05-04T15:24:07.043141Z"
    },
    "hidden": true
   },
   "outputs": [],
   "source": [
    "solve_equations(1,2,10,2,1,8)"
   ]
  },
  {
   "cell_type": "code",
   "execution_count": null,
   "metadata": {
    "ExecuteTime": {
     "end_time": "2020-05-04T15:24:41.900386Z",
     "start_time": "2020-05-04T15:24:41.896216Z"
    },
    "hidden": true,
    "scrolled": false
   },
   "outputs": [],
   "source": [
    "solve_equations(5,2,22,2,1,8)"
   ]
  },
  {
   "cell_type": "markdown",
   "metadata": {
    "hidden": true
   },
   "source": [
    "This code is super easy to understand, its just like how you would write the calculations for your boss! \n",
    "\n",
    "But now you can run it for any inputs your boss gives you! Also you have used the following Pythonic concepts!\n",
    "\n",
    "* Variables\n",
    "* Expressions\n",
    "* Comments\n",
    "* Functions"
   ]
  },
  {
   "cell_type": "markdown",
   "metadata": {
    "hidden": true
   },
   "source": [
    "* True, most programs try to model existing real life processes for automation.\n",
    "* But you probably want to write code to implement ML algorithms.\n",
    "* It's true that some processes, like to analyze large amounts of data, were born as programs from the beginning. That's because human beings can't do things at that scale - without programs.\n",
    "* But the **process** (:P) of converting a process to program doesn't change - \n",
    "    * just imagine you had all the time in the world, and you can do all the math on paper.\n",
    "    * write down how you would do it (like the example above) as precisely as possible.\n",
    "    * then convert it to a program."
   ]
  },
  {
   "cell_type": "markdown",
   "metadata": {
    "heading_collapsed": true
   },
   "source": [
    "## Brief Intro to Python"
   ]
  },
  {
   "cell_type": "markdown",
   "metadata": {
    "hidden": true
   },
   "source": [
    "Quickly here are a few points about Python\n",
    "\n",
    "* Python is designed to read like English. \"Maximum readability\" is the mantra to follow while writing Python.\n",
    "* Python has few keywords and is simple to learn.\n",
    "* Python is an interpreted language. This means every line is executed one by one when you run the code. Which means that there are no \"compile time errors\".\n",
    "* You can use the Python interpreter for an interactive programming experience.\n",
    "* Python has a very large ecosystem of Machine Learning libraries making it a go-to for ML and DS practitioners.\n",
    "* Python is also a popular choice for writing backends for web-applications, especially with the Django framework.\n"
   ]
  },
  {
   "cell_type": "markdown",
   "metadata": {
    "hidden": true
   },
   "source": [
    "If this tutorial is not enough, you might want to browse the following tutorials\n",
    "* [THE Python Tutorial](https://docs.python.org/3/tutorial/)\n",
    "* [TutorialsPoint](https://www.tutorialspoint.com/python/index.htm)"
   ]
  },
  {
   "cell_type": "markdown",
   "metadata": {
    "hidden": true
   },
   "source": [
    "#### Installing Python"
   ]
  },
  {
   "cell_type": "markdown",
   "metadata": {
    "hidden": true
   },
   "source": [
    "* If you are on Linux or MacOS, you already have python installed.\n",
    "* Open up a terminal and type ``python`` to start the interpreter."
   ]
  },
  {
   "cell_type": "markdown",
   "metadata": {
    "hidden": true
   },
   "source": [
    "* You can install [Miniconda](https://docs.conda.io/en/latest/miniconda.html) to manage environments and packages. \n",
    "* Alternatively, you can also install [Anaconda](https://docs.anaconda.com/anaconda/install/) which is Miniconda + a bunch of other software and packages. It also has a GUI interface. \n",
    "* Anaconda comes fully equipped with all the popular data science packages and Jupyter Notebook, the software we are using right now. \n",
    "* For Miniconda you have to install everything by yourself, but that's easy.\n",
    "* I highly recommend **Miniconda** - this way you know exactly what you're putting into your computer. \n",
    "\n",
    "What is Jupyter?\n",
    "\n",
    "* Jupyter is just a way to mix text and python code. Just imagine that everytime you run a code block -> you just send that code to the interpreter running behind this website -> exactly like if you typed it out."
   ]
  },
  {
   "cell_type": "markdown",
   "metadata": {
    "hidden": true
   },
   "source": [
    "If you have installed Miniconda, you just need the following commands\n",
    "\n",
    "First create your environment\n",
    "\n",
    "```\n",
    "conda create --name eict python=3.6\n",
    "```\n",
    "\n",
    "Then, enter your environment\n",
    "\n",
    "```\n",
    "conda activate eict\n",
    "```\n",
    "\n",
    "You can install packages like this\n",
    "\n",
    "```\n",
    "conda install jupyter\n",
    "```"
   ]
  },
  {
   "cell_type": "markdown",
   "metadata": {
    "hidden": true
   },
   "source": [
    "* If you have installed Anaconda, you can open Jupyter Notebook from the Anacoda Navigator.\n",
    "* You can manage environments and packages from the navigator as well as by using conda with the above commands."
   ]
  },
  {
   "cell_type": "markdown",
   "metadata": {
    "hidden": true
   },
   "source": [
    "> [Installing Miniconda on Windows Youtube](https://www.youtube.com/watch?v=q04RsYo0f1w)"
   ]
  },
  {
   "cell_type": "markdown",
   "metadata": {},
   "source": [
    "# Datatypes and Operators"
   ]
  },
  {
   "cell_type": "markdown",
   "metadata": {},
   "source": [
    "* What are the simplest types of data in Python? \n",
    "* How do you represent them?\n",
    "* What can you do with them?"
   ]
  },
  {
   "cell_type": "markdown",
   "metadata": {},
   "source": [
    "## Numbers "
   ]
  },
  {
   "cell_type": "markdown",
   "metadata": {
    "ExecuteTime": {
     "end_time": "2020-05-04T15:45:55.670035Z",
     "start_time": "2020-05-04T15:45:55.666624Z"
    }
   },
   "source": [
    "* Two basic types of numbers in Python you should be concerned about for now\n",
    "    * Integers\n",
    "    * Floats"
   ]
  },
  {
   "cell_type": "code",
   "execution_count": 1,
   "metadata": {
    "ExecuteTime": {
     "end_time": "2020-05-07T07:25:04.668301Z",
     "start_time": "2020-05-07T07:25:04.664933Z"
    }
   },
   "outputs": [
    {
     "name": "stdout",
     "output_type": "stream",
     "text": [
      "53\n",
      "2.003\n"
     ]
    }
   ],
   "source": [
    "# integer : no decimal\n",
    "print(53)\n",
    "\n",
    "# float : decimal\n",
    "print(2.003)"
   ]
  },
  {
   "cell_type": "markdown",
   "metadata": {},
   "source": [
    "* The ``print`` **function** is a convenient way to print to the **console** (or actually stdout). \n",
    "* Don't worry about what functions are now. Just remember it prints out whatever is in between the brackets"
   ]
  },
  {
   "cell_type": "markdown",
   "metadata": {
    "ExecuteTime": {
     "end_time": "2020-05-04T15:47:29.948667Z",
     "start_time": "2020-05-04T15:47:29.944664Z"
    }
   },
   "source": [
    "#### Operators"
   ]
  },
  {
   "cell_type": "markdown",
   "metadata": {},
   "source": [
    "* Arithmetic Operators : <span style=\"font-size:22px\">+ - / \\* % \\** //</span>\n",
    "    * Takes two numbers and returns a number\n",
    "    * 3 / 2  ---> 1.5\n",
    "    * If one of the numbers is a float, the result is a float.\n",
    "    * If both are integers, the result is an integer.\n",
    "        * Exception : /\n",
    "* Comparison Operators : <span style=\"font-size:22px\"> > < \\<= \\>= == != </span>\n",
    "    * Return a boolean - True, False"
   ]
  },
  {
   "cell_type": "markdown",
   "metadata": {},
   "source": [
    "Notes : \n",
    "* Bitwise operators\n",
    "* Operator precedence : BODMAS rule or just use brackets!"
   ]
  },
  {
   "cell_type": "markdown",
   "metadata": {
    "heading_collapsed": true
   },
   "source": [
    "## Booleans"
   ]
  },
  {
   "cell_type": "code",
   "execution_count": 2,
   "metadata": {
    "ExecuteTime": {
     "end_time": "2020-05-07T07:26:16.127775Z",
     "start_time": "2020-05-07T07:26:16.125071Z"
    },
    "hidden": true
   },
   "outputs": [
    {
     "name": "stdout",
     "output_type": "stream",
     "text": [
      "True\n",
      "False\n"
     ]
    }
   ],
   "source": [
    "# booleans\n",
    "print(True)\n",
    "print(False)"
   ]
  },
  {
   "cell_type": "markdown",
   "metadata": {
    "hidden": true
   },
   "source": [
    "Boolean operators : **and** , **or** , **not**\n",
    "\n",
    "```\n",
    "True and False\n",
    "True or False\n",
    "not True\n",
    "```"
   ]
  },
  {
   "cell_type": "markdown",
   "metadata": {
    "ExecuteTime": {
     "end_time": "2020-05-04T16:11:07.083402Z",
     "start_time": "2020-05-04T16:11:07.077531Z"
    },
    "heading_collapsed": true
   },
   "source": [
    "## Strings"
   ]
  },
  {
   "cell_type": "code",
   "execution_count": null,
   "metadata": {
    "ExecuteTime": {
     "end_time": "2020-05-04T15:46:43.808577Z",
     "start_time": "2020-05-04T15:46:43.805077Z"
    },
    "hidden": true
   },
   "outputs": [],
   "source": [
    "print(\"this is a string\")\n",
    "print('you can also use single quotes')"
   ]
  },
  {
   "cell_type": "markdown",
   "metadata": {
    "hidden": true
   },
   "source": [
    "* Indexing and Slicing\n",
    "    ```\n",
    "    \"My name is\"[1]\n",
    "    \"My name is\"[-1]\n",
    "    \"My name is\"[1:5]\n",
    "    \"My name is\"[1:]\n",
    "    \"My name is\"[1:-5]\n",
    "    ```\n",
    "* Concatenation\n",
    "    ```\n",
    "    \"My name \" + \" is \" +\" Aneesh\"\n",
    "    ```\n",
    "* Repitition \n",
    "    ```\n",
    "    \"Repeating\"*3\n",
    "    ```\n",
    "* Membership operators\n",
    "\n",
    "    ```\n",
    "    \"M\" in \"America\"\n",
    "    \"M\" not in \"America\"\n",
    "    ```\n",
    "    * Returns a boolean - True or False\n",
    "    * In this case second one is true, because \"M\" is NOT in \"America\". Remember that in coding letters are just symbols, so M and m are different. "
   ]
  },
  {
   "cell_type": "markdown",
   "metadata": {
    "ExecuteTime": {
     "end_time": "2020-05-04T16:18:10.986889Z",
     "start_time": "2020-05-04T16:18:10.983335Z"
    },
    "hidden": true
   },
   "source": [
    "* Escaping quotes in strings\n",
    "    ```\n",
    "    \"A single quote ' inside a double quote\"\n",
    "\n",
    "    'Or a double quote \" inside a single quote\"\n",
    "\n",
    "    \"Or just use \\\\ to escape \\\"\"\n",
    "    ```\n",
    "\n",
    "* Newlines in strings\n",
    "\n",
    "    ```\n",
    "    \"A newline is written like this - \\n\"\n",
    "    ```"
   ]
  },
  {
   "cell_type": "markdown",
   "metadata": {
    "hidden": true
   },
   "source": [
    "**Instructor Note** : Move to Python interpreter and demonstrate\n",
    "\n",
    "* All the binary operators for numbers, booleans and strings\n",
    "* Nested expressions with paranthesis\n",
    "* Implicit typecasting for numbers\n",
    "* Mixing comparison operators and boolean operators"
   ]
  },
  {
   "cell_type": "markdown",
   "metadata": {
    "heading_collapsed": true
   },
   "source": [
    "## Converting between datatypes"
   ]
  },
  {
   "cell_type": "markdown",
   "metadata": {
    "hidden": true
   },
   "source": [
    "* Python provides a bunch of very simple functions, that does the job of type conversion for you."
   ]
  },
  {
   "cell_type": "markdown",
   "metadata": {
    "hidden": true
   },
   "source": [
    "* Between float and int"
   ]
  },
  {
   "cell_type": "code",
   "execution_count": null,
   "metadata": {
    "ExecuteTime": {
     "end_time": "2020-05-04T17:22:10.716892Z",
     "start_time": "2020-05-04T17:22:10.713563Z"
    },
    "hidden": true
   },
   "outputs": [],
   "source": [
    "# Converting float to integer, takes the floor of the float\n",
    "print(int(22.9))\n",
    "print(float(33))"
   ]
  },
  {
   "cell_type": "markdown",
   "metadata": {
    "hidden": true
   },
   "source": [
    "* Boolean to number"
   ]
  },
  {
   "cell_type": "code",
   "execution_count": null,
   "metadata": {
    "ExecuteTime": {
     "end_time": "2020-05-04T17:22:20.690869Z",
     "start_time": "2020-05-04T17:22:20.687535Z"
    },
    "hidden": true
   },
   "outputs": [],
   "source": [
    "print(int(True))\n",
    "print(int(False))"
   ]
  },
  {
   "cell_type": "markdown",
   "metadata": {
    "hidden": true
   },
   "source": [
    "* Numbers and Booleans to Stringa"
   ]
  },
  {
   "cell_type": "code",
   "execution_count": null,
   "metadata": {
    "ExecuteTime": {
     "end_time": "2020-05-04T17:22:24.215453Z",
     "start_time": "2020-05-04T17:22:24.211669Z"
    },
    "hidden": true
   },
   "outputs": [],
   "source": [
    "print(str(13))\n",
    "print(str(49.99))\n",
    "print(str(True))"
   ]
  },
  {
   "cell_type": "markdown",
   "metadata": {
    "hidden": true
   },
   "source": [
    "* String to numbers"
   ]
  },
  {
   "cell_type": "code",
   "execution_count": null,
   "metadata": {
    "ExecuteTime": {
     "end_time": "2020-05-04T17:23:15.891278Z",
     "start_time": "2020-05-04T17:23:15.888142Z"
    },
    "hidden": true
   },
   "outputs": [],
   "source": [
    "print(int(\"22\"))\n",
    "print(float(\"33.3333\"))"
   ]
  },
  {
   "cell_type": "markdown",
   "metadata": {
    "hidden": true
   },
   "source": [
    "* Other datatypes to boolean\n",
    "    * Everything is true except for some special values - 0, 0.0, \"\", None"
   ]
  },
  {
   "cell_type": "code",
   "execution_count": null,
   "metadata": {
    "ExecuteTime": {
     "end_time": "2020-05-04T17:26:01.530763Z",
     "start_time": "2020-05-04T17:26:01.526735Z"
    },
    "hidden": true
   },
   "outputs": [],
   "source": [
    "print(bool(2))\n",
    "print(bool(-3))\n",
    "print(bool(43.1))\n",
    "print(bool(\"hello\"))\n",
    "print(bool(\"\\n\"))"
   ]
  },
  {
   "cell_type": "code",
   "execution_count": null,
   "metadata": {
    "ExecuteTime": {
     "end_time": "2020-05-04T17:26:47.577571Z",
     "start_time": "2020-05-04T17:26:47.573392Z"
    },
    "hidden": true
   },
   "outputs": [],
   "source": [
    "print(bool(0))\n",
    "print(bool(0.0))\n",
    "print(bool(\"\"))\n",
    "print(bool(None))"
   ]
  },
  {
   "cell_type": "markdown",
   "metadata": {
    "heading_collapsed": true
   },
   "source": [
    "# Variables"
   ]
  },
  {
   "cell_type": "markdown",
   "metadata": {
    "hidden": true
   },
   "source": [
    "* A variable is a name for a piece of data. \n",
    "* It is not that piece of data itself, it is just the name. \n",
    "* To create a variable, you just assign some data to the name."
   ]
  },
  {
   "cell_type": "code",
   "execution_count": null,
   "metadata": {
    "ExecuteTime": {
     "end_time": "2020-05-04T14:50:09.990573Z",
     "start_time": "2020-05-04T14:50:09.988254Z"
    },
    "hidden": true
   },
   "outputs": [],
   "source": [
    "just_a_name=0"
   ]
  },
  {
   "cell_type": "markdown",
   "metadata": {
    "hidden": true
   },
   "source": [
    "So now this name now refers to an integer, but you can replace it with any sort of data."
   ]
  },
  {
   "cell_type": "code",
   "execution_count": null,
   "metadata": {
    "ExecuteTime": {
     "end_time": "2020-05-05T06:19:06.325696Z",
     "start_time": "2020-05-05T06:19:06.320822Z"
    },
    "hidden": true
   },
   "outputs": [],
   "source": [
    "just_a_name=\"This is a string\"\n",
    "print(just_a_name)\n",
    "just_a_name=22.9\n",
    "print(just_a_name)\n",
    "just_a_name=True\n",
    "print(just_a_name)"
   ]
  },
  {
   "cell_type": "markdown",
   "metadata": {
    "hidden": true
   },
   "source": [
    "When you put something in the box using the syntax\n",
    "\n",
    "```\n",
    "x = \"my value\"\n",
    "```\n",
    "\n",
    "this is called an **assignment**."
   ]
  },
  {
   "cell_type": "markdown",
   "metadata": {
    "hidden": true
   },
   "source": [
    "#### What happens if the RHS contains a variable?\n",
    "\n",
    "```\n",
    "x=y\n",
    "```\n",
    "\n",
    "* Well then, now x refers to the same data as y. \n",
    "\n",
    "> See this [blog post](https://medium.com/broken-window/many-names-one-memory-address-122f78734cb6) for a great explanations on assignments in python and how they relate to memory addresses, immutability and \"interning\"."
   ]
  },
  {
   "cell_type": "markdown",
   "metadata": {
    "hidden": true
   },
   "source": [
    "#### Note : Assignment + Operator short syntax\n",
    "\n",
    "In python code you will often see code like this\n",
    "\n",
    "```\n",
    "x+=2\n",
    "x*=44+22\n",
    "```\n",
    "\n",
    "This is just a short syntax for when the RHS is an expression with the first operand as x. It is exactly the same as\n",
    "\n",
    "```\n",
    "x=x+2\n",
    "x=x*(44+22)\n",
    "\n",
    "```\n",
    "\n",
    "* People who know C might recognize that these are there in C as well. \n",
    "* They might be wondering if the ++ operator is there in python too. \n",
    "* The answer is NO. \n",
    "* Reason : The BDFL hates the ++ operator :P"
   ]
  },
  {
   "cell_type": "markdown",
   "metadata": {
    "heading_collapsed": true
   },
   "source": [
    "# Conditional Statements"
   ]
  },
  {
   "cell_type": "markdown",
   "metadata": {
    "hidden": true
   },
   "source": [
    "Core idea : Based on the value of a variable, you want to do different actions/computations."
   ]
  },
  {
   "cell_type": "markdown",
   "metadata": {
    "hidden": true
   },
   "source": [
    "## The basic if statement"
   ]
  },
  {
   "cell_type": "markdown",
   "metadata": {
    "hidden": true
   },
   "source": [
    "* Your boss tells you to design personalized greeting messages for users coming to your website.\n",
    "* You don't have time, so you come up with a simple rule to fake personalization depending on her/his name. "
   ]
  },
  {
   "cell_type": "code",
   "execution_count": null,
   "metadata": {
    "ExecuteTime": {
     "end_time": "2020-05-05T07:43:25.253708Z",
     "start_time": "2020-05-05T07:43:25.250199Z"
    },
    "hidden": true
   },
   "outputs": [],
   "source": [
    "student_name=\"Ravina\"\n",
    "if student_name[0] in \"ABCDEFGHIJKLMN\":\n",
    "    print(\"Hello \"+student_name+\" welcome to XYZ corp!\")\n",
    "else:\n",
    "    print(\"Namaste \"+student_name+\"! XYZ corp is very happy to see you!\")"
   ]
  },
  {
   "cell_type": "markdown",
   "metadata": {
    "hidden": true
   },
   "source": [
    "The generic syntax of an if statement is \n",
    "\n",
    "```\n",
    "if condition :\n",
    "    x=22\n",
    "    y=x*z\n",
    "    ...\n",
    "    #body\n",
    "    ...\n",
    "```\n",
    "\n",
    "* Indentation of 4 spaces\n",
    "* Condition is any expression that evaluates to a boolean\n",
    "    * Otherwise it will be converted to a boolean automatically, but beware!"
   ]
  },
  {
   "cell_type": "markdown",
   "metadata": {
    "hidden": true
   },
   "source": [
    "#### A note on indentation, whitespace and code blocks in Python"
   ]
  },
  {
   "cell_type": "markdown",
   "metadata": {
    "hidden": true
   },
   "source": [
    "* if statements are the first time some of you might be encountering code blocks.\n",
    "* Code blocks are a chunk of code, that is guaranteed to run from top to bottom sequentially.\n",
    "* Python uses indentation(spaces) to differentiate code blocks.\n",
    "* Code blocks are used inside conditional statements and loops only in Python."
   ]
  },
  {
   "cell_type": "code",
   "execution_count": null,
   "metadata": {
    "ExecuteTime": {
     "end_time": "2020-05-05T07:49:27.209959Z",
     "start_time": "2020-05-05T07:49:27.207678Z"
    },
    "hidden": true
   },
   "outputs": [],
   "source": [
    "x=20"
   ]
  },
  {
   "cell_type": "code",
   "execution_count": null,
   "metadata": {
    "ExecuteTime": {
     "end_time": "2020-05-05T07:49:27.879436Z",
     "start_time": "2020-05-05T07:49:27.876532Z"
    },
    "hidden": true
   },
   "outputs": [],
   "source": [
    "if x==20:\n",
    "    print(\"This is inside the block and so will only print if x==20\")\n",
    "print(\"This is outside, so will always print\")"
   ]
  },
  {
   "cell_type": "code",
   "execution_count": null,
   "metadata": {
    "ExecuteTime": {
     "end_time": "2020-05-05T06:19:23.897024Z",
     "start_time": "2020-05-05T06:19:23.891180Z"
    },
    "hidden": true,
    "scrolled": true
   },
   "outputs": [],
   "source": [
    "this_is=20\n",
    "    will_this=\"work\""
   ]
  },
  {
   "cell_type": "code",
   "execution_count": null,
   "metadata": {
    "ExecuteTime": {
     "end_time": "2020-05-05T06:20:18.507036Z",
     "start_time": "2020-05-05T06:20:18.504474Z"
    },
    "hidden": true
   },
   "outputs": [],
   "source": [
    "this_is=20\n",
    "will_this=\"work\""
   ]
  },
  {
   "cell_type": "code",
   "execution_count": null,
   "metadata": {
    "ExecuteTime": {
     "end_time": "2020-05-05T06:20:08.119894Z",
     "start_time": "2020-05-05T06:20:08.116479Z"
    },
    "hidden": true
   },
   "outputs": [],
   "source": [
    "if 21<33:\n",
    "x=21"
   ]
  },
  {
   "cell_type": "code",
   "execution_count": null,
   "metadata": {
    "ExecuteTime": {
     "end_time": "2020-05-05T06:20:28.269800Z",
     "start_time": "2020-05-05T06:20:28.267033Z"
    },
    "hidden": true
   },
   "outputs": [],
   "source": [
    "if 21<33:\n",
    "    x=21"
   ]
  },
  {
   "cell_type": "markdown",
   "metadata": {
    "hidden": true
   },
   "source": [
    "#### Differences with code blocks in languages like C"
   ]
  },
  {
   "cell_type": "markdown",
   "metadata": {
    "hidden": true
   },
   "source": [
    "* In C, whitespace doesn't matter. \n",
    "    * In Python, whitespace at the beginning of a line are very important.\n",
    "* In C, Code blocks are marked by { curly brackets }. \n",
    "    * In Python, whitespace at the beginning of the line mark a code block. \n",
    "* You can create interior code blocks anywhere.\n",
    "    * In Python, an interior level of code can only be created inside a conditional statements body or a loop's body.\n",
    "* In C, variables defined within an interior code block are deleted/released once you leave that block.\n",
    "    * In Python, variables defined in an inner block are still available to the outer block.\n",
    "    * Read about [scope](https://en.wikipedia.org/wiki/Scope_(computer_science)) in programming languages."
   ]
  },
  {
   "cell_type": "code",
   "execution_count": null,
   "metadata": {
    "ExecuteTime": {
     "end_time": "2020-05-05T06:24:29.826457Z",
     "start_time": "2020-05-05T06:24:29.823310Z"
    },
    "hidden": true
   },
   "outputs": [],
   "source": [
    "if 21 < 25 :\n",
    "    a_totally_new_variable=\"secret value\"\n",
    "print(a_totally_new_variable)"
   ]
  },
  {
   "cell_type": "markdown",
   "metadata": {
    "ExecuteTime": {
     "end_time": "2020-05-05T06:41:02.655718Z",
     "start_time": "2020-05-05T06:41:02.634682Z"
    },
    "hidden": true
   },
   "source": [
    "## else statements and nesting"
   ]
  },
  {
   "cell_type": "code",
   "execution_count": null,
   "metadata": {
    "ExecuteTime": {
     "end_time": "2020-05-05T06:48:41.315668Z",
     "start_time": "2020-05-05T06:48:41.313246Z"
    },
    "hidden": true
   },
   "outputs": [],
   "source": [
    "x=22"
   ]
  },
  {
   "cell_type": "code",
   "execution_count": null,
   "metadata": {
    "ExecuteTime": {
     "end_time": "2020-05-05T06:48:33.667479Z",
     "start_time": "2020-05-05T06:48:33.664325Z"
    },
    "hidden": true
   },
   "outputs": [],
   "source": [
    "if x < 100 :\n",
    "    print(\"from -inf to 99\")\n",
    "else :\n",
    "    print(\"from 100 to +inf\")"
   ]
  },
  {
   "cell_type": "markdown",
   "metadata": {
    "hidden": true
   },
   "source": [
    "* The else statement takes care of the exclusionary case. Everything that is not part of the if, goes to the else.\n",
    "* Let's look at something slightly more complicated."
   ]
  },
  {
   "cell_type": "code",
   "execution_count": null,
   "metadata": {
    "ExecuteTime": {
     "end_time": "2020-05-05T06:50:36.433793Z",
     "start_time": "2020-05-05T06:50:36.430864Z"
    },
    "hidden": true
   },
   "outputs": [],
   "source": [
    "if x <=0 or x>100:\n",
    "    print(\"Not a number from 1 to 100\")\n",
    "else:\n",
    "    print(\"A number from 1 to 100\")"
   ]
  },
  {
   "cell_type": "markdown",
   "metadata": {
    "hidden": true
   },
   "source": [
    "Tip : Practice calculating the **opposite** of a condition.\n",
    "* Opposite of >? Opposite of ==?\n",
    "* Opposite of **x and y**? Opposite of x?"
   ]
  },
  {
   "cell_type": "markdown",
   "metadata": {
    "hidden": true
   },
   "source": [
    "* Suppose you want to break up the **if case** or the **else case**. \n",
    "* You can put another if...else statement inside the **if code block** or the **else code block**."
   ]
  },
  {
   "cell_type": "code",
   "execution_count": null,
   "metadata": {
    "ExecuteTime": {
     "end_time": "2020-05-05T07:12:49.944859Z",
     "start_time": "2020-05-05T07:12:49.941354Z"
    },
    "hidden": true
   },
   "outputs": [],
   "source": [
    "if x <=0 or x>100:\n",
    "    if x <=0:\n",
    "        print(\"Negative number!\")\n",
    "    else:\n",
    "        print(\"Positive number from 101 to inf\")\n",
    "else:\n",
    "    print(\"A number from 1 to 100\")"
   ]
  },
  {
   "cell_type": "code",
   "execution_count": null,
   "metadata": {
    "ExecuteTime": {
     "end_time": "2020-05-05T07:14:03.426901Z",
     "start_time": "2020-05-05T07:14:03.423403Z"
    },
    "hidden": true
   },
   "outputs": [],
   "source": [
    "if x <=0 or x>100:\n",
    "    print(\"Not a number from 1 to 100\")\n",
    "else:\n",
    "    if x <50:\n",
    "        print(\"Number from 1 to 50\")\n",
    "    else:\n",
    "        print(\"Number from 51 to 100\")"
   ]
  },
  {
   "cell_type": "markdown",
   "metadata": {
    "hidden": true
   },
   "source": [
    "Tip : \n",
    "\n",
    "* Practice drawing simple branching diagrams, to explain how to divide a problem into multiple subcases and sub sub cases. Visualizing it really helps - you can visualize it however you want, branching diagrams are just one example.\n",
    "* Even for experienced programmers, if...else statements are the place where they make the most mistakes!"
   ]
  },
  {
   "cell_type": "markdown",
   "metadata": {
    "ExecuteTime": {
     "end_time": "2020-05-05T07:16:45.550815Z",
     "start_time": "2020-05-05T07:16:45.547092Z"
    },
    "hidden": true
   },
   "source": [
    "* Conditions are confusing, so always try to write it in a readable way that is very simple to understand. \n",
    "* For example, we can rewrite the first code by switching the if...else conditions to make it more readable."
   ]
  },
  {
   "cell_type": "code",
   "execution_count": null,
   "metadata": {
    "ExecuteTime": {
     "end_time": "2020-05-05T07:22:29.353809Z",
     "start_time": "2020-05-05T07:22:29.350516Z"
    },
    "hidden": true
   },
   "outputs": [],
   "source": [
    "if x > 0 and  x<=100:\n",
    "    print(\"A number from 1 to 100\")\n",
    "else:\n",
    "    print(\"Not a number from 1 to 100\")"
   ]
  },
  {
   "cell_type": "markdown",
   "metadata": {
    "hidden": true
   },
   "source": [
    "## elif statements"
   ]
  },
  {
   "cell_type": "code",
   "execution_count": null,
   "metadata": {
    "hidden": true
   },
   "outputs": [],
   "source": [
    "if x <=0 or x>100:\n",
    "    print(\"Not a number from 1 to 100\")\n",
    "else:\n",
    "    if x <50:\n",
    "        print(\"Number from 1 to 50\")\n",
    "    else:\n",
    "        if x <=75 :\n",
    "            print(\"Number from 51 to 75\")\n",
    "        else:\n",
    "            print(\"Number from 76 to 100\")"
   ]
  },
  {
   "cell_type": "markdown",
   "metadata": {
    "hidden": true
   },
   "source": [
    "Now this is getting confusing... We can simplify this using the **elif** statement."
   ]
  },
  {
   "cell_type": "code",
   "execution_count": null,
   "metadata": {
    "ExecuteTime": {
     "end_time": "2020-05-05T07:28:41.025303Z",
     "start_time": "2020-05-05T07:28:41.021871Z"
    },
    "hidden": true
   },
   "outputs": [],
   "source": [
    "if x <=0 or x>100:\n",
    "    print(\"Not a number from 1 to 100\")\n",
    "elif x <50:\n",
    "    print(\"Number from 1 to 50\")\n",
    "elif x <=75 :\n",
    "    print(\"Number from 51 to 75\")\n",
    "else:\n",
    "    print(\"Number from 76 to 100\")"
   ]
  },
  {
   "cell_type": "markdown",
   "metadata": {
    "hidden": true
   },
   "source": [
    "* The above two blocks of code are exactly the same. \n",
    "\n",
    "The logic behind if...elif...else blocks is like this.\n",
    "\n",
    "\n",
    "1. Look at the **if statement**\n",
    "    1. If it matches, execute interior code. Then **SKIP ALL the elif and else blocks**.\n",
    "    2. If it doesn't match go to next elif.\n",
    "2. Look at the **elif statement**\n",
    "    1. If it matches, execute interior code. Then SKIP ALL the **remaining** elif and else blocks**.\n",
    "    2. If it doesn't match go to next elif.\n",
    "```\n",
    "....\n",
    "....\n",
    "....\n",
    "```\n",
    "3. You have reached the **else statement**.\n",
    "    1. This can only happpen if none of the above if or elif statements matched!"
   ]
  },
  {
   "cell_type": "markdown",
   "metadata": {
    "hidden": true
   },
   "source": [
    "* Thus, if...elif...else is a prioritized list of cases. \n",
    "* Therefore **order** matters. \n",
    "* The below two codes have different meanings"
   ]
  },
  {
   "cell_type": "code",
   "execution_count": null,
   "metadata": {
    "ExecuteTime": {
     "end_time": "2020-05-05T07:56:33.477753Z",
     "start_time": "2020-05-05T07:56:33.474527Z"
    },
    "hidden": true
   },
   "outputs": [],
   "source": [
    "if x <100 :\n",
    "    print(\"Less than 100\")\n",
    "elif x <200 :\n",
    "    print(\"Between 100-200\")"
   ]
  },
  {
   "cell_type": "code",
   "execution_count": null,
   "metadata": {
    "ExecuteTime": {
     "end_time": "2020-05-05T07:56:31.855341Z",
     "start_time": "2020-05-05T07:56:31.852061Z"
    },
    "hidden": true
   },
   "outputs": [],
   "source": [
    "if x <200 :\n",
    "    print(\"Less than 200\")\n",
    "elif x <100 :\n",
    "    print(\"Unreachable code\")"
   ]
  },
  {
   "cell_type": "markdown",
   "metadata": {
    "hidden": true
   },
   "source": [
    "## pass statement"
   ]
  },
  {
   "cell_type": "markdown",
   "metadata": {
    "hidden": true
   },
   "source": [
    "* The ``pass`` statement is another special statement. \n",
    "* It does ... nothing.\n",
    "* So why do we need it?\n",
    "* Although ``pass`` statement can be put anywhere..."
   ]
  },
  {
   "cell_type": "code",
   "execution_count": null,
   "metadata": {
    "ExecuteTime": {
     "end_time": "2020-05-05T08:59:41.238398Z",
     "start_time": "2020-05-05T08:59:41.236137Z"
    },
    "hidden": true
   },
   "outputs": [],
   "source": [
    "pass"
   ]
  },
  {
   "cell_type": "markdown",
   "metadata": {
    "hidden": true
   },
   "source": [
    "* It's most (only?) valid use case is in an if....else statement.\n",
    "* This is when you want to write down a case very clearly, but you don't actually need to do anything for it. Or you want to specifically ignore it."
   ]
  },
  {
   "cell_type": "code",
   "execution_count": null,
   "metadata": {
    "hidden": true
   },
   "outputs": [],
   "source": [
    "if x < 0 :\n",
    "    print(\"Negative\")\n",
    "elif x <100:\n",
    "    pass\n",
    "else:\n",
    "    print(\"Large positive number\")"
   ]
  },
  {
   "cell_type": "markdown",
   "metadata": {},
   "source": [
    "# Loops"
   ]
  },
  {
   "cell_type": "markdown",
   "metadata": {},
   "source": [
    "## The basic while loop"
   ]
  },
  {
   "cell_type": "code",
   "execution_count": 4,
   "metadata": {
    "ExecuteTime": {
     "end_time": "2020-05-07T07:30:53.688244Z",
     "start_time": "2020-05-07T07:30:53.684388Z"
    }
   },
   "outputs": [
    {
     "name": "stdout",
     "output_type": "stream",
     "text": [
      "0\n",
      "2\n",
      "4\n",
      "6\n",
      "8\n"
     ]
    }
   ],
   "source": [
    "i=0\n",
    "while i < 10:\n",
    "    print(i)\n",
    "    i+=2"
   ]
  },
  {
   "cell_type": "markdown",
   "metadata": {},
   "source": [
    "The syntax for the basic while loop is \n",
    "\n",
    "```\n",
    "while condition :\n",
    "    x+=1\n",
    "    y=x+42\n",
    "    ...\n",
    "    ...\n",
    "    # body\n",
    "    ...\n",
    "print(\"outside the loop\")\n",
    "```\n",
    "\n",
    "* Uses indentation to mark inside code block just like if...else\n",
    "* Conditions are expressions which must evaluate to a boolean i.e. True or False statements"
   ]
  },
  {
   "cell_type": "markdown",
   "metadata": {},
   "source": [
    "### Example 1 : Calculating n factorial"
   ]
  },
  {
   "cell_type": "markdown",
   "metadata": {},
   "source": [
    "n! = n * (n-1) * (n-2) ....  * 2 * 1\n",
    "\n",
    "For example,\n",
    "\n",
    "5! = 5 * 4 * 3 * 2 * 1"
   ]
  },
  {
   "cell_type": "code",
   "execution_count": null,
   "metadata": {
    "ExecuteTime": {
     "end_time": "2020-05-05T08:34:56.874929Z",
     "start_time": "2020-05-05T08:34:56.870710Z"
    }
   },
   "outputs": [],
   "source": [
    "n=5\n",
    "product=1\n",
    "current=1\n",
    "while current <= n:\n",
    "    product*=current\n",
    "    print(product)\n",
    "    current+=1"
   ]
  },
  {
   "cell_type": "markdown",
   "metadata": {},
   "source": [
    "Notice \n",
    "* ``current`` is the loop variable. It's what is changing as the loop changes. \n",
    "* More importantly it is what causes the loop to **terminate**.\n"
   ]
  },
  {
   "cell_type": "markdown",
   "metadata": {},
   "source": [
    "What happens if we forget to add the line ``current+=1``?"
   ]
  },
  {
   "cell_type": "code",
   "execution_count": null,
   "metadata": {
    "ExecuteTime": {
     "end_time": "2020-05-05T08:36:58.975761Z",
     "start_time": "2020-05-05T08:36:57.345627Z"
    }
   },
   "outputs": [],
   "source": [
    "n=5\n",
    "product=1\n",
    "current=1\n",
    "while current <= n:\n",
    "    product*=current\n",
    "    print(product)"
   ]
  },
  {
   "cell_type": "markdown",
   "metadata": {},
   "source": [
    "**BEWARE OF INFINITE LOOPS!!!** \n",
    "\n",
    "* Infinite loops happen because the condition at the top of the while loop is never reached. \n",
    "* Even experienced programmers regularly make mistakes that lead to infinite loops. \n",
    "* Code is all about conditions, since if...else and while are enough to write practically any sort of computation.\n",
    "* So if the conditions are wrong, you can run into issues like infinite loops."
   ]
  },
  {
   "cell_type": "markdown",
   "metadata": {},
   "source": [
    "### Example 2 : Printing cool ascii art X"
   ]
  },
  {
   "cell_type": "code",
   "execution_count": 13,
   "metadata": {
    "ExecuteTime": {
     "end_time": "2020-05-07T12:16:48.687582Z",
     "start_time": "2020-05-07T12:16:48.681975Z"
    }
   },
   "outputs": [
    {
     "name": "stdout",
     "output_type": "stream",
     "text": [
      "\\--------/\n",
      "-\\------/-\n",
      "--\\----/--\n",
      "---\\--/---\n",
      "----\\/----\n",
      "----/\\----\n",
      "---/--\\---\n",
      "--/----\\--\n",
      "-/------\\-\n",
      "/--------\\\n"
     ]
    }
   ],
   "source": [
    "size=10\n",
    "i=0\n",
    "while i <size:\n",
    "    string=\"\"\n",
    "    j=0\n",
    "    while j < size:\n",
    "        if j==i:\n",
    "            string=string+\"\\\\\"\n",
    "        elif j==size-i-1:\n",
    "            string=string+\"/\"\n",
    "        else:\n",
    "            string=string+\"-\"\n",
    "        j+=1\n",
    "    print(string)\n",
    "    i+=1"
   ]
  },
  {
   "cell_type": "markdown",
   "metadata": {},
   "source": [
    "Notice :\n",
    "* You can nest loops\n",
    "* You can mix loops with \n",
    "* You might notice two variables ``i`` and ``j``. \n",
    "* Both are loop variables for each loop.\n",
    "* Can you use the same variable for both loops?\n",
    "    * In principle you can, and in some cases it might even make the code more readable. \n",
    "    * But that's a dangerous idea! \n",
    "    * Make KISS - Keep It Simple Silly - your mantra.\n",
    "    * If you keep your coding style as simple and easy to understand as possible, you can tackle more and more complex problems."
   ]
  },
  {
   "cell_type": "markdown",
   "metadata": {},
   "source": [
    "## A brief intro to Lists"
   ]
  },
  {
   "cell_type": "markdown",
   "metadata": {},
   "source": [
    "* So far you have seen simple datatypes such as numbers, strings and booleans.\n",
    "* And, actually data comes in these \"basic\" forms only (well, more or less).\n",
    "* But what if you have lots of these small data chunks? How do you arrange them? "
   ]
  },
  {
   "cell_type": "markdown",
   "metadata": {},
   "source": [
    "* One of the simplest ways to arrange data is in a list. Take a real life list for example\n",
    "\n",
    "**My courses for this year**\n",
    "* Artificial Intelligence\n",
    "* Computer Vision\n",
    "* Data Mining\n",
    "* Randomized Algorithms\n",
    "* Data Structures\n",
    "* English\n",
    "\n",
    "* Lists are an **ordered** collection of objects. \n",
    "\n",
    "**In Python you define lists like this**"
   ]
  },
  {
   "cell_type": "code",
   "execution_count": null,
   "metadata": {
    "ExecuteTime": {
     "end_time": "2020-05-05T11:21:32.143863Z",
     "start_time": "2020-05-05T11:21:32.140870Z"
    }
   },
   "outputs": [],
   "source": [
    "# a list with some elements\n",
    "my_courses = [\"Artificial Intelligence\",\"Computer Vision\",\n",
    "              \"Data Mining\",\"Randomized Algorithms\",\n",
    "              \"Data Structures\",\"English\"]\n",
    "\n",
    "# btw, str() works to get a string representation of most things in Python!\n",
    "print(\"A list of strings : \" + str(my_courses))"
   ]
  },
  {
   "cell_type": "markdown",
   "metadata": {},
   "source": [
    "**Side Note** :\n",
    "\n",
    "* By the way, do you notice I split the definition into multiple lines for neatness?\n",
    "* In general, Python does not allow a statement to continue to the next line by itself.\n",
    "* You have to use \"\\\" to split a statement like this\n",
    "    ```\n",
    "    x = 22 + \\\n",
    "        33 + \\\n",
    "        44\n",
    "    ```\n",
    "* But exceptions to this rule is for list/dictionary/tuple/set definitions and function/constructor/method calls and definitions."
   ]
  },
  {
   "cell_type": "code",
   "execution_count": null,
   "metadata": {
    "ExecuteTime": {
     "end_time": "2020-05-05T11:21:04.292391Z",
     "start_time": "2020-05-05T11:21:04.289116Z"
    }
   },
   "outputs": [],
   "source": [
    "# an empty list\n",
    "empty_list = []\n",
    "print(\"An empty list : \"+str(empty_list))"
   ]
  },
  {
   "cell_type": "code",
   "execution_count": null,
   "metadata": {
    "ExecuteTime": {
     "end_time": "2020-05-05T11:25:04.112324Z",
     "start_time": "2020-05-05T11:25:04.108871Z"
    }
   },
   "outputs": [],
   "source": [
    "# lists can have mixed values\n",
    "mixed_values_list = [1, True, 100.0, \"HEllo\"]\n",
    "print(\"A mixed list : \"+str(mixed_values_list))"
   ]
  },
  {
   "cell_type": "code",
   "execution_count": null,
   "metadata": {
    "ExecuteTime": {
     "end_time": "2020-05-05T11:21:17.339735Z",
     "start_time": "2020-05-05T11:21:17.335997Z"
    }
   },
   "outputs": [],
   "source": [
    "# lists can even contain lists! Actually lists can contain any object! (More later)\n",
    "list_of_lists=[22,33,[100,22],[11,444,0]]\n",
    "print(\"A mixed list with list elements : \"+str(list_of_lists))"
   ]
  },
  {
   "cell_type": "markdown",
   "metadata": {},
   "source": [
    "**Reading values from the list**\n",
    "\n",
    "You can do it by indexing and slicing, very similar to strings."
   ]
  },
  {
   "cell_type": "code",
   "execution_count": null,
   "metadata": {
    "ExecuteTime": {
     "end_time": "2020-05-05T11:14:10.345118Z",
     "start_time": "2020-05-05T11:14:10.340490Z"
    }
   },
   "outputs": [],
   "source": [
    "print(my_courses[0]) \n",
    "print(my_courses[-1])\n",
    "print(my_courses[1:])\n",
    "print(my_courses[3:5])\n",
    "print(my_courses[-4:-3])\n",
    "print(my_courses[-1:])"
   ]
  },
  {
   "cell_type": "markdown",
   "metadata": {},
   "source": [
    "If you try to index outside the list, you will get an IndexError."
   ]
  },
  {
   "cell_type": "code",
   "execution_count": null,
   "metadata": {
    "ExecuteTime": {
     "end_time": "2020-05-05T11:31:58.778412Z",
     "start_time": "2020-05-05T11:31:58.771192Z"
    }
   },
   "outputs": [],
   "source": [
    "mylist=[\"only\",\"three\",\"elements\"]\n",
    "print(mylist)\n",
    "mylist[3]"
   ]
  },
  {
   "cell_type": "markdown",
   "metadata": {},
   "source": [
    "**Assigning new values to the list**\n",
    "\n",
    "You can do this by indexing the list like below"
   ]
  },
  {
   "cell_type": "code",
   "execution_count": null,
   "metadata": {
    "ExecuteTime": {
     "end_time": "2020-05-05T11:25:06.337469Z",
     "start_time": "2020-05-05T11:25:06.334254Z"
    }
   },
   "outputs": [],
   "source": [
    "print(mixed_values_list)"
   ]
  },
  {
   "cell_type": "code",
   "execution_count": null,
   "metadata": {
    "ExecuteTime": {
     "end_time": "2020-05-05T11:25:07.025195Z",
     "start_time": "2020-05-05T11:25:07.022075Z"
    },
    "scrolled": true
   },
   "outputs": [],
   "source": [
    "mixed_values_list[1]=42\n",
    "print(mixed_values_list)"
   ]
  },
  {
   "cell_type": "markdown",
   "metadata": {},
   "source": [
    "Note : \n",
    "\n",
    "* Adding new elements to a list (and making it longer) is also possible. It will be discussed in a subsequent section.\n",
    "* Similarly for deleting elements."
   ]
  },
  {
   "cell_type": "markdown",
   "metadata": {},
   "source": [
    "## The basic for loop"
   ]
  },
  {
   "cell_type": "markdown",
   "metadata": {},
   "source": [
    "* One of the main reasons to write a loop is to work with lists!\n",
    "* Think about it, lists have a lot of usually similar elements, and you probably want to do the same operation for each of them.\n",
    "* Thus Python has a special syntax to work with lists and list-like objects called the **for loop**."
   ]
  },
  {
   "cell_type": "code",
   "execution_count": null,
   "metadata": {
    "ExecuteTime": {
     "end_time": "2020-05-05T11:39:40.095222Z",
     "start_time": "2020-05-05T11:39:40.091279Z"
    }
   },
   "outputs": [],
   "source": [
    "numbers=[2,4,3,5]\n",
    "for num in numbers:\n",
    "    square=num*num\n",
    "    print(square)"
   ]
  },
  {
   "cell_type": "markdown",
   "metadata": {},
   "source": [
    "Thus the generic syntax for for loops is \n",
    "\n",
    "```\n",
    "for element in iterable:\n",
    "    # body of the loop\n",
    "    print(element)\n",
    "```\n",
    "\n",
    "* An \"iterable\" is something that you can \"iterate\" over - basically it has a bunch of smaller elements, which it can give to you one by one.\n",
    "* A list is an iterable.\n",
    "* A string is also an iterable!"
   ]
  },
  {
   "cell_type": "code",
   "execution_count": null,
   "metadata": {
    "ExecuteTime": {
     "end_time": "2020-05-05T11:43:18.494033Z",
     "start_time": "2020-05-05T11:43:18.488845Z"
    }
   },
   "outputs": [],
   "source": [
    "for letter in \"Strings are iterable!\":\n",
    "    print(\"||    \" + letter + \"    ||\")"
   ]
  },
  {
   "cell_type": "markdown",
   "metadata": {},
   "source": [
    "But if you try with a number, obviously a number is not iterable..."
   ]
  },
  {
   "cell_type": "code",
   "execution_count": null,
   "metadata": {
    "ExecuteTime": {
     "end_time": "2020-05-05T11:44:08.657281Z",
     "start_time": "2020-05-05T11:44:08.651037Z"
    }
   },
   "outputs": [],
   "source": [
    "for something in 22:\n",
    "    lets=\"try this\""
   ]
  },
  {
   "cell_type": "markdown",
   "metadata": {},
   "source": [
    "## break and continue statements"
   ]
  },
  {
   "cell_type": "markdown",
   "metadata": {},
   "source": [
    "* Think of ``break`` and ``continue`` as commands to use within a loop. \n",
    "* ``break`` tells the loop to stop.\n",
    "* ``continue`` tells the loop, okay just go to the next iteration, no need to finish this one.\n",
    "* ``break`` and ``continue`` can only be used inside a loop."
   ]
  },
  {
   "cell_type": "code",
   "execution_count": null,
   "metadata": {
    "ExecuteTime": {
     "end_time": "2020-05-05T08:56:19.861579Z",
     "start_time": "2020-05-05T08:56:19.857751Z"
    }
   },
   "outputs": [],
   "source": [
    "break"
   ]
  },
  {
   "cell_type": "code",
   "execution_count": null,
   "metadata": {
    "ExecuteTime": {
     "end_time": "2020-05-06T20:07:48.570552Z",
     "start_time": "2020-05-06T20:07:48.566613Z"
    }
   },
   "outputs": [],
   "source": [
    "animals=[\"cat\",\"cat\",\"cat\",\"dog,\"\"cat\",\"cat\"]\n",
    "only_cats=True\n",
    "for animal in animals:\n",
    "    if animal!=\"cat\":\n",
    "        only_cats=False\n",
    "        break\n",
    "print(only_cats)"
   ]
  },
  {
   "cell_type": "code",
   "execution_count": null,
   "metadata": {
    "ExecuteTime": {
     "end_time": "2020-05-06T20:09:43.201126Z",
     "start_time": "2020-05-06T20:09:43.196800Z"
    }
   },
   "outputs": [],
   "source": [
    "numbers=[1,5,22,67,87,33,2,34]\n",
    "find_this=67\n",
    "i=0\n",
    "for num in numbers:\n",
    "    if num==find_this:\n",
    "        print(str(find_this)+\" found at index \"+str(i))\n",
    "        break\n",
    "    i+=1"
   ]
  },
  {
   "cell_type": "code",
   "execution_count": null,
   "metadata": {
    "ExecuteTime": {
     "end_time": "2020-05-06T20:10:33.212712Z",
     "start_time": "2020-05-06T20:10:33.208155Z"
    },
    "scrolled": true
   },
   "outputs": [],
   "source": [
    "numbers=[1,5,22,67,87,33,2,34]\n",
    "print(\"Printing only odd numbers in list\")\n",
    "for num in numbers:\n",
    "    if num%2==0:\n",
    "        continue\n",
    "    print(num)"
   ]
  },
  {
   "cell_type": "markdown",
   "metadata": {},
   "source": [
    "* **You don't usually need break and continue** statements. But they are VERY useful.\n",
    "* They are just another tool for you.\n",
    "* Use them if it makes it easier for you to translate your ideas into code."
   ]
  },
  {
   "cell_type": "markdown",
   "metadata": {},
   "source": [
    "For example, the above example can be rewritten without ``continue``."
   ]
  },
  {
   "cell_type": "code",
   "execution_count": null,
   "metadata": {
    "ExecuteTime": {
     "end_time": "2020-05-06T20:12:05.011484Z",
     "start_time": "2020-05-06T20:12:05.006818Z"
    }
   },
   "outputs": [],
   "source": [
    "numbers=[1,5,22,67,87,33,2,34]\n",
    "print(\"Printing only odd numbers in list\")\n",
    "for num in numbers:\n",
    "    if num%2!=0:\n",
    "        print(num)"
   ]
  },
  {
   "cell_type": "markdown",
   "metadata": {},
   "source": [
    "This is probably actually better this way :)"
   ]
  },
  {
   "cell_type": "markdown",
   "metadata": {},
   "source": [
    "# Functions"
   ]
  },
  {
   "cell_type": "markdown",
   "metadata": {},
   "source": [
    "* For code to be reusable, you have to \"pack it up\".\n",
    "* Think of it like a link to a webpage or a note - you don't want to keep writing the same thing over and over again - so you write it once and refer to it afterwards."
   ]
  },
  {
   "cell_type": "code",
   "execution_count": null,
   "metadata": {
    "ExecuteTime": {
     "end_time": "2020-05-05T12:56:57.618260Z",
     "start_time": "2020-05-05T12:56:57.615359Z"
    }
   },
   "outputs": [],
   "source": [
    "# You define a function like this\n",
    "def print_fancy_name(firstname,lastname):\n",
    "    print(\"-\"*15)\n",
    "    print(firstname)\n",
    "    print(lastname)\n",
    "    print(\"*\"*15)"
   ]
  },
  {
   "cell_type": "markdown",
   "metadata": {},
   "source": [
    "* The ``def`` keyword is specially used to define functions.\n",
    "* These lines of code won't actually run, they'll just add this definition of the function to the interpreter's memory.\n",
    "* You can't use a function before you define it!"
   ]
  },
  {
   "cell_type": "code",
   "execution_count": null,
   "metadata": {
    "ExecuteTime": {
     "end_time": "2020-05-05T13:53:17.771752Z",
     "start_time": "2020-05-05T13:53:17.764989Z"
    }
   },
   "outputs": [],
   "source": [
    "my_greeting(\"Ram\")\n",
    "\n",
    "def my_greeting(name):\n",
    "    print(\"Wassup \"+name+\"!\")"
   ]
  },
  {
   "cell_type": "markdown",
   "metadata": {},
   "source": [
    "## Arguments"
   ]
  },
  {
   "cell_type": "markdown",
   "metadata": {},
   "source": [
    "* Notice that this function has inputs - these are called arguments\n",
    "* You have to call the function with actual values for the arguments to run it."
   ]
  },
  {
   "cell_type": "code",
   "execution_count": null,
   "metadata": {
    "ExecuteTime": {
     "end_time": "2020-05-05T13:01:24.878091Z",
     "start_time": "2020-05-05T13:01:24.874931Z"
    }
   },
   "outputs": [],
   "source": [
    "# You call a function like this\n",
    "print_fancy_name(\"Hritik\",\"Roshan\")"
   ]
  },
  {
   "cell_type": "code",
   "execution_count": null,
   "metadata": {
    "ExecuteTime": {
     "end_time": "2020-05-05T13:01:25.799844Z",
     "start_time": "2020-05-05T13:01:25.796395Z"
    }
   },
   "outputs": [],
   "source": [
    "# You can reuse this for someone else now\n",
    "print_fancy_name(\"Sunidhi\",\"Chauhan\")"
   ]
  },
  {
   "cell_type": "markdown",
   "metadata": {},
   "source": [
    "* As you can see, you can have multiple arguments to the function or even no arguments."
   ]
  },
  {
   "cell_type": "code",
   "execution_count": null,
   "metadata": {
    "ExecuteTime": {
     "end_time": "2020-05-05T13:37:53.947895Z",
     "start_time": "2020-05-05T13:37:53.944971Z"
    }
   },
   "outputs": [],
   "source": [
    "def say_hello():\n",
    "    print(\"hello\")\n",
    "\n",
    "say_hello()"
   ]
  },
  {
   "cell_type": "markdown",
   "metadata": {},
   "source": [
    "* Arguments can be specified by position or name "
   ]
  },
  {
   "cell_type": "code",
   "execution_count": null,
   "metadata": {
    "ExecuteTime": {
     "end_time": "2020-05-05T13:41:38.621141Z",
     "start_time": "2020-05-05T13:41:38.617469Z"
    }
   },
   "outputs": [],
   "source": [
    "def family_tree(first_name,last_name,father_name,mother_name):\n",
    "    print(\"-\"*15)\n",
    "    print(first_name)\n",
    "    print(last_name)\n",
    "    print(\"*\"*15)\n",
    "    print(\"Child of \"+mother_name+\" and \"+father_name)"
   ]
  },
  {
   "cell_type": "code",
   "execution_count": null,
   "metadata": {
    "ExecuteTime": {
     "end_time": "2020-05-05T13:42:20.258561Z",
     "start_time": "2020-05-05T13:42:20.254701Z"
    }
   },
   "outputs": [],
   "source": [
    "# positional\n",
    "family_tree(\"Ravina\",\"Sharma\",\"Ram Sharma\",\"Kusum Sharma\")"
   ]
  },
  {
   "cell_type": "code",
   "execution_count": null,
   "metadata": {
    "ExecuteTime": {
     "end_time": "2020-05-05T13:43:47.855998Z",
     "start_time": "2020-05-05T13:43:47.852834Z"
    }
   },
   "outputs": [],
   "source": [
    "# keyword -- order doesn't matter\n",
    "family_tree(father_name=\"Ram Sharma\",last_name=\"Sharma\",first_name=\"Ravina\",mother_name=\"Kusum Sharma\")"
   ]
  },
  {
   "cell_type": "code",
   "execution_count": null,
   "metadata": {
    "ExecuteTime": {
     "end_time": "2020-05-05T13:45:52.648721Z",
     "start_time": "2020-05-05T13:45:52.644904Z"
    }
   },
   "outputs": [],
   "source": [
    "# mixed positional + keyword\n",
    "# Obviously positional has to come first\n",
    "family_tree(\"Ravina\",\"Sharma\",mother_name=\"Kusum Sharma\",father_name=\"Ram Sharma\")"
   ]
  },
  {
   "cell_type": "code",
   "execution_count": null,
   "metadata": {
    "ExecuteTime": {
     "end_time": "2020-05-05T13:45:51.163413Z",
     "start_time": "2020-05-05T13:45:51.159701Z"
    }
   },
   "outputs": [],
   "source": [
    "# this will fail\n",
    "family_tree(mother_name=\"Kusum Sharma\",\"Ravina\",\"Sharma\",father_name=\"Ram Sharma\")"
   ]
  },
  {
   "cell_type": "markdown",
   "metadata": {},
   "source": [
    "## Return Values"
   ]
  },
  {
   "cell_type": "markdown",
   "metadata": {},
   "source": [
    "Functions can also return values, for example suppose we want a function to calculate the square of the difference of two numbers"
   ]
  },
  {
   "cell_type": "code",
   "execution_count": null,
   "metadata": {
    "ExecuteTime": {
     "end_time": "2020-05-05T13:05:10.689429Z",
     "start_time": "2020-05-05T13:05:10.686687Z"
    }
   },
   "outputs": [],
   "source": [
    "def square_difference(x,y):\n",
    "    diff=x-y\n",
    "    return diff*diff"
   ]
  },
  {
   "cell_type": "code",
   "execution_count": null,
   "metadata": {
    "ExecuteTime": {
     "end_time": "2020-05-05T13:05:36.960363Z",
     "start_time": "2020-05-05T13:05:36.957226Z"
    }
   },
   "outputs": [],
   "source": [
    "print(square_difference(5,2))"
   ]
  },
  {
   "cell_type": "markdown",
   "metadata": {},
   "source": [
    "So what is the return value of ``print_fancy_name``?"
   ]
  },
  {
   "cell_type": "code",
   "execution_count": null,
   "metadata": {
    "ExecuteTime": {
     "end_time": "2020-05-05T13:07:28.737875Z",
     "start_time": "2020-05-05T13:07:28.734198Z"
    }
   },
   "outputs": [],
   "source": [
    "print(print_fancy_name(\"Priyanka\",\"Chopra\"))"
   ]
  },
  {
   "cell_type": "markdown",
   "metadata": {},
   "source": [
    "* It is a special datatype called **None**. It signifies nothing. It is used whenever you want to say that there is nothing here."
   ]
  },
  {
   "cell_type": "code",
   "execution_count": null,
   "metadata": {
    "ExecuteTime": {
     "end_time": "2020-05-05T13:09:02.195215Z",
     "start_time": "2020-05-05T13:09:02.191979Z"
    }
   },
   "outputs": [],
   "source": [
    "x=None\n",
    "print(x)\n",
    "print(bool(x))"
   ]
  },
  {
   "cell_type": "markdown",
   "metadata": {},
   "source": [
    "* If there is no return statement, like ``print_fancy_name`` None is automatically returned.\n",
    "* Its the same case for when due to the some reason, the return statement is not executed.\n",
    "* Also, if there is an empty return statement."
   ]
  },
  {
   "cell_type": "code",
   "execution_count": null,
   "metadata": {
    "ExecuteTime": {
     "end_time": "2020-05-05T13:12:33.508272Z",
     "start_time": "2020-05-05T13:12:33.504740Z"
    }
   },
   "outputs": [],
   "source": [
    "def give_toffee_to_kids_only(age):\n",
    "    if age<13:\n",
    "        return \"toffee\"\n",
    "\n",
    "print(give_toffee_to_kids_only(5))\n",
    "print(give_toffee_to_kids_only(25))"
   ]
  },
  {
   "cell_type": "code",
   "execution_count": null,
   "metadata": {
    "ExecuteTime": {
     "end_time": "2020-05-05T13:13:04.247903Z",
     "start_time": "2020-05-05T13:13:04.244001Z"
    }
   },
   "outputs": [],
   "source": [
    "def give_toffee_to_kids_only_2(age):\n",
    "    if age<13:\n",
    "        return \"toffee\"\n",
    "    return\n",
    "\n",
    "print(give_toffee_to_kids_only_2(5))\n",
    "print(give_toffee_to_kids_only_2(25))"
   ]
  },
  {
   "cell_type": "markdown",
   "metadata": {},
   "source": [
    "* Unlike languages like C,Java,C++, Python allows you to return multiple values"
   ]
  },
  {
   "cell_type": "code",
   "execution_count": null,
   "metadata": {
    "ExecuteTime": {
     "end_time": "2020-05-05T13:18:39.833912Z",
     "start_time": "2020-05-05T13:18:39.828980Z"
    }
   },
   "outputs": [],
   "source": [
    "def return_initials(first_name,middle_name,last_name):\n",
    "    return first_name[0],middle_name[0],last_name[0]\n",
    "\n",
    "print(return_initials(\"John\",\"Winston\",\"Lennon\"))\n",
    "first,middle,last=return_initials(\"James\",\"Paul\",\"McCartney\")\n",
    "print(first+\" \"+middle+\" \"+last)"
   ]
  },
  {
   "cell_type": "markdown",
   "metadata": {},
   "source": [
    "Note : Why the brackets around the first output?\n",
    "* That's because Python packs them into tuples! More on that later."
   ]
  },
  {
   "cell_type": "markdown",
   "metadata": {},
   "source": [
    "## Example 1 : Return as a control flow tool"
   ]
  },
  {
   "cell_type": "markdown",
   "metadata": {},
   "source": [
    "Let's look at a slightly longer example for functions now."
   ]
  },
  {
   "cell_type": "code",
   "execution_count": null,
   "metadata": {},
   "outputs": [],
   "source": [
    "def is_right_angled_triangle(a,b,c):\n",
    "    if a*a + b*b == c*c:\n",
    "        return True\n",
    "    elif a*a + c*c == b*b:\n",
    "        return True\n",
    "    elif b*b + c*c == a*a:\n",
    "        return True\n",
    "    else:\n",
    "        return False"
   ]
  },
  {
   "cell_type": "markdown",
   "metadata": {},
   "source": [
    "It should be noted, that once the interpreter sees the return statement, it will exit the function - even if there is more code afterwards."
   ]
  },
  {
   "cell_type": "code",
   "execution_count": null,
   "metadata": {
    "ExecuteTime": {
     "end_time": "2020-05-05T13:23:24.396963Z",
     "start_time": "2020-05-05T13:23:24.394170Z"
    }
   },
   "outputs": [],
   "source": [
    "def print_hello(name):\n",
    "    print(\"Hello \"+name)\n",
    "    return\n",
    "    print(\"Now I can write whatever I want here\")\n",
    "    print(\"It will not execute\")"
   ]
  },
  {
   "cell_type": "code",
   "execution_count": null,
   "metadata": {
    "ExecuteTime": {
     "end_time": "2020-05-05T13:23:36.525466Z",
     "start_time": "2020-05-05T13:23:36.522378Z"
    }
   },
   "outputs": [],
   "source": [
    "print_hello(\"Ram\")"
   ]
  },
  {
   "cell_type": "markdown",
   "metadata": {},
   "source": [
    "Exploiting this fact we can rewrite the above function by removing all the ``elif``s"
   ]
  },
  {
   "cell_type": "code",
   "execution_count": null,
   "metadata": {
    "ExecuteTime": {
     "end_time": "2020-05-05T12:47:09.071623Z",
     "start_time": "2020-05-05T12:47:09.069043Z"
    }
   },
   "outputs": [],
   "source": [
    "def is_right_angled_triangle(a,b,c):\n",
    "    if a*a + b*b == c*c:\n",
    "        return True\n",
    "    if a*a + c*c == b*b:\n",
    "        return True\n",
    "    if b*b + c*c == a*a:\n",
    "        return True\n",
    "    return False"
   ]
  },
  {
   "cell_type": "markdown",
   "metadata": {},
   "source": [
    "* Remember there are many ways to write the same logic as code, just as there are many ways to communicate the same idea with words!\n",
    "* Always try to refactor your code for maximum readability."
   ]
  },
  {
   "cell_type": "markdown",
   "metadata": {},
   "source": [
    "## Example 2 : Recursion"
   ]
  },
  {
   "cell_type": "markdown",
   "metadata": {},
   "source": [
    "* Recursion is a common design pattern in functions.\n",
    "* Recursion is when a function calls itself. \n",
    "* Usually, you start with a \"big\" problem, and if you can break it up into a smaller problem where the same logic has to be applied you can call the same function on it.\n",
    "* Finally, you should end up with a small enough problem - whose answer you know - called the base case. "
   ]
  },
  {
   "cell_type": "markdown",
   "metadata": {},
   "source": [
    "The classic example of recursion is - calculating n!\n",
    "\n",
    "We know, \n",
    "\n",
    "```\n",
    "n! = n * (n-1) * ... * 1\n",
    "   = n * (n-1)!\n",
    "```\n",
    "\n",
    "Now you can see that we can represent n! in terms of (n-1)!.\\\n",
    "So maybe we can write a recursive function for it!"
   ]
  },
  {
   "cell_type": "code",
   "execution_count": null,
   "metadata": {
    "ExecuteTime": {
     "end_time": "2020-05-06T20:21:19.478590Z",
     "start_time": "2020-05-06T20:21:19.475896Z"
    }
   },
   "outputs": [],
   "source": [
    "def factorial(n):\n",
    "    print(n)\n",
    "    return n * factorial(n-1)"
   ]
  },
  {
   "cell_type": "code",
   "execution_count": null,
   "metadata": {
    "ExecuteTime": {
     "end_time": "2020-05-06T20:21:26.080228Z",
     "start_time": "2020-05-06T20:21:23.188822Z"
    }
   },
   "outputs": [],
   "source": [
    "factorial(5)"
   ]
  },
  {
   "cell_type": "markdown",
   "metadata": {},
   "source": [
    "* Oops what just happened?\n",
    "* The danger of calling a function **recursively** is infinite recursion!\n",
    "* Infinite recursion usually happens when the base case does not apply correctly, in this case we totally forgot to write the base case.\n",
    "* Imagine it like falling through the floors of a building (like a cartoon!)... If someone forget's the floor - you'll fall forever!"
   ]
  },
  {
   "cell_type": "code",
   "execution_count": null,
   "metadata": {
    "ExecuteTime": {
     "end_time": "2020-05-06T20:25:12.951932Z",
     "start_time": "2020-05-06T20:25:12.949101Z"
    }
   },
   "outputs": [],
   "source": [
    "# lets try again\n",
    "def factorial(n):\n",
    "    print(n)\n",
    "    if n==1:\n",
    "        return 1\n",
    "    return n * factorial(n-1)"
   ]
  },
  {
   "cell_type": "code",
   "execution_count": null,
   "metadata": {
    "ExecuteTime": {
     "end_time": "2020-05-06T20:25:16.690844Z",
     "start_time": "2020-05-06T20:25:16.686263Z"
    }
   },
   "outputs": [],
   "source": [
    "factorial(5)"
   ]
  },
  {
   "cell_type": "markdown",
   "metadata": {
    "ExecuteTime": {
     "end_time": "2020-05-06T20:25:30.385565Z",
     "start_time": "2020-05-06T20:25:30.381927Z"
    }
   },
   "source": [
    "* This time it works!"
   ]
  },
  {
   "cell_type": "markdown",
   "metadata": {},
   "source": [
    "Let's look at another example"
   ]
  },
  {
   "cell_type": "code",
   "execution_count": null,
   "metadata": {
    "ExecuteTime": {
     "end_time": "2020-05-06T20:38:50.942882Z",
     "start_time": "2020-05-06T20:38:50.939434Z"
    }
   },
   "outputs": [],
   "source": [
    "def check_palindrome(string):\n",
    "    if len(string)<=1:\n",
    "        return True\n",
    "\n",
    "    if string[0]==string[-1]:\n",
    "        return check_palindrome(string[1:-1])\n",
    "    else:\n",
    "        return False"
   ]
  },
  {
   "cell_type": "code",
   "execution_count": null,
   "metadata": {
    "ExecuteTime": {
     "end_time": "2020-05-06T20:39:10.133023Z",
     "start_time": "2020-05-06T20:39:10.129634Z"
    }
   },
   "outputs": [],
   "source": [
    "print(check_palindrome(\"abcba\"))\n",
    "print(check_palindrome(\"abba\"))\n",
    "print(check_palindrome(\"abcbas\"))"
   ]
  },
  {
   "cell_type": "markdown",
   "metadata": {},
   "source": [
    "## Built-in functions"
   ]
  },
  {
   "cell_type": "markdown",
   "metadata": {},
   "source": [
    "Python provides many built in functions that are always available (as opposed to? Read about imports)."
   ]
  },
  {
   "cell_type": "markdown",
   "metadata": {},
   "source": [
    "The print function"
   ]
  },
  {
   "cell_type": "code",
   "execution_count": null,
   "metadata": {
    "ExecuteTime": {
     "end_time": "2020-05-06T14:27:24.655139Z",
     "start_time": "2020-05-06T14:27:24.650725Z"
    }
   },
   "outputs": [],
   "source": [
    "print(\"A single string\")\n",
    "print(\"Still \"+\"a single\"+\"string is passed\")\n",
    "print(\"Many\",\"strings\",\"are\",\"passed\")\n",
    "print(\"Some may not even be strings :\",1,True,print)"
   ]
  },
  {
   "cell_type": "markdown",
   "metadata": {},
   "source": [
    "The input function (for taking console input)"
   ]
  },
  {
   "cell_type": "code",
   "execution_count": 12,
   "metadata": {
    "ExecuteTime": {
     "end_time": "2020-05-07T11:57:22.280976Z",
     "start_time": "2020-05-07T11:57:19.861637Z"
    }
   },
   "outputs": [
    {
     "name": "stdout",
     "output_type": "stream",
     "text": [
      "Enter your birth year\n",
      "1995\n",
      "You are now  25 years old!\n"
     ]
    }
   ],
   "source": [
    "year=input(\"Enter your birth year\\n\")\n",
    "print(\"You are now \",2020-int(year),\"years old!\")"
   ]
  },
  {
   "cell_type": "code",
   "execution_count": 11,
   "metadata": {
    "ExecuteTime": {
     "end_time": "2020-05-07T11:57:08.219211Z",
     "start_time": "2020-05-07T11:57:01.599182Z"
    }
   },
   "outputs": [
    {
     "name": "stdout",
     "output_type": "stream",
     "text": [
      "Enter your birth year or x to exit\n",
      "1996\n",
      "You are now  24 years old!\n",
      "Enter your birth year or x to exit\n",
      "1992\n",
      "You are now  28 years old!\n",
      "Enter your birth year or x to exit\n",
      "x\n"
     ]
    }
   ],
   "source": [
    "# REPL - Read Eval Print Loop \n",
    "# A common design pattern for interactive command line applications.\n",
    "# When you run the Python interpreter - that's an example of a REPL!\n",
    "# In fact the command line itself is a REPL!\n",
    "while True:\n",
    "    year=input(\"Enter your birth year or x to exit\\n\")\n",
    "    # A good example of break\n",
    "    if year==\"x\":\n",
    "        break\n",
    "    print(\"You are now \",2020-int(year),\"years old!\")"
   ]
  },
  {
   "cell_type": "markdown",
   "metadata": {},
   "source": [
    "Some math related functions"
   ]
  },
  {
   "cell_type": "code",
   "execution_count": null,
   "metadata": {
    "ExecuteTime": {
     "end_time": "2020-05-06T14:30:02.155062Z",
     "start_time": "2020-05-06T14:30:02.151587Z"
    }
   },
   "outputs": [],
   "source": [
    "print(abs(-22.44))\n",
    "print(abs(22.1))"
   ]
  },
  {
   "cell_type": "code",
   "execution_count": null,
   "metadata": {
    "ExecuteTime": {
     "end_time": "2020-05-06T14:30:04.881011Z",
     "start_time": "2020-05-06T14:30:04.876862Z"
    }
   },
   "outputs": [],
   "source": [
    "print(max([1,2,4,5]))\n",
    "print(max(6,3))\n",
    "print(min([1,2,4,5]))\n",
    "print(min(6,3))"
   ]
  },
  {
   "cell_type": "code",
   "execution_count": null,
   "metadata": {
    "ExecuteTime": {
     "end_time": "2020-05-06T14:30:45.727501Z",
     "start_time": "2020-05-06T14:30:45.724003Z"
    }
   },
   "outputs": [],
   "source": [
    "print(pow(9,1/2))\n",
    "print(sum([2,5,8]))"
   ]
  },
  {
   "cell_type": "markdown",
   "metadata": {},
   "source": [
    "The len() function"
   ]
  },
  {
   "cell_type": "code",
   "execution_count": null,
   "metadata": {
    "ExecuteTime": {
     "end_time": "2020-05-06T14:26:06.786418Z",
     "start_time": "2020-05-06T14:26:06.782979Z"
    }
   },
   "outputs": [],
   "source": [
    "print(len([1,2,3,4]))\n",
    "print(len(\"How long?\"))"
   ]
  },
  {
   "cell_type": "markdown",
   "metadata": {},
   "source": [
    "The id() function"
   ]
  },
  {
   "cell_type": "code",
   "execution_count": null,
   "metadata": {
    "ExecuteTime": {
     "end_time": "2020-05-06T15:16:02.702054Z",
     "start_time": "2020-05-06T15:16:02.698143Z"
    }
   },
   "outputs": [],
   "source": [
    "x=\"abcd\"\n",
    "y=x\n",
    "print(id(x))\n",
    "print(id(y))\n",
    "print(id(x)==id(y))"
   ]
  },
  {
   "cell_type": "code",
   "execution_count": null,
   "metadata": {
    "ExecuteTime": {
     "end_time": "2020-05-06T14:28:49.892216Z",
     "start_time": "2020-05-06T14:27:48.599774Z"
    },
    "scrolled": true
   },
   "outputs": [],
   "source": [
    "help()"
   ]
  },
  {
   "cell_type": "markdown",
   "metadata": {},
   "source": [
    "See this [link](https://docs.python.org/3/library/functions.html) for the full list of built-in functions."
   ]
  },
  {
   "cell_type": "markdown",
   "metadata": {},
   "source": [
    "# Classes, Objects, Attributes & Methods (15 min)"
   ]
  },
  {
   "cell_type": "markdown",
   "metadata": {},
   "source": [
    "* You saw that functions were a way to \"pack up\" some piece of logic.\n",
    "* What if you want to \"pack up\" both logic and data?"
   ]
  },
  {
   "cell_type": "code",
   "execution_count": null,
   "metadata": {
    "ExecuteTime": {
     "end_time": "2020-05-05T14:15:44.701151Z",
     "start_time": "2020-05-05T14:15:44.693983Z"
    }
   },
   "outputs": [],
   "source": [
    "class Family:\n",
    "    \n",
    "    def __init__(self,father_name,mother_name,children_names,children_ages,home_address):\n",
    "        self.father_name=father_name\n",
    "        self.mother_name=mother_name\n",
    "        self.children_names=children_names\n",
    "        self.children_ages=children_ages\n",
    "        self.home_address=home_address\n",
    "        \n",
    "    def print_diwali_invitation(self):\n",
    "        print(\"*\"*25)\n",
    "        print(\"Hello, please come for our Diwali celebration at \"+self.home_address)\n",
    "        print(\"from\")\n",
    "        print(self.mother_name+\" and \"+self.father_name)\n",
    "        print(\"and our wonderful children\")\n",
    "        namestring=\"\"\n",
    "        for childname in self.children_names:\n",
    "            namestring+=childname+\",\"\n",
    "        namestring=namestring[:-1]\n",
    "        print(namestring)\n",
    "        print(\"*\"*25)\n",
    "        \n",
    "    def return_youngest_child(self):\n",
    "        min_index=0\n",
    "        min_age=1000\n",
    "        for i in range(0,len(self.children_names)):\n",
    "            if self.children_ages[i]<min_age:\n",
    "                min_age=self.children_ages[i]\n",
    "                min_index=i\n",
    "        return self.children_names[min_index], min_age\n",
    "    \n",
    "    def change_address(self, new_address):\n",
    "        self.home_address=new_address"
   ]
  },
  {
   "cell_type": "code",
   "execution_count": null,
   "metadata": {
    "ExecuteTime": {
     "end_time": "2020-05-05T14:23:47.554495Z",
     "start_time": "2020-05-05T14:23:47.551641Z"
    }
   },
   "outputs": [],
   "source": [
    "sharmas=Family(\"Ram Sharma\",\"Kusum Sharma\",[\"Ravi Sharma\",\"Rani Sharma\",\"Komal Sharma\"],[21,15,9],\"Geetanjali Residency, Kondapur, Hyderabad\")"
   ]
  },
  {
   "cell_type": "code",
   "execution_count": null,
   "metadata": {
    "ExecuteTime": {
     "end_time": "2020-05-05T14:23:47.560756Z",
     "start_time": "2020-05-05T14:23:47.557410Z"
    }
   },
   "outputs": [],
   "source": [
    "print(sharmas.children_names)"
   ]
  },
  {
   "cell_type": "code",
   "execution_count": null,
   "metadata": {
    "ExecuteTime": {
     "end_time": "2020-05-05T14:23:47.566617Z",
     "start_time": "2020-05-05T14:23:47.562622Z"
    }
   },
   "outputs": [],
   "source": [
    "sharmas.print_diwali_invitation()"
   ]
  },
  {
   "cell_type": "code",
   "execution_count": null,
   "metadata": {
    "ExecuteTime": {
     "end_time": "2020-05-05T14:23:47.571584Z",
     "start_time": "2020-05-05T14:23:47.568561Z"
    }
   },
   "outputs": [],
   "source": [
    "print(sharmas.return_youngest_child())"
   ]
  },
  {
   "cell_type": "code",
   "execution_count": null,
   "metadata": {
    "ExecuteTime": {
     "end_time": "2020-05-05T14:23:47.576696Z",
     "start_time": "2020-05-05T14:23:47.573433Z"
    }
   },
   "outputs": [],
   "source": [
    "sharmas.change_address(\"Lumbini Enclave, Whitefields, Hyderabad\")\n",
    "print(sharmas.home_address)"
   ]
  },
  {
   "cell_type": "code",
   "execution_count": null,
   "metadata": {
    "ExecuteTime": {
     "end_time": "2020-05-05T14:23:47.581530Z",
     "start_time": "2020-05-05T14:23:47.578577Z"
    }
   },
   "outputs": [],
   "source": [
    "sharmas.home_address=\"Geetanjali Residency, Kondapur, Hyderabad\"\n",
    "print(sharmas.home_address)"
   ]
  },
  {
   "cell_type": "markdown",
   "metadata": {},
   "source": [
    "* Everything that was said about positional arguments, keyword arguments, return values etc for **functions** applies to methods and the constructor as well."
   ]
  },
  {
   "cell_type": "code",
   "execution_count": null,
   "metadata": {
    "ExecuteTime": {
     "end_time": "2020-05-05T14:23:50.792541Z",
     "start_time": "2020-05-05T14:23:50.789785Z"
    }
   },
   "outputs": [],
   "source": [
    "vijs=Family(\"Prateek Vij\",\"Kareena Vij\",[\"Lucky Vij\",\"Ravi Vij\"],[13,5],\"Geetanjali Residency, Kondapur, Hyderabad\")"
   ]
  },
  {
   "cell_type": "code",
   "execution_count": null,
   "metadata": {
    "ExecuteTime": {
     "end_time": "2020-05-05T14:23:50.799540Z",
     "start_time": "2020-05-05T14:23:50.795365Z"
    }
   },
   "outputs": [],
   "source": [
    "sharmas.print_diwali_invitation()\n",
    "vijs.print_diwali_invitation()"
   ]
  },
  {
   "cell_type": "markdown",
   "metadata": {},
   "source": [
    "* Now you understand that a class is just a way **to pack some data with functions**.\n",
    "* So, now we can tell you a secret -- In Python everything is an object! We will deal with this in detail in the next section!"
   ]
  },
  {
   "cell_type": "markdown",
   "metadata": {
    "heading_collapsed": true
   },
   "source": [
    "# End of Module 1 !"
   ]
  },
  {
   "cell_type": "markdown",
   "metadata": {
    "hidden": true
   },
   "source": [
    "Congratulations, now you know a little bit about everything!\n",
    "\n",
    "* Datatypes (Numbers,Strings,Booleans)\n",
    "* Operators\n",
    "* Variables\n",
    "* Assignments\n",
    "* Conditional Statements (if...else)\n",
    "* Loops (while and for)\n",
    "* Data Structures (Lists)\n",
    "* Functions\n",
    "* Classes, Objects, Attributes and Methods\n",
    "\n",
    "But there were many things that are missing because they require a mix of all these concepts. So we will cover them in the next section!\n",
    "\n",
    "* Instructor Note : Now would be a good time to quickly revise Part 1."
   ]
  }
 ],
 "metadata": {
  "hide_input": false,
  "kernelspec": {
   "display_name": "Python 3",
   "language": "python",
   "name": "python3"
  },
  "language_info": {
   "codemirror_mode": {
    "name": "ipython",
    "version": 3
   },
   "file_extension": ".py",
   "mimetype": "text/x-python",
   "name": "python",
   "nbconvert_exporter": "python",
   "pygments_lexer": "ipython3",
   "version": "3.6.9"
  },
  "toc": {
   "base_numbering": 1,
   "nav_menu": {},
   "number_sections": true,
   "sideBar": true,
   "skip_h1_title": false,
   "title_cell": "Table of Contents",
   "title_sidebar": "Contents",
   "toc_cell": false,
   "toc_position": {},
   "toc_section_display": true,
   "toc_window_display": false
  }
 },
 "nbformat": 4,
 "nbformat_minor": 2
}
