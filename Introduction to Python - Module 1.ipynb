{
 "cells": [
  {
   "cell_type": "markdown",
   "metadata": {},
   "source": [
    "# Basic Python (4h)"
   ]
  },
  {
   "cell_type": "markdown",
   "metadata": {},
   "source": [
    "## Part 1 (2h)"
   ]
  },
  {
   "cell_type": "markdown",
   "metadata": {
    "heading_collapsed": true
   },
   "source": [
    "### Why learn to code?"
   ]
  },
  {
   "cell_type": "markdown",
   "metadata": {
    "hidden": true
   },
   "source": [
    "Programming converts a process to a program. \n",
    "\n",
    "* A process/algorithm is a set of precise steps that starts with some data, does some things with that data, and then returns some data.\n",
    "\n",
    "Consider the following example"
   ]
  },
  {
   "cell_type": "markdown",
   "metadata": {
    "hidden": true
   },
   "source": [
    "**Process**\n",
    "\n",
    "* Your job is to solve linear equations in 2 variables. Your boss gives you the following equations\n",
    "  ```\n",
    "  x+2y=10\n",
    "  2x+y=8\n",
    "  ```\n",
    "* You know how to solve these equations by process of elimination, so you write\n",
    "\n",
    "    ```\n",
    "    First eliminate x by matching coefficients\n",
    "\n",
    "    2*(x+2y)-(2x+y)=2*10-8\n",
    "    => 3y=12\n",
    "    => y=4\n",
    "\n",
    "    Now substiting y in eqn 1,\n",
    "\n",
    "    x+8=10\n",
    "    => x=2\n",
    "\n",
    "    ```\n",
    "* Here, the **inputs** to you were the 2 equations, or more specifically the coefficients, i.e. \n",
    "    ```\n",
    "    (1,2,10) and (2,1,8)\n",
    "    ```\n",
    "* The **logic** you applied was the substitution method.\n",
    "* The **output** was your answer, the values for x and y\n",
    "    ```\n",
    "    (2,4)\n",
    "    ``` "
   ]
  },
  {
   "cell_type": "markdown",
   "metadata": {
    "hidden": true
   },
   "source": [
    "**Program**\n",
    "\n",
    "* Now, suppose you had to write an algorithm to do your job. \n",
    "* If you can do that, your boss will promote you to solving 3D equations! How would you do it?\n",
    "* If you know Python, you can write something like this"
   ]
  },
  {
   "cell_type": "code",
   "execution_count": 11,
   "metadata": {
    "ExecuteTime": {
     "end_time": "2020-05-04T15:24:04.286609Z",
     "start_time": "2020-05-04T15:24:04.282862Z"
    },
    "hidden": true
   },
   "outputs": [],
   "source": [
    "def solve_equations(a,b,c,u,v,w):\n",
    "    # solve system of linear equations\n",
    "    # ax + by = c\n",
    "    # ux + vy = w\n",
    "    \n",
    "    ## First eliminate x, how?\n",
    "    \n",
    "    # Multiply eqn 1 by \"u\", and eqn 2 by \"a\" and subtract them\n",
    "    # Then y = (c*u - w*a)/(b-v)\n",
    "    y=(c*u-w*a)/(b*u-v*a)\n",
    "    \n",
    "    # Now get x from eqn 1\n",
    "    \n",
    "    x = (c - b*y)/a\n",
    "    \n",
    "    # return the values\n",
    "    \n",
    "    return x,y"
   ]
  },
  {
   "cell_type": "code",
   "execution_count": 12,
   "metadata": {
    "ExecuteTime": {
     "end_time": "2020-05-04T15:24:07.047023Z",
     "start_time": "2020-05-04T15:24:07.043141Z"
    },
    "hidden": true
   },
   "outputs": [
    {
     "data": {
      "text/plain": [
       "(2.0, 4.0)"
      ]
     },
     "execution_count": 12,
     "metadata": {},
     "output_type": "execute_result"
    }
   ],
   "source": [
    "solve_equations(1,2,10,2,1,8)"
   ]
  },
  {
   "cell_type": "code",
   "execution_count": 13,
   "metadata": {
    "ExecuteTime": {
     "end_time": "2020-05-04T15:24:41.900386Z",
     "start_time": "2020-05-04T15:24:41.896216Z"
    },
    "hidden": true,
    "scrolled": false
   },
   "outputs": [
    {
     "data": {
      "text/plain": [
       "(6.0, -4.0)"
      ]
     },
     "execution_count": 13,
     "metadata": {},
     "output_type": "execute_result"
    }
   ],
   "source": [
    "solve_equations(5,2,22,2,1,8)"
   ]
  },
  {
   "cell_type": "markdown",
   "metadata": {
    "hidden": true
   },
   "source": [
    "This code is super easy to understand, its just like how you would write the calculations for your boss! \n",
    "\n",
    "But now you can run it for any inputs your boss gives you! Also you have used the following Pythonic concepts!\n",
    "\n",
    "* Variables\n",
    "* Expressions\n",
    "* Comments\n",
    "* Functions"
   ]
  },
  {
   "cell_type": "markdown",
   "metadata": {
    "heading_collapsed": true
   },
   "source": [
    "### Datatypes and Operators"
   ]
  },
  {
   "cell_type": "markdown",
   "metadata": {
    "hidden": true
   },
   "source": [
    "What are the simplest types of data in Python?"
   ]
  },
  {
   "cell_type": "markdown",
   "metadata": {
    "hidden": true
   },
   "source": [
    "#### Numbers and Booleans"
   ]
  },
  {
   "cell_type": "markdown",
   "metadata": {
    "ExecuteTime": {
     "end_time": "2020-05-04T15:45:55.670035Z",
     "start_time": "2020-05-04T15:45:55.666624Z"
    },
    "hidden": true
   },
   "source": [
    "1. Numbers \n",
    "    1. Integers\n",
    "    2. Floats\n",
    "2. Booleans"
   ]
  },
  {
   "cell_type": "code",
   "execution_count": 47,
   "metadata": {
    "ExecuteTime": {
     "end_time": "2020-05-04T17:13:18.546400Z",
     "start_time": "2020-05-04T17:13:18.542579Z"
    },
    "hidden": true
   },
   "outputs": [
    {
     "name": "stdout",
     "output_type": "stream",
     "text": [
      "53\n",
      "2.003\n",
      "True\n",
      "False\n"
     ]
    }
   ],
   "source": [
    "# integer : no decimal\n",
    "print(53)\n",
    "\n",
    "# float : decimal\n",
    "print(2.003)\n",
    "\n",
    "# booleans\n",
    "print(True)\n",
    "print(False)"
   ]
  },
  {
   "cell_type": "markdown",
   "metadata": {
    "hidden": true
   },
   "source": [
    "* By the way the ``print`` function is a convenient way to print to the **console** (or actually stdout). \n",
    "* Don't worry about what it is except, that it prints out whatever is in between the brackets"
   ]
  },
  {
   "cell_type": "markdown",
   "metadata": {
    "ExecuteTime": {
     "end_time": "2020-05-04T15:47:29.948667Z",
     "start_time": "2020-05-04T15:47:29.944664Z"
    },
    "hidden": true
   },
   "source": [
    "What can you do with these simple data types?"
   ]
  },
  {
   "cell_type": "markdown",
   "metadata": {
    "hidden": true
   },
   "source": [
    "* Arithmetic Operators : <span style=\"font-size:22px\">+ - / \\* % \\** //</span>\n",
    "    * Takes two numbers and returns a number\n",
    "    * 3 / 2  ---> 1.5\n",
    "    * If one of the numbers is a float, the result is a float.\n",
    "    * If both are integers, the result is an integer.\n",
    "        * Exception : /\n",
    "* Comparison Operators : <span style=\"font-size:22px\"> > < \\<= \\>= == != </span>\n",
    "    * Return a boolean - True, False\n",
    "\n",
    "Booleans\n",
    "\n",
    "* Boolean operators : and , or , not\n",
    "\n",
    "```\n",
    "True and False\n",
    "True or False\n",
    "not True\n",
    "```"
   ]
  },
  {
   "cell_type": "markdown",
   "metadata": {
    "ExecuteTime": {
     "end_time": "2020-05-04T15:54:14.656607Z",
     "start_time": "2020-05-04T15:54:14.653040Z"
    },
    "hidden": true
   },
   "source": [
    "Instructor Note : Move to Python interpreter and demonstrate\n",
    "\n",
    "* All the binary operators for numbers, booleans and strings\n",
    "* Nested expressions with paranthesis\n",
    "* Implicit typecasting for numbers\n",
    "* Mixing comparison operators and boolean operators"
   ]
  },
  {
   "cell_type": "markdown",
   "metadata": {
    "hidden": true
   },
   "source": [
    "Notes : \n",
    "* Bitwise operators\n",
    "* Operator precedence : BODMAS rule or just use brackets!"
   ]
  },
  {
   "cell_type": "markdown",
   "metadata": {
    "ExecuteTime": {
     "end_time": "2020-05-04T16:11:07.083402Z",
     "start_time": "2020-05-04T16:11:07.077531Z"
    },
    "hidden": true
   },
   "source": [
    "#### Strings"
   ]
  },
  {
   "cell_type": "code",
   "execution_count": 18,
   "metadata": {
    "ExecuteTime": {
     "end_time": "2020-05-04T15:46:43.808577Z",
     "start_time": "2020-05-04T15:46:43.805077Z"
    },
    "hidden": true
   },
   "outputs": [
    {
     "data": {
      "text/plain": [
       "'this is a string'"
      ]
     },
     "execution_count": 18,
     "metadata": {},
     "output_type": "execute_result"
    }
   ],
   "source": [
    "print(\"this is a string\")\n",
    "print('you can also use single quotes')"
   ]
  },
  {
   "cell_type": "markdown",
   "metadata": {
    "hidden": true
   },
   "source": [
    "* Indexing and Slicing\n",
    "    ```\n",
    "    \"My name is\"[1]\n",
    "    \"My name is\"[-1]\n",
    "    \"My name is\"[1:5]\n",
    "    \"My name is\"[1:]\n",
    "    \"My name is\"[1:-5]\n",
    "    ```\n",
    "* Concatenation\n",
    "    ```\n",
    "    \"My name \" + \" is \" +\" Aneesh\"\n",
    "    ```\n",
    "* Repitition \n",
    "    ```\n",
    "    \"Repeating\"*3\n",
    "    ```\n",
    "* Membership operators\n",
    "\n",
    "    ```\n",
    "    \"M\" in \"America\"\n",
    "    \"M\" not in \"America\"\n",
    "    ```\n",
    "    * Returns a boolean - True or False\n",
    "    * In this case second one is true, because \"M\" is NOT in \"America\". Remember that in coding letters are just symbols, so M and m are different. "
   ]
  },
  {
   "cell_type": "markdown",
   "metadata": {
    "ExecuteTime": {
     "end_time": "2020-05-04T16:18:10.986889Z",
     "start_time": "2020-05-04T16:18:10.983335Z"
    },
    "hidden": true
   },
   "source": [
    "* Escaping quotes in strings\n",
    "    ```\n",
    "    \"A single quote ' inside a double quote\"\n",
    "\n",
    "    'Or a double quote \" inside a single quote\"\n",
    "\n",
    "    \"Or just use \\\\ to escape \\\"\"\n",
    "    ```\n",
    "\n",
    "* Newlines in strings\n",
    "\n",
    "    ```\n",
    "    \"A newline is written like this - \\n\"\n",
    "    ```"
   ]
  },
  {
   "cell_type": "markdown",
   "metadata": {
    "hidden": true
   },
   "source": [
    "Instructor Note : Demonstrate above points in interpreter."
   ]
  },
  {
   "cell_type": "markdown",
   "metadata": {
    "hidden": true
   },
   "source": [
    "#### Converting between datatypes"
   ]
  },
  {
   "cell_type": "markdown",
   "metadata": {
    "hidden": true
   },
   "source": [
    "* Python provides a bunch of very simple functions, that does the job of typecasting for you."
   ]
  },
  {
   "cell_type": "markdown",
   "metadata": {
    "hidden": true
   },
   "source": [
    "* Between float and int"
   ]
  },
  {
   "cell_type": "code",
   "execution_count": 62,
   "metadata": {
    "ExecuteTime": {
     "end_time": "2020-05-04T17:22:10.716892Z",
     "start_time": "2020-05-04T17:22:10.713563Z"
    },
    "hidden": true
   },
   "outputs": [
    {
     "name": "stdout",
     "output_type": "stream",
     "text": [
      "22\n",
      "33.0\n"
     ]
    }
   ],
   "source": [
    "# Converting float to integer, takes the floor of the float\n",
    "print(int(22.9))\n",
    "print(float(33))"
   ]
  },
  {
   "cell_type": "markdown",
   "metadata": {
    "hidden": true
   },
   "source": [
    "* Boolean to number"
   ]
  },
  {
   "cell_type": "code",
   "execution_count": 64,
   "metadata": {
    "ExecuteTime": {
     "end_time": "2020-05-04T17:22:20.690869Z",
     "start_time": "2020-05-04T17:22:20.687535Z"
    },
    "hidden": true
   },
   "outputs": [
    {
     "name": "stdout",
     "output_type": "stream",
     "text": [
      "1\n",
      "0\n"
     ]
    }
   ],
   "source": [
    "print(int(True))\n",
    "print(int(False))"
   ]
  },
  {
   "cell_type": "markdown",
   "metadata": {
    "hidden": true
   },
   "source": [
    "* Numbers and Booleans to Stringa"
   ]
  },
  {
   "cell_type": "code",
   "execution_count": 65,
   "metadata": {
    "ExecuteTime": {
     "end_time": "2020-05-04T17:22:24.215453Z",
     "start_time": "2020-05-04T17:22:24.211669Z"
    },
    "hidden": true
   },
   "outputs": [
    {
     "name": "stdout",
     "output_type": "stream",
     "text": [
      "13\n",
      "49.99\n",
      "True\n"
     ]
    }
   ],
   "source": [
    "print(str(13))\n",
    "print(str(49.99))\n",
    "print(str(True))"
   ]
  },
  {
   "cell_type": "markdown",
   "metadata": {
    "hidden": true
   },
   "source": [
    "* String to numbers"
   ]
  },
  {
   "cell_type": "code",
   "execution_count": 68,
   "metadata": {
    "ExecuteTime": {
     "end_time": "2020-05-04T17:23:15.891278Z",
     "start_time": "2020-05-04T17:23:15.888142Z"
    },
    "hidden": true
   },
   "outputs": [
    {
     "name": "stdout",
     "output_type": "stream",
     "text": [
      "22\n",
      "33.3333\n"
     ]
    }
   ],
   "source": [
    "print(int(\"22\"))\n",
    "print(float(\"33.3333\"))"
   ]
  },
  {
   "cell_type": "markdown",
   "metadata": {
    "hidden": true
   },
   "source": [
    "* Other datatypes to boolean\n",
    "    * Everything is true except for some special values - 0, 0.0, \"\", None"
   ]
  },
  {
   "cell_type": "code",
   "execution_count": 69,
   "metadata": {
    "ExecuteTime": {
     "end_time": "2020-05-04T17:26:01.530763Z",
     "start_time": "2020-05-04T17:26:01.526735Z"
    },
    "hidden": true
   },
   "outputs": [
    {
     "name": "stdout",
     "output_type": "stream",
     "text": [
      "True\n",
      "True\n",
      "True\n",
      "True\n"
     ]
    }
   ],
   "source": [
    "print(bool(2))\n",
    "print(bool(-3))\n",
    "print(bool(43.1))\n",
    "print(bool(\"hello\"))\n",
    "print(bool(\"\\n\"))"
   ]
  },
  {
   "cell_type": "code",
   "execution_count": 72,
   "metadata": {
    "ExecuteTime": {
     "end_time": "2020-05-04T17:26:47.577571Z",
     "start_time": "2020-05-04T17:26:47.573392Z"
    },
    "hidden": true
   },
   "outputs": [
    {
     "name": "stdout",
     "output_type": "stream",
     "text": [
      "False\n",
      "False\n",
      "False\n",
      "False\n"
     ]
    }
   ],
   "source": [
    "print(bool(0))\n",
    "print(bool(0.0))\n",
    "print(bool(\"\"))\n",
    "print(bool(None))"
   ]
  },
  {
   "cell_type": "markdown",
   "metadata": {
    "heading_collapsed": true
   },
   "source": [
    "### Variables"
   ]
  },
  {
   "cell_type": "markdown",
   "metadata": {
    "hidden": true
   },
   "source": [
    "* A variable is a box for a piece of data. \n",
    "* It is not that piece of data itself, it is just the box. \n",
    "* To create a variable, you just put a value in the box."
   ]
  },
  {
   "cell_type": "code",
   "execution_count": 4,
   "metadata": {
    "ExecuteTime": {
     "end_time": "2020-05-04T14:50:09.990573Z",
     "start_time": "2020-05-04T14:50:09.988254Z"
    },
    "hidden": true
   },
   "outputs": [],
   "source": [
    "just_a_box=0"
   ]
  },
  {
   "cell_type": "markdown",
   "metadata": {
    "hidden": true
   },
   "source": [
    "So now this box contains an integer, but you can replace it with any sort of data."
   ]
  },
  {
   "cell_type": "code",
   "execution_count": 74,
   "metadata": {
    "ExecuteTime": {
     "end_time": "2020-05-05T06:19:06.325696Z",
     "start_time": "2020-05-05T06:19:06.320822Z"
    },
    "hidden": true
   },
   "outputs": [
    {
     "name": "stdout",
     "output_type": "stream",
     "text": [
      "This is a string\n",
      "22.9\n",
      "True\n"
     ]
    }
   ],
   "source": [
    "just_a_box=\"This is a string\"\n",
    "print(just_a_box)\n",
    "just_a_box=22.9\n",
    "print(just_a_box)\n",
    "just_a_box=True\n",
    "print(just_a_box)"
   ]
  },
  {
   "cell_type": "markdown",
   "metadata": {
    "hidden": true
   },
   "source": [
    "When you put something in the box using the syntax\n",
    "\n",
    "```\n",
    "x = \"my value\"\n",
    "```\n",
    "\n",
    "this is called an **assignment**."
   ]
  },
  {
   "cell_type": "markdown",
   "metadata": {
    "hidden": true
   },
   "source": [
    "#### What happens if the RHS contains a variable?\n",
    "\n",
    "```\n",
    "x=y\n",
    "```\n",
    "\n",
    "* For now, we can say that if y is a box for a number, boolean, or string, then the value is copied from y to x. \n",
    "* But this is actually incorrect though with the same effect. Later we will learn the actual reason.\n",
    "\n",
    "> See this [blog post](https://medium.com/broken-window/many-names-one-memory-address-122f78734cb6) for a great explanations on assignments in python and how they relate to memory addresses, immutability and \"interning\"."
   ]
  },
  {
   "cell_type": "markdown",
   "metadata": {
    "hidden": true
   },
   "source": [
    "#### Note : Assignment + Operator short syntax\n",
    "\n",
    "In python code you will often see code like this\n",
    "\n",
    "```\n",
    "x+=2\n",
    "x*=44+22\n",
    "```\n",
    "\n",
    "This is just a short syntax for when the RHS is an expression with the first operand as x. It is exactly the same as\n",
    "\n",
    "```\n",
    "x=x+2\n",
    "x=x*(44+22)\n",
    "\n",
    "```\n",
    "\n",
    "* People who know C might recognize that these are there in C as well. \n",
    "* They might be wondering if the ++ operator is there in python too. \n",
    "* The answer is NO. \n",
    "* Reason : The BDFL hates the ++ operator :P"
   ]
  },
  {
   "cell_type": "markdown",
   "metadata": {
    "heading_collapsed": true
   },
   "source": [
    "### Conditional Statements"
   ]
  },
  {
   "cell_type": "markdown",
   "metadata": {
    "hidden": true
   },
   "source": [
    "Core idea : Based on the value of a variable, you want to do different actions/computations."
   ]
  },
  {
   "cell_type": "markdown",
   "metadata": {
    "heading_collapsed": true,
    "hidden": true
   },
   "source": [
    "#### The basic if statement"
   ]
  },
  {
   "cell_type": "markdown",
   "metadata": {
    "hidden": true
   },
   "source": [
    "* Your boss tells you to design personalized greeting messages for users coming to your website.\n",
    "* You don't have time, so you come up with a simple rule to fake personalization depending on her/his name. "
   ]
  },
  {
   "cell_type": "code",
   "execution_count": 95,
   "metadata": {
    "ExecuteTime": {
     "end_time": "2020-05-05T07:43:25.253708Z",
     "start_time": "2020-05-05T07:43:25.250199Z"
    },
    "hidden": true
   },
   "outputs": [
    {
     "name": "stdout",
     "output_type": "stream",
     "text": [
      "Namaste Ravina! XYZ corp is very happy to see you!\n"
     ]
    }
   ],
   "source": [
    "student_name=\"Ravina\"\n",
    "if student_name[0] in \"ABCDEFGHIJKLMN\":\n",
    "    print(\"Hello \"+student_name+\" welcome to XYZ corp!\")\n",
    "else:\n",
    "    print(\"Namaste \"+student_name+\"! XYZ corp is very happy to see you!\")"
   ]
  },
  {
   "cell_type": "markdown",
   "metadata": {
    "hidden": true
   },
   "source": [
    "The generic syntax of an if statement is \n",
    "\n",
    "```\n",
    "if condition :\n",
    "    x=22\n",
    "    y=x*z\n",
    "    ...\n",
    "    #body\n",
    "    ...\n",
    "```\n",
    "\n",
    "* Indentation of 4 spaces\n",
    "* Condition is any expression that evaluates to a boolean\n",
    "    * Otherwise it will be converted to a boolean automatically, but beware!"
   ]
  },
  {
   "cell_type": "markdown",
   "metadata": {
    "heading_collapsed": true,
    "hidden": true
   },
   "source": [
    "#### A note on indentation, whitespace and code blocks in Python"
   ]
  },
  {
   "cell_type": "markdown",
   "metadata": {
    "hidden": true
   },
   "source": [
    "* if statements are the first time some of you might be encountering code blocks.\n",
    "* Code blocks are a chunk of code, that is guaranteed to run from top to bottom sequentially.\n",
    "* Python uses indentation(spaces) to differentiate code blocks.\n",
    "* Code blocks are used inside conditional statements and loops only in Python."
   ]
  },
  {
   "cell_type": "code",
   "execution_count": 97,
   "metadata": {
    "ExecuteTime": {
     "end_time": "2020-05-05T07:49:27.209959Z",
     "start_time": "2020-05-05T07:49:27.207678Z"
    },
    "hidden": true
   },
   "outputs": [],
   "source": [
    "x=20"
   ]
  },
  {
   "cell_type": "code",
   "execution_count": 98,
   "metadata": {
    "ExecuteTime": {
     "end_time": "2020-05-05T07:49:27.879436Z",
     "start_time": "2020-05-05T07:49:27.876532Z"
    },
    "hidden": true
   },
   "outputs": [
    {
     "name": "stdout",
     "output_type": "stream",
     "text": [
      "This is inside the block and so will only print if x==20\n",
      "This is outside, so will always print\n"
     ]
    }
   ],
   "source": [
    "if x==20:\n",
    "    print(\"This is inside the block and so will only print if x==20\")\n",
    "print(\"This is outside, so will always print\")"
   ]
  },
  {
   "cell_type": "code",
   "execution_count": 75,
   "metadata": {
    "ExecuteTime": {
     "end_time": "2020-05-05T06:19:23.897024Z",
     "start_time": "2020-05-05T06:19:23.891180Z"
    },
    "hidden": true,
    "scrolled": true
   },
   "outputs": [
    {
     "ename": "IndentationError",
     "evalue": "unexpected indent (<ipython-input-75-5e82ebcdc697>, line 2)",
     "output_type": "error",
     "traceback": [
      "\u001b[0;36m  File \u001b[0;32m\"<ipython-input-75-5e82ebcdc697>\"\u001b[0;36m, line \u001b[0;32m2\u001b[0m\n\u001b[0;31m    will_this=\"work\"\u001b[0m\n\u001b[0m    ^\u001b[0m\n\u001b[0;31mIndentationError\u001b[0m\u001b[0;31m:\u001b[0m unexpected indent\n"
     ]
    }
   ],
   "source": [
    "this_is=20\n",
    "    will_this=\"work\""
   ]
  },
  {
   "cell_type": "code",
   "execution_count": 77,
   "metadata": {
    "ExecuteTime": {
     "end_time": "2020-05-05T06:20:18.507036Z",
     "start_time": "2020-05-05T06:20:18.504474Z"
    },
    "hidden": true
   },
   "outputs": [],
   "source": [
    "this_is=20\n",
    "will_this=\"work\""
   ]
  },
  {
   "cell_type": "code",
   "execution_count": 76,
   "metadata": {
    "ExecuteTime": {
     "end_time": "2020-05-05T06:20:08.119894Z",
     "start_time": "2020-05-05T06:20:08.116479Z"
    },
    "hidden": true
   },
   "outputs": [
    {
     "ename": "IndentationError",
     "evalue": "expected an indented block (<ipython-input-76-c1b345444c33>, line 2)",
     "output_type": "error",
     "traceback": [
      "\u001b[0;36m  File \u001b[0;32m\"<ipython-input-76-c1b345444c33>\"\u001b[0;36m, line \u001b[0;32m2\u001b[0m\n\u001b[0;31m    x=21\u001b[0m\n\u001b[0m    ^\u001b[0m\n\u001b[0;31mIndentationError\u001b[0m\u001b[0;31m:\u001b[0m expected an indented block\n"
     ]
    }
   ],
   "source": [
    "if 21<33:\n",
    "x=21"
   ]
  },
  {
   "cell_type": "code",
   "execution_count": 78,
   "metadata": {
    "ExecuteTime": {
     "end_time": "2020-05-05T06:20:28.269800Z",
     "start_time": "2020-05-05T06:20:28.267033Z"
    },
    "hidden": true
   },
   "outputs": [],
   "source": [
    "if 21<33:\n",
    "    x=21"
   ]
  },
  {
   "cell_type": "markdown",
   "metadata": {
    "heading_collapsed": true,
    "hidden": true
   },
   "source": [
    "#### Differences with code blocks in languages like C"
   ]
  },
  {
   "cell_type": "markdown",
   "metadata": {
    "hidden": true
   },
   "source": [
    "* In C, whitespace doesn't matter. \n",
    "    * In Python, whitespace at the beginning of a line are very important.\n",
    "* In C, Code blocks are marked by { curly brackets }. \n",
    "    * In Python, whitespace at the beginning of the line mark a code block. \n",
    "* You can create interior code blocks anywhere.\n",
    "    * In Python, an interior level of code can only be created inside a conditional statements body or a loop's body.\n",
    "* In C, variables defined within an interior code block are deleted/released once you leave that block.\n",
    "    * In Python, variables defined in an inner block are still available to the outer block.\n",
    "    * Read about [scope](https://en.wikipedia.org/wiki/Scope_(computer_science)) in programming languages."
   ]
  },
  {
   "cell_type": "code",
   "execution_count": 79,
   "metadata": {
    "ExecuteTime": {
     "end_time": "2020-05-05T06:24:29.826457Z",
     "start_time": "2020-05-05T06:24:29.823310Z"
    },
    "hidden": true
   },
   "outputs": [
    {
     "name": "stdout",
     "output_type": "stream",
     "text": [
      "secret value\n"
     ]
    }
   ],
   "source": [
    "if 21 < 25 :\n",
    "    a_totally_new_variable=\"secret value\"\n",
    "print(a_totally_new_variable)"
   ]
  },
  {
   "cell_type": "markdown",
   "metadata": {
    "ExecuteTime": {
     "end_time": "2020-05-05T06:41:02.655718Z",
     "start_time": "2020-05-05T06:41:02.634682Z"
    },
    "heading_collapsed": true,
    "hidden": true
   },
   "source": [
    "#### else statements and nesting"
   ]
  },
  {
   "cell_type": "code",
   "execution_count": 82,
   "metadata": {
    "ExecuteTime": {
     "end_time": "2020-05-05T06:48:41.315668Z",
     "start_time": "2020-05-05T06:48:41.313246Z"
    },
    "hidden": true
   },
   "outputs": [],
   "source": [
    "x=22"
   ]
  },
  {
   "cell_type": "code",
   "execution_count": 81,
   "metadata": {
    "ExecuteTime": {
     "end_time": "2020-05-05T06:48:33.667479Z",
     "start_time": "2020-05-05T06:48:33.664325Z"
    },
    "hidden": true
   },
   "outputs": [
    {
     "name": "stdout",
     "output_type": "stream",
     "text": [
      "from -inf to 99\n"
     ]
    }
   ],
   "source": [
    "if x < 100 :\n",
    "    print(\"from -inf to 99\")\n",
    "else :\n",
    "    print(\"from 100 to +inf\")"
   ]
  },
  {
   "cell_type": "markdown",
   "metadata": {
    "hidden": true
   },
   "source": [
    "* The else statement takes care of the exclusionary case. Everything that is not part of the if, goes to the else.\n",
    "* Let's look at something slightly more complicated."
   ]
  },
  {
   "cell_type": "code",
   "execution_count": 83,
   "metadata": {
    "ExecuteTime": {
     "end_time": "2020-05-05T06:50:36.433793Z",
     "start_time": "2020-05-05T06:50:36.430864Z"
    },
    "hidden": true
   },
   "outputs": [
    {
     "name": "stdout",
     "output_type": "stream",
     "text": [
      "A number from 1 to 100\n"
     ]
    }
   ],
   "source": [
    "if x <=0 or x>100:\n",
    "    print(\"Not a number from 1 to 100\")\n",
    "else:\n",
    "    print(\"A number from 1 to 100\")"
   ]
  },
  {
   "cell_type": "markdown",
   "metadata": {
    "hidden": true
   },
   "source": [
    "Tip : Practice calculating the **opposite** of a condition.\n",
    "* Opposite of >? Opposite of ==?\n",
    "* Opposite of **x and y**? Opposite of x?"
   ]
  },
  {
   "cell_type": "markdown",
   "metadata": {
    "hidden": true
   },
   "source": [
    "* Suppose you want to break up the **if case** or the **else case**. \n",
    "* You can put another if...else statement inside the **if code block** or the **else code block**."
   ]
  },
  {
   "cell_type": "code",
   "execution_count": 85,
   "metadata": {
    "ExecuteTime": {
     "end_time": "2020-05-05T07:12:49.944859Z",
     "start_time": "2020-05-05T07:12:49.941354Z"
    },
    "hidden": true
   },
   "outputs": [
    {
     "name": "stdout",
     "output_type": "stream",
     "text": [
      "A number from 1 to 100\n"
     ]
    }
   ],
   "source": [
    "if x <=0 or x>100:\n",
    "    if x <=0:\n",
    "        print(\"Negative number!\")\n",
    "    else:\n",
    "        print(\"Positive number from 101 to inf\")\n",
    "else:\n",
    "    print(\"A number from 1 to 100\")"
   ]
  },
  {
   "cell_type": "code",
   "execution_count": 87,
   "metadata": {
    "ExecuteTime": {
     "end_time": "2020-05-05T07:14:03.426901Z",
     "start_time": "2020-05-05T07:14:03.423403Z"
    },
    "hidden": true
   },
   "outputs": [
    {
     "name": "stdout",
     "output_type": "stream",
     "text": [
      "Number from 1 to 50\n"
     ]
    }
   ],
   "source": [
    "if x <=0 or x>100:\n",
    "    print(\"Not a number from 1 to 100\")\n",
    "else:\n",
    "    if x <50:\n",
    "        print(\"Number from 1 to 50\")\n",
    "    else:\n",
    "        print(\"Number from 51 to 100\")"
   ]
  },
  {
   "cell_type": "markdown",
   "metadata": {
    "hidden": true
   },
   "source": [
    "Tip : \n",
    "\n",
    "* Practice drawing simple branching diagrams, to explain how to divide a problem into multiple subcases and sub sub cases. Visualizing it really helps - you can visualize it however you want, branching diagrams are just one example.\n",
    "* Even for experienced programmers, if...else statements are the place where they make the most mistakes!"
   ]
  },
  {
   "cell_type": "markdown",
   "metadata": {
    "ExecuteTime": {
     "end_time": "2020-05-05T07:16:45.550815Z",
     "start_time": "2020-05-05T07:16:45.547092Z"
    },
    "hidden": true
   },
   "source": [
    "* Conditions are confusing, so always try to write it in a readable way that is very simple to understand. \n",
    "* For example, we can rewrite the first code by switching the if...else conditions to make it more readable."
   ]
  },
  {
   "cell_type": "code",
   "execution_count": 90,
   "metadata": {
    "ExecuteTime": {
     "end_time": "2020-05-05T07:22:29.353809Z",
     "start_time": "2020-05-05T07:22:29.350516Z"
    },
    "hidden": true
   },
   "outputs": [
    {
     "name": "stdout",
     "output_type": "stream",
     "text": [
      "A number from 1 to 100\n"
     ]
    }
   ],
   "source": [
    "if x > 0 and  x<=100:\n",
    "    print(\"A number from 1 to 100\")\n",
    "else:\n",
    "    print(\"Not a number from 1 to 100\")"
   ]
  },
  {
   "cell_type": "markdown",
   "metadata": {
    "heading_collapsed": true,
    "hidden": true
   },
   "source": [
    "#### elif statements"
   ]
  },
  {
   "cell_type": "code",
   "execution_count": null,
   "metadata": {
    "hidden": true
   },
   "outputs": [],
   "source": [
    "if x <=0 or x>100:\n",
    "    print(\"Not a number from 1 to 100\")\n",
    "else:\n",
    "    if x <50:\n",
    "        print(\"Number from 1 to 50\")\n",
    "    else:\n",
    "        if x <=75 :\n",
    "            print(\"Number from 51 to 75\")\n",
    "        else:\n",
    "            print(\"Number from 76 to 100\")"
   ]
  },
  {
   "cell_type": "markdown",
   "metadata": {
    "hidden": true
   },
   "source": [
    "Now this is getting confusing... We can simplify this using the **elif** statement."
   ]
  },
  {
   "cell_type": "code",
   "execution_count": 91,
   "metadata": {
    "ExecuteTime": {
     "end_time": "2020-05-05T07:28:41.025303Z",
     "start_time": "2020-05-05T07:28:41.021871Z"
    },
    "hidden": true
   },
   "outputs": [
    {
     "name": "stdout",
     "output_type": "stream",
     "text": [
      "Number from 1 to 50\n"
     ]
    }
   ],
   "source": [
    "if x <=0 or x>100:\n",
    "    print(\"Not a number from 1 to 100\")\n",
    "elif x <50:\n",
    "    print(\"Number from 1 to 50\")\n",
    "elif x <=75 :\n",
    "    print(\"Number from 51 to 75\")\n",
    "else:\n",
    "    print(\"Number from 76 to 100\")"
   ]
  },
  {
   "cell_type": "markdown",
   "metadata": {
    "hidden": true
   },
   "source": [
    "* The above two blocks of code are exactly the same. \n",
    "\n",
    "The logic behind if...elif...else blocks is like this.\n",
    "\n",
    "\n",
    "1. Look at the **if statement**\n",
    "    1. If it matches, execute interior code. Then **SKIP ALL the elif and else blocks**.\n",
    "    2. If it doesn't match go to next elif.\n",
    "2. Look at the **elif statement**\n",
    "    1. If it matches, execute interior code. Then SKIP ALL the **remaining** elif and else blocks**.\n",
    "    2. If it doesn't match go to next elif.\n",
    "```\n",
    "....\n",
    "....\n",
    "....\n",
    "```\n",
    "3. You have reached the **else statement**.\n",
    "    1. This can only happpen if none of the above if or elif statements matched!"
   ]
  },
  {
   "cell_type": "markdown",
   "metadata": {
    "hidden": true
   },
   "source": [
    "* Thus, if...elif...else is a prioritized list of cases. \n",
    "* Therefore **order** matters. \n",
    "* The below two codes have different meanings"
   ]
  },
  {
   "cell_type": "code",
   "execution_count": 100,
   "metadata": {
    "ExecuteTime": {
     "end_time": "2020-05-05T07:56:33.477753Z",
     "start_time": "2020-05-05T07:56:33.474527Z"
    },
    "hidden": true
   },
   "outputs": [
    {
     "name": "stdout",
     "output_type": "stream",
     "text": [
      "Less than 100\n"
     ]
    }
   ],
   "source": [
    "if x <100 :\n",
    "    print(\"Less than 100\")\n",
    "elif x <200 :\n",
    "    print(\"Between 100-200\")"
   ]
  },
  {
   "cell_type": "code",
   "execution_count": 99,
   "metadata": {
    "ExecuteTime": {
     "end_time": "2020-05-05T07:56:31.855341Z",
     "start_time": "2020-05-05T07:56:31.852061Z"
    },
    "hidden": true
   },
   "outputs": [
    {
     "name": "stdout",
     "output_type": "stream",
     "text": [
      "Less than 200\n"
     ]
    }
   ],
   "source": [
    "if x <200 :\n",
    "    print(\"Less than 200\")\n",
    "elif x <100 :\n",
    "    print(\"Unreachable code\")"
   ]
  },
  {
   "cell_type": "markdown",
   "metadata": {
    "heading_collapsed": true,
    "hidden": true
   },
   "source": [
    "#### pass statement"
   ]
  },
  {
   "cell_type": "markdown",
   "metadata": {
    "hidden": true
   },
   "source": [
    "* The ``pass`` statement is another special statement. \n",
    "* It does ... nothing.\n",
    "* So why do we need it?\n",
    "* Although ``pass`` statement can be put anywhere..."
   ]
  },
  {
   "cell_type": "code",
   "execution_count": 125,
   "metadata": {
    "ExecuteTime": {
     "end_time": "2020-05-05T08:59:41.238398Z",
     "start_time": "2020-05-05T08:59:41.236137Z"
    },
    "hidden": true
   },
   "outputs": [],
   "source": [
    "pass"
   ]
  },
  {
   "cell_type": "markdown",
   "metadata": {
    "hidden": true
   },
   "source": [
    "* It's most (only?) valid use case is in an if....else statement.\n",
    "* This is when you want to write down a case very clearly, but you don't actually need to do anything for it. Or you want to specifically ignore it."
   ]
  },
  {
   "cell_type": "code",
   "execution_count": null,
   "metadata": {
    "hidden": true
   },
   "outputs": [],
   "source": [
    "if x < 0 :\n",
    "    print(\"Negative\")\n",
    "elif x <100:\n",
    "    pass\n",
    "else:\n",
    "    print(\"Large positive number\")"
   ]
  },
  {
   "cell_type": "markdown",
   "metadata": {
    "heading_collapsed": true
   },
   "source": [
    "### Loops"
   ]
  },
  {
   "cell_type": "markdown",
   "metadata": {
    "heading_collapsed": true,
    "hidden": true
   },
   "source": [
    "#### The basic while loop"
   ]
  },
  {
   "cell_type": "code",
   "execution_count": 101,
   "metadata": {
    "ExecuteTime": {
     "end_time": "2020-05-05T08:00:28.084670Z",
     "start_time": "2020-05-05T08:00:28.081089Z"
    },
    "hidden": true
   },
   "outputs": [
    {
     "ename": "SyntaxError",
     "evalue": "invalid syntax (<ipython-input-101-faa057844d02>, line 1)",
     "output_type": "error",
     "traceback": [
      "\u001b[0;36m  File \u001b[0;32m\"<ipython-input-101-faa057844d02>\"\u001b[0;36m, line \u001b[0;32m1\u001b[0m\n\u001b[0;31m    Motivating example\u001b[0m\n\u001b[0m                     ^\u001b[0m\n\u001b[0;31mSyntaxError\u001b[0m\u001b[0;31m:\u001b[0m invalid syntax\n"
     ]
    }
   ],
   "source": [
    "Motivating example"
   ]
  },
  {
   "cell_type": "markdown",
   "metadata": {
    "hidden": true
   },
   "source": [
    "The syntax for the basic while loop is \n",
    "\n",
    "```\n",
    "while condition :\n",
    "    x+=1\n",
    "    y=x+42\n",
    "    ...\n",
    "    ...\n",
    "    # body\n",
    "    ...\n",
    "print(\"outside the loop\")\n",
    "```\n",
    "\n",
    "* Uses indentation to mark inside code block just like if...else\n",
    "* Conditions are expressions which must evaluate to a boolean i.e. True or False statements"
   ]
  },
  {
   "cell_type": "markdown",
   "metadata": {
    "heading_collapsed": true,
    "hidden": true
   },
   "source": [
    "#### Example 1 : Calculating n factorial"
   ]
  },
  {
   "cell_type": "markdown",
   "metadata": {
    "hidden": true
   },
   "source": [
    "n! = n * (n-1) * (n-2) ....  * 2 * 1\n",
    "\n",
    "For example,\n",
    "\n",
    "5! = 5 * 4 * 3 * 2 * 1"
   ]
  },
  {
   "cell_type": "code",
   "execution_count": 114,
   "metadata": {
    "ExecuteTime": {
     "end_time": "2020-05-05T08:34:56.874929Z",
     "start_time": "2020-05-05T08:34:56.870710Z"
    },
    "hidden": true
   },
   "outputs": [
    {
     "name": "stdout",
     "output_type": "stream",
     "text": [
      "1\n",
      "2\n",
      "6\n",
      "24\n",
      "120\n"
     ]
    }
   ],
   "source": [
    "n=5\n",
    "product=1\n",
    "current=1\n",
    "while current <= n:\n",
    "    product*=current\n",
    "    print(product)\n",
    "    current+=1"
   ]
  },
  {
   "cell_type": "markdown",
   "metadata": {
    "hidden": true
   },
   "source": [
    "Notice \n",
    "* ``current`` is the loop variable. It's what is changing as the loop changes. \n",
    "* More importantly it is what causes the loop to **terminate**.\n"
   ]
  },
  {
   "cell_type": "markdown",
   "metadata": {
    "hidden": true
   },
   "source": [
    "What happens if we forget to add the line ``current+=1``?"
   ]
  },
  {
   "cell_type": "code",
   "execution_count": 116,
   "metadata": {
    "ExecuteTime": {
     "end_time": "2020-05-05T08:36:58.975761Z",
     "start_time": "2020-05-05T08:36:57.345627Z"
    },
    "hidden": true
   },
   "outputs": [
    {
     "ename": "KeyboardInterrupt",
     "evalue": "",
     "output_type": "error",
     "traceback": [
      "\u001b[0;31m---------------------------------------------------------------------------\u001b[0m",
      "\u001b[0;31mKeyboardInterrupt\u001b[0m                         Traceback (most recent call last)",
      "\u001b[0;32m<ipython-input-116-84037056df3a>\u001b[0m in \u001b[0;36m<module>\u001b[0;34m\u001b[0m\n\u001b[1;32m      3\u001b[0m \u001b[0mcurrent\u001b[0m\u001b[0;34m=\u001b[0m\u001b[0;36m1\u001b[0m\u001b[0;34m\u001b[0m\u001b[0;34m\u001b[0m\u001b[0m\n\u001b[1;32m      4\u001b[0m \u001b[0;32mwhile\u001b[0m \u001b[0mcurrent\u001b[0m \u001b[0;34m<=\u001b[0m \u001b[0mn\u001b[0m\u001b[0;34m:\u001b[0m\u001b[0;34m\u001b[0m\u001b[0;34m\u001b[0m\u001b[0m\n\u001b[0;32m----> 5\u001b[0;31m     \u001b[0mproduct\u001b[0m\u001b[0;34m*=\u001b[0m\u001b[0mcurrent\u001b[0m\u001b[0;34m\u001b[0m\u001b[0;34m\u001b[0m\u001b[0m\n\u001b[0m\u001b[1;32m      6\u001b[0m \u001b[0;31m#     print(product)\u001b[0m\u001b[0;34m\u001b[0m\u001b[0;34m\u001b[0m\u001b[0;34m\u001b[0m\u001b[0m\n",
      "\u001b[0;31mKeyboardInterrupt\u001b[0m: "
     ]
    }
   ],
   "source": [
    "n=5\n",
    "product=1\n",
    "current=1\n",
    "while current <= n:\n",
    "    product*=current\n",
    "    print(product)"
   ]
  },
  {
   "cell_type": "markdown",
   "metadata": {
    "hidden": true
   },
   "source": [
    "**BEWARE OF INFINITE LOOPS!!!** \n",
    "\n",
    "* Infinite loops happen because the condition at the top of the while loop is never reached. \n",
    "* Even experienced programmers regularly make mistakes that lead to infinite loops. \n",
    "* Code is all about conditions, since if...else and while are enough to write practically any sort of computation.\n",
    "* So if the conditions are wrong, you can run into issues like infinite loops."
   ]
  },
  {
   "cell_type": "markdown",
   "metadata": {
    "heading_collapsed": true,
    "hidden": true
   },
   "source": [
    "#### Example 2 : Printing cool ascii art X"
   ]
  },
  {
   "cell_type": "code",
   "execution_count": 110,
   "metadata": {
    "ExecuteTime": {
     "end_time": "2020-05-05T08:30:06.413326Z",
     "start_time": "2020-05-05T08:30:06.407446Z"
    },
    "hidden": true
   },
   "outputs": [
    {
     "name": "stdout",
     "output_type": "stream",
     "text": [
      "\\--------/\n",
      "-\\------/-\n",
      "--\\----/--\n",
      "---\\--/---\n",
      "----\\/----\n",
      "----/\\----\n",
      "---/--\\---\n",
      "--/----\\--\n",
      "-/------\\-\n",
      "/--------\\\n"
     ]
    }
   ],
   "source": [
    "size=10\n",
    "i=0\n",
    "while i <size:\n",
    "    string=\"\"\n",
    "    j=0\n",
    "    while j < size:\n",
    "        if j==i:\n",
    "            string=string+\"\\\\\"\n",
    "        elif j==size-i-1:\n",
    "            string=string+\"/\"\n",
    "        else:\n",
    "            string=string+\"-\"\n",
    "        j+=1\n",
    "    print(string)\n",
    "    i+=1"
   ]
  },
  {
   "cell_type": "markdown",
   "metadata": {
    "hidden": true
   },
   "source": [
    "Notice :\n",
    "* You can nest loops\n",
    "* You can mix loops with \n",
    "* You might notice two variables ``i`` and ``j``. \n",
    "* Both are loop variables for each loop.\n",
    "* Can you use the same variable for both loops?\n",
    "    * In principle you can, and in some cases it might even make the code more readable. \n",
    "    * But that's a dangerous idea! \n",
    "    * Make KISS - Keep It Simple Silly - your mantra.\n",
    "    * If you keep your coding style as simple and easy to understand as possible, you can tackle more and more complex problems."
   ]
  },
  {
   "cell_type": "markdown",
   "metadata": {
    "heading_collapsed": true,
    "hidden": true
   },
   "source": [
    "#### break and continue statements"
   ]
  },
  {
   "cell_type": "markdown",
   "metadata": {
    "hidden": true
   },
   "source": [
    "* Think of ``break`` and ``continue`` as commands to use within a loop. \n",
    "* ``break`` tells the loop to stop.\n",
    "* ``continue`` tells the loop, okay just go to the next iteration, no need to finish this one.\n",
    "* ``break`` and ``continue`` can only be used inside a loop."
   ]
  },
  {
   "cell_type": "code",
   "execution_count": 120,
   "metadata": {
    "ExecuteTime": {
     "end_time": "2020-05-05T08:56:19.861579Z",
     "start_time": "2020-05-05T08:56:19.857751Z"
    },
    "hidden": true
   },
   "outputs": [
    {
     "ename": "SyntaxError",
     "evalue": "'break' outside loop (<ipython-input-120-6aaf1f276005>, line 4)",
     "output_type": "error",
     "traceback": [
      "\u001b[0;36m  File \u001b[0;32m\"<ipython-input-120-6aaf1f276005>\"\u001b[0;36m, line \u001b[0;32m4\u001b[0m\n\u001b[0;31mSyntaxError\u001b[0m\u001b[0;31m:\u001b[0m 'break' outside loop\n"
     ]
    }
   ],
   "source": [
    "break"
   ]
  },
  {
   "cell_type": "code",
   "execution_count": null,
   "metadata": {
    "hidden": true
   },
   "outputs": [],
   "source": [
    "while i < 100:\n",
    "    print(i)"
   ]
  },
  {
   "cell_type": "markdown",
   "metadata": {
    "hidden": true
   },
   "source": [
    "* **You don't usually need break and continue** statements. But they are VERY useful.\n",
    "* They are just a way to write code in a natural way, so that people reading it immediately understand it."
   ]
  },
  {
   "cell_type": "markdown",
   "metadata": {
    "hidden": true
   },
   "source": [
    "For example, conside the following "
   ]
  },
  {
   "cell_type": "code",
   "execution_count": null,
   "metadata": {
    "hidden": true
   },
   "outputs": [],
   "source": [
    "student_scores=[22,33,55]"
   ]
  },
  {
   "cell_type": "markdown",
   "metadata": {
    "heading_collapsed": true,
    "hidden": true
   },
   "source": [
    "#### A brief intro to Lists"
   ]
  },
  {
   "cell_type": "markdown",
   "metadata": {
    "hidden": true
   },
   "source": [
    "* So far you have seen simple datatypes such as numbers, strings and booleans.\n",
    "* And, actually data comes in these \"basic\" forms only (well, more or less).\n",
    "* But what if you have lots of these small data chunks? How do you arrange them? "
   ]
  },
  {
   "cell_type": "markdown",
   "metadata": {
    "hidden": true
   },
   "source": [
    "* One of the simplest ways to arrange data is in a list. Take a real life list for example\n",
    "\n",
    "**My courses for this year**\n",
    "* Artificial Intelligence\n",
    "* Computer Vision\n",
    "* Data Mining\n",
    "* Randomized Algorithms\n",
    "* Data Structures\n",
    "* English\n",
    "\n",
    "* Lists are an **ordered** collection of objects. \n",
    "\n",
    "**In Python you define lists like this**"
   ]
  },
  {
   "cell_type": "code",
   "execution_count": 149,
   "metadata": {
    "ExecuteTime": {
     "end_time": "2020-05-05T11:21:32.143863Z",
     "start_time": "2020-05-05T11:21:32.140870Z"
    },
    "hidden": true
   },
   "outputs": [
    {
     "name": "stdout",
     "output_type": "stream",
     "text": [
      "A list of strings : ['Artificial Intelligence', 'Computer Vision', 'Data Mining', 'Randomized Algorithms', 'Data Structures', 'English']\n"
     ]
    }
   ],
   "source": [
    "# a list with some elements\n",
    "my_courses = [\"Artificial Intelligence\",\"Computer Vision\",\n",
    "              \"Data Mining\",\"Randomized Algorithms\",\n",
    "              \"Data Structures\",\"English\"]\n",
    "\n",
    "# btw, str() works to get a string representation of most things in Python!\n",
    "print(\"A list of strings : \" + str(my_courses))"
   ]
  },
  {
   "cell_type": "markdown",
   "metadata": {
    "hidden": true
   },
   "source": [
    "**Side Note** :\n",
    "\n",
    "* By the way, do you notice I split the definition into multiple lines for neatness?\n",
    "* In general, Python does not allow a statement to continue to the next line by itself.\n",
    "* You have to use \"\\\" to split a statement like this\n",
    "    ```\n",
    "    x = 22 + \\\n",
    "        33 + \\\n",
    "        44\n",
    "    ```\n",
    "* But exceptions to this rule is for list/dictionary/tuple/set definitions and function/constructor/method calls and definitions."
   ]
  },
  {
   "cell_type": "code",
   "execution_count": 146,
   "metadata": {
    "ExecuteTime": {
     "end_time": "2020-05-05T11:21:04.292391Z",
     "start_time": "2020-05-05T11:21:04.289116Z"
    },
    "hidden": true
   },
   "outputs": [
    {
     "name": "stdout",
     "output_type": "stream",
     "text": [
      "An empty list : []\n"
     ]
    }
   ],
   "source": [
    "# an empty list\n",
    "empty_list = []\n",
    "print(\"An empty list : \"+str(empty_list))"
   ]
  },
  {
   "cell_type": "code",
   "execution_count": 156,
   "metadata": {
    "ExecuteTime": {
     "end_time": "2020-05-05T11:25:04.112324Z",
     "start_time": "2020-05-05T11:25:04.108871Z"
    },
    "hidden": true
   },
   "outputs": [
    {
     "name": "stdout",
     "output_type": "stream",
     "text": [
      "A mixed list : [1, True, 100.0, 'HEllo']\n"
     ]
    }
   ],
   "source": [
    "# lists can have mixed values\n",
    "mixed_values_list = [1, True, 100.0, \"HEllo\"]\n",
    "print(\"A mixed list : \"+str(mixed_values_list))"
   ]
  },
  {
   "cell_type": "code",
   "execution_count": 148,
   "metadata": {
    "ExecuteTime": {
     "end_time": "2020-05-05T11:21:17.339735Z",
     "start_time": "2020-05-05T11:21:17.335997Z"
    },
    "hidden": true
   },
   "outputs": [
    {
     "name": "stdout",
     "output_type": "stream",
     "text": [
      "A mixed list with list elements : [22, 33, [100, 22], [11, 444, 0]]\n"
     ]
    }
   ],
   "source": [
    "# lists can even contain lists! Actually lists can contain any object! (More later)\n",
    "list_of_lists=[22,33,[100,22],[11,444,0]]\n",
    "print(\"A mixed list with list elements : \"+str(list_of_lists))"
   ]
  },
  {
   "cell_type": "markdown",
   "metadata": {
    "hidden": true
   },
   "source": [
    "**Reading values from the list**\n",
    "\n",
    "You can do it by indexing and slicing, very similar to strings."
   ]
  },
  {
   "cell_type": "code",
   "execution_count": 142,
   "metadata": {
    "ExecuteTime": {
     "end_time": "2020-05-05T11:14:10.345118Z",
     "start_time": "2020-05-05T11:14:10.340490Z"
    },
    "hidden": true
   },
   "outputs": [
    {
     "name": "stdout",
     "output_type": "stream",
     "text": [
      "Artificial Intelligence\n",
      "English\n",
      "['Computer Vision', 'Data Mining', 'Randomized Algorithms', 'Data Structures', 'English']\n",
      "['Randomized Algorithms', 'Data Structures']\n",
      "['Data Mining']\n",
      "['English']\n"
     ]
    }
   ],
   "source": [
    "print(my_courses[0]) \n",
    "print(my_courses[-1])\n",
    "print(my_courses[1:])\n",
    "print(my_courses[3:5])\n",
    "print(my_courses[-4:-3])\n",
    "print(my_courses[-1:])"
   ]
  },
  {
   "cell_type": "markdown",
   "metadata": {
    "hidden": true
   },
   "source": [
    "If you try to index outside the list, you will get an IndexError."
   ]
  },
  {
   "cell_type": "code",
   "execution_count": 161,
   "metadata": {
    "ExecuteTime": {
     "end_time": "2020-05-05T11:31:58.778412Z",
     "start_time": "2020-05-05T11:31:58.771192Z"
    },
    "hidden": true
   },
   "outputs": [
    {
     "name": "stdout",
     "output_type": "stream",
     "text": [
      "['only', 'three', 'elements']\n"
     ]
    },
    {
     "ename": "IndexError",
     "evalue": "list index out of range",
     "output_type": "error",
     "traceback": [
      "\u001b[0;31m---------------------------------------------------------------------------\u001b[0m",
      "\u001b[0;31mIndexError\u001b[0m                                Traceback (most recent call last)",
      "\u001b[0;32m<ipython-input-161-c840bfe012c4>\u001b[0m in \u001b[0;36m<module>\u001b[0;34m\u001b[0m\n\u001b[1;32m      1\u001b[0m \u001b[0mmylist\u001b[0m\u001b[0;34m=\u001b[0m\u001b[0;34m[\u001b[0m\u001b[0;34m\"only\"\u001b[0m\u001b[0;34m,\u001b[0m\u001b[0;34m\"three\"\u001b[0m\u001b[0;34m,\u001b[0m\u001b[0;34m\"elements\"\u001b[0m\u001b[0;34m]\u001b[0m\u001b[0;34m\u001b[0m\u001b[0;34m\u001b[0m\u001b[0m\n\u001b[1;32m      2\u001b[0m \u001b[0mprint\u001b[0m\u001b[0;34m(\u001b[0m\u001b[0mmylist\u001b[0m\u001b[0;34m)\u001b[0m\u001b[0;34m\u001b[0m\u001b[0;34m\u001b[0m\u001b[0m\n\u001b[0;32m----> 3\u001b[0;31m \u001b[0mmylist\u001b[0m\u001b[0;34m[\u001b[0m\u001b[0;36m3\u001b[0m\u001b[0;34m]\u001b[0m\u001b[0;34m\u001b[0m\u001b[0;34m\u001b[0m\u001b[0m\n\u001b[0m",
      "\u001b[0;31mIndexError\u001b[0m: list index out of range"
     ]
    }
   ],
   "source": [
    "mylist=[\"only\",\"three\",\"elements\"]\n",
    "print(mylist)\n",
    "mylist[3]"
   ]
  },
  {
   "cell_type": "markdown",
   "metadata": {
    "hidden": true
   },
   "source": [
    "**Assigning new values to the list**\n",
    "\n",
    "You can do this by indexing the list like below"
   ]
  },
  {
   "cell_type": "code",
   "execution_count": 157,
   "metadata": {
    "ExecuteTime": {
     "end_time": "2020-05-05T11:25:06.337469Z",
     "start_time": "2020-05-05T11:25:06.334254Z"
    },
    "hidden": true
   },
   "outputs": [
    {
     "name": "stdout",
     "output_type": "stream",
     "text": [
      "[1, True, 100.0, 'HEllo']\n"
     ]
    }
   ],
   "source": [
    "print(mixed_values_list)"
   ]
  },
  {
   "cell_type": "code",
   "execution_count": 158,
   "metadata": {
    "ExecuteTime": {
     "end_time": "2020-05-05T11:25:07.025195Z",
     "start_time": "2020-05-05T11:25:07.022075Z"
    },
    "hidden": true,
    "scrolled": true
   },
   "outputs": [
    {
     "name": "stdout",
     "output_type": "stream",
     "text": [
      "[1, 42, 100.0, 'HEllo']\n"
     ]
    }
   ],
   "source": [
    "mixed_values_list[1]=42\n",
    "print(mixed_values_list)"
   ]
  },
  {
   "cell_type": "markdown",
   "metadata": {
    "hidden": true
   },
   "source": [
    "Note : \n",
    "\n",
    "* Adding new elements to a list (and making it longer) is also possible. It will be discussed in a subsequent section.\n",
    "* Similarly for deleting elements."
   ]
  },
  {
   "cell_type": "markdown",
   "metadata": {
    "heading_collapsed": true,
    "hidden": true
   },
   "source": [
    "#### The basic for loop"
   ]
  },
  {
   "cell_type": "markdown",
   "metadata": {
    "hidden": true
   },
   "source": [
    "* One of the main reasons to write a loop is to work with lists!\n",
    "* Think about it, lists have a lot of usually similar elements, and you probably want to do the same operation for each of them.\n",
    "* Thus Python has a special syntax to work with lists and list-like objects called the **for loop**."
   ]
  },
  {
   "cell_type": "code",
   "execution_count": 162,
   "metadata": {
    "ExecuteTime": {
     "end_time": "2020-05-05T11:39:40.095222Z",
     "start_time": "2020-05-05T11:39:40.091279Z"
    },
    "hidden": true
   },
   "outputs": [
    {
     "name": "stdout",
     "output_type": "stream",
     "text": [
      "4\n",
      "16\n",
      "9\n",
      "25\n"
     ]
    }
   ],
   "source": [
    "numbers=[2,4,3,5]\n",
    "for num in numbers:\n",
    "    square=num*num\n",
    "    print(square)"
   ]
  },
  {
   "cell_type": "markdown",
   "metadata": {
    "hidden": true
   },
   "source": [
    "Thus the generic syntax for for loops is \n",
    "\n",
    "```\n",
    "for element in iterable:\n",
    "    # body of the loop\n",
    "    print(element)\n",
    "```\n",
    "\n",
    "* An \"iterable\" is something that you can \"iterate\" over - basically it has a bunch of smaller elements, which it can give to you one by one.\n",
    "* A list is an iterable.\n",
    "* A string is also an iterable!"
   ]
  },
  {
   "cell_type": "code",
   "execution_count": 163,
   "metadata": {
    "ExecuteTime": {
     "end_time": "2020-05-05T11:43:18.494033Z",
     "start_time": "2020-05-05T11:43:18.488845Z"
    },
    "hidden": true
   },
   "outputs": [
    {
     "name": "stdout",
     "output_type": "stream",
     "text": [
      "||    S    ||\n",
      "||    t    ||\n",
      "||    r    ||\n",
      "||    i    ||\n",
      "||    n    ||\n",
      "||    g    ||\n",
      "||    s    ||\n",
      "||         ||\n",
      "||    a    ||\n",
      "||    r    ||\n",
      "||    e    ||\n",
      "||         ||\n",
      "||    i    ||\n",
      "||    t    ||\n",
      "||    e    ||\n",
      "||    r    ||\n",
      "||    a    ||\n",
      "||    b    ||\n",
      "||    l    ||\n",
      "||    e    ||\n",
      "||    !    ||\n"
     ]
    }
   ],
   "source": [
    "for letter in \"Strings are iterable!\":\n",
    "    print(\"||    \" + letter + \"    ||\")"
   ]
  },
  {
   "cell_type": "markdown",
   "metadata": {
    "hidden": true
   },
   "source": [
    "But if you try with a number, obviously a number is not iterable..."
   ]
  },
  {
   "cell_type": "code",
   "execution_count": 164,
   "metadata": {
    "ExecuteTime": {
     "end_time": "2020-05-05T11:44:08.657281Z",
     "start_time": "2020-05-05T11:44:08.651037Z"
    },
    "hidden": true
   },
   "outputs": [
    {
     "ename": "TypeError",
     "evalue": "'int' object is not iterable",
     "output_type": "error",
     "traceback": [
      "\u001b[0;31m---------------------------------------------------------------------------\u001b[0m",
      "\u001b[0;31mTypeError\u001b[0m                                 Traceback (most recent call last)",
      "\u001b[0;32m<ipython-input-164-8fd43ad8c3b0>\u001b[0m in \u001b[0;36m<module>\u001b[0;34m\u001b[0m\n\u001b[0;32m----> 1\u001b[0;31m \u001b[0;32mfor\u001b[0m \u001b[0msomething\u001b[0m \u001b[0;32min\u001b[0m \u001b[0;36m22\u001b[0m\u001b[0;34m:\u001b[0m\u001b[0;34m\u001b[0m\u001b[0;34m\u001b[0m\u001b[0m\n\u001b[0m\u001b[1;32m      2\u001b[0m     \u001b[0mlets\u001b[0m\u001b[0;34m=\u001b[0m\u001b[0;34m\"try this\"\u001b[0m\u001b[0;34m\u001b[0m\u001b[0;34m\u001b[0m\u001b[0m\n",
      "\u001b[0;31mTypeError\u001b[0m: 'int' object is not iterable"
     ]
    }
   ],
   "source": [
    "for something in 22:\n",
    "    lets=\"try this\""
   ]
  },
  {
   "cell_type": "markdown",
   "metadata": {
    "heading_collapsed": true
   },
   "source": [
    "### Functions"
   ]
  },
  {
   "cell_type": "markdown",
   "metadata": {
    "hidden": true
   },
   "source": [
    "* For code to be reusable, you have to \"pack it up\".\n",
    "* Think of it like a link to a webpage or a note - you don't want to keep writing the same thing over and over again - so you write it once and refer to it afterwards."
   ]
  },
  {
   "cell_type": "code",
   "execution_count": 174,
   "metadata": {
    "ExecuteTime": {
     "end_time": "2020-05-05T12:56:57.618260Z",
     "start_time": "2020-05-05T12:56:57.615359Z"
    },
    "hidden": true
   },
   "outputs": [],
   "source": [
    "# You define a function like this\n",
    "def print_fancy_name(firstname,lastname):\n",
    "    print(\"-\"*15)\n",
    "    print(firstname)\n",
    "    print(lastname)\n",
    "    print(\"*\"*15)"
   ]
  },
  {
   "cell_type": "markdown",
   "metadata": {
    "hidden": true
   },
   "source": [
    "* The ``def`` keyword is specially used to define functions.\n",
    "* These lines of code won't actually run, they'll just add this definition of the function to the interpreter's memory.\n",
    "* You can't use a function before you define it!"
   ]
  },
  {
   "cell_type": "code",
   "execution_count": 207,
   "metadata": {
    "ExecuteTime": {
     "end_time": "2020-05-05T13:53:17.771752Z",
     "start_time": "2020-05-05T13:53:17.764989Z"
    },
    "hidden": true
   },
   "outputs": [
    {
     "ename": "NameError",
     "evalue": "name 'my_greeting' is not defined",
     "output_type": "error",
     "traceback": [
      "\u001b[0;31m---------------------------------------------------------------------------\u001b[0m",
      "\u001b[0;31mNameError\u001b[0m                                 Traceback (most recent call last)",
      "\u001b[0;32m<ipython-input-207-58c9d602482c>\u001b[0m in \u001b[0;36m<module>\u001b[0;34m\u001b[0m\n\u001b[0;32m----> 1\u001b[0;31m \u001b[0mmy_greeting\u001b[0m\u001b[0;34m(\u001b[0m\u001b[0;34m\"Ram\"\u001b[0m\u001b[0;34m)\u001b[0m\u001b[0;34m\u001b[0m\u001b[0;34m\u001b[0m\u001b[0m\n\u001b[0m\u001b[1;32m      2\u001b[0m \u001b[0;34m\u001b[0m\u001b[0m\n\u001b[1;32m      3\u001b[0m \u001b[0;32mdef\u001b[0m \u001b[0mmy_greeting\u001b[0m\u001b[0;34m(\u001b[0m\u001b[0mname\u001b[0m\u001b[0;34m)\u001b[0m\u001b[0;34m:\u001b[0m\u001b[0;34m\u001b[0m\u001b[0;34m\u001b[0m\u001b[0m\n\u001b[1;32m      4\u001b[0m     \u001b[0mprint\u001b[0m\u001b[0;34m(\u001b[0m\u001b[0;34m\"Wassup \"\u001b[0m\u001b[0;34m+\u001b[0m\u001b[0mname\u001b[0m\u001b[0;34m+\u001b[0m\u001b[0;34m\"!\"\u001b[0m\u001b[0;34m)\u001b[0m\u001b[0;34m\u001b[0m\u001b[0;34m\u001b[0m\u001b[0m\n",
      "\u001b[0;31mNameError\u001b[0m: name 'my_greeting' is not defined"
     ]
    }
   ],
   "source": [
    "my_greeting(\"Ram\")\n",
    "\n",
    "def my_greeting(name):\n",
    "    print(\"Wassup \"+name+\"!\")"
   ]
  },
  {
   "cell_type": "markdown",
   "metadata": {
    "heading_collapsed": true,
    "hidden": true
   },
   "source": [
    "#### Arguments"
   ]
  },
  {
   "cell_type": "markdown",
   "metadata": {
    "hidden": true
   },
   "source": [
    "* Notice that this function has inputs - these are called arguments\n",
    "* You have to call the function with actual values for the arguments to run it."
   ]
  },
  {
   "cell_type": "code",
   "execution_count": 177,
   "metadata": {
    "ExecuteTime": {
     "end_time": "2020-05-05T13:01:24.878091Z",
     "start_time": "2020-05-05T13:01:24.874931Z"
    },
    "hidden": true
   },
   "outputs": [
    {
     "name": "stdout",
     "output_type": "stream",
     "text": [
      "---------------\n",
      "Hritik\n",
      "Roshan\n",
      "***************\n"
     ]
    }
   ],
   "source": [
    "# You call a function like this\n",
    "print_fancy_name(\"Hritik\",\"Roshan\")"
   ]
  },
  {
   "cell_type": "code",
   "execution_count": 178,
   "metadata": {
    "ExecuteTime": {
     "end_time": "2020-05-05T13:01:25.799844Z",
     "start_time": "2020-05-05T13:01:25.796395Z"
    },
    "hidden": true
   },
   "outputs": [
    {
     "name": "stdout",
     "output_type": "stream",
     "text": [
      "---------------\n",
      "Sunidhi\n",
      "Chauhan\n",
      "***************\n"
     ]
    }
   ],
   "source": [
    "# You can reuse this for someone else now\n",
    "print_fancy_name(\"Sunidhi\",\"Chauhan\")"
   ]
  },
  {
   "cell_type": "markdown",
   "metadata": {
    "hidden": true
   },
   "source": [
    "* As you can see, you can have multiple arguments to the function or even no arguments."
   ]
  },
  {
   "cell_type": "code",
   "execution_count": 195,
   "metadata": {
    "ExecuteTime": {
     "end_time": "2020-05-05T13:37:53.947895Z",
     "start_time": "2020-05-05T13:37:53.944971Z"
    },
    "hidden": true
   },
   "outputs": [
    {
     "name": "stdout",
     "output_type": "stream",
     "text": [
      "hello\n"
     ]
    }
   ],
   "source": [
    "def say_hello():\n",
    "    print(\"hello\")\n",
    "\n",
    "say_hello()"
   ]
  },
  {
   "cell_type": "markdown",
   "metadata": {
    "hidden": true
   },
   "source": [
    "* Arguments can be specified by position or name "
   ]
  },
  {
   "cell_type": "code",
   "execution_count": 196,
   "metadata": {
    "ExecuteTime": {
     "end_time": "2020-05-05T13:41:38.621141Z",
     "start_time": "2020-05-05T13:41:38.617469Z"
    },
    "hidden": true
   },
   "outputs": [],
   "source": [
    "def family_tree(first_name,last_name,father_name,mother_name):\n",
    "    print(\"-\"*15)\n",
    "    print(first_name)\n",
    "    print(last_name)\n",
    "    print(\"*\"*15)\n",
    "    print(\"Child of \"+mother_name+\" and \"+father_name)"
   ]
  },
  {
   "cell_type": "code",
   "execution_count": 198,
   "metadata": {
    "ExecuteTime": {
     "end_time": "2020-05-05T13:42:20.258561Z",
     "start_time": "2020-05-05T13:42:20.254701Z"
    },
    "hidden": true
   },
   "outputs": [
    {
     "name": "stdout",
     "output_type": "stream",
     "text": [
      "---------------\n",
      "Ravina\n",
      "Sharma\n",
      "***************\n",
      "Child of Kusum Sharma and Ram Sharma\n"
     ]
    }
   ],
   "source": [
    "# positional\n",
    "family_tree(\"Ravina\",\"Sharma\",\"Ram Sharma\",\"Kusum Sharma\")"
   ]
  },
  {
   "cell_type": "code",
   "execution_count": 199,
   "metadata": {
    "ExecuteTime": {
     "end_time": "2020-05-05T13:43:47.855998Z",
     "start_time": "2020-05-05T13:43:47.852834Z"
    },
    "hidden": true
   },
   "outputs": [
    {
     "name": "stdout",
     "output_type": "stream",
     "text": [
      "---------------\n",
      "Ravina\n",
      "Sharma\n",
      "***************\n",
      "Child of Kusum Sharma and Ram Sharma\n"
     ]
    }
   ],
   "source": [
    "# keyword -- order doesn't matter\n",
    "family_tree(father_name=\"Ram Sharma\",last_name=\"Sharma\",first_name=\"Ravina\",mother_name=\"Kusum Sharma\")"
   ]
  },
  {
   "cell_type": "code",
   "execution_count": 203,
   "metadata": {
    "ExecuteTime": {
     "end_time": "2020-05-05T13:45:52.648721Z",
     "start_time": "2020-05-05T13:45:52.644904Z"
    },
    "hidden": true
   },
   "outputs": [
    {
     "name": "stdout",
     "output_type": "stream",
     "text": [
      "---------------\n",
      "Ravina\n",
      "Sharma\n",
      "***************\n",
      "Child of Kusum Sharma and Ram Sharma\n"
     ]
    }
   ],
   "source": [
    "# mixed positional + keyword\n",
    "# Obviously positional has to come first\n",
    "family_tree(\"Ravina\",\"Sharma\",mother_name=\"Kusum Sharma\",father_name=\"Ram Sharma\")"
   ]
  },
  {
   "cell_type": "code",
   "execution_count": 202,
   "metadata": {
    "ExecuteTime": {
     "end_time": "2020-05-05T13:45:51.163413Z",
     "start_time": "2020-05-05T13:45:51.159701Z"
    },
    "hidden": true
   },
   "outputs": [
    {
     "ename": "SyntaxError",
     "evalue": "positional argument follows keyword argument (<ipython-input-202-a01a694b9521>, line 2)",
     "output_type": "error",
     "traceback": [
      "\u001b[0;36m  File \u001b[0;32m\"<ipython-input-202-a01a694b9521>\"\u001b[0;36m, line \u001b[0;32m2\u001b[0m\n\u001b[0;31m    family_tree(mother_name=\"Kusum Sharma\",\"Ravina\",\"Sharma\",father_name=\"Ram Sharma\")\u001b[0m\n\u001b[0m                                          ^\u001b[0m\n\u001b[0;31mSyntaxError\u001b[0m\u001b[0;31m:\u001b[0m positional argument follows keyword argument\n"
     ]
    }
   ],
   "source": [
    "# this will fail\n",
    "family_tree(mother_name=\"Kusum Sharma\",\"Ravina\",\"Sharma\",father_name=\"Ram Sharma\")"
   ]
  },
  {
   "cell_type": "markdown",
   "metadata": {
    "heading_collapsed": true,
    "hidden": true
   },
   "source": [
    "#### Return Values"
   ]
  },
  {
   "cell_type": "markdown",
   "metadata": {
    "hidden": true
   },
   "source": [
    "Functions can also return values, for example suppose we want a function to calculate the square of the difference of two numbers"
   ]
  },
  {
   "cell_type": "code",
   "execution_count": 179,
   "metadata": {
    "ExecuteTime": {
     "end_time": "2020-05-05T13:05:10.689429Z",
     "start_time": "2020-05-05T13:05:10.686687Z"
    },
    "hidden": true
   },
   "outputs": [],
   "source": [
    "def square_difference(x,y):\n",
    "    diff=x-y\n",
    "    return diff*diff"
   ]
  },
  {
   "cell_type": "code",
   "execution_count": 180,
   "metadata": {
    "ExecuteTime": {
     "end_time": "2020-05-05T13:05:36.960363Z",
     "start_time": "2020-05-05T13:05:36.957226Z"
    },
    "hidden": true
   },
   "outputs": [
    {
     "name": "stdout",
     "output_type": "stream",
     "text": [
      "9\n"
     ]
    }
   ],
   "source": [
    "print(square_difference(5,2))"
   ]
  },
  {
   "cell_type": "markdown",
   "metadata": {
    "hidden": true
   },
   "source": [
    "So what is the return value of ``print_fancy_name``?"
   ]
  },
  {
   "cell_type": "code",
   "execution_count": 181,
   "metadata": {
    "ExecuteTime": {
     "end_time": "2020-05-05T13:07:28.737875Z",
     "start_time": "2020-05-05T13:07:28.734198Z"
    },
    "hidden": true
   },
   "outputs": [
    {
     "name": "stdout",
     "output_type": "stream",
     "text": [
      "---------------\n",
      "Priyanka\n",
      "Chopra\n",
      "***************\n",
      "None\n"
     ]
    }
   ],
   "source": [
    "print(print_fancy_name(\"Priyanka\",\"Chopra\"))"
   ]
  },
  {
   "cell_type": "markdown",
   "metadata": {
    "hidden": true
   },
   "source": [
    "* It is a special datatype called **None**. It signifies nothing. It is used whenever you want to say that there is nothing here."
   ]
  },
  {
   "cell_type": "code",
   "execution_count": 185,
   "metadata": {
    "ExecuteTime": {
     "end_time": "2020-05-05T13:09:02.195215Z",
     "start_time": "2020-05-05T13:09:02.191979Z"
    },
    "hidden": true
   },
   "outputs": [
    {
     "name": "stdout",
     "output_type": "stream",
     "text": [
      "None\n",
      "False\n"
     ]
    }
   ],
   "source": [
    "x=None\n",
    "print(x)\n",
    "print(bool(x))"
   ]
  },
  {
   "cell_type": "markdown",
   "metadata": {
    "hidden": true
   },
   "source": [
    "* If there is no return statement, like ``print_fancy_name`` None is automatically returned.\n",
    "* Its the same case for when due to the some reason, the return statement is not executed.\n",
    "* Also, if there is an empty return statement."
   ]
  },
  {
   "cell_type": "code",
   "execution_count": 187,
   "metadata": {
    "ExecuteTime": {
     "end_time": "2020-05-05T13:12:33.508272Z",
     "start_time": "2020-05-05T13:12:33.504740Z"
    },
    "hidden": true
   },
   "outputs": [
    {
     "name": "stdout",
     "output_type": "stream",
     "text": [
      "toffee\n",
      "None\n"
     ]
    }
   ],
   "source": [
    "def give_toffee_to_kids_only(age):\n",
    "    if age<13:\n",
    "        return \"toffee\"\n",
    "\n",
    "print(give_toffee_to_kids_only(5))\n",
    "print(give_toffee_to_kids_only(25))"
   ]
  },
  {
   "cell_type": "code",
   "execution_count": 188,
   "metadata": {
    "ExecuteTime": {
     "end_time": "2020-05-05T13:13:04.247903Z",
     "start_time": "2020-05-05T13:13:04.244001Z"
    },
    "hidden": true
   },
   "outputs": [
    {
     "name": "stdout",
     "output_type": "stream",
     "text": [
      "toffee\n",
      "None\n"
     ]
    }
   ],
   "source": [
    "def give_toffee_to_kids_only_2(age):\n",
    "    if age<13:\n",
    "        return \"toffee\"\n",
    "    return\n",
    "\n",
    "print(give_toffee_to_kids_only_2(5))\n",
    "print(give_toffee_to_kids_only_2(25))"
   ]
  },
  {
   "cell_type": "markdown",
   "metadata": {
    "hidden": true
   },
   "source": [
    "* Unlike languages like C,Java,C++, Python allows you to return multiple values"
   ]
  },
  {
   "cell_type": "code",
   "execution_count": 191,
   "metadata": {
    "ExecuteTime": {
     "end_time": "2020-05-05T13:18:39.833912Z",
     "start_time": "2020-05-05T13:18:39.828980Z"
    },
    "hidden": true
   },
   "outputs": [
    {
     "name": "stdout",
     "output_type": "stream",
     "text": [
      "('J', 'W', 'L')\n",
      "J P M\n"
     ]
    }
   ],
   "source": [
    "def return_initials(first_name,middle_name,last_name):\n",
    "    return first_name[0],middle_name[0],last_name[0]\n",
    "\n",
    "print(return_initials(\"John\",\"Winston\",\"Lennon\"))\n",
    "first,middle,last=return_initials(\"James\",\"Paul\",\"McCartney\")\n",
    "print(first+\" \"+middle+\" \"+last)"
   ]
  },
  {
   "cell_type": "markdown",
   "metadata": {
    "hidden": true
   },
   "source": [
    "Note : Why the brackets around the first output?\n",
    "* That's because Python packs them into tuples! More on that later."
   ]
  },
  {
   "cell_type": "markdown",
   "metadata": {
    "heading_collapsed": true,
    "hidden": true
   },
   "source": [
    "#### Example 1 : Return as a control flow tool"
   ]
  },
  {
   "cell_type": "markdown",
   "metadata": {
    "hidden": true
   },
   "source": [
    "Let's look at a slightly longer example for functions now."
   ]
  },
  {
   "cell_type": "code",
   "execution_count": null,
   "metadata": {
    "hidden": true
   },
   "outputs": [],
   "source": [
    "def is_right_angled_triangle(a,b,c):\n",
    "    if a*a + b*b == c*c:\n",
    "        return True\n",
    "    elif a*a + c*c == b*b:\n",
    "        return True\n",
    "    elif b*b + c*c == a*a:\n",
    "        return True\n",
    "    else:\n",
    "        return False"
   ]
  },
  {
   "cell_type": "markdown",
   "metadata": {
    "hidden": true
   },
   "source": [
    "It should be noted, that once the interpreter sees the return statement, it will exit the function - even if there is more code afterwards."
   ]
  },
  {
   "cell_type": "code",
   "execution_count": 192,
   "metadata": {
    "ExecuteTime": {
     "end_time": "2020-05-05T13:23:24.396963Z",
     "start_time": "2020-05-05T13:23:24.394170Z"
    },
    "hidden": true
   },
   "outputs": [],
   "source": [
    "def print_hello(name):\n",
    "    print(\"Hello \"+name)\n",
    "    return\n",
    "    print(\"Now I can write whatever I want here\")\n",
    "    print(\"It will not execute\")"
   ]
  },
  {
   "cell_type": "code",
   "execution_count": 194,
   "metadata": {
    "ExecuteTime": {
     "end_time": "2020-05-05T13:23:36.525466Z",
     "start_time": "2020-05-05T13:23:36.522378Z"
    },
    "hidden": true
   },
   "outputs": [
    {
     "name": "stdout",
     "output_type": "stream",
     "text": [
      "Hello Ram\n"
     ]
    }
   ],
   "source": [
    "print_hello(\"Ram\")"
   ]
  },
  {
   "cell_type": "markdown",
   "metadata": {
    "hidden": true
   },
   "source": [
    "Exploiting this fact we can rewrite the above function by removing all the ``elif``s"
   ]
  },
  {
   "cell_type": "code",
   "execution_count": 169,
   "metadata": {
    "ExecuteTime": {
     "end_time": "2020-05-05T12:47:09.071623Z",
     "start_time": "2020-05-05T12:47:09.069043Z"
    },
    "hidden": true
   },
   "outputs": [],
   "source": [
    "def is_right_angled_triangle(a,b,c):\n",
    "    if a*a + b*b == c*c:\n",
    "        return True\n",
    "    if a*a + c*c == b*b:\n",
    "        return True\n",
    "    if b*b + c*c == a*a:\n",
    "        return True\n",
    "    return False"
   ]
  },
  {
   "cell_type": "markdown",
   "metadata": {
    "hidden": true
   },
   "source": [
    "* Remember there are many ways to write the same logic as code, just as there are many ways to communicate the same idea with words!\n",
    "* Always try to refactor your code for maximum readability."
   ]
  },
  {
   "cell_type": "markdown",
   "metadata": {
    "hidden": true
   },
   "source": [
    "#### Example 2 : Recursion"
   ]
  },
  {
   "cell_type": "code",
   "execution_count": null,
   "metadata": {
    "hidden": true
   },
   "outputs": [],
   "source": []
  },
  {
   "cell_type": "markdown",
   "metadata": {
    "hidden": true
   },
   "source": [
    "#### Built-in functions"
   ]
  },
  {
   "cell_type": "markdown",
   "metadata": {
    "hidden": true
   },
   "source": [
    "Python provides many built in functions that are always available (as opposed to? Read about imports)."
   ]
  },
  {
   "cell_type": "markdown",
   "metadata": {
    "hidden": true
   },
   "source": [
    "The print function"
   ]
  },
  {
   "cell_type": "code",
   "execution_count": 304,
   "metadata": {
    "ExecuteTime": {
     "end_time": "2020-05-06T14:27:24.655139Z",
     "start_time": "2020-05-06T14:27:24.650725Z"
    },
    "hidden": true
   },
   "outputs": [
    {
     "name": "stdout",
     "output_type": "stream",
     "text": [
      "A single string\n",
      "Still a singlestring is passed\n",
      "Many strings are passed\n",
      "Some may not even be strings : 1 True <built-in function print>\n"
     ]
    }
   ],
   "source": [
    "print(\"A single string\")\n",
    "print(\"Still \"+\"a single\"+\"string is passed\")\n",
    "print(\"Many\",\"strings\",\"are\",\"passed\")\n",
    "print(\"Some may not even be strings :\",1,True,print)"
   ]
  },
  {
   "cell_type": "markdown",
   "metadata": {
    "hidden": true
   },
   "source": [
    "Some math related functions"
   ]
  },
  {
   "cell_type": "code",
   "execution_count": 307,
   "metadata": {
    "ExecuteTime": {
     "end_time": "2020-05-06T14:30:02.155062Z",
     "start_time": "2020-05-06T14:30:02.151587Z"
    },
    "hidden": true
   },
   "outputs": [
    {
     "name": "stdout",
     "output_type": "stream",
     "text": [
      "22.44\n",
      "22.1\n"
     ]
    }
   ],
   "source": [
    "print(abs(-22.44))\n",
    "print(abs(22.1))"
   ]
  },
  {
   "cell_type": "code",
   "execution_count": 309,
   "metadata": {
    "ExecuteTime": {
     "end_time": "2020-05-06T14:30:04.881011Z",
     "start_time": "2020-05-06T14:30:04.876862Z"
    },
    "hidden": true
   },
   "outputs": [
    {
     "name": "stdout",
     "output_type": "stream",
     "text": [
      "5\n",
      "6\n",
      "1\n",
      "3\n"
     ]
    }
   ],
   "source": [
    "print(max([1,2,4,5]))\n",
    "print(max(6,3))\n",
    "print(min([1,2,4,5]))\n",
    "print(min(6,3))"
   ]
  },
  {
   "cell_type": "code",
   "execution_count": 311,
   "metadata": {
    "ExecuteTime": {
     "end_time": "2020-05-06T14:30:45.727501Z",
     "start_time": "2020-05-06T14:30:45.724003Z"
    },
    "hidden": true
   },
   "outputs": [
    {
     "name": "stdout",
     "output_type": "stream",
     "text": [
      "3.0\n",
      "15\n"
     ]
    }
   ],
   "source": [
    "print(pow(9,1/2))\n",
    "print(sum([2,5,8]))"
   ]
  },
  {
   "cell_type": "markdown",
   "metadata": {
    "hidden": true
   },
   "source": [
    "The len() function"
   ]
  },
  {
   "cell_type": "code",
   "execution_count": 302,
   "metadata": {
    "ExecuteTime": {
     "end_time": "2020-05-06T14:26:06.786418Z",
     "start_time": "2020-05-06T14:26:06.782979Z"
    },
    "hidden": true
   },
   "outputs": [
    {
     "name": "stdout",
     "output_type": "stream",
     "text": [
      "4\n",
      "9\n"
     ]
    }
   ],
   "source": [
    "print(len([1,2,3,4]))\n",
    "print(len(\"How long?\"))"
   ]
  },
  {
   "cell_type": "markdown",
   "metadata": {
    "hidden": true
   },
   "source": [
    "The id() function"
   ]
  },
  {
   "cell_type": "code",
   "execution_count": 361,
   "metadata": {
    "ExecuteTime": {
     "end_time": "2020-05-06T15:16:02.702054Z",
     "start_time": "2020-05-06T15:16:02.698143Z"
    },
    "hidden": true
   },
   "outputs": [
    {
     "name": "stdout",
     "output_type": "stream",
     "text": [
      "4572846040\n",
      "4572846040\n",
      "True\n"
     ]
    }
   ],
   "source": [
    "x=\"abcd\"\n",
    "y=x\n",
    "print(id(x))\n",
    "print(id(y))\n",
    "print(id(x)==id(y))"
   ]
  },
  {
   "cell_type": "code",
   "execution_count": 305,
   "metadata": {
    "ExecuteTime": {
     "end_time": "2020-05-06T14:28:49.892216Z",
     "start_time": "2020-05-06T14:27:48.599774Z"
    },
    "hidden": true,
    "scrolled": true
   },
   "outputs": [
    {
     "name": "stdout",
     "output_type": "stream",
     "text": [
      "\n",
      "Welcome to Python 3.6's help utility!\n",
      "\n",
      "If this is your first time using Python, you should definitely check out\n",
      "the tutorial on the Internet at https://docs.python.org/3.6/tutorial/.\n",
      "\n",
      "Enter the name of any module, keyword, or topic to get help on writing\n",
      "Python programs and using Python modules.  To quit this help utility and\n",
      "return to the interpreter, just type \"quit\".\n",
      "\n",
      "To get a list of available modules, keywords, symbols, or topics, type\n",
      "\"modules\", \"keywords\", \"symbols\", or \"topics\".  Each module also comes\n",
      "with a one-line summary of what it does; to list the modules whose name\n",
      "or summary contain a given string such as \"spam\", type \"modules spam\".\n",
      "\n",
      "help> builtin\n",
      "No Python documentation found for 'builtin'.\n",
      "Use help() to get the interactive help utility.\n",
      "Use help(str) for help on the str class.\n",
      "\n",
      "help> built-in\n",
      "No Python documentation found for 'built-in'.\n",
      "Use help() to get the interactive help utility.\n",
      "Use help(str) for help on the str class.\n",
      "\n",
      "help> functions\n",
      "No Python documentation found for 'functions'.\n",
      "Use help() to get the interactive help utility.\n",
      "Use help(str) for help on the str class.\n",
      "\n",
      "help> max\n",
      "Help on built-in function max in module builtins:\n",
      "\n",
      "max(...)\n",
      "    max(iterable, *[, default=obj, key=func]) -> value\n",
      "    max(arg1, arg2, *args, *[, key=func]) -> value\n",
      "    \n",
      "    With a single iterable argument, return its biggest item. The\n",
      "    default keyword-only argument specifies an object to return if\n",
      "    the provided iterable is empty.\n",
      "    With two or more arguments, return the largest argument.\n",
      "\n",
      "help> min\n",
      "Help on built-in function min in module builtins:\n",
      "\n",
      "min(...)\n",
      "    min(iterable, *[, default=obj, key=func]) -> value\n",
      "    min(arg1, arg2, *args, *[, key=func]) -> value\n",
      "    \n",
      "    With a single iterable argument, return its smallest item. The\n",
      "    default keyword-only argument specifies an object to return if\n",
      "    the provided iterable is empty.\n",
      "    With two or more arguments, return the smallest argument.\n",
      "\n",
      "help> str\n",
      "Help on class str in module builtins:\n",
      "\n",
      "class str(object)\n",
      " |  str(object='') -> str\n",
      " |  str(bytes_or_buffer[, encoding[, errors]]) -> str\n",
      " |  \n",
      " |  Create a new string object from the given object. If encoding or\n",
      " |  errors is specified, then the object must expose a data buffer\n",
      " |  that will be decoded using the given encoding and error handler.\n",
      " |  Otherwise, returns the result of object.__str__() (if defined)\n",
      " |  or repr(object).\n",
      " |  encoding defaults to sys.getdefaultencoding().\n",
      " |  errors defaults to 'strict'.\n",
      " |  \n",
      " |  Methods defined here:\n",
      " |  \n",
      " |  __add__(self, value, /)\n",
      " |      Return self+value.\n",
      " |  \n",
      " |  __contains__(self, key, /)\n",
      " |      Return key in self.\n",
      " |  \n",
      " |  __eq__(self, value, /)\n",
      " |      Return self==value.\n",
      " |  \n",
      " |  __format__(...)\n",
      " |      S.__format__(format_spec) -> str\n",
      " |      \n",
      " |      Return a formatted version of S as described by format_spec.\n",
      " |  \n",
      " |  __ge__(self, value, /)\n",
      " |      Return self>=value.\n",
      " |  \n",
      " |  __getattribute__(self, name, /)\n",
      " |      Return getattr(self, name).\n",
      " |  \n",
      " |  __getitem__(self, key, /)\n",
      " |      Return self[key].\n",
      " |  \n",
      " |  __getnewargs__(...)\n",
      " |  \n",
      " |  __gt__(self, value, /)\n",
      " |      Return self>value.\n",
      " |  \n",
      " |  __hash__(self, /)\n",
      " |      Return hash(self).\n",
      " |  \n",
      " |  __iter__(self, /)\n",
      " |      Implement iter(self).\n",
      " |  \n",
      " |  __le__(self, value, /)\n",
      " |      Return self<=value.\n",
      " |  \n",
      " |  __len__(self, /)\n",
      " |      Return len(self).\n",
      " |  \n",
      " |  __lt__(self, value, /)\n",
      " |      Return self<value.\n",
      " |  \n",
      " |  __mod__(self, value, /)\n",
      " |      Return self%value.\n",
      " |  \n",
      " |  __mul__(self, value, /)\n",
      " |      Return self*value.\n",
      " |  \n",
      " |  __ne__(self, value, /)\n",
      " |      Return self!=value.\n",
      " |  \n",
      " |  __new__(*args, **kwargs) from builtins.type\n",
      " |      Create and return a new object.  See help(type) for accurate signature.\n",
      " |  \n",
      " |  __repr__(self, /)\n",
      " |      Return repr(self).\n",
      " |  \n",
      " |  __rmod__(self, value, /)\n",
      " |      Return value%self.\n",
      " |  \n",
      " |  __rmul__(self, value, /)\n",
      " |      Return value*self.\n",
      " |  \n",
      " |  __sizeof__(...)\n",
      " |      S.__sizeof__() -> size of S in memory, in bytes\n",
      " |  \n",
      " |  __str__(self, /)\n",
      " |      Return str(self).\n",
      " |  \n",
      " |  capitalize(...)\n",
      " |      S.capitalize() -> str\n",
      " |      \n",
      " |      Return a capitalized version of S, i.e. make the first character\n",
      " |      have upper case and the rest lower case.\n",
      " |  \n",
      " |  casefold(...)\n",
      " |      S.casefold() -> str\n",
      " |      \n",
      " |      Return a version of S suitable for caseless comparisons.\n",
      " |  \n",
      " |  center(...)\n",
      " |      S.center(width[, fillchar]) -> str\n",
      " |      \n",
      " |      Return S centered in a string of length width. Padding is\n",
      " |      done using the specified fill character (default is a space)\n",
      " |  \n",
      " |  count(...)\n",
      " |      S.count(sub[, start[, end]]) -> int\n",
      " |      \n",
      " |      Return the number of non-overlapping occurrences of substring sub in\n",
      " |      string S[start:end].  Optional arguments start and end are\n",
      " |      interpreted as in slice notation.\n",
      " |  \n",
      " |  encode(...)\n",
      " |      S.encode(encoding='utf-8', errors='strict') -> bytes\n",
      " |      \n",
      " |      Encode S using the codec registered for encoding. Default encoding\n",
      " |      is 'utf-8'. errors may be given to set a different error\n",
      " |      handling scheme. Default is 'strict' meaning that encoding errors raise\n",
      " |      a UnicodeEncodeError. Other possible values are 'ignore', 'replace' and\n",
      " |      'xmlcharrefreplace' as well as any other name registered with\n",
      " |      codecs.register_error that can handle UnicodeEncodeErrors.\n",
      " |  \n",
      " |  endswith(...)\n",
      " |      S.endswith(suffix[, start[, end]]) -> bool\n",
      " |      \n",
      " |      Return True if S ends with the specified suffix, False otherwise.\n",
      " |      With optional start, test S beginning at that position.\n",
      " |      With optional end, stop comparing S at that position.\n",
      " |      suffix can also be a tuple of strings to try.\n",
      " |  \n",
      " |  expandtabs(...)\n",
      " |      S.expandtabs(tabsize=8) -> str\n",
      " |      \n",
      " |      Return a copy of S where all tab characters are expanded using spaces.\n",
      " |      If tabsize is not given, a tab size of 8 characters is assumed.\n",
      " |  \n",
      " |  find(...)\n",
      " |      S.find(sub[, start[, end]]) -> int\n",
      " |      \n",
      " |      Return the lowest index in S where substring sub is found,\n",
      " |      such that sub is contained within S[start:end].  Optional\n",
      " |      arguments start and end are interpreted as in slice notation.\n",
      " |      \n",
      " |      Return -1 on failure.\n",
      " |  \n",
      " |  format(...)\n",
      " |      S.format(*args, **kwargs) -> str\n",
      " |      \n",
      " |      Return a formatted version of S, using substitutions from args and kwargs.\n",
      " |      The substitutions are identified by braces ('{' and '}').\n",
      " |  \n",
      " |  format_map(...)\n",
      " |      S.format_map(mapping) -> str\n",
      " |      \n",
      " |      Return a formatted version of S, using substitutions from mapping.\n",
      " |      The substitutions are identified by braces ('{' and '}').\n",
      " |  \n",
      " |  index(...)\n",
      " |      S.index(sub[, start[, end]]) -> int\n",
      " |      \n",
      " |      Return the lowest index in S where substring sub is found, \n",
      " |      such that sub is contained within S[start:end].  Optional\n",
      " |      arguments start and end are interpreted as in slice notation.\n",
      " |      \n",
      " |      Raises ValueError when the substring is not found.\n",
      " |  \n",
      " |  isalnum(...)\n",
      " |      S.isalnum() -> bool\n",
      " |      \n",
      " |      Return True if all characters in S are alphanumeric\n",
      " |      and there is at least one character in S, False otherwise.\n",
      " |  \n",
      " |  isalpha(...)\n",
      " |      S.isalpha() -> bool\n",
      " |      \n",
      " |      Return True if all characters in S are alphabetic\n",
      " |      and there is at least one character in S, False otherwise.\n",
      " |  \n",
      " |  isdecimal(...)\n",
      " |      S.isdecimal() -> bool\n",
      " |      \n",
      " |      Return True if there are only decimal characters in S,\n",
      " |      False otherwise.\n",
      " |  \n",
      " |  isdigit(...)\n",
      " |      S.isdigit() -> bool\n",
      " |      \n",
      " |      Return True if all characters in S are digits\n",
      " |      and there is at least one character in S, False otherwise.\n",
      " |  \n",
      " |  isidentifier(...)\n",
      " |      S.isidentifier() -> bool\n",
      " |      \n",
      " |      Return True if S is a valid identifier according\n",
      " |      to the language definition.\n",
      " |      \n",
      " |      Use keyword.iskeyword() to test for reserved identifiers\n",
      " |      such as \"def\" and \"class\".\n",
      " |  \n",
      " |  islower(...)\n",
      " |      S.islower() -> bool\n",
      " |      \n",
      " |      Return True if all cased characters in S are lowercase and there is\n",
      " |      at least one cased character in S, False otherwise.\n",
      " |  \n",
      " |  isnumeric(...)\n",
      " |      S.isnumeric() -> bool\n",
      " |      \n",
      " |      Return True if there are only numeric characters in S,\n",
      " |      False otherwise.\n",
      " |  \n",
      " |  isprintable(...)\n",
      " |      S.isprintable() -> bool\n",
      " |      \n",
      " |      Return True if all characters in S are considered\n",
      " |      printable in repr() or S is empty, False otherwise.\n",
      " |  \n",
      " |  isspace(...)\n",
      " |      S.isspace() -> bool\n",
      " |      \n",
      " |      Return True if all characters in S are whitespace\n",
      " |      and there is at least one character in S, False otherwise.\n",
      " |  \n",
      " |  istitle(...)\n",
      " |      S.istitle() -> bool\n",
      " |      \n",
      " |      Return True if S is a titlecased string and there is at least one\n",
      " |      character in S, i.e. upper- and titlecase characters may only\n",
      " |      follow uncased characters and lowercase characters only cased ones.\n",
      " |      Return False otherwise.\n",
      " |  \n",
      " |  isupper(...)\n",
      " |      S.isupper() -> bool\n",
      " |      \n",
      " |      Return True if all cased characters in S are uppercase and there is\n",
      " |      at least one cased character in S, False otherwise.\n",
      " |  \n",
      " |  join(...)\n",
      " |      S.join(iterable) -> str\n",
      " |      \n",
      " |      Return a string which is the concatenation of the strings in the\n",
      " |      iterable.  The separator between elements is S.\n",
      " |  \n",
      " |  ljust(...)\n",
      " |      S.ljust(width[, fillchar]) -> str\n",
      " |      \n",
      " |      Return S left-justified in a Unicode string of length width. Padding is\n",
      " |      done using the specified fill character (default is a space).\n",
      " |  \n",
      " |  lower(...)\n",
      " |      S.lower() -> str\n",
      " |      \n",
      " |      Return a copy of the string S converted to lowercase.\n",
      " |  \n",
      " |  lstrip(...)\n",
      " |      S.lstrip([chars]) -> str\n",
      " |      \n",
      " |      Return a copy of the string S with leading whitespace removed.\n",
      " |      If chars is given and not None, remove characters in chars instead.\n",
      " |  \n",
      " |  partition(...)\n",
      " |      S.partition(sep) -> (head, sep, tail)\n",
      " |      \n",
      " |      Search for the separator sep in S, and return the part before it,\n",
      " |      the separator itself, and the part after it.  If the separator is not\n",
      " |      found, return S and two empty strings.\n",
      " |  \n",
      " |  replace(...)\n",
      " |      S.replace(old, new[, count]) -> str\n",
      " |      \n",
      " |      Return a copy of S with all occurrences of substring\n",
      " |      old replaced by new.  If the optional argument count is\n",
      " |      given, only the first count occurrences are replaced.\n",
      " |  \n",
      " |  rfind(...)\n",
      " |      S.rfind(sub[, start[, end]]) -> int\n",
      " |      \n",
      " |      Return the highest index in S where substring sub is found,\n",
      " |      such that sub is contained within S[start:end].  Optional\n",
      " |      arguments start and end are interpreted as in slice notation.\n",
      " |      \n",
      " |      Return -1 on failure.\n",
      " |  \n",
      " |  rindex(...)\n",
      " |      S.rindex(sub[, start[, end]]) -> int\n",
      " |      \n",
      " |      Return the highest index in S where substring sub is found,\n",
      " |      such that sub is contained within S[start:end].  Optional\n",
      " |      arguments start and end are interpreted as in slice notation.\n",
      " |      \n",
      " |      Raises ValueError when the substring is not found.\n",
      " |  \n",
      " |  rjust(...)\n",
      " |      S.rjust(width[, fillchar]) -> str\n",
      " |      \n",
      " |      Return S right-justified in a string of length width. Padding is\n",
      " |      done using the specified fill character (default is a space).\n",
      " |  \n",
      " |  rpartition(...)\n",
      " |      S.rpartition(sep) -> (head, sep, tail)\n",
      " |      \n",
      " |      Search for the separator sep in S, starting at the end of S, and return\n",
      " |      the part before it, the separator itself, and the part after it.  If the\n",
      " |      separator is not found, return two empty strings and S.\n",
      " |  \n",
      " |  rsplit(...)\n",
      " |      S.rsplit(sep=None, maxsplit=-1) -> list of strings\n",
      " |      \n",
      " |      Return a list of the words in S, using sep as the\n",
      " |      delimiter string, starting at the end of the string and\n",
      " |      working to the front.  If maxsplit is given, at most maxsplit\n",
      " |      splits are done. If sep is not specified, any whitespace string\n",
      " |      is a separator.\n",
      " |  \n",
      " |  rstrip(...)\n",
      " |      S.rstrip([chars]) -> str\n",
      " |      \n",
      " |      Return a copy of the string S with trailing whitespace removed.\n",
      " |      If chars is given and not None, remove characters in chars instead.\n",
      " |  \n",
      " |  split(...)\n",
      " |      S.split(sep=None, maxsplit=-1) -> list of strings\n",
      " |      \n",
      " |      Return a list of the words in S, using sep as the\n",
      " |      delimiter string.  If maxsplit is given, at most maxsplit\n",
      " |      splits are done. If sep is not specified or is None, any\n",
      " |      whitespace string is a separator and empty strings are\n",
      " |      removed from the result.\n",
      " |  \n",
      " |  splitlines(...)\n",
      " |      S.splitlines([keepends]) -> list of strings\n",
      " |      \n",
      " |      Return a list of the lines in S, breaking at line boundaries.\n",
      " |      Line breaks are not included in the resulting list unless keepends\n",
      " |      is given and true.\n",
      " |  \n",
      " |  startswith(...)\n",
      " |      S.startswith(prefix[, start[, end]]) -> bool\n",
      " |      \n",
      " |      Return True if S starts with the specified prefix, False otherwise.\n",
      " |      With optional start, test S beginning at that position.\n",
      " |      With optional end, stop comparing S at that position.\n",
      " |      prefix can also be a tuple of strings to try.\n",
      " |  \n",
      " |  strip(...)\n",
      " |      S.strip([chars]) -> str\n",
      " |      \n",
      " |      Return a copy of the string S with leading and trailing\n",
      " |      whitespace removed.\n",
      " |      If chars is given and not None, remove characters in chars instead.\n",
      " |  \n",
      " |  swapcase(...)\n",
      " |      S.swapcase() -> str\n",
      " |      \n",
      " |      Return a copy of S with uppercase characters converted to lowercase\n",
      " |      and vice versa.\n",
      " |  \n",
      " |  title(...)\n",
      " |      S.title() -> str\n",
      " |      \n",
      " |      Return a titlecased version of S, i.e. words start with title case\n",
      " |      characters, all remaining cased characters have lower case.\n",
      " |  \n",
      " |  translate(...)\n",
      " |      S.translate(table) -> str\n",
      " |      \n",
      " |      Return a copy of the string S in which each character has been mapped\n",
      " |      through the given translation table. The table must implement\n",
      " |      lookup/indexing via __getitem__, for instance a dictionary or list,\n",
      " |      mapping Unicode ordinals to Unicode ordinals, strings, or None. If\n",
      " |      this operation raises LookupError, the character is left untouched.\n",
      " |      Characters mapped to None are deleted.\n",
      " |  \n",
      " |  upper(...)\n",
      " |      S.upper() -> str\n",
      " |      \n",
      " |      Return a copy of S converted to uppercase.\n",
      " |  \n",
      " |  zfill(...)\n",
      " |      S.zfill(width) -> str\n",
      " |      \n",
      " |      Pad a numeric string S with zeros on the left, to fill a field\n",
      " |      of the specified width. The string S is never truncated.\n",
      " |  \n",
      " |  ----------------------------------------------------------------------\n",
      " |  Static methods defined here:\n",
      " |  \n",
      " |  maketrans(x, y=None, z=None, /)\n",
      " |      Return a translation table usable for str.translate().\n",
      " |      \n",
      " |      If there is only one argument, it must be a dictionary mapping Unicode\n",
      " |      ordinals (integers) or characters to Unicode ordinals, strings or None.\n",
      " |      Character keys will be then converted to ordinals.\n",
      " |      If there are two arguments, they must be strings of equal length, and\n",
      " |      in the resulting dictionary, each character in x will be mapped to the\n",
      " |      character at the same position in y. If there is a third argument, it\n",
      " |      must be a string, whose characters will be mapped to None in the result.\n",
      "\n"
     ]
    },
    {
     "name": "stdout",
     "output_type": "stream",
     "text": [
      "\n",
      "You are now leaving help and returning to the Python interpreter.\n",
      "If you want to ask for help on a particular object directly from the\n",
      "interpreter, you can type \"help(object)\".  Executing \"help('string')\"\n",
      "has the same effect as typing a particular string at the help> prompt.\n"
     ]
    }
   ],
   "source": [
    "help()"
   ]
  },
  {
   "cell_type": "markdown",
   "metadata": {
    "hidden": true
   },
   "source": [
    "See this [link](https://docs.python.org/3/library/functions.html) for the full list of built-in functions."
   ]
  },
  {
   "cell_type": "markdown",
   "metadata": {
    "heading_collapsed": true
   },
   "source": [
    "### Classes, Objects, Attributes & Methods (15 min)"
   ]
  },
  {
   "cell_type": "markdown",
   "metadata": {
    "hidden": true
   },
   "source": [
    "* You saw that functions were a way to \"pack up\" some piece of logic.\n",
    "* What if you want to \"pack up\" both logic and data?"
   ]
  },
  {
   "cell_type": "code",
   "execution_count": 267,
   "metadata": {
    "ExecuteTime": {
     "end_time": "2020-05-05T14:15:44.701151Z",
     "start_time": "2020-05-05T14:15:44.693983Z"
    },
    "hidden": true
   },
   "outputs": [],
   "source": [
    "class Family:\n",
    "    \n",
    "    def __init__(self,father_name,mother_name,children_names,children_ages,home_address):\n",
    "        self.father_name=father_name\n",
    "        self.mother_name=mother_name\n",
    "        self.children_names=children_names\n",
    "        self.children_ages=children_ages\n",
    "        self.home_address=home_address\n",
    "        \n",
    "    def print_diwali_invitation(self):\n",
    "        print(\"*\"*25)\n",
    "        print(\"Hello, please come for our Diwali celebration at \"+self.home_address)\n",
    "        print(\"from\")\n",
    "        print(self.mother_name+\" and \"+self.father_name)\n",
    "        print(\"and our wonderful children\")\n",
    "        namestring=\"\"\n",
    "        for childname in self.children_names:\n",
    "            namestring+=childname+\",\"\n",
    "        namestring=namestring[:-1]\n",
    "        print(namestring)\n",
    "        print(\"*\"*25)\n",
    "        \n",
    "    def return_youngest_child(self):\n",
    "        min_index=0\n",
    "        min_age=1000\n",
    "        for i in range(0,len(self.children_names)):\n",
    "            if self.children_ages[i]<min_age:\n",
    "                min_age=self.children_ages[i]\n",
    "                min_index=i\n",
    "        return self.children_names[min_index], min_age\n",
    "    \n",
    "    def change_address(self, new_address):\n",
    "        self.home_address=new_address"
   ]
  },
  {
   "cell_type": "code",
   "execution_count": 280,
   "metadata": {
    "ExecuteTime": {
     "end_time": "2020-05-05T14:23:47.554495Z",
     "start_time": "2020-05-05T14:23:47.551641Z"
    },
    "hidden": true
   },
   "outputs": [],
   "source": [
    "sharmas=Family(\"Ram Sharma\",\"Kusum Sharma\",[\"Ravi Sharma\",\"Rani Sharma\",\"Komal Sharma\"],[21,15,9],\"Geetanjali Residency, Kondapur, Hyderabad\")"
   ]
  },
  {
   "cell_type": "code",
   "execution_count": 281,
   "metadata": {
    "ExecuteTime": {
     "end_time": "2020-05-05T14:23:47.560756Z",
     "start_time": "2020-05-05T14:23:47.557410Z"
    },
    "hidden": true
   },
   "outputs": [
    {
     "name": "stdout",
     "output_type": "stream",
     "text": [
      "['Ravi Sharma', 'Rani Sharma', 'Komal Sharma']\n"
     ]
    }
   ],
   "source": [
    "print(sharmas.children_names)"
   ]
  },
  {
   "cell_type": "code",
   "execution_count": 282,
   "metadata": {
    "ExecuteTime": {
     "end_time": "2020-05-05T14:23:47.566617Z",
     "start_time": "2020-05-05T14:23:47.562622Z"
    },
    "hidden": true
   },
   "outputs": [
    {
     "name": "stdout",
     "output_type": "stream",
     "text": [
      "*************************\n",
      "Hello, please come for our Diwali celebration at Geetanjali Residency, Kondapur, Hyderabad\n",
      "from\n",
      "Kusum Sharma and Ram Sharma\n",
      "and our wonderful children\n",
      "Ravi Sharma,Rani Sharma,Komal Sharma\n",
      "*************************\n"
     ]
    }
   ],
   "source": [
    "sharmas.print_diwali_invitation()"
   ]
  },
  {
   "cell_type": "code",
   "execution_count": 283,
   "metadata": {
    "ExecuteTime": {
     "end_time": "2020-05-05T14:23:47.571584Z",
     "start_time": "2020-05-05T14:23:47.568561Z"
    },
    "hidden": true
   },
   "outputs": [
    {
     "name": "stdout",
     "output_type": "stream",
     "text": [
      "('Komal Sharma', 9)\n"
     ]
    }
   ],
   "source": [
    "print(sharmas.return_youngest_child())"
   ]
  },
  {
   "cell_type": "code",
   "execution_count": 284,
   "metadata": {
    "ExecuteTime": {
     "end_time": "2020-05-05T14:23:47.576696Z",
     "start_time": "2020-05-05T14:23:47.573433Z"
    },
    "hidden": true
   },
   "outputs": [
    {
     "name": "stdout",
     "output_type": "stream",
     "text": [
      "Lumbini Enclave, Whitefields, Hyderabad\n"
     ]
    }
   ],
   "source": [
    "sharmas.change_address(\"Lumbini Enclave, Whitefields, Hyderabad\")\n",
    "print(sharmas.home_address)"
   ]
  },
  {
   "cell_type": "code",
   "execution_count": 285,
   "metadata": {
    "ExecuteTime": {
     "end_time": "2020-05-05T14:23:47.581530Z",
     "start_time": "2020-05-05T14:23:47.578577Z"
    },
    "hidden": true
   },
   "outputs": [
    {
     "name": "stdout",
     "output_type": "stream",
     "text": [
      "Geetanjali Residency, Kondapur, Hyderabad\n"
     ]
    }
   ],
   "source": [
    "sharmas.home_address=\"Geetanjali Residency, Kondapur, Hyderabad\"\n",
    "print(sharmas.home_address)"
   ]
  },
  {
   "cell_type": "markdown",
   "metadata": {
    "hidden": true
   },
   "source": [
    "* Everything that was said about positional arguments, keyword arguments, return values etc for **functions** applies to methods and the constructor as well."
   ]
  },
  {
   "cell_type": "code",
   "execution_count": 286,
   "metadata": {
    "ExecuteTime": {
     "end_time": "2020-05-05T14:23:50.792541Z",
     "start_time": "2020-05-05T14:23:50.789785Z"
    },
    "hidden": true
   },
   "outputs": [],
   "source": [
    "vijs=Family(\"Prateek Vij\",\"Kareena Vij\",[\"Lucky Vij\",\"Ravi Vij\"],[13,5],\"Geetanjali Residency, Kondapur, Hyderabad\")"
   ]
  },
  {
   "cell_type": "code",
   "execution_count": 287,
   "metadata": {
    "ExecuteTime": {
     "end_time": "2020-05-05T14:23:50.799540Z",
     "start_time": "2020-05-05T14:23:50.795365Z"
    },
    "hidden": true
   },
   "outputs": [
    {
     "name": "stdout",
     "output_type": "stream",
     "text": [
      "*************************\n",
      "Hello, please come for our Diwali celebration at Geetanjali Residency, Kondapur, Hyderabad\n",
      "from\n",
      "Kusum Sharma and Ram Sharma\n",
      "and our wonderful children\n",
      "Ravi Sharma,Rani Sharma,Komal Sharma\n",
      "*************************\n",
      "*************************\n",
      "Hello, please come for our Diwali celebration at Geetanjali Residency, Kondapur, Hyderabad\n",
      "from\n",
      "Kareena Vij and Prateek Vij\n",
      "and our wonderful children\n",
      "Lucky Vij,Ravi Vij\n",
      "*************************\n"
     ]
    }
   ],
   "source": [
    "sharmas.print_diwali_invitation()\n",
    "vijs.print_diwali_invitation()"
   ]
  },
  {
   "cell_type": "markdown",
   "metadata": {
    "hidden": true
   },
   "source": [
    "* Now you understand that a class is just a way **to pack some data with functions**.\n",
    "* So, now we can tell you a secret -- In Python everything is an object! We will deal with this in detail in the next section!"
   ]
  },
  {
   "cell_type": "markdown",
   "metadata": {
    "heading_collapsed": true
   },
   "source": [
    "### End of Part 1 !!"
   ]
  },
  {
   "cell_type": "markdown",
   "metadata": {
    "hidden": true
   },
   "source": [
    "Congratulations, now you know a little bit about everything!\n",
    "\n",
    "* Datatypes (Numbers,Strings,Booleans)\n",
    "* Operators\n",
    "* Variables\n",
    "* Assignments\n",
    "* Conditional Statements (if...else)\n",
    "* Loops (while and for)\n",
    "* Data Structures (Lists)\n",
    "* Functions\n",
    "* Classes, Objects, Attributes and Methods\n",
    "\n",
    "But there were many things that are missing because they require a mix of all these concepts. So we will cover them in the next section!\n",
    "\n",
    "* Instructor Note : Now would be a good time to quickly revise Part 1."
   ]
  },
  {
   "cell_type": "markdown",
   "metadata": {},
   "source": [
    "## Part 2 (2h)"
   ]
  },
  {
   "cell_type": "markdown",
   "metadata": {
    "heading_collapsed": true
   },
   "source": [
    "### Everything in Python is an object"
   ]
  },
  {
   "cell_type": "markdown",
   "metadata": {
    "heading_collapsed": true,
    "hidden": true
   },
   "source": [
    "#### Lists!"
   ]
  },
  {
   "cell_type": "markdown",
   "metadata": {
    "hidden": true
   },
   "source": [
    "* People with experience in programming would have guessed by now - lists are objects.\n",
    "* You are right!"
   ]
  },
  {
   "cell_type": "code",
   "execution_count": 362,
   "metadata": {
    "ExecuteTime": {
     "end_time": "2020-05-06T15:17:19.936906Z",
     "start_time": "2020-05-06T15:17:19.933560Z"
    },
    "hidden": true
   },
   "outputs": [
    {
     "name": "stdout",
     "output_type": "stream",
     "text": [
      "1\n"
     ]
    }
   ],
   "source": [
    "# Lists are obviously objects\n",
    "mylist=[22,34,56,77]\n",
    "# Check out the index method\n",
    "print(mylist.index(34))"
   ]
  },
  {
   "cell_type": "code",
   "execution_count": 363,
   "metadata": {
    "ExecuteTime": {
     "end_time": "2020-05-06T15:17:37.889267Z",
     "start_time": "2020-05-06T15:17:37.885753Z"
    },
    "hidden": true
   },
   "outputs": [
    {
     "data": {
      "text/plain": [
       "list"
      ]
     },
     "execution_count": 363,
     "metadata": {},
     "output_type": "execute_result"
    }
   ],
   "source": [
    "# Let's check its type - a builtin method\n",
    "type(mylist)"
   ]
  },
  {
   "cell_type": "code",
   "execution_count": 317,
   "metadata": {
    "ExecuteTime": {
     "end_time": "2020-05-06T14:34:21.080496Z",
     "start_time": "2020-05-06T14:34:21.076458Z"
    },
    "hidden": true
   },
   "outputs": [
    {
     "data": {
      "text/plain": [
       "['__add__',\n",
       " '__class__',\n",
       " '__contains__',\n",
       " '__delattr__',\n",
       " '__delitem__',\n",
       " '__dir__',\n",
       " '__doc__',\n",
       " '__eq__',\n",
       " '__format__',\n",
       " '__ge__',\n",
       " '__getattribute__',\n",
       " '__getitem__',\n",
       " '__gt__',\n",
       " '__hash__',\n",
       " '__iadd__',\n",
       " '__imul__',\n",
       " '__init__',\n",
       " '__init_subclass__',\n",
       " '__iter__',\n",
       " '__le__',\n",
       " '__len__',\n",
       " '__lt__',\n",
       " '__mul__',\n",
       " '__ne__',\n",
       " '__new__',\n",
       " '__reduce__',\n",
       " '__reduce_ex__',\n",
       " '__repr__',\n",
       " '__reversed__',\n",
       " '__rmul__',\n",
       " '__setattr__',\n",
       " '__setitem__',\n",
       " '__sizeof__',\n",
       " '__str__',\n",
       " '__subclasshook__',\n",
       " 'append',\n",
       " 'clear',\n",
       " 'copy',\n",
       " 'count',\n",
       " 'extend',\n",
       " 'index',\n",
       " 'insert',\n",
       " 'pop',\n",
       " 'remove',\n",
       " 'reverse',\n",
       " 'sort']"
      ]
     },
     "execution_count": 317,
     "metadata": {},
     "output_type": "execute_result"
    }
   ],
   "source": [
    "# We can use dir to see all attributes\n",
    "dir(mylist)"
   ]
  },
  {
   "cell_type": "markdown",
   "metadata": {
    "hidden": true
   },
   "source": [
    "#### The basic datatypes!"
   ]
  },
  {
   "cell_type": "markdown",
   "metadata": {
    "hidden": true
   },
   "source": [
    "The builtin data types you've been using are all objects!"
   ]
  },
  {
   "cell_type": "code",
   "execution_count": 312,
   "metadata": {
    "ExecuteTime": {
     "end_time": "2020-05-06T14:31:27.853113Z",
     "start_time": "2020-05-06T14:31:27.849463Z"
    },
    "hidden": true
   },
   "outputs": [
    {
     "name": "stdout",
     "output_type": "stream",
     "text": [
      "<class 'type'>\n",
      "<class 'type'>\n",
      "<class 'type'>\n"
     ]
    }
   ],
   "source": [
    "# When you've been converting datatypes,\n",
    "# You've actually been calling the constructors of these built-in types\n",
    "print(type(str))\n",
    "print(type(int))\n",
    "print(type(bool))"
   ]
  },
  {
   "cell_type": "markdown",
   "metadata": {
    "hidden": true
   },
   "source": [
    "Really, even numbers? Let's check!"
   ]
  },
  {
   "cell_type": "code",
   "execution_count": 318,
   "metadata": {
    "ExecuteTime": {
     "end_time": "2020-05-06T14:35:05.418984Z",
     "start_time": "2020-05-06T14:35:05.414832Z"
    },
    "hidden": true,
    "scrolled": true
   },
   "outputs": [
    {
     "data": {
      "text/plain": [
       "['__abs__',\n",
       " '__add__',\n",
       " '__bool__',\n",
       " '__class__',\n",
       " '__delattr__',\n",
       " '__dir__',\n",
       " '__divmod__',\n",
       " '__doc__',\n",
       " '__eq__',\n",
       " '__float__',\n",
       " '__floordiv__',\n",
       " '__format__',\n",
       " '__ge__',\n",
       " '__getattribute__',\n",
       " '__getformat__',\n",
       " '__getnewargs__',\n",
       " '__gt__',\n",
       " '__hash__',\n",
       " '__init__',\n",
       " '__init_subclass__',\n",
       " '__int__',\n",
       " '__le__',\n",
       " '__lt__',\n",
       " '__mod__',\n",
       " '__mul__',\n",
       " '__ne__',\n",
       " '__neg__',\n",
       " '__new__',\n",
       " '__pos__',\n",
       " '__pow__',\n",
       " '__radd__',\n",
       " '__rdivmod__',\n",
       " '__reduce__',\n",
       " '__reduce_ex__',\n",
       " '__repr__',\n",
       " '__rfloordiv__',\n",
       " '__rmod__',\n",
       " '__rmul__',\n",
       " '__round__',\n",
       " '__rpow__',\n",
       " '__rsub__',\n",
       " '__rtruediv__',\n",
       " '__setattr__',\n",
       " '__setformat__',\n",
       " '__sizeof__',\n",
       " '__str__',\n",
       " '__sub__',\n",
       " '__subclasshook__',\n",
       " '__truediv__',\n",
       " '__trunc__',\n",
       " 'as_integer_ratio',\n",
       " 'conjugate',\n",
       " 'fromhex',\n",
       " 'hex',\n",
       " 'imag',\n",
       " 'is_integer',\n",
       " 'real']"
      ]
     },
     "execution_count": 318,
     "metadata": {},
     "output_type": "execute_result"
    }
   ],
   "source": [
    "dir(2.0)"
   ]
  },
  {
   "cell_type": "code",
   "execution_count": 319,
   "metadata": {
    "ExecuteTime": {
     "end_time": "2020-05-06T14:35:21.866223Z",
     "start_time": "2020-05-06T14:35:21.862609Z"
    },
    "hidden": true
   },
   "outputs": [
    {
     "data": {
      "text/plain": [
       "True"
      ]
     },
     "execution_count": 319,
     "metadata": {},
     "output_type": "execute_result"
    }
   ],
   "source": [
    "2.0.is_integer()"
   ]
  },
  {
   "cell_type": "markdown",
   "metadata": {
    "heading_collapsed": true,
    "hidden": true
   },
   "source": [
    "#### Even functions are objects!"
   ]
  },
  {
   "cell_type": "markdown",
   "metadata": {
    "hidden": true
   },
   "source": [
    "* Functions are objects as well. \n",
    "* They are nothing special, when you call them, you are just calling their ``__call__`` method.\n",
    "* You can assign functions to variables, put them in lists, pass them as arguments to other functions - anything you can do with a number or a string."
   ]
  },
  {
   "cell_type": "code",
   "execution_count": 320,
   "metadata": {
    "ExecuteTime": {
     "end_time": "2020-05-06T14:36:07.801080Z",
     "start_time": "2020-05-06T14:36:07.798503Z"
    },
    "hidden": true
   },
   "outputs": [],
   "source": [
    "def greeter(name):\n",
    "    print(\"Hello \"+name)"
   ]
  },
  {
   "cell_type": "code",
   "execution_count": 323,
   "metadata": {
    "ExecuteTime": {
     "end_time": "2020-05-06T14:36:43.253529Z",
     "start_time": "2020-05-06T14:36:43.250148Z"
    },
    "hidden": true
   },
   "outputs": [
    {
     "name": "stdout",
     "output_type": "stream",
     "text": [
      "<class 'function'>\n",
      "['__annotations__', '__call__', '__class__', '__closure__', '__code__', '__defaults__', '__delattr__', '__dict__', '__dir__', '__doc__', '__eq__', '__format__', '__ge__', '__get__', '__getattribute__', '__globals__', '__gt__', '__hash__', '__init__', '__init_subclass__', '__kwdefaults__', '__le__', '__lt__', '__module__', '__name__', '__ne__', '__new__', '__qualname__', '__reduce__', '__reduce_ex__', '__repr__', '__setattr__', '__sizeof__', '__str__', '__subclasshook__']\n"
     ]
    }
   ],
   "source": [
    "print(type(greeter))\n",
    "print(dir(greeter))"
   ]
  },
  {
   "cell_type": "code",
   "execution_count": 327,
   "metadata": {
    "ExecuteTime": {
     "end_time": "2020-05-06T14:39:01.491613Z",
     "start_time": "2020-05-06T14:39:01.488143Z"
    },
    "hidden": true
   },
   "outputs": [
    {
     "name": "stdout",
     "output_type": "stream",
     "text": [
      "greeter\n",
      "<code object greeter at 0x1108fc930, file \"<ipython-input-320-80612c9eab1d>\", line 1>\n"
     ]
    }
   ],
   "source": [
    "x=greeter\n",
    "print(x.__name__)\n",
    "print(x.__code__)"
   ]
  },
  {
   "cell_type": "code",
   "execution_count": 328,
   "metadata": {
    "ExecuteTime": {
     "end_time": "2020-05-06T14:39:37.650389Z",
     "start_time": "2020-05-06T14:39:37.647608Z"
    },
    "hidden": true
   },
   "outputs": [
    {
     "name": "stdout",
     "output_type": "stream",
     "text": [
      "Hello Aneesh\n",
      "Hello Aneesh\n"
     ]
    }
   ],
   "source": [
    "x(\"Aneesh\")\n",
    "x.__call__(\"Aneesh\")"
   ]
  },
  {
   "cell_type": "markdown",
   "metadata": {
    "heading_collapsed": true,
    "hidden": true
   },
   "source": [
    "#### Don't get intimidated, it's just data + logic!"
   ]
  },
  {
   "cell_type": "markdown",
   "metadata": {
    "hidden": true
   },
   "source": [
    "I hope this doesn't confuse you! It's very simple,\n",
    "* In Python, everythinhg is an object - this means that everything packages some data + some logic with it.\n",
    "* For example, a number packages the number's value & lots of logic defining what is the absolute value of the number, how to add to numbers, how to take powers etc. Just like our Family class earlier."
   ]
  },
  {
   "cell_type": "markdown",
   "metadata": {
    "heading_collapsed": true
   },
   "source": [
    "### More on Strings"
   ]
  },
  {
   "cell_type": "markdown",
   "metadata": {
    "hidden": true
   },
   "source": [
    "* So you now know that strings are objects as well. \n",
    "* So the first thing you should ask is : Does it have any interesting methods?\n",
    "\n",
    "You can use ``dir`` to find out!"
   ]
  },
  {
   "cell_type": "code",
   "execution_count": 329,
   "metadata": {
    "ExecuteTime": {
     "end_time": "2020-05-06T14:46:24.513131Z",
     "start_time": "2020-05-06T14:46:24.508910Z"
    },
    "hidden": true
   },
   "outputs": [
    {
     "data": {
      "text/plain": [
       "['__add__',\n",
       " '__class__',\n",
       " '__contains__',\n",
       " '__delattr__',\n",
       " '__dir__',\n",
       " '__doc__',\n",
       " '__eq__',\n",
       " '__format__',\n",
       " '__ge__',\n",
       " '__getattribute__',\n",
       " '__getitem__',\n",
       " '__getnewargs__',\n",
       " '__gt__',\n",
       " '__hash__',\n",
       " '__init__',\n",
       " '__init_subclass__',\n",
       " '__iter__',\n",
       " '__le__',\n",
       " '__len__',\n",
       " '__lt__',\n",
       " '__mod__',\n",
       " '__mul__',\n",
       " '__ne__',\n",
       " '__new__',\n",
       " '__reduce__',\n",
       " '__reduce_ex__',\n",
       " '__repr__',\n",
       " '__rmod__',\n",
       " '__rmul__',\n",
       " '__setattr__',\n",
       " '__sizeof__',\n",
       " '__str__',\n",
       " '__subclasshook__',\n",
       " 'capitalize',\n",
       " 'casefold',\n",
       " 'center',\n",
       " 'count',\n",
       " 'encode',\n",
       " 'endswith',\n",
       " 'expandtabs',\n",
       " 'find',\n",
       " 'format',\n",
       " 'format_map',\n",
       " 'index',\n",
       " 'isalnum',\n",
       " 'isalpha',\n",
       " 'isdecimal',\n",
       " 'isdigit',\n",
       " 'isidentifier',\n",
       " 'islower',\n",
       " 'isnumeric',\n",
       " 'isprintable',\n",
       " 'isspace',\n",
       " 'istitle',\n",
       " 'isupper',\n",
       " 'join',\n",
       " 'ljust',\n",
       " 'lower',\n",
       " 'lstrip',\n",
       " 'maketrans',\n",
       " 'partition',\n",
       " 'replace',\n",
       " 'rfind',\n",
       " 'rindex',\n",
       " 'rjust',\n",
       " 'rpartition',\n",
       " 'rsplit',\n",
       " 'rstrip',\n",
       " 'split',\n",
       " 'splitlines',\n",
       " 'startswith',\n",
       " 'strip',\n",
       " 'swapcase',\n",
       " 'title',\n",
       " 'translate',\n",
       " 'upper',\n",
       " 'zfill']"
      ]
     },
     "execution_count": 329,
     "metadata": {},
     "output_type": "execute_result"
    }
   ],
   "source": [
    "dir(\"abc\")"
   ]
  },
  {
   "cell_type": "markdown",
   "metadata": {
    "hidden": true
   },
   "source": [
    "* Wow, lots of functions. \n",
    "* But you're going to need them - because you will need to work with strings a lot!"
   ]
  },
  {
   "cell_type": "markdown",
   "metadata": {
    "hidden": true
   },
   "source": [
    "**Checking strings**"
   ]
  },
  {
   "cell_type": "code",
   "execution_count": 339,
   "metadata": {
    "ExecuteTime": {
     "end_time": "2020-05-06T14:55:38.893839Z",
     "start_time": "2020-05-06T14:55:38.890001Z"
    },
    "hidden": true
   },
   "outputs": [
    {
     "name": "stdout",
     "output_type": "stream",
     "text": [
      "True\n",
      "True\n",
      "True\n"
     ]
    }
   ],
   "source": [
    "print(\"New Delhi\".startswith(\"New\"))\n",
    "print(\"225\".isdigit())\n",
    "print(\"attributes\".islower())"
   ]
  },
  {
   "cell_type": "markdown",
   "metadata": {
    "hidden": true
   },
   "source": [
    "**Transforming strings**"
   ]
  },
  {
   "cell_type": "code",
   "execution_count": 345,
   "metadata": {
    "ExecuteTime": {
     "end_time": "2020-05-06T14:58:07.268973Z",
     "start_time": "2020-05-06T14:58:07.265664Z"
    },
    "hidden": true,
    "scrolled": true
   },
   "outputs": [
    {
     "name": "stdout",
     "output_type": "stream",
     "text": [
      "ravina\n",
      "RAVINA\n",
      "Ravina\n"
     ]
    }
   ],
   "source": [
    "print(\"RavIna\".lower())\n",
    "print(\"RaViNa\".upper())\n",
    "print(\"ravina\".capitalize())"
   ]
  },
  {
   "cell_type": "markdown",
   "metadata": {
    "hidden": true
   },
   "source": [
    "#### Some methods very useful for data processing"
   ]
  },
  {
   "cell_type": "code",
   "execution_count": 348,
   "metadata": {
    "ExecuteTime": {
     "end_time": "2020-05-06T14:59:54.361900Z",
     "start_time": "2020-05-06T14:59:54.358209Z"
    },
    "hidden": true
   },
   "outputs": [
    {
     "name": "stdout",
     "output_type": "stream",
     "text": [
      "['This', 'is', 'a', 'sentence', 'I', 'want', 'to', 'break', 'into', 'parts']\n",
      "['Thi', ' i', ' a ', 'entence I want to break into part', '']\n"
     ]
    }
   ],
   "source": [
    "x=\"This is a sentence I want to break into parts\"\n",
    "parts=x.split()\n",
    "print(parts)\n",
    "print(x.split(\"s\"))"
   ]
  },
  {
   "cell_type": "code",
   "execution_count": 350,
   "metadata": {
    "ExecuteTime": {
     "end_time": "2020-05-06T15:00:44.758984Z",
     "start_time": "2020-05-06T15:00:44.755721Z"
    },
    "hidden": true
   },
   "outputs": [
    {
     "name": "stdout",
     "output_type": "stream",
     "text": [
      "This_is_a_sentence_I_want_to_break_into_parts\n"
     ]
    }
   ],
   "source": [
    "print(\"_\".join(parts))"
   ]
  },
  {
   "cell_type": "code",
   "execution_count": 344,
   "metadata": {
    "ExecuteTime": {
     "end_time": "2020-05-06T14:57:49.153500Z",
     "start_time": "2020-05-06T14:57:49.149604Z"
    },
    "hidden": true
   },
   "outputs": [
    {
     "name": "stdout",
     "output_type": "stream",
     "text": [
      "|Remove all the extra space    |\n",
      "|    Remove all the extra space|\n",
      "|Remove all the extra space|\n"
     ]
    }
   ],
   "source": [
    "x=\"    Remove all the extra space    \"\n",
    "print(\"|\"+x.lstrip()+\"|\")\n",
    "print(\"|\"+x.rstrip()+\"|\")\n",
    "print(\"|\"+x.strip()+\"|\")"
   ]
  },
  {
   "cell_type": "code",
   "execution_count": 347,
   "metadata": {
    "ExecuteTime": {
     "end_time": "2020-05-06T14:59:26.862661Z",
     "start_time": "2020-05-06T14:59:26.859244Z"
    },
    "hidden": true
   },
   "outputs": [
    {
     "name": "stdout",
     "output_type": "stream",
     "text": [
      "I wAnt to cApitAlize every A in here\n"
     ]
    }
   ],
   "source": [
    "x=\"I want to capitalize every a in here\"\n",
    "print(x.replace(\"a\",\"A\"))"
   ]
  },
  {
   "cell_type": "markdown",
   "metadata": {
    "hidden": true
   },
   "source": [
    "Tip :\n",
    "* Practice manipulating strings - very useful for software development. \n",
    "* But even for ML, you have to read files which are strings. You can't escape strings!"
   ]
  },
  {
   "cell_type": "markdown",
   "metadata": {
    "hidden": true
   },
   "source": [
    "#### But can you change strings?"
   ]
  },
  {
   "cell_type": "code",
   "execution_count": 355,
   "metadata": {
    "ExecuteTime": {
     "end_time": "2020-05-06T15:09:44.486703Z",
     "start_time": "2020-05-06T15:09:44.482960Z"
    },
    "hidden": true
   },
   "outputs": [
    {
     "name": "stdout",
     "output_type": "stream",
     "text": [
      "[12, 1, 'abc']\n",
      "[12, 'one', 'abc']\n"
     ]
    }
   ],
   "source": [
    "# you can do this with lists\n",
    "x = [12, 1 ,\"abc\"]\n",
    "print(x)\n",
    "x[1]=\"one\"\n",
    "print(x)"
   ]
  },
  {
   "cell_type": "code",
   "execution_count": 357,
   "metadata": {
    "ExecuteTime": {
     "end_time": "2020-05-06T15:10:25.838458Z",
     "start_time": "2020-05-06T15:10:25.831479Z"
    },
    "hidden": true
   },
   "outputs": [
    {
     "name": "stdout",
     "output_type": "stream",
     "text": [
      "abcdefgh\n"
     ]
    },
    {
     "ename": "TypeError",
     "evalue": "'str' object does not support item assignment",
     "output_type": "error",
     "traceback": [
      "\u001b[0;31m--------------------------------------\u001b[0m",
      "\u001b[0;31mTypeError\u001b[0mTraceback (most recent call last)",
      "\u001b[0;32m<ipython-input-357-97e942e0ac6f>\u001b[0m in \u001b[0;36m<module>\u001b[0;34m\u001b[0m\n\u001b[1;32m      2\u001b[0m \u001b[0mx\u001b[0m\u001b[0;34m=\u001b[0m\u001b[0;34m\"abcdefgh\"\u001b[0m\u001b[0;34m\u001b[0m\u001b[0;34m\u001b[0m\u001b[0m\n\u001b[1;32m      3\u001b[0m \u001b[0mprint\u001b[0m\u001b[0;34m(\u001b[0m\u001b[0mx\u001b[0m\u001b[0;34m)\u001b[0m\u001b[0;34m\u001b[0m\u001b[0;34m\u001b[0m\u001b[0m\n\u001b[0;32m----> 4\u001b[0;31m \u001b[0mx\u001b[0m\u001b[0;34m[\u001b[0m\u001b[0;36m0\u001b[0m\u001b[0;34m]\u001b[0m\u001b[0;34m=\u001b[0m\u001b[0;34m\"z\"\u001b[0m\u001b[0;34m\u001b[0m\u001b[0;34m\u001b[0m\u001b[0m\n\u001b[0m",
      "\u001b[0;31mTypeError\u001b[0m: 'str' object does not support item assignment"
     ]
    }
   ],
   "source": [
    "# can you do the same thing with strings?\n",
    "x=\"abcdefgh\"\n",
    "print(x)\n",
    "x[0]=\"z\""
   ]
  },
  {
   "cell_type": "markdown",
   "metadata": {
    "hidden": true
   },
   "source": [
    "* No strings are immutable objects - you can't edit them once they have been created.\n",
    "* Nothing complicated, just like turning off a switch. \n",
    "* Numbers and booleans are also immutable objects"
   ]
  },
  {
   "cell_type": "code",
   "execution_count": 358,
   "metadata": {
    "ExecuteTime": {
     "end_time": "2020-05-06T15:12:29.574914Z",
     "start_time": "2020-05-06T15:12:29.571726Z"
    },
    "hidden": true
   },
   "outputs": [
    {
     "name": "stdout",
     "output_type": "stream",
     "text": [
      "ravina\n",
      "Ravina\n"
     ]
    }
   ],
   "source": [
    "# but then doesn't this mutate the string?\n",
    "x=\"Ravina\"\n",
    "print(x.lower())\n",
    "print(x)"
   ]
  },
  {
   "cell_type": "markdown",
   "metadata": {
    "hidden": true
   },
   "source": [
    "Nope, its just returning a new string."
   ]
  },
  {
   "cell_type": "markdown",
   "metadata": {},
   "source": [
    "### File I/O"
   ]
  },
  {
   "cell_type": "markdown",
   "metadata": {},
   "source": [
    "#### Reading from a file"
   ]
  },
  {
   "cell_type": "markdown",
   "metadata": {},
   "source": [
    "#### Writing to a file"
   ]
  },
  {
   "cell_type": "markdown",
   "metadata": {},
   "source": [
    "#### Example reading a data file"
   ]
  },
  {
   "cell_type": "markdown",
   "metadata": {},
   "source": [
    "#### Serialization"
   ]
  },
  {
   "cell_type": "markdown",
   "metadata": {
    "heading_collapsed": true
   },
   "source": [
    "### More on lists"
   ]
  },
  {
   "cell_type": "markdown",
   "metadata": {
    "hidden": true
   },
   "source": [
    "So you already know how to \n",
    "\n",
    "* create lists\n",
    "* index lists\n",
    "* slice lists\n",
    "* update value at an index of a list\n",
    "\n",
    "Here's some more important stuff"
   ]
  },
  {
   "cell_type": "markdown",
   "metadata": {
    "heading_collapsed": true,
    "hidden": true
   },
   "source": [
    "#### Appending to lists"
   ]
  },
  {
   "cell_type": "code",
   "execution_count": 160,
   "metadata": {
    "ExecuteTime": {
     "end_time": "2020-05-05T11:29:18.459248Z",
     "start_time": "2020-05-05T11:29:18.455679Z"
    },
    "hidden": true
   },
   "outputs": [
    {
     "name": "stdout",
     "output_type": "stream",
     "text": [
      "[]\n",
      "['first', 2, 3.0]\n"
     ]
    }
   ],
   "source": [
    "empty_list=[]\n",
    "\n",
    "print(empty_list)\n",
    "empty_list.append(\"first\")\n",
    "empty_list.append(2)\n",
    "empty_list.append(3.0)\n",
    "print(empty_list)"
   ]
  },
  {
   "cell_type": "markdown",
   "metadata": {
    "heading_collapsed": true,
    "hidden": true
   },
   "source": [
    "#### Concatenating lists"
   ]
  },
  {
   "cell_type": "markdown",
   "metadata": {
    "hidden": true
   },
   "source": [
    "You can add 2 (or more) lists together, and they are concatenated just like strings."
   ]
  },
  {
   "cell_type": "code",
   "execution_count": 354,
   "metadata": {
    "ExecuteTime": {
     "end_time": "2020-05-06T15:08:11.996549Z",
     "start_time": "2020-05-06T15:08:11.993136Z"
    },
    "hidden": true,
    "scrolled": true
   },
   "outputs": [
    {
     "name": "stdout",
     "output_type": "stream",
     "text": [
      "[25, 27, 28, 2, 5, 1]\n"
     ]
    }
   ],
   "source": [
    "l1=[25, 27, 28] \n",
    "l2=[2,5,1]\n",
    "print(l1+l2)"
   ]
  },
  {
   "cell_type": "markdown",
   "metadata": {
    "hidden": true
   },
   "source": [
    "You can even multiply lists!"
   ]
  },
  {
   "cell_type": "code",
   "execution_count": 359,
   "metadata": {
    "ExecuteTime": {
     "end_time": "2020-05-06T15:13:17.499605Z",
     "start_time": "2020-05-06T15:13:17.496709Z"
    },
    "hidden": true,
    "scrolled": true
   },
   "outputs": [
    {
     "name": "stdout",
     "output_type": "stream",
     "text": [
      "[25, 27, 28, 25, 27, 28, 25, 27, 28]\n"
     ]
    }
   ],
   "source": [
    "l3=l1*3\n",
    "print(l3)"
   ]
  },
  {
   "cell_type": "markdown",
   "metadata": {
    "hidden": true
   },
   "source": [
    "But I wanted to show you this because it doesn't exactly work as expected..."
   ]
  },
  {
   "cell_type": "code",
   "execution_count": 368,
   "metadata": {
    "ExecuteTime": {
     "end_time": "2020-05-06T15:19:49.573283Z",
     "start_time": "2020-05-06T15:19:49.569233Z"
    },
    "hidden": true
   },
   "outputs": [
    {
     "name": "stdout",
     "output_type": "stream",
     "text": [
      "[[22, 33], 12, [22], [22, 33], 12, [22], [22, 33], 12, [22]]\n",
      "[[11, 33], 12, [22], [11, 33], 12, [22], [11, 33], 12, [22]]\n"
     ]
    }
   ],
   "source": [
    "x=[[22,33],12,[22]]\n",
    "y=x*3\n",
    "print(y)\n",
    "x[0][0]=11\n",
    "print(y)"
   ]
  },
  {
   "cell_type": "code",
   "execution_count": 372,
   "metadata": {
    "ExecuteTime": {
     "end_time": "2020-05-06T15:20:29.073285Z",
     "start_time": "2020-05-06T15:20:29.069333Z"
    },
    "hidden": true
   },
   "outputs": [
    {
     "data": {
      "text/plain": [
       "True"
      ]
     },
     "execution_count": 372,
     "metadata": {},
     "output_type": "execute_result"
    }
   ],
   "source": [
    "id(y[0])==id(y[3])"
   ]
  },
  {
   "cell_type": "markdown",
   "metadata": {
    "ExecuteTime": {
     "end_time": "2020-05-06T15:22:46.894608Z",
     "start_time": "2020-05-06T15:22:46.891971Z"
    },
    "hidden": true
   },
   "source": [
    "You can even do this..."
   ]
  },
  {
   "cell_type": "code",
   "execution_count": 380,
   "metadata": {
    "ExecuteTime": {
     "end_time": "2020-05-06T15:23:54.073057Z",
     "start_time": "2020-05-06T15:23:54.069578Z"
    },
    "hidden": true
   },
   "outputs": [
    {
     "name": "stdout",
     "output_type": "stream",
     "text": [
      "[99, 4]\n",
      "[99, 4, 'h', 'e', 'l', 'l', 'o']\n"
     ]
    }
   ],
   "source": [
    "x=[99,4]\n",
    "print(x)\n",
    "x+=\"hello\"\n",
    "print(x)"
   ]
  },
  {
   "cell_type": "markdown",
   "metadata": {
    "hidden": true
   },
   "source": [
    "* Why? I'll leave that answer to you \n",
    "* hint: Why can you use for loop for both strings and lists?"
   ]
  },
  {
   "cell_type": "markdown",
   "metadata": {
    "heading_collapsed": true,
    "hidden": true
   },
   "source": [
    "#### How to delete an item?"
   ]
  },
  {
   "cell_type": "code",
   "execution_count": 395,
   "metadata": {
    "ExecuteTime": {
     "end_time": "2020-05-06T15:34:21.946360Z",
     "start_time": "2020-05-06T15:34:21.941109Z"
    },
    "hidden": true
   },
   "outputs": [
    {
     "name": "stdout",
     "output_type": "stream",
     "text": [
      "[9, 5, 6, 8, 2, 44, 1]\n",
      "[5, 6, 8, 2, 44, 1]\n",
      "[9, 6, 8, 2, 44, 1]\n",
      "[9, 2, 44, 1]\n"
     ]
    }
   ],
   "source": [
    "x=[9,5,6,8,2,44,1]\n",
    "print(x)\n",
    "x.remove(9)\n",
    "print(x)\n",
    "x=[9,5,6,8,2,44,1]\n",
    "del x[1]\n",
    "print(x)\n",
    "x=[9,5,6,8,2,44,1]\n",
    "del x[1:4]\n",
    "print(x)"
   ]
  },
  {
   "cell_type": "markdown",
   "metadata": {
    "heading_collapsed": true,
    "hidden": true
   },
   "source": [
    "#### Note on operators (Advanced)"
   ]
  },
  {
   "cell_type": "markdown",
   "metadata": {
    "hidden": true
   },
   "source": [
    "* You might have seen that a list has a + operator and a * operator, and oh, this must be how lists are.\n",
    "* Nope! It's all defined somewhere. The creators wanted lists to behave this way.\n",
    "* In fact, operators like + are implemented as **methods** on the class they work on.\n",
    "* Try looking at the objects using ``dir`` and guessing which methods implement the operators."
   ]
  },
  {
   "cell_type": "code",
   "execution_count": 392,
   "metadata": {
    "ExecuteTime": {
     "end_time": "2020-05-06T15:32:30.135661Z",
     "start_time": "2020-05-06T15:32:30.131912Z"
    },
    "hidden": true
   },
   "outputs": [
    {
     "name": "stdout",
     "output_type": "stream",
     "text": [
      "[44, 22]\n",
      "[44, 22]\n"
     ]
    }
   ],
   "source": [
    "x=[44]\n",
    "x=x.__add__([22])\n",
    "print(x)\n",
    "\n",
    "x=[44]\n",
    "x=x+[22]\n",
    "print(x)"
   ]
  },
  {
   "cell_type": "markdown",
   "metadata": {},
   "source": [
    "### Other datastructures in Python"
   ]
  },
  {
   "cell_type": "code",
   "execution_count": null,
   "metadata": {},
   "outputs": [],
   "source": []
  },
  {
   "cell_type": "markdown",
   "metadata": {},
   "source": [
    "### More on for loop"
   ]
  },
  {
   "cell_type": "markdown",
   "metadata": {},
   "source": [
    "#### Different types of iterables"
   ]
  },
  {
   "cell_type": "markdown",
   "metadata": {},
   "source": [
    "* Strings are iterables\n",
    "* The range(0,100) iterable"
   ]
  },
  {
   "cell_type": "markdown",
   "metadata": {},
   "source": [
    "#### Equivalence with while loops"
   ]
  },
  {
   "cell_type": "markdown",
   "metadata": {},
   "source": [
    "* So why do we need for loops? : Readability"
   ]
  },
  {
   "cell_type": "markdown",
   "metadata": {},
   "source": [
    "### Python Modules and Import Statements (15 min)"
   ]
  },
  {
   "cell_type": "markdown",
   "metadata": {},
   "source": [
    "### How to use the internet to code (15 min)"
   ]
  },
  {
   "cell_type": "markdown",
   "metadata": {},
   "source": [
    "# Intermediate Python (1h30min)"
   ]
  },
  {
   "cell_type": "markdown",
   "metadata": {},
   "source": [
    "### Using libraries : Python Standard Library (30 min)"
   ]
  },
  {
   "cell_type": "markdown",
   "metadata": {
    "ExecuteTime": {
     "end_time": "2020-05-04T14:03:23.551781Z",
     "start_time": "2020-05-04T14:03:23.372744Z"
    }
   },
   "source": [
    "* re,datetime,math,json,os,sys,copy"
   ]
  },
  {
   "cell_type": "markdown",
   "metadata": {},
   "source": [
    "### Numpy (1 hr)"
   ]
  },
  {
   "cell_type": "markdown",
   "metadata": {
    "ExecuteTime": {
     "end_time": "2020-05-04T14:16:01.548378Z",
     "start_time": "2020-05-04T14:16:01.544683Z"
    }
   },
   "source": [
    "* array creation\n",
    "* operations\n",
    "* broadcasting\n",
    "* indexing \n",
    "* slicing\n",
    "* shape manipulation"
   ]
  }
 ],
 "metadata": {
  "hide_input": false,
  "kernelspec": {
   "display_name": "Python 3",
   "language": "python",
   "name": "python3"
  },
  "language_info": {
   "codemirror_mode": {
    "name": "ipython",
    "version": 3
   },
   "file_extension": ".py",
   "mimetype": "text/x-python",
   "name": "python",
   "nbconvert_exporter": "python",
   "pygments_lexer": "ipython3",
   "version": "3.6.9"
  },
  "toc": {
   "base_numbering": 1,
   "nav_menu": {},
   "number_sections": true,
   "sideBar": true,
   "skip_h1_title": false,
   "title_cell": "Table of Contents",
   "title_sidebar": "Contents",
   "toc_cell": false,
   "toc_position": {},
   "toc_section_display": true,
   "toc_window_display": false
  }
 },
 "nbformat": 4,
 "nbformat_minor": 2
}
