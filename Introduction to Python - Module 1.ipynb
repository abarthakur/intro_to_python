{
 "cells": [
  {
   "cell_type": "markdown",
   "metadata": {},
   "source": [
    "# Basic Python (4h)"
   ]
  },
  {
   "cell_type": "markdown",
   "metadata": {},
   "source": [
    "## Part 1 (2h)"
   ]
  },
  {
   "cell_type": "markdown",
   "metadata": {
    "heading_collapsed": true
   },
   "source": [
    "### Why learn to code?"
   ]
  },
  {
   "cell_type": "markdown",
   "metadata": {
    "hidden": true
   },
   "source": [
    "Programming converts a process to a program. \n",
    "\n",
    "* A process/algorithm is a set of precise steps that starts with some data, does some things with that data, and then returns some data.\n",
    "\n",
    "Consider the following example"
   ]
  },
  {
   "cell_type": "markdown",
   "metadata": {
    "hidden": true
   },
   "source": [
    "**Process**\n",
    "\n",
    "* Your job is to solve linear equations in 2 variables. Your boss gives you the following equations\n",
    "  ```\n",
    "  x+2y=10\n",
    "  2x+y=8\n",
    "  ```\n",
    "* You know how to solve these equations by process of elimination, so you write\n",
    "\n",
    "    ```\n",
    "    First eliminate x by matching coefficients\n",
    "\n",
    "    2*(x+2y)-(2x+y)=2*10-8\n",
    "    => 3y=12\n",
    "    => y=4\n",
    "\n",
    "    Now substiting y in eqn 1,\n",
    "\n",
    "    x+8=10\n",
    "    => x=2\n",
    "\n",
    "    ```\n",
    "* Here, the **inputs** to you were the 2 equations, or more specifically the coefficients, i.e. \n",
    "    ```\n",
    "    (1,2,10) and (2,1,8)\n",
    "    ```\n",
    "* The **logic** you applied was the substitution method.\n",
    "* The **output** was your answer, the values for x and y\n",
    "    ```\n",
    "    (2,4)\n",
    "    ``` "
   ]
  },
  {
   "cell_type": "markdown",
   "metadata": {
    "hidden": true
   },
   "source": [
    "**Program**\n",
    "\n",
    "* Now, suppose you had to write an algorithm to do your job. \n",
    "* If you can do that, your boss will promote you to solving 3D equations! How would you do it?\n",
    "* If you know Python, you can write something like this"
   ]
  },
  {
   "cell_type": "code",
   "execution_count": 11,
   "metadata": {
    "ExecuteTime": {
     "end_time": "2020-05-04T15:24:04.286609Z",
     "start_time": "2020-05-04T15:24:04.282862Z"
    },
    "hidden": true
   },
   "outputs": [],
   "source": [
    "def solve_equations(a,b,c,u,v,w):\n",
    "    # solve system of linear equations\n",
    "    # ax + by = c\n",
    "    # ux + vy = w\n",
    "    \n",
    "    ## First eliminate x, how?\n",
    "    \n",
    "    # Multiply eqn 1 by \"u\", and eqn 2 by \"a\" and subtract them\n",
    "    # Then y = (c*u - w*a)/(b-v)\n",
    "    y=(c*u-w*a)/(b*u-v*a)\n",
    "    \n",
    "    # Now get x from eqn 1\n",
    "    \n",
    "    x = (c - b*y)/a\n",
    "    \n",
    "    # return the values\n",
    "    \n",
    "    return x,y"
   ]
  },
  {
   "cell_type": "code",
   "execution_count": 12,
   "metadata": {
    "ExecuteTime": {
     "end_time": "2020-05-04T15:24:07.047023Z",
     "start_time": "2020-05-04T15:24:07.043141Z"
    },
    "hidden": true
   },
   "outputs": [
    {
     "data": {
      "text/plain": [
       "(2.0, 4.0)"
      ]
     },
     "execution_count": 12,
     "metadata": {},
     "output_type": "execute_result"
    }
   ],
   "source": [
    "solve_equations(1,2,10,2,1,8)"
   ]
  },
  {
   "cell_type": "code",
   "execution_count": 13,
   "metadata": {
    "ExecuteTime": {
     "end_time": "2020-05-04T15:24:41.900386Z",
     "start_time": "2020-05-04T15:24:41.896216Z"
    },
    "hidden": true,
    "scrolled": false
   },
   "outputs": [
    {
     "data": {
      "text/plain": [
       "(6.0, -4.0)"
      ]
     },
     "execution_count": 13,
     "metadata": {},
     "output_type": "execute_result"
    }
   ],
   "source": [
    "solve_equations(5,2,22,2,1,8)"
   ]
  },
  {
   "cell_type": "markdown",
   "metadata": {
    "hidden": true
   },
   "source": [
    "This code is super easy to understand, its just like how you would write the calculations for your boss! \n",
    "\n",
    "But now you can run it for any inputs your boss gives you! Also you have used the following Pythonic concepts!\n",
    "\n",
    "* Variables\n",
    "* Expressions\n",
    "* Comments\n",
    "* Functions"
   ]
  },
  {
   "cell_type": "markdown",
   "metadata": {
    "heading_collapsed": true
   },
   "source": [
    "### Datatypes and Operators"
   ]
  },
  {
   "cell_type": "markdown",
   "metadata": {
    "hidden": true
   },
   "source": [
    "What are the simplest types of data in Python?"
   ]
  },
  {
   "cell_type": "markdown",
   "metadata": {
    "hidden": true
   },
   "source": [
    "#### Numbers and Booleans"
   ]
  },
  {
   "cell_type": "markdown",
   "metadata": {
    "ExecuteTime": {
     "end_time": "2020-05-04T15:45:55.670035Z",
     "start_time": "2020-05-04T15:45:55.666624Z"
    },
    "hidden": true
   },
   "source": [
    "1. Numbers \n",
    "    1. Integers\n",
    "    2. Floats\n",
    "2. Booleans"
   ]
  },
  {
   "cell_type": "code",
   "execution_count": 47,
   "metadata": {
    "ExecuteTime": {
     "end_time": "2020-05-04T17:13:18.546400Z",
     "start_time": "2020-05-04T17:13:18.542579Z"
    },
    "hidden": true
   },
   "outputs": [
    {
     "name": "stdout",
     "output_type": "stream",
     "text": [
      "53\n",
      "2.003\n",
      "True\n",
      "False\n"
     ]
    }
   ],
   "source": [
    "# integer : no decimal\n",
    "print(53)\n",
    "\n",
    "# float : decimal\n",
    "print(2.003)\n",
    "\n",
    "# booleans\n",
    "print(True)\n",
    "print(False)"
   ]
  },
  {
   "cell_type": "markdown",
   "metadata": {
    "hidden": true
   },
   "source": [
    "* By the way the ``print`` function is a convenient way to print to the **console** (or actually stdout). \n",
    "* Don't worry about what it is except, that it prints out whatever is in between the brackets"
   ]
  },
  {
   "cell_type": "markdown",
   "metadata": {
    "ExecuteTime": {
     "end_time": "2020-05-04T15:47:29.948667Z",
     "start_time": "2020-05-04T15:47:29.944664Z"
    },
    "hidden": true
   },
   "source": [
    "What can you do with these simple data types?"
   ]
  },
  {
   "cell_type": "markdown",
   "metadata": {
    "hidden": true
   },
   "source": [
    "* Arithmetic Operators : <span style=\"font-size:22px\">+ - / \\* % \\** //</span>\n",
    "    * Takes two numbers and returns a number\n",
    "    * 3 / 2  ---> 1.5\n",
    "    * If one of the numbers is a float, the result is a float.\n",
    "    * If both are integers, the result is an integer.\n",
    "        * Exception : /\n",
    "* Comparison Operators : <span style=\"font-size:22px\"> > < \\<= \\>= == != </span>\n",
    "    * Return a boolean - True, False\n",
    "\n",
    "Booleans\n",
    "\n",
    "* Boolean operators : and , or , not\n",
    "\n",
    "```\n",
    "True and False\n",
    "True or False\n",
    "not True\n",
    "```"
   ]
  },
  {
   "cell_type": "markdown",
   "metadata": {
    "ExecuteTime": {
     "end_time": "2020-05-04T15:54:14.656607Z",
     "start_time": "2020-05-04T15:54:14.653040Z"
    },
    "hidden": true
   },
   "source": [
    "Instructor Note : Move to Python interpreter and demonstrate\n",
    "\n",
    "* All the binary operators for numbers, booleans and strings\n",
    "* Nested expressions with paranthesis\n",
    "* Implicit typecasting for numbers\n",
    "* Mixing comparison operators and boolean operators"
   ]
  },
  {
   "cell_type": "markdown",
   "metadata": {
    "hidden": true
   },
   "source": [
    "Notes : \n",
    "* Bitwise operators\n",
    "* Operator precedence : BODMAS rule or just use brackets!"
   ]
  },
  {
   "cell_type": "markdown",
   "metadata": {
    "ExecuteTime": {
     "end_time": "2020-05-04T16:11:07.083402Z",
     "start_time": "2020-05-04T16:11:07.077531Z"
    },
    "hidden": true
   },
   "source": [
    "#### Strings"
   ]
  },
  {
   "cell_type": "code",
   "execution_count": 18,
   "metadata": {
    "ExecuteTime": {
     "end_time": "2020-05-04T15:46:43.808577Z",
     "start_time": "2020-05-04T15:46:43.805077Z"
    },
    "hidden": true
   },
   "outputs": [
    {
     "data": {
      "text/plain": [
       "'this is a string'"
      ]
     },
     "execution_count": 18,
     "metadata": {},
     "output_type": "execute_result"
    }
   ],
   "source": [
    "print(\"this is a string\")\n",
    "print('you can also use single quotes')"
   ]
  },
  {
   "cell_type": "markdown",
   "metadata": {
    "hidden": true
   },
   "source": [
    "* Indexing and Slicing\n",
    "    ```\n",
    "    \"My name is\"[1]\n",
    "    \"My name is\"[-1]\n",
    "    \"My name is\"[1:5]\n",
    "    \"My name is\"[1:]\n",
    "    \"My name is\"[1:-5]\n",
    "    ```\n",
    "* Concatenation\n",
    "    ```\n",
    "    \"My name \" + \" is \" +\" Aneesh\"\n",
    "    ```\n",
    "* Repitition \n",
    "    ```\n",
    "    \"Repeating\"*3\n",
    "    ```\n",
    "* Membership operators\n",
    "\n",
    "    ```\n",
    "    \"M\" in \"America\"\n",
    "    \"M\" not in \"America\"\n",
    "    ```\n",
    "    * Returns a boolean - True or False\n",
    "    * In this case second one is true, because \"M\" is NOT in \"America\". Remember that in coding letters are just symbols, so M and m are different. "
   ]
  },
  {
   "cell_type": "markdown",
   "metadata": {
    "ExecuteTime": {
     "end_time": "2020-05-04T16:18:10.986889Z",
     "start_time": "2020-05-04T16:18:10.983335Z"
    },
    "hidden": true
   },
   "source": [
    "* Escaping quotes in strings\n",
    "    ```\n",
    "    \"A single quote ' inside a double quote\"\n",
    "\n",
    "    'Or a double quote \" inside a single quote\"\n",
    "\n",
    "    \"Or just use \\\\ to escape \\\"\"\n",
    "    ```\n",
    "\n",
    "* Newlines in strings\n",
    "\n",
    "    ```\n",
    "    \"A newline is written like this - \\n\"\n",
    "    ```"
   ]
  },
  {
   "cell_type": "markdown",
   "metadata": {
    "hidden": true
   },
   "source": [
    "Instructor Note : Demonstrate above points in interpreter."
   ]
  },
  {
   "cell_type": "markdown",
   "metadata": {
    "hidden": true
   },
   "source": [
    "#### Converting between datatypes"
   ]
  },
  {
   "cell_type": "markdown",
   "metadata": {
    "hidden": true
   },
   "source": [
    "* Python provides a bunch of very simple functions, that does the job of typecasting for you."
   ]
  },
  {
   "cell_type": "markdown",
   "metadata": {
    "hidden": true
   },
   "source": [
    "* Between float and int"
   ]
  },
  {
   "cell_type": "code",
   "execution_count": 62,
   "metadata": {
    "ExecuteTime": {
     "end_time": "2020-05-04T17:22:10.716892Z",
     "start_time": "2020-05-04T17:22:10.713563Z"
    },
    "hidden": true
   },
   "outputs": [
    {
     "name": "stdout",
     "output_type": "stream",
     "text": [
      "22\n",
      "33.0\n"
     ]
    }
   ],
   "source": [
    "# Converting float to integer, takes the floor of the float\n",
    "print(int(22.9))\n",
    "print(float(33))"
   ]
  },
  {
   "cell_type": "markdown",
   "metadata": {
    "hidden": true
   },
   "source": [
    "* Boolean to number"
   ]
  },
  {
   "cell_type": "code",
   "execution_count": 64,
   "metadata": {
    "ExecuteTime": {
     "end_time": "2020-05-04T17:22:20.690869Z",
     "start_time": "2020-05-04T17:22:20.687535Z"
    },
    "hidden": true
   },
   "outputs": [
    {
     "name": "stdout",
     "output_type": "stream",
     "text": [
      "1\n",
      "0\n"
     ]
    }
   ],
   "source": [
    "print(int(True))\n",
    "print(int(False))"
   ]
  },
  {
   "cell_type": "markdown",
   "metadata": {
    "hidden": true
   },
   "source": [
    "* Numbers and Booleans to Stringa"
   ]
  },
  {
   "cell_type": "code",
   "execution_count": 65,
   "metadata": {
    "ExecuteTime": {
     "end_time": "2020-05-04T17:22:24.215453Z",
     "start_time": "2020-05-04T17:22:24.211669Z"
    },
    "hidden": true
   },
   "outputs": [
    {
     "name": "stdout",
     "output_type": "stream",
     "text": [
      "13\n",
      "49.99\n",
      "True\n"
     ]
    }
   ],
   "source": [
    "print(str(13))\n",
    "print(str(49.99))\n",
    "print(str(True))"
   ]
  },
  {
   "cell_type": "markdown",
   "metadata": {
    "hidden": true
   },
   "source": [
    "* String to numbers"
   ]
  },
  {
   "cell_type": "code",
   "execution_count": 68,
   "metadata": {
    "ExecuteTime": {
     "end_time": "2020-05-04T17:23:15.891278Z",
     "start_time": "2020-05-04T17:23:15.888142Z"
    },
    "hidden": true
   },
   "outputs": [
    {
     "name": "stdout",
     "output_type": "stream",
     "text": [
      "22\n",
      "33.3333\n"
     ]
    }
   ],
   "source": [
    "print(int(\"22\"))\n",
    "print(float(\"33.3333\"))"
   ]
  },
  {
   "cell_type": "markdown",
   "metadata": {
    "hidden": true
   },
   "source": [
    "* Other datatypes to boolean\n",
    "    * Everything is true except for some special values - 0, 0.0, \"\", None"
   ]
  },
  {
   "cell_type": "code",
   "execution_count": 69,
   "metadata": {
    "ExecuteTime": {
     "end_time": "2020-05-04T17:26:01.530763Z",
     "start_time": "2020-05-04T17:26:01.526735Z"
    },
    "hidden": true
   },
   "outputs": [
    {
     "name": "stdout",
     "output_type": "stream",
     "text": [
      "True\n",
      "True\n",
      "True\n",
      "True\n"
     ]
    }
   ],
   "source": [
    "print(bool(2))\n",
    "print(bool(-3))\n",
    "print(bool(43.1))\n",
    "print(bool(\"hello\"))\n",
    "print(bool(\"\\n\"))"
   ]
  },
  {
   "cell_type": "code",
   "execution_count": 72,
   "metadata": {
    "ExecuteTime": {
     "end_time": "2020-05-04T17:26:47.577571Z",
     "start_time": "2020-05-04T17:26:47.573392Z"
    },
    "hidden": true
   },
   "outputs": [
    {
     "name": "stdout",
     "output_type": "stream",
     "text": [
      "False\n",
      "False\n",
      "False\n",
      "False\n"
     ]
    }
   ],
   "source": [
    "print(bool(0))\n",
    "print(bool(0.0))\n",
    "print(bool(\"\"))\n",
    "print(bool(None))"
   ]
  },
  {
   "cell_type": "markdown",
   "metadata": {},
   "source": [
    "### Variables"
   ]
  },
  {
   "cell_type": "markdown",
   "metadata": {},
   "source": [
    "* A variable is a name for a piece of data. \n",
    "* It is not that piece of data itself, it is just the name. \n",
    "* To create a variable, you just assign some data to the name."
   ]
  },
  {
   "cell_type": "code",
   "execution_count": 4,
   "metadata": {
    "ExecuteTime": {
     "end_time": "2020-05-04T14:50:09.990573Z",
     "start_time": "2020-05-04T14:50:09.988254Z"
    }
   },
   "outputs": [],
   "source": [
    "just_a_name=0"
   ]
  },
  {
   "cell_type": "markdown",
   "metadata": {},
   "source": [
    "So now this name now refers to an integer, but you can replace it with any sort of data."
   ]
  },
  {
   "cell_type": "code",
   "execution_count": 74,
   "metadata": {
    "ExecuteTime": {
     "end_time": "2020-05-05T06:19:06.325696Z",
     "start_time": "2020-05-05T06:19:06.320822Z"
    }
   },
   "outputs": [
    {
     "name": "stdout",
     "output_type": "stream",
     "text": [
      "This is a string\n",
      "22.9\n",
      "True\n"
     ]
    }
   ],
   "source": [
    "just_a_name=\"This is a string\"\n",
    "print(just_a_name)\n",
    "just_a_name=22.9\n",
    "print(just_a_name)\n",
    "just_a_name=True\n",
    "print(just_a_name)"
   ]
  },
  {
   "cell_type": "markdown",
   "metadata": {},
   "source": [
    "When you put something in the box using the syntax\n",
    "\n",
    "```\n",
    "x = \"my value\"\n",
    "```\n",
    "\n",
    "this is called an **assignment**."
   ]
  },
  {
   "cell_type": "markdown",
   "metadata": {},
   "source": [
    "#### What happens if the RHS contains a variable?\n",
    "\n",
    "```\n",
    "x=y\n",
    "```\n",
    "\n",
    "* Well then, now x refers to the same data as y. \n",
    "\n",
    "> See this [blog post](https://medium.com/broken-window/many-names-one-memory-address-122f78734cb6) for a great explanations on assignments in python and how they relate to memory addresses, immutability and \"interning\"."
   ]
  },
  {
   "cell_type": "markdown",
   "metadata": {},
   "source": [
    "#### Note : Assignment + Operator short syntax\n",
    "\n",
    "In python code you will often see code like this\n",
    "\n",
    "```\n",
    "x+=2\n",
    "x*=44+22\n",
    "```\n",
    "\n",
    "This is just a short syntax for when the RHS is an expression with the first operand as x. It is exactly the same as\n",
    "\n",
    "```\n",
    "x=x+2\n",
    "x=x*(44+22)\n",
    "\n",
    "```\n",
    "\n",
    "* People who know C might recognize that these are there in C as well. \n",
    "* They might be wondering if the ++ operator is there in python too. \n",
    "* The answer is NO. \n",
    "* Reason : The BDFL hates the ++ operator :P"
   ]
  },
  {
   "cell_type": "markdown",
   "metadata": {
    "heading_collapsed": true
   },
   "source": [
    "### Conditional Statements"
   ]
  },
  {
   "cell_type": "markdown",
   "metadata": {
    "hidden": true
   },
   "source": [
    "Core idea : Based on the value of a variable, you want to do different actions/computations."
   ]
  },
  {
   "cell_type": "markdown",
   "metadata": {
    "heading_collapsed": true,
    "hidden": true
   },
   "source": [
    "#### The basic if statement"
   ]
  },
  {
   "cell_type": "markdown",
   "metadata": {
    "hidden": true
   },
   "source": [
    "* Your boss tells you to design personalized greeting messages for users coming to your website.\n",
    "* You don't have time, so you come up with a simple rule to fake personalization depending on her/his name. "
   ]
  },
  {
   "cell_type": "code",
   "execution_count": 95,
   "metadata": {
    "ExecuteTime": {
     "end_time": "2020-05-05T07:43:25.253708Z",
     "start_time": "2020-05-05T07:43:25.250199Z"
    },
    "hidden": true
   },
   "outputs": [
    {
     "name": "stdout",
     "output_type": "stream",
     "text": [
      "Namaste Ravina! XYZ corp is very happy to see you!\n"
     ]
    }
   ],
   "source": [
    "student_name=\"Ravina\"\n",
    "if student_name[0] in \"ABCDEFGHIJKLMN\":\n",
    "    print(\"Hello \"+student_name+\" welcome to XYZ corp!\")\n",
    "else:\n",
    "    print(\"Namaste \"+student_name+\"! XYZ corp is very happy to see you!\")"
   ]
  },
  {
   "cell_type": "markdown",
   "metadata": {
    "hidden": true
   },
   "source": [
    "The generic syntax of an if statement is \n",
    "\n",
    "```\n",
    "if condition :\n",
    "    x=22\n",
    "    y=x*z\n",
    "    ...\n",
    "    #body\n",
    "    ...\n",
    "```\n",
    "\n",
    "* Indentation of 4 spaces\n",
    "* Condition is any expression that evaluates to a boolean\n",
    "    * Otherwise it will be converted to a boolean automatically, but beware!"
   ]
  },
  {
   "cell_type": "markdown",
   "metadata": {
    "heading_collapsed": true,
    "hidden": true
   },
   "source": [
    "#### A note on indentation, whitespace and code blocks in Python"
   ]
  },
  {
   "cell_type": "markdown",
   "metadata": {
    "hidden": true
   },
   "source": [
    "* if statements are the first time some of you might be encountering code blocks.\n",
    "* Code blocks are a chunk of code, that is guaranteed to run from top to bottom sequentially.\n",
    "* Python uses indentation(spaces) to differentiate code blocks.\n",
    "* Code blocks are used inside conditional statements and loops only in Python."
   ]
  },
  {
   "cell_type": "code",
   "execution_count": 97,
   "metadata": {
    "ExecuteTime": {
     "end_time": "2020-05-05T07:49:27.209959Z",
     "start_time": "2020-05-05T07:49:27.207678Z"
    },
    "hidden": true
   },
   "outputs": [],
   "source": [
    "x=20"
   ]
  },
  {
   "cell_type": "code",
   "execution_count": 98,
   "metadata": {
    "ExecuteTime": {
     "end_time": "2020-05-05T07:49:27.879436Z",
     "start_time": "2020-05-05T07:49:27.876532Z"
    },
    "hidden": true
   },
   "outputs": [
    {
     "name": "stdout",
     "output_type": "stream",
     "text": [
      "This is inside the block and so will only print if x==20\n",
      "This is outside, so will always print\n"
     ]
    }
   ],
   "source": [
    "if x==20:\n",
    "    print(\"This is inside the block and so will only print if x==20\")\n",
    "print(\"This is outside, so will always print\")"
   ]
  },
  {
   "cell_type": "code",
   "execution_count": 75,
   "metadata": {
    "ExecuteTime": {
     "end_time": "2020-05-05T06:19:23.897024Z",
     "start_time": "2020-05-05T06:19:23.891180Z"
    },
    "hidden": true,
    "scrolled": true
   },
   "outputs": [
    {
     "ename": "IndentationError",
     "evalue": "unexpected indent (<ipython-input-75-5e82ebcdc697>, line 2)",
     "output_type": "error",
     "traceback": [
      "\u001b[0;36m  File \u001b[0;32m\"<ipython-input-75-5e82ebcdc697>\"\u001b[0;36m, line \u001b[0;32m2\u001b[0m\n\u001b[0;31m    will_this=\"work\"\u001b[0m\n\u001b[0m    ^\u001b[0m\n\u001b[0;31mIndentationError\u001b[0m\u001b[0;31m:\u001b[0m unexpected indent\n"
     ]
    }
   ],
   "source": [
    "this_is=20\n",
    "    will_this=\"work\""
   ]
  },
  {
   "cell_type": "code",
   "execution_count": 77,
   "metadata": {
    "ExecuteTime": {
     "end_time": "2020-05-05T06:20:18.507036Z",
     "start_time": "2020-05-05T06:20:18.504474Z"
    },
    "hidden": true
   },
   "outputs": [],
   "source": [
    "this_is=20\n",
    "will_this=\"work\""
   ]
  },
  {
   "cell_type": "code",
   "execution_count": 76,
   "metadata": {
    "ExecuteTime": {
     "end_time": "2020-05-05T06:20:08.119894Z",
     "start_time": "2020-05-05T06:20:08.116479Z"
    },
    "hidden": true
   },
   "outputs": [
    {
     "ename": "IndentationError",
     "evalue": "expected an indented block (<ipython-input-76-c1b345444c33>, line 2)",
     "output_type": "error",
     "traceback": [
      "\u001b[0;36m  File \u001b[0;32m\"<ipython-input-76-c1b345444c33>\"\u001b[0;36m, line \u001b[0;32m2\u001b[0m\n\u001b[0;31m    x=21\u001b[0m\n\u001b[0m    ^\u001b[0m\n\u001b[0;31mIndentationError\u001b[0m\u001b[0;31m:\u001b[0m expected an indented block\n"
     ]
    }
   ],
   "source": [
    "if 21<33:\n",
    "x=21"
   ]
  },
  {
   "cell_type": "code",
   "execution_count": 78,
   "metadata": {
    "ExecuteTime": {
     "end_time": "2020-05-05T06:20:28.269800Z",
     "start_time": "2020-05-05T06:20:28.267033Z"
    },
    "hidden": true
   },
   "outputs": [],
   "source": [
    "if 21<33:\n",
    "    x=21"
   ]
  },
  {
   "cell_type": "markdown",
   "metadata": {
    "heading_collapsed": true,
    "hidden": true
   },
   "source": [
    "#### Differences with code blocks in languages like C"
   ]
  },
  {
   "cell_type": "markdown",
   "metadata": {
    "hidden": true
   },
   "source": [
    "* In C, whitespace doesn't matter. \n",
    "    * In Python, whitespace at the beginning of a line are very important.\n",
    "* In C, Code blocks are marked by { curly brackets }. \n",
    "    * In Python, whitespace at the beginning of the line mark a code block. \n",
    "* You can create interior code blocks anywhere.\n",
    "    * In Python, an interior level of code can only be created inside a conditional statements body or a loop's body.\n",
    "* In C, variables defined within an interior code block are deleted/released once you leave that block.\n",
    "    * In Python, variables defined in an inner block are still available to the outer block.\n",
    "    * Read about [scope](https://en.wikipedia.org/wiki/Scope_(computer_science)) in programming languages."
   ]
  },
  {
   "cell_type": "code",
   "execution_count": 79,
   "metadata": {
    "ExecuteTime": {
     "end_time": "2020-05-05T06:24:29.826457Z",
     "start_time": "2020-05-05T06:24:29.823310Z"
    },
    "hidden": true
   },
   "outputs": [
    {
     "name": "stdout",
     "output_type": "stream",
     "text": [
      "secret value\n"
     ]
    }
   ],
   "source": [
    "if 21 < 25 :\n",
    "    a_totally_new_variable=\"secret value\"\n",
    "print(a_totally_new_variable)"
   ]
  },
  {
   "cell_type": "markdown",
   "metadata": {
    "ExecuteTime": {
     "end_time": "2020-05-05T06:41:02.655718Z",
     "start_time": "2020-05-05T06:41:02.634682Z"
    },
    "heading_collapsed": true,
    "hidden": true
   },
   "source": [
    "#### else statements and nesting"
   ]
  },
  {
   "cell_type": "code",
   "execution_count": 82,
   "metadata": {
    "ExecuteTime": {
     "end_time": "2020-05-05T06:48:41.315668Z",
     "start_time": "2020-05-05T06:48:41.313246Z"
    },
    "hidden": true
   },
   "outputs": [],
   "source": [
    "x=22"
   ]
  },
  {
   "cell_type": "code",
   "execution_count": 81,
   "metadata": {
    "ExecuteTime": {
     "end_time": "2020-05-05T06:48:33.667479Z",
     "start_time": "2020-05-05T06:48:33.664325Z"
    },
    "hidden": true
   },
   "outputs": [
    {
     "name": "stdout",
     "output_type": "stream",
     "text": [
      "from -inf to 99\n"
     ]
    }
   ],
   "source": [
    "if x < 100 :\n",
    "    print(\"from -inf to 99\")\n",
    "else :\n",
    "    print(\"from 100 to +inf\")"
   ]
  },
  {
   "cell_type": "markdown",
   "metadata": {
    "hidden": true
   },
   "source": [
    "* The else statement takes care of the exclusionary case. Everything that is not part of the if, goes to the else.\n",
    "* Let's look at something slightly more complicated."
   ]
  },
  {
   "cell_type": "code",
   "execution_count": 83,
   "metadata": {
    "ExecuteTime": {
     "end_time": "2020-05-05T06:50:36.433793Z",
     "start_time": "2020-05-05T06:50:36.430864Z"
    },
    "hidden": true
   },
   "outputs": [
    {
     "name": "stdout",
     "output_type": "stream",
     "text": [
      "A number from 1 to 100\n"
     ]
    }
   ],
   "source": [
    "if x <=0 or x>100:\n",
    "    print(\"Not a number from 1 to 100\")\n",
    "else:\n",
    "    print(\"A number from 1 to 100\")"
   ]
  },
  {
   "cell_type": "markdown",
   "metadata": {
    "hidden": true
   },
   "source": [
    "Tip : Practice calculating the **opposite** of a condition.\n",
    "* Opposite of >? Opposite of ==?\n",
    "* Opposite of **x and y**? Opposite of x?"
   ]
  },
  {
   "cell_type": "markdown",
   "metadata": {
    "hidden": true
   },
   "source": [
    "* Suppose you want to break up the **if case** or the **else case**. \n",
    "* You can put another if...else statement inside the **if code block** or the **else code block**."
   ]
  },
  {
   "cell_type": "code",
   "execution_count": 85,
   "metadata": {
    "ExecuteTime": {
     "end_time": "2020-05-05T07:12:49.944859Z",
     "start_time": "2020-05-05T07:12:49.941354Z"
    },
    "hidden": true
   },
   "outputs": [
    {
     "name": "stdout",
     "output_type": "stream",
     "text": [
      "A number from 1 to 100\n"
     ]
    }
   ],
   "source": [
    "if x <=0 or x>100:\n",
    "    if x <=0:\n",
    "        print(\"Negative number!\")\n",
    "    else:\n",
    "        print(\"Positive number from 101 to inf\")\n",
    "else:\n",
    "    print(\"A number from 1 to 100\")"
   ]
  },
  {
   "cell_type": "code",
   "execution_count": 87,
   "metadata": {
    "ExecuteTime": {
     "end_time": "2020-05-05T07:14:03.426901Z",
     "start_time": "2020-05-05T07:14:03.423403Z"
    },
    "hidden": true
   },
   "outputs": [
    {
     "name": "stdout",
     "output_type": "stream",
     "text": [
      "Number from 1 to 50\n"
     ]
    }
   ],
   "source": [
    "if x <=0 or x>100:\n",
    "    print(\"Not a number from 1 to 100\")\n",
    "else:\n",
    "    if x <50:\n",
    "        print(\"Number from 1 to 50\")\n",
    "    else:\n",
    "        print(\"Number from 51 to 100\")"
   ]
  },
  {
   "cell_type": "markdown",
   "metadata": {
    "hidden": true
   },
   "source": [
    "Tip : \n",
    "\n",
    "* Practice drawing simple branching diagrams, to explain how to divide a problem into multiple subcases and sub sub cases. Visualizing it really helps - you can visualize it however you want, branching diagrams are just one example.\n",
    "* Even for experienced programmers, if...else statements are the place where they make the most mistakes!"
   ]
  },
  {
   "cell_type": "markdown",
   "metadata": {
    "ExecuteTime": {
     "end_time": "2020-05-05T07:16:45.550815Z",
     "start_time": "2020-05-05T07:16:45.547092Z"
    },
    "hidden": true
   },
   "source": [
    "* Conditions are confusing, so always try to write it in a readable way that is very simple to understand. \n",
    "* For example, we can rewrite the first code by switching the if...else conditions to make it more readable."
   ]
  },
  {
   "cell_type": "code",
   "execution_count": 90,
   "metadata": {
    "ExecuteTime": {
     "end_time": "2020-05-05T07:22:29.353809Z",
     "start_time": "2020-05-05T07:22:29.350516Z"
    },
    "hidden": true
   },
   "outputs": [
    {
     "name": "stdout",
     "output_type": "stream",
     "text": [
      "A number from 1 to 100\n"
     ]
    }
   ],
   "source": [
    "if x > 0 and  x<=100:\n",
    "    print(\"A number from 1 to 100\")\n",
    "else:\n",
    "    print(\"Not a number from 1 to 100\")"
   ]
  },
  {
   "cell_type": "markdown",
   "metadata": {
    "heading_collapsed": true,
    "hidden": true
   },
   "source": [
    "#### elif statements"
   ]
  },
  {
   "cell_type": "code",
   "execution_count": null,
   "metadata": {
    "hidden": true
   },
   "outputs": [],
   "source": [
    "if x <=0 or x>100:\n",
    "    print(\"Not a number from 1 to 100\")\n",
    "else:\n",
    "    if x <50:\n",
    "        print(\"Number from 1 to 50\")\n",
    "    else:\n",
    "        if x <=75 :\n",
    "            print(\"Number from 51 to 75\")\n",
    "        else:\n",
    "            print(\"Number from 76 to 100\")"
   ]
  },
  {
   "cell_type": "markdown",
   "metadata": {
    "hidden": true
   },
   "source": [
    "Now this is getting confusing... We can simplify this using the **elif** statement."
   ]
  },
  {
   "cell_type": "code",
   "execution_count": 91,
   "metadata": {
    "ExecuteTime": {
     "end_time": "2020-05-05T07:28:41.025303Z",
     "start_time": "2020-05-05T07:28:41.021871Z"
    },
    "hidden": true
   },
   "outputs": [
    {
     "name": "stdout",
     "output_type": "stream",
     "text": [
      "Number from 1 to 50\n"
     ]
    }
   ],
   "source": [
    "if x <=0 or x>100:\n",
    "    print(\"Not a number from 1 to 100\")\n",
    "elif x <50:\n",
    "    print(\"Number from 1 to 50\")\n",
    "elif x <=75 :\n",
    "    print(\"Number from 51 to 75\")\n",
    "else:\n",
    "    print(\"Number from 76 to 100\")"
   ]
  },
  {
   "cell_type": "markdown",
   "metadata": {
    "hidden": true
   },
   "source": [
    "* The above two blocks of code are exactly the same. \n",
    "\n",
    "The logic behind if...elif...else blocks is like this.\n",
    "\n",
    "\n",
    "1. Look at the **if statement**\n",
    "    1. If it matches, execute interior code. Then **SKIP ALL the elif and else blocks**.\n",
    "    2. If it doesn't match go to next elif.\n",
    "2. Look at the **elif statement**\n",
    "    1. If it matches, execute interior code. Then SKIP ALL the **remaining** elif and else blocks**.\n",
    "    2. If it doesn't match go to next elif.\n",
    "```\n",
    "....\n",
    "....\n",
    "....\n",
    "```\n",
    "3. You have reached the **else statement**.\n",
    "    1. This can only happpen if none of the above if or elif statements matched!"
   ]
  },
  {
   "cell_type": "markdown",
   "metadata": {
    "hidden": true
   },
   "source": [
    "* Thus, if...elif...else is a prioritized list of cases. \n",
    "* Therefore **order** matters. \n",
    "* The below two codes have different meanings"
   ]
  },
  {
   "cell_type": "code",
   "execution_count": 100,
   "metadata": {
    "ExecuteTime": {
     "end_time": "2020-05-05T07:56:33.477753Z",
     "start_time": "2020-05-05T07:56:33.474527Z"
    },
    "hidden": true
   },
   "outputs": [
    {
     "name": "stdout",
     "output_type": "stream",
     "text": [
      "Less than 100\n"
     ]
    }
   ],
   "source": [
    "if x <100 :\n",
    "    print(\"Less than 100\")\n",
    "elif x <200 :\n",
    "    print(\"Between 100-200\")"
   ]
  },
  {
   "cell_type": "code",
   "execution_count": 99,
   "metadata": {
    "ExecuteTime": {
     "end_time": "2020-05-05T07:56:31.855341Z",
     "start_time": "2020-05-05T07:56:31.852061Z"
    },
    "hidden": true
   },
   "outputs": [
    {
     "name": "stdout",
     "output_type": "stream",
     "text": [
      "Less than 200\n"
     ]
    }
   ],
   "source": [
    "if x <200 :\n",
    "    print(\"Less than 200\")\n",
    "elif x <100 :\n",
    "    print(\"Unreachable code\")"
   ]
  },
  {
   "cell_type": "markdown",
   "metadata": {
    "heading_collapsed": true,
    "hidden": true
   },
   "source": [
    "#### pass statement"
   ]
  },
  {
   "cell_type": "markdown",
   "metadata": {
    "hidden": true
   },
   "source": [
    "* The ``pass`` statement is another special statement. \n",
    "* It does ... nothing.\n",
    "* So why do we need it?\n",
    "* Although ``pass`` statement can be put anywhere..."
   ]
  },
  {
   "cell_type": "code",
   "execution_count": 125,
   "metadata": {
    "ExecuteTime": {
     "end_time": "2020-05-05T08:59:41.238398Z",
     "start_time": "2020-05-05T08:59:41.236137Z"
    },
    "hidden": true
   },
   "outputs": [],
   "source": [
    "pass"
   ]
  },
  {
   "cell_type": "markdown",
   "metadata": {
    "hidden": true
   },
   "source": [
    "* It's most (only?) valid use case is in an if....else statement.\n",
    "* This is when you want to write down a case very clearly, but you don't actually need to do anything for it. Or you want to specifically ignore it."
   ]
  },
  {
   "cell_type": "code",
   "execution_count": null,
   "metadata": {
    "hidden": true
   },
   "outputs": [],
   "source": [
    "if x < 0 :\n",
    "    print(\"Negative\")\n",
    "elif x <100:\n",
    "    pass\n",
    "else:\n",
    "    print(\"Large positive number\")"
   ]
  },
  {
   "cell_type": "markdown",
   "metadata": {
    "heading_collapsed": true
   },
   "source": [
    "### Loops"
   ]
  },
  {
   "cell_type": "markdown",
   "metadata": {
    "heading_collapsed": true,
    "hidden": true
   },
   "source": [
    "#### The basic while loop"
   ]
  },
  {
   "cell_type": "code",
   "execution_count": 101,
   "metadata": {
    "ExecuteTime": {
     "end_time": "2020-05-05T08:00:28.084670Z",
     "start_time": "2020-05-05T08:00:28.081089Z"
    },
    "hidden": true
   },
   "outputs": [
    {
     "ename": "SyntaxError",
     "evalue": "invalid syntax (<ipython-input-101-faa057844d02>, line 1)",
     "output_type": "error",
     "traceback": [
      "\u001b[0;36m  File \u001b[0;32m\"<ipython-input-101-faa057844d02>\"\u001b[0;36m, line \u001b[0;32m1\u001b[0m\n\u001b[0;31m    Motivating example\u001b[0m\n\u001b[0m                     ^\u001b[0m\n\u001b[0;31mSyntaxError\u001b[0m\u001b[0;31m:\u001b[0m invalid syntax\n"
     ]
    }
   ],
   "source": [
    "Motivating example"
   ]
  },
  {
   "cell_type": "markdown",
   "metadata": {
    "hidden": true
   },
   "source": [
    "The syntax for the basic while loop is \n",
    "\n",
    "```\n",
    "while condition :\n",
    "    x+=1\n",
    "    y=x+42\n",
    "    ...\n",
    "    ...\n",
    "    # body\n",
    "    ...\n",
    "print(\"outside the loop\")\n",
    "```\n",
    "\n",
    "* Uses indentation to mark inside code block just like if...else\n",
    "* Conditions are expressions which must evaluate to a boolean i.e. True or False statements"
   ]
  },
  {
   "cell_type": "markdown",
   "metadata": {
    "heading_collapsed": true,
    "hidden": true
   },
   "source": [
    "#### Example 1 : Calculating n factorial"
   ]
  },
  {
   "cell_type": "markdown",
   "metadata": {
    "hidden": true
   },
   "source": [
    "n! = n * (n-1) * (n-2) ....  * 2 * 1\n",
    "\n",
    "For example,\n",
    "\n",
    "5! = 5 * 4 * 3 * 2 * 1"
   ]
  },
  {
   "cell_type": "code",
   "execution_count": 114,
   "metadata": {
    "ExecuteTime": {
     "end_time": "2020-05-05T08:34:56.874929Z",
     "start_time": "2020-05-05T08:34:56.870710Z"
    },
    "hidden": true
   },
   "outputs": [
    {
     "name": "stdout",
     "output_type": "stream",
     "text": [
      "1\n",
      "2\n",
      "6\n",
      "24\n",
      "120\n"
     ]
    }
   ],
   "source": [
    "n=5\n",
    "product=1\n",
    "current=1\n",
    "while current <= n:\n",
    "    product*=current\n",
    "    print(product)\n",
    "    current+=1"
   ]
  },
  {
   "cell_type": "markdown",
   "metadata": {
    "hidden": true
   },
   "source": [
    "Notice \n",
    "* ``current`` is the loop variable. It's what is changing as the loop changes. \n",
    "* More importantly it is what causes the loop to **terminate**.\n"
   ]
  },
  {
   "cell_type": "markdown",
   "metadata": {
    "hidden": true
   },
   "source": [
    "What happens if we forget to add the line ``current+=1``?"
   ]
  },
  {
   "cell_type": "code",
   "execution_count": 116,
   "metadata": {
    "ExecuteTime": {
     "end_time": "2020-05-05T08:36:58.975761Z",
     "start_time": "2020-05-05T08:36:57.345627Z"
    },
    "hidden": true
   },
   "outputs": [
    {
     "ename": "KeyboardInterrupt",
     "evalue": "",
     "output_type": "error",
     "traceback": [
      "\u001b[0;31m---------------------------------------------------------------------------\u001b[0m",
      "\u001b[0;31mKeyboardInterrupt\u001b[0m                         Traceback (most recent call last)",
      "\u001b[0;32m<ipython-input-116-84037056df3a>\u001b[0m in \u001b[0;36m<module>\u001b[0;34m\u001b[0m\n\u001b[1;32m      3\u001b[0m \u001b[0mcurrent\u001b[0m\u001b[0;34m=\u001b[0m\u001b[0;36m1\u001b[0m\u001b[0;34m\u001b[0m\u001b[0;34m\u001b[0m\u001b[0m\n\u001b[1;32m      4\u001b[0m \u001b[0;32mwhile\u001b[0m \u001b[0mcurrent\u001b[0m \u001b[0;34m<=\u001b[0m \u001b[0mn\u001b[0m\u001b[0;34m:\u001b[0m\u001b[0;34m\u001b[0m\u001b[0;34m\u001b[0m\u001b[0m\n\u001b[0;32m----> 5\u001b[0;31m     \u001b[0mproduct\u001b[0m\u001b[0;34m*=\u001b[0m\u001b[0mcurrent\u001b[0m\u001b[0;34m\u001b[0m\u001b[0;34m\u001b[0m\u001b[0m\n\u001b[0m\u001b[1;32m      6\u001b[0m \u001b[0;31m#     print(product)\u001b[0m\u001b[0;34m\u001b[0m\u001b[0;34m\u001b[0m\u001b[0;34m\u001b[0m\u001b[0m\n",
      "\u001b[0;31mKeyboardInterrupt\u001b[0m: "
     ]
    }
   ],
   "source": [
    "n=5\n",
    "product=1\n",
    "current=1\n",
    "while current <= n:\n",
    "    product*=current\n",
    "    print(product)"
   ]
  },
  {
   "cell_type": "markdown",
   "metadata": {
    "hidden": true
   },
   "source": [
    "**BEWARE OF INFINITE LOOPS!!!** \n",
    "\n",
    "* Infinite loops happen because the condition at the top of the while loop is never reached. \n",
    "* Even experienced programmers regularly make mistakes that lead to infinite loops. \n",
    "* Code is all about conditions, since if...else and while are enough to write practically any sort of computation.\n",
    "* So if the conditions are wrong, you can run into issues like infinite loops."
   ]
  },
  {
   "cell_type": "markdown",
   "metadata": {
    "heading_collapsed": true,
    "hidden": true
   },
   "source": [
    "#### Example 2 : Printing cool ascii art X"
   ]
  },
  {
   "cell_type": "code",
   "execution_count": 110,
   "metadata": {
    "ExecuteTime": {
     "end_time": "2020-05-05T08:30:06.413326Z",
     "start_time": "2020-05-05T08:30:06.407446Z"
    },
    "hidden": true
   },
   "outputs": [
    {
     "name": "stdout",
     "output_type": "stream",
     "text": [
      "\\--------/\n",
      "-\\------/-\n",
      "--\\----/--\n",
      "---\\--/---\n",
      "----\\/----\n",
      "----/\\----\n",
      "---/--\\---\n",
      "--/----\\--\n",
      "-/------\\-\n",
      "/--------\\\n"
     ]
    }
   ],
   "source": [
    "size=10\n",
    "i=0\n",
    "while i <size:\n",
    "    string=\"\"\n",
    "    j=0\n",
    "    while j < size:\n",
    "        if j==i:\n",
    "            string=string+\"\\\\\"\n",
    "        elif j==size-i-1:\n",
    "            string=string+\"/\"\n",
    "        else:\n",
    "            string=string+\"-\"\n",
    "        j+=1\n",
    "    print(string)\n",
    "    i+=1"
   ]
  },
  {
   "cell_type": "markdown",
   "metadata": {
    "hidden": true
   },
   "source": [
    "Notice :\n",
    "* You can nest loops\n",
    "* You can mix loops with \n",
    "* You might notice two variables ``i`` and ``j``. \n",
    "* Both are loop variables for each loop.\n",
    "* Can you use the same variable for both loops?\n",
    "    * In principle you can, and in some cases it might even make the code more readable. \n",
    "    * But that's a dangerous idea! \n",
    "    * Make KISS - Keep It Simple Silly - your mantra.\n",
    "    * If you keep your coding style as simple and easy to understand as possible, you can tackle more and more complex problems."
   ]
  },
  {
   "cell_type": "markdown",
   "metadata": {
    "heading_collapsed": true,
    "hidden": true
   },
   "source": [
    "#### A brief intro to Lists"
   ]
  },
  {
   "cell_type": "markdown",
   "metadata": {
    "hidden": true
   },
   "source": [
    "* So far you have seen simple datatypes such as numbers, strings and booleans.\n",
    "* And, actually data comes in these \"basic\" forms only (well, more or less).\n",
    "* But what if you have lots of these small data chunks? How do you arrange them? "
   ]
  },
  {
   "cell_type": "markdown",
   "metadata": {
    "hidden": true
   },
   "source": [
    "* One of the simplest ways to arrange data is in a list. Take a real life list for example\n",
    "\n",
    "**My courses for this year**\n",
    "* Artificial Intelligence\n",
    "* Computer Vision\n",
    "* Data Mining\n",
    "* Randomized Algorithms\n",
    "* Data Structures\n",
    "* English\n",
    "\n",
    "* Lists are an **ordered** collection of objects. \n",
    "\n",
    "**In Python you define lists like this**"
   ]
  },
  {
   "cell_type": "code",
   "execution_count": 149,
   "metadata": {
    "ExecuteTime": {
     "end_time": "2020-05-05T11:21:32.143863Z",
     "start_time": "2020-05-05T11:21:32.140870Z"
    },
    "hidden": true
   },
   "outputs": [
    {
     "name": "stdout",
     "output_type": "stream",
     "text": [
      "A list of strings : ['Artificial Intelligence', 'Computer Vision', 'Data Mining', 'Randomized Algorithms', 'Data Structures', 'English']\n"
     ]
    }
   ],
   "source": [
    "# a list with some elements\n",
    "my_courses = [\"Artificial Intelligence\",\"Computer Vision\",\n",
    "              \"Data Mining\",\"Randomized Algorithms\",\n",
    "              \"Data Structures\",\"English\"]\n",
    "\n",
    "# btw, str() works to get a string representation of most things in Python!\n",
    "print(\"A list of strings : \" + str(my_courses))"
   ]
  },
  {
   "cell_type": "markdown",
   "metadata": {
    "hidden": true
   },
   "source": [
    "**Side Note** :\n",
    "\n",
    "* By the way, do you notice I split the definition into multiple lines for neatness?\n",
    "* In general, Python does not allow a statement to continue to the next line by itself.\n",
    "* You have to use \"\\\" to split a statement like this\n",
    "    ```\n",
    "    x = 22 + \\\n",
    "        33 + \\\n",
    "        44\n",
    "    ```\n",
    "* But exceptions to this rule is for list/dictionary/tuple/set definitions and function/constructor/method calls and definitions."
   ]
  },
  {
   "cell_type": "code",
   "execution_count": 146,
   "metadata": {
    "ExecuteTime": {
     "end_time": "2020-05-05T11:21:04.292391Z",
     "start_time": "2020-05-05T11:21:04.289116Z"
    },
    "hidden": true
   },
   "outputs": [
    {
     "name": "stdout",
     "output_type": "stream",
     "text": [
      "An empty list : []\n"
     ]
    }
   ],
   "source": [
    "# an empty list\n",
    "empty_list = []\n",
    "print(\"An empty list : \"+str(empty_list))"
   ]
  },
  {
   "cell_type": "code",
   "execution_count": 156,
   "metadata": {
    "ExecuteTime": {
     "end_time": "2020-05-05T11:25:04.112324Z",
     "start_time": "2020-05-05T11:25:04.108871Z"
    },
    "hidden": true
   },
   "outputs": [
    {
     "name": "stdout",
     "output_type": "stream",
     "text": [
      "A mixed list : [1, True, 100.0, 'HEllo']\n"
     ]
    }
   ],
   "source": [
    "# lists can have mixed values\n",
    "mixed_values_list = [1, True, 100.0, \"HEllo\"]\n",
    "print(\"A mixed list : \"+str(mixed_values_list))"
   ]
  },
  {
   "cell_type": "code",
   "execution_count": 148,
   "metadata": {
    "ExecuteTime": {
     "end_time": "2020-05-05T11:21:17.339735Z",
     "start_time": "2020-05-05T11:21:17.335997Z"
    },
    "hidden": true
   },
   "outputs": [
    {
     "name": "stdout",
     "output_type": "stream",
     "text": [
      "A mixed list with list elements : [22, 33, [100, 22], [11, 444, 0]]\n"
     ]
    }
   ],
   "source": [
    "# lists can even contain lists! Actually lists can contain any object! (More later)\n",
    "list_of_lists=[22,33,[100,22],[11,444,0]]\n",
    "print(\"A mixed list with list elements : \"+str(list_of_lists))"
   ]
  },
  {
   "cell_type": "markdown",
   "metadata": {
    "hidden": true
   },
   "source": [
    "**Reading values from the list**\n",
    "\n",
    "You can do it by indexing and slicing, very similar to strings."
   ]
  },
  {
   "cell_type": "code",
   "execution_count": 142,
   "metadata": {
    "ExecuteTime": {
     "end_time": "2020-05-05T11:14:10.345118Z",
     "start_time": "2020-05-05T11:14:10.340490Z"
    },
    "hidden": true
   },
   "outputs": [
    {
     "name": "stdout",
     "output_type": "stream",
     "text": [
      "Artificial Intelligence\n",
      "English\n",
      "['Computer Vision', 'Data Mining', 'Randomized Algorithms', 'Data Structures', 'English']\n",
      "['Randomized Algorithms', 'Data Structures']\n",
      "['Data Mining']\n",
      "['English']\n"
     ]
    }
   ],
   "source": [
    "print(my_courses[0]) \n",
    "print(my_courses[-1])\n",
    "print(my_courses[1:])\n",
    "print(my_courses[3:5])\n",
    "print(my_courses[-4:-3])\n",
    "print(my_courses[-1:])"
   ]
  },
  {
   "cell_type": "markdown",
   "metadata": {
    "hidden": true
   },
   "source": [
    "If you try to index outside the list, you will get an IndexError."
   ]
  },
  {
   "cell_type": "code",
   "execution_count": 161,
   "metadata": {
    "ExecuteTime": {
     "end_time": "2020-05-05T11:31:58.778412Z",
     "start_time": "2020-05-05T11:31:58.771192Z"
    },
    "hidden": true
   },
   "outputs": [
    {
     "name": "stdout",
     "output_type": "stream",
     "text": [
      "['only', 'three', 'elements']\n"
     ]
    },
    {
     "ename": "IndexError",
     "evalue": "list index out of range",
     "output_type": "error",
     "traceback": [
      "\u001b[0;31m---------------------------------------------------------------------------\u001b[0m",
      "\u001b[0;31mIndexError\u001b[0m                                Traceback (most recent call last)",
      "\u001b[0;32m<ipython-input-161-c840bfe012c4>\u001b[0m in \u001b[0;36m<module>\u001b[0;34m\u001b[0m\n\u001b[1;32m      1\u001b[0m \u001b[0mmylist\u001b[0m\u001b[0;34m=\u001b[0m\u001b[0;34m[\u001b[0m\u001b[0;34m\"only\"\u001b[0m\u001b[0;34m,\u001b[0m\u001b[0;34m\"three\"\u001b[0m\u001b[0;34m,\u001b[0m\u001b[0;34m\"elements\"\u001b[0m\u001b[0;34m]\u001b[0m\u001b[0;34m\u001b[0m\u001b[0;34m\u001b[0m\u001b[0m\n\u001b[1;32m      2\u001b[0m \u001b[0mprint\u001b[0m\u001b[0;34m(\u001b[0m\u001b[0mmylist\u001b[0m\u001b[0;34m)\u001b[0m\u001b[0;34m\u001b[0m\u001b[0;34m\u001b[0m\u001b[0m\n\u001b[0;32m----> 3\u001b[0;31m \u001b[0mmylist\u001b[0m\u001b[0;34m[\u001b[0m\u001b[0;36m3\u001b[0m\u001b[0;34m]\u001b[0m\u001b[0;34m\u001b[0m\u001b[0;34m\u001b[0m\u001b[0m\n\u001b[0m",
      "\u001b[0;31mIndexError\u001b[0m: list index out of range"
     ]
    }
   ],
   "source": [
    "mylist=[\"only\",\"three\",\"elements\"]\n",
    "print(mylist)\n",
    "mylist[3]"
   ]
  },
  {
   "cell_type": "markdown",
   "metadata": {
    "hidden": true
   },
   "source": [
    "**Assigning new values to the list**\n",
    "\n",
    "You can do this by indexing the list like below"
   ]
  },
  {
   "cell_type": "code",
   "execution_count": 157,
   "metadata": {
    "ExecuteTime": {
     "end_time": "2020-05-05T11:25:06.337469Z",
     "start_time": "2020-05-05T11:25:06.334254Z"
    },
    "hidden": true
   },
   "outputs": [
    {
     "name": "stdout",
     "output_type": "stream",
     "text": [
      "[1, True, 100.0, 'HEllo']\n"
     ]
    }
   ],
   "source": [
    "print(mixed_values_list)"
   ]
  },
  {
   "cell_type": "code",
   "execution_count": 158,
   "metadata": {
    "ExecuteTime": {
     "end_time": "2020-05-05T11:25:07.025195Z",
     "start_time": "2020-05-05T11:25:07.022075Z"
    },
    "hidden": true,
    "scrolled": true
   },
   "outputs": [
    {
     "name": "stdout",
     "output_type": "stream",
     "text": [
      "[1, 42, 100.0, 'HEllo']\n"
     ]
    }
   ],
   "source": [
    "mixed_values_list[1]=42\n",
    "print(mixed_values_list)"
   ]
  },
  {
   "cell_type": "markdown",
   "metadata": {
    "hidden": true
   },
   "source": [
    "Note : \n",
    "\n",
    "* Adding new elements to a list (and making it longer) is also possible. It will be discussed in a subsequent section.\n",
    "* Similarly for deleting elements."
   ]
  },
  {
   "cell_type": "markdown",
   "metadata": {
    "heading_collapsed": true,
    "hidden": true
   },
   "source": [
    "#### The basic for loop"
   ]
  },
  {
   "cell_type": "markdown",
   "metadata": {
    "hidden": true
   },
   "source": [
    "* One of the main reasons to write a loop is to work with lists!\n",
    "* Think about it, lists have a lot of usually similar elements, and you probably want to do the same operation for each of them.\n",
    "* Thus Python has a special syntax to work with lists and list-like objects called the **for loop**."
   ]
  },
  {
   "cell_type": "code",
   "execution_count": 162,
   "metadata": {
    "ExecuteTime": {
     "end_time": "2020-05-05T11:39:40.095222Z",
     "start_time": "2020-05-05T11:39:40.091279Z"
    },
    "hidden": true
   },
   "outputs": [
    {
     "name": "stdout",
     "output_type": "stream",
     "text": [
      "4\n",
      "16\n",
      "9\n",
      "25\n"
     ]
    }
   ],
   "source": [
    "numbers=[2,4,3,5]\n",
    "for num in numbers:\n",
    "    square=num*num\n",
    "    print(square)"
   ]
  },
  {
   "cell_type": "markdown",
   "metadata": {
    "hidden": true
   },
   "source": [
    "Thus the generic syntax for for loops is \n",
    "\n",
    "```\n",
    "for element in iterable:\n",
    "    # body of the loop\n",
    "    print(element)\n",
    "```\n",
    "\n",
    "* An \"iterable\" is something that you can \"iterate\" over - basically it has a bunch of smaller elements, which it can give to you one by one.\n",
    "* A list is an iterable.\n",
    "* A string is also an iterable!"
   ]
  },
  {
   "cell_type": "code",
   "execution_count": 163,
   "metadata": {
    "ExecuteTime": {
     "end_time": "2020-05-05T11:43:18.494033Z",
     "start_time": "2020-05-05T11:43:18.488845Z"
    },
    "hidden": true
   },
   "outputs": [
    {
     "name": "stdout",
     "output_type": "stream",
     "text": [
      "||    S    ||\n",
      "||    t    ||\n",
      "||    r    ||\n",
      "||    i    ||\n",
      "||    n    ||\n",
      "||    g    ||\n",
      "||    s    ||\n",
      "||         ||\n",
      "||    a    ||\n",
      "||    r    ||\n",
      "||    e    ||\n",
      "||         ||\n",
      "||    i    ||\n",
      "||    t    ||\n",
      "||    e    ||\n",
      "||    r    ||\n",
      "||    a    ||\n",
      "||    b    ||\n",
      "||    l    ||\n",
      "||    e    ||\n",
      "||    !    ||\n"
     ]
    }
   ],
   "source": [
    "for letter in \"Strings are iterable!\":\n",
    "    print(\"||    \" + letter + \"    ||\")"
   ]
  },
  {
   "cell_type": "markdown",
   "metadata": {
    "hidden": true
   },
   "source": [
    "But if you try with a number, obviously a number is not iterable..."
   ]
  },
  {
   "cell_type": "code",
   "execution_count": 164,
   "metadata": {
    "ExecuteTime": {
     "end_time": "2020-05-05T11:44:08.657281Z",
     "start_time": "2020-05-05T11:44:08.651037Z"
    },
    "hidden": true
   },
   "outputs": [
    {
     "ename": "TypeError",
     "evalue": "'int' object is not iterable",
     "output_type": "error",
     "traceback": [
      "\u001b[0;31m---------------------------------------------------------------------------\u001b[0m",
      "\u001b[0;31mTypeError\u001b[0m                                 Traceback (most recent call last)",
      "\u001b[0;32m<ipython-input-164-8fd43ad8c3b0>\u001b[0m in \u001b[0;36m<module>\u001b[0;34m\u001b[0m\n\u001b[0;32m----> 1\u001b[0;31m \u001b[0;32mfor\u001b[0m \u001b[0msomething\u001b[0m \u001b[0;32min\u001b[0m \u001b[0;36m22\u001b[0m\u001b[0;34m:\u001b[0m\u001b[0;34m\u001b[0m\u001b[0;34m\u001b[0m\u001b[0m\n\u001b[0m\u001b[1;32m      2\u001b[0m     \u001b[0mlets\u001b[0m\u001b[0;34m=\u001b[0m\u001b[0;34m\"try this\"\u001b[0m\u001b[0;34m\u001b[0m\u001b[0;34m\u001b[0m\u001b[0m\n",
      "\u001b[0;31mTypeError\u001b[0m: 'int' object is not iterable"
     ]
    }
   ],
   "source": [
    "for something in 22:\n",
    "    lets=\"try this\""
   ]
  },
  {
   "cell_type": "markdown",
   "metadata": {
    "heading_collapsed": true,
    "hidden": true
   },
   "source": [
    "#### break and continue statements"
   ]
  },
  {
   "cell_type": "markdown",
   "metadata": {
    "hidden": true
   },
   "source": [
    "* Think of ``break`` and ``continue`` as commands to use within a loop. \n",
    "* ``break`` tells the loop to stop.\n",
    "* ``continue`` tells the loop, okay just go to the next iteration, no need to finish this one.\n",
    "* ``break`` and ``continue`` can only be used inside a loop."
   ]
  },
  {
   "cell_type": "code",
   "execution_count": 120,
   "metadata": {
    "ExecuteTime": {
     "end_time": "2020-05-05T08:56:19.861579Z",
     "start_time": "2020-05-05T08:56:19.857751Z"
    },
    "hidden": true
   },
   "outputs": [
    {
     "ename": "SyntaxError",
     "evalue": "'break' outside loop (<ipython-input-120-6aaf1f276005>, line 4)",
     "output_type": "error",
     "traceback": [
      "\u001b[0;36m  File \u001b[0;32m\"<ipython-input-120-6aaf1f276005>\"\u001b[0;36m, line \u001b[0;32m4\u001b[0m\n\u001b[0;31mSyntaxError\u001b[0m\u001b[0;31m:\u001b[0m 'break' outside loop\n"
     ]
    }
   ],
   "source": [
    "break"
   ]
  },
  {
   "cell_type": "code",
   "execution_count": 542,
   "metadata": {
    "ExecuteTime": {
     "end_time": "2020-05-06T20:07:48.570552Z",
     "start_time": "2020-05-06T20:07:48.566613Z"
    },
    "hidden": true
   },
   "outputs": [
    {
     "name": "stdout",
     "output_type": "stream",
     "text": [
      "False\n"
     ]
    }
   ],
   "source": [
    "animals=[\"cat\",\"cat\",\"cat\",\"dog,\"\"cat\",\"cat\"]\n",
    "only_cats=True\n",
    "for animal in animals:\n",
    "    if animal!=\"cat\":\n",
    "        only_cats=False\n",
    "        break\n",
    "print(only_cats)"
   ]
  },
  {
   "cell_type": "code",
   "execution_count": 543,
   "metadata": {
    "ExecuteTime": {
     "end_time": "2020-05-06T20:09:43.201126Z",
     "start_time": "2020-05-06T20:09:43.196800Z"
    },
    "hidden": true
   },
   "outputs": [
    {
     "name": "stdout",
     "output_type": "stream",
     "text": [
      "67 found at index 3\n"
     ]
    }
   ],
   "source": [
    "numbers=[1,5,22,67,87,33,2,34]\n",
    "find_this=67\n",
    "i=0\n",
    "for num in numbers:\n",
    "    if num==find_this:\n",
    "        print(str(find_this)+\" found at index \"+str(i))\n",
    "        break\n",
    "    i+=1"
   ]
  },
  {
   "cell_type": "code",
   "execution_count": 544,
   "metadata": {
    "ExecuteTime": {
     "end_time": "2020-05-06T20:10:33.212712Z",
     "start_time": "2020-05-06T20:10:33.208155Z"
    },
    "hidden": true,
    "scrolled": true
   },
   "outputs": [
    {
     "name": "stdout",
     "output_type": "stream",
     "text": [
      "Printing only odd numbers in list\n",
      "1\n",
      "5\n",
      "67\n",
      "87\n",
      "33\n"
     ]
    }
   ],
   "source": [
    "numbers=[1,5,22,67,87,33,2,34]\n",
    "print(\"Printing only odd numbers in list\")\n",
    "for num in numbers:\n",
    "    if num%2==0:\n",
    "        continue\n",
    "    print(num)"
   ]
  },
  {
   "cell_type": "markdown",
   "metadata": {
    "hidden": true
   },
   "source": [
    "* **You don't usually need break and continue** statements. But they are VERY useful.\n",
    "* They are just another tool for you.\n",
    "* Use them if it makes it easier for you to translate your ideas into code."
   ]
  },
  {
   "cell_type": "markdown",
   "metadata": {
    "hidden": true
   },
   "source": [
    "For example, the above example can be rewritten without ``continue``."
   ]
  },
  {
   "cell_type": "code",
   "execution_count": 545,
   "metadata": {
    "ExecuteTime": {
     "end_time": "2020-05-06T20:12:05.011484Z",
     "start_time": "2020-05-06T20:12:05.006818Z"
    },
    "hidden": true
   },
   "outputs": [
    {
     "name": "stdout",
     "output_type": "stream",
     "text": [
      "Printing only odd numbers in list\n",
      "1\n",
      "5\n",
      "67\n",
      "87\n",
      "33\n"
     ]
    }
   ],
   "source": [
    "numbers=[1,5,22,67,87,33,2,34]\n",
    "print(\"Printing only odd numbers in list\")\n",
    "for num in numbers:\n",
    "    if num%2!=0:\n",
    "        print(num)"
   ]
  },
  {
   "cell_type": "markdown",
   "metadata": {
    "hidden": true
   },
   "source": [
    "This is probably actually better this way :)"
   ]
  },
  {
   "cell_type": "markdown",
   "metadata": {
    "heading_collapsed": true
   },
   "source": [
    "### Functions"
   ]
  },
  {
   "cell_type": "markdown",
   "metadata": {
    "hidden": true
   },
   "source": [
    "* For code to be reusable, you have to \"pack it up\".\n",
    "* Think of it like a link to a webpage or a note - you don't want to keep writing the same thing over and over again - so you write it once and refer to it afterwards."
   ]
  },
  {
   "cell_type": "code",
   "execution_count": 174,
   "metadata": {
    "ExecuteTime": {
     "end_time": "2020-05-05T12:56:57.618260Z",
     "start_time": "2020-05-05T12:56:57.615359Z"
    },
    "hidden": true
   },
   "outputs": [],
   "source": [
    "# You define a function like this\n",
    "def print_fancy_name(firstname,lastname):\n",
    "    print(\"-\"*15)\n",
    "    print(firstname)\n",
    "    print(lastname)\n",
    "    print(\"*\"*15)"
   ]
  },
  {
   "cell_type": "markdown",
   "metadata": {
    "hidden": true
   },
   "source": [
    "* The ``def`` keyword is specially used to define functions.\n",
    "* These lines of code won't actually run, they'll just add this definition of the function to the interpreter's memory.\n",
    "* You can't use a function before you define it!"
   ]
  },
  {
   "cell_type": "code",
   "execution_count": 207,
   "metadata": {
    "ExecuteTime": {
     "end_time": "2020-05-05T13:53:17.771752Z",
     "start_time": "2020-05-05T13:53:17.764989Z"
    },
    "hidden": true
   },
   "outputs": [
    {
     "ename": "NameError",
     "evalue": "name 'my_greeting' is not defined",
     "output_type": "error",
     "traceback": [
      "\u001b[0;31m---------------------------------------------------------------------------\u001b[0m",
      "\u001b[0;31mNameError\u001b[0m                                 Traceback (most recent call last)",
      "\u001b[0;32m<ipython-input-207-58c9d602482c>\u001b[0m in \u001b[0;36m<module>\u001b[0;34m\u001b[0m\n\u001b[0;32m----> 1\u001b[0;31m \u001b[0mmy_greeting\u001b[0m\u001b[0;34m(\u001b[0m\u001b[0;34m\"Ram\"\u001b[0m\u001b[0;34m)\u001b[0m\u001b[0;34m\u001b[0m\u001b[0;34m\u001b[0m\u001b[0m\n\u001b[0m\u001b[1;32m      2\u001b[0m \u001b[0;34m\u001b[0m\u001b[0m\n\u001b[1;32m      3\u001b[0m \u001b[0;32mdef\u001b[0m \u001b[0mmy_greeting\u001b[0m\u001b[0;34m(\u001b[0m\u001b[0mname\u001b[0m\u001b[0;34m)\u001b[0m\u001b[0;34m:\u001b[0m\u001b[0;34m\u001b[0m\u001b[0;34m\u001b[0m\u001b[0m\n\u001b[1;32m      4\u001b[0m     \u001b[0mprint\u001b[0m\u001b[0;34m(\u001b[0m\u001b[0;34m\"Wassup \"\u001b[0m\u001b[0;34m+\u001b[0m\u001b[0mname\u001b[0m\u001b[0;34m+\u001b[0m\u001b[0;34m\"!\"\u001b[0m\u001b[0;34m)\u001b[0m\u001b[0;34m\u001b[0m\u001b[0;34m\u001b[0m\u001b[0m\n",
      "\u001b[0;31mNameError\u001b[0m: name 'my_greeting' is not defined"
     ]
    }
   ],
   "source": [
    "my_greeting(\"Ram\")\n",
    "\n",
    "def my_greeting(name):\n",
    "    print(\"Wassup \"+name+\"!\")"
   ]
  },
  {
   "cell_type": "markdown",
   "metadata": {
    "heading_collapsed": true,
    "hidden": true
   },
   "source": [
    "#### Arguments"
   ]
  },
  {
   "cell_type": "markdown",
   "metadata": {
    "hidden": true
   },
   "source": [
    "* Notice that this function has inputs - these are called arguments\n",
    "* You have to call the function with actual values for the arguments to run it."
   ]
  },
  {
   "cell_type": "code",
   "execution_count": 177,
   "metadata": {
    "ExecuteTime": {
     "end_time": "2020-05-05T13:01:24.878091Z",
     "start_time": "2020-05-05T13:01:24.874931Z"
    },
    "hidden": true
   },
   "outputs": [
    {
     "name": "stdout",
     "output_type": "stream",
     "text": [
      "---------------\n",
      "Hritik\n",
      "Roshan\n",
      "***************\n"
     ]
    }
   ],
   "source": [
    "# You call a function like this\n",
    "print_fancy_name(\"Hritik\",\"Roshan\")"
   ]
  },
  {
   "cell_type": "code",
   "execution_count": 178,
   "metadata": {
    "ExecuteTime": {
     "end_time": "2020-05-05T13:01:25.799844Z",
     "start_time": "2020-05-05T13:01:25.796395Z"
    },
    "hidden": true
   },
   "outputs": [
    {
     "name": "stdout",
     "output_type": "stream",
     "text": [
      "---------------\n",
      "Sunidhi\n",
      "Chauhan\n",
      "***************\n"
     ]
    }
   ],
   "source": [
    "# You can reuse this for someone else now\n",
    "print_fancy_name(\"Sunidhi\",\"Chauhan\")"
   ]
  },
  {
   "cell_type": "markdown",
   "metadata": {
    "hidden": true
   },
   "source": [
    "* As you can see, you can have multiple arguments to the function or even no arguments."
   ]
  },
  {
   "cell_type": "code",
   "execution_count": 195,
   "metadata": {
    "ExecuteTime": {
     "end_time": "2020-05-05T13:37:53.947895Z",
     "start_time": "2020-05-05T13:37:53.944971Z"
    },
    "hidden": true
   },
   "outputs": [
    {
     "name": "stdout",
     "output_type": "stream",
     "text": [
      "hello\n"
     ]
    }
   ],
   "source": [
    "def say_hello():\n",
    "    print(\"hello\")\n",
    "\n",
    "say_hello()"
   ]
  },
  {
   "cell_type": "markdown",
   "metadata": {
    "hidden": true
   },
   "source": [
    "* Arguments can be specified by position or name "
   ]
  },
  {
   "cell_type": "code",
   "execution_count": 196,
   "metadata": {
    "ExecuteTime": {
     "end_time": "2020-05-05T13:41:38.621141Z",
     "start_time": "2020-05-05T13:41:38.617469Z"
    },
    "hidden": true
   },
   "outputs": [],
   "source": [
    "def family_tree(first_name,last_name,father_name,mother_name):\n",
    "    print(\"-\"*15)\n",
    "    print(first_name)\n",
    "    print(last_name)\n",
    "    print(\"*\"*15)\n",
    "    print(\"Child of \"+mother_name+\" and \"+father_name)"
   ]
  },
  {
   "cell_type": "code",
   "execution_count": 198,
   "metadata": {
    "ExecuteTime": {
     "end_time": "2020-05-05T13:42:20.258561Z",
     "start_time": "2020-05-05T13:42:20.254701Z"
    },
    "hidden": true
   },
   "outputs": [
    {
     "name": "stdout",
     "output_type": "stream",
     "text": [
      "---------------\n",
      "Ravina\n",
      "Sharma\n",
      "***************\n",
      "Child of Kusum Sharma and Ram Sharma\n"
     ]
    }
   ],
   "source": [
    "# positional\n",
    "family_tree(\"Ravina\",\"Sharma\",\"Ram Sharma\",\"Kusum Sharma\")"
   ]
  },
  {
   "cell_type": "code",
   "execution_count": 199,
   "metadata": {
    "ExecuteTime": {
     "end_time": "2020-05-05T13:43:47.855998Z",
     "start_time": "2020-05-05T13:43:47.852834Z"
    },
    "hidden": true
   },
   "outputs": [
    {
     "name": "stdout",
     "output_type": "stream",
     "text": [
      "---------------\n",
      "Ravina\n",
      "Sharma\n",
      "***************\n",
      "Child of Kusum Sharma and Ram Sharma\n"
     ]
    }
   ],
   "source": [
    "# keyword -- order doesn't matter\n",
    "family_tree(father_name=\"Ram Sharma\",last_name=\"Sharma\",first_name=\"Ravina\",mother_name=\"Kusum Sharma\")"
   ]
  },
  {
   "cell_type": "code",
   "execution_count": 203,
   "metadata": {
    "ExecuteTime": {
     "end_time": "2020-05-05T13:45:52.648721Z",
     "start_time": "2020-05-05T13:45:52.644904Z"
    },
    "hidden": true
   },
   "outputs": [
    {
     "name": "stdout",
     "output_type": "stream",
     "text": [
      "---------------\n",
      "Ravina\n",
      "Sharma\n",
      "***************\n",
      "Child of Kusum Sharma and Ram Sharma\n"
     ]
    }
   ],
   "source": [
    "# mixed positional + keyword\n",
    "# Obviously positional has to come first\n",
    "family_tree(\"Ravina\",\"Sharma\",mother_name=\"Kusum Sharma\",father_name=\"Ram Sharma\")"
   ]
  },
  {
   "cell_type": "code",
   "execution_count": 202,
   "metadata": {
    "ExecuteTime": {
     "end_time": "2020-05-05T13:45:51.163413Z",
     "start_time": "2020-05-05T13:45:51.159701Z"
    },
    "hidden": true
   },
   "outputs": [
    {
     "ename": "SyntaxError",
     "evalue": "positional argument follows keyword argument (<ipython-input-202-a01a694b9521>, line 2)",
     "output_type": "error",
     "traceback": [
      "\u001b[0;36m  File \u001b[0;32m\"<ipython-input-202-a01a694b9521>\"\u001b[0;36m, line \u001b[0;32m2\u001b[0m\n\u001b[0;31m    family_tree(mother_name=\"Kusum Sharma\",\"Ravina\",\"Sharma\",father_name=\"Ram Sharma\")\u001b[0m\n\u001b[0m                                          ^\u001b[0m\n\u001b[0;31mSyntaxError\u001b[0m\u001b[0;31m:\u001b[0m positional argument follows keyword argument\n"
     ]
    }
   ],
   "source": [
    "# this will fail\n",
    "family_tree(mother_name=\"Kusum Sharma\",\"Ravina\",\"Sharma\",father_name=\"Ram Sharma\")"
   ]
  },
  {
   "cell_type": "markdown",
   "metadata": {
    "heading_collapsed": true,
    "hidden": true
   },
   "source": [
    "#### Return Values"
   ]
  },
  {
   "cell_type": "markdown",
   "metadata": {
    "hidden": true
   },
   "source": [
    "Functions can also return values, for example suppose we want a function to calculate the square of the difference of two numbers"
   ]
  },
  {
   "cell_type": "code",
   "execution_count": 179,
   "metadata": {
    "ExecuteTime": {
     "end_time": "2020-05-05T13:05:10.689429Z",
     "start_time": "2020-05-05T13:05:10.686687Z"
    },
    "hidden": true
   },
   "outputs": [],
   "source": [
    "def square_difference(x,y):\n",
    "    diff=x-y\n",
    "    return diff*diff"
   ]
  },
  {
   "cell_type": "code",
   "execution_count": 180,
   "metadata": {
    "ExecuteTime": {
     "end_time": "2020-05-05T13:05:36.960363Z",
     "start_time": "2020-05-05T13:05:36.957226Z"
    },
    "hidden": true
   },
   "outputs": [
    {
     "name": "stdout",
     "output_type": "stream",
     "text": [
      "9\n"
     ]
    }
   ],
   "source": [
    "print(square_difference(5,2))"
   ]
  },
  {
   "cell_type": "markdown",
   "metadata": {
    "hidden": true
   },
   "source": [
    "So what is the return value of ``print_fancy_name``?"
   ]
  },
  {
   "cell_type": "code",
   "execution_count": 181,
   "metadata": {
    "ExecuteTime": {
     "end_time": "2020-05-05T13:07:28.737875Z",
     "start_time": "2020-05-05T13:07:28.734198Z"
    },
    "hidden": true
   },
   "outputs": [
    {
     "name": "stdout",
     "output_type": "stream",
     "text": [
      "---------------\n",
      "Priyanka\n",
      "Chopra\n",
      "***************\n",
      "None\n"
     ]
    }
   ],
   "source": [
    "print(print_fancy_name(\"Priyanka\",\"Chopra\"))"
   ]
  },
  {
   "cell_type": "markdown",
   "metadata": {
    "hidden": true
   },
   "source": [
    "* It is a special datatype called **None**. It signifies nothing. It is used whenever you want to say that there is nothing here."
   ]
  },
  {
   "cell_type": "code",
   "execution_count": 185,
   "metadata": {
    "ExecuteTime": {
     "end_time": "2020-05-05T13:09:02.195215Z",
     "start_time": "2020-05-05T13:09:02.191979Z"
    },
    "hidden": true
   },
   "outputs": [
    {
     "name": "stdout",
     "output_type": "stream",
     "text": [
      "None\n",
      "False\n"
     ]
    }
   ],
   "source": [
    "x=None\n",
    "print(x)\n",
    "print(bool(x))"
   ]
  },
  {
   "cell_type": "markdown",
   "metadata": {
    "hidden": true
   },
   "source": [
    "* If there is no return statement, like ``print_fancy_name`` None is automatically returned.\n",
    "* Its the same case for when due to the some reason, the return statement is not executed.\n",
    "* Also, if there is an empty return statement."
   ]
  },
  {
   "cell_type": "code",
   "execution_count": 187,
   "metadata": {
    "ExecuteTime": {
     "end_time": "2020-05-05T13:12:33.508272Z",
     "start_time": "2020-05-05T13:12:33.504740Z"
    },
    "hidden": true
   },
   "outputs": [
    {
     "name": "stdout",
     "output_type": "stream",
     "text": [
      "toffee\n",
      "None\n"
     ]
    }
   ],
   "source": [
    "def give_toffee_to_kids_only(age):\n",
    "    if age<13:\n",
    "        return \"toffee\"\n",
    "\n",
    "print(give_toffee_to_kids_only(5))\n",
    "print(give_toffee_to_kids_only(25))"
   ]
  },
  {
   "cell_type": "code",
   "execution_count": 188,
   "metadata": {
    "ExecuteTime": {
     "end_time": "2020-05-05T13:13:04.247903Z",
     "start_time": "2020-05-05T13:13:04.244001Z"
    },
    "hidden": true
   },
   "outputs": [
    {
     "name": "stdout",
     "output_type": "stream",
     "text": [
      "toffee\n",
      "None\n"
     ]
    }
   ],
   "source": [
    "def give_toffee_to_kids_only_2(age):\n",
    "    if age<13:\n",
    "        return \"toffee\"\n",
    "    return\n",
    "\n",
    "print(give_toffee_to_kids_only_2(5))\n",
    "print(give_toffee_to_kids_only_2(25))"
   ]
  },
  {
   "cell_type": "markdown",
   "metadata": {
    "hidden": true
   },
   "source": [
    "* Unlike languages like C,Java,C++, Python allows you to return multiple values"
   ]
  },
  {
   "cell_type": "code",
   "execution_count": 191,
   "metadata": {
    "ExecuteTime": {
     "end_time": "2020-05-05T13:18:39.833912Z",
     "start_time": "2020-05-05T13:18:39.828980Z"
    },
    "hidden": true
   },
   "outputs": [
    {
     "name": "stdout",
     "output_type": "stream",
     "text": [
      "('J', 'W', 'L')\n",
      "J P M\n"
     ]
    }
   ],
   "source": [
    "def return_initials(first_name,middle_name,last_name):\n",
    "    return first_name[0],middle_name[0],last_name[0]\n",
    "\n",
    "print(return_initials(\"John\",\"Winston\",\"Lennon\"))\n",
    "first,middle,last=return_initials(\"James\",\"Paul\",\"McCartney\")\n",
    "print(first+\" \"+middle+\" \"+last)"
   ]
  },
  {
   "cell_type": "markdown",
   "metadata": {
    "hidden": true
   },
   "source": [
    "Note : Why the brackets around the first output?\n",
    "* That's because Python packs them into tuples! More on that later."
   ]
  },
  {
   "cell_type": "markdown",
   "metadata": {
    "heading_collapsed": true,
    "hidden": true
   },
   "source": [
    "#### Example 1 : Return as a control flow tool"
   ]
  },
  {
   "cell_type": "markdown",
   "metadata": {
    "hidden": true
   },
   "source": [
    "Let's look at a slightly longer example for functions now."
   ]
  },
  {
   "cell_type": "code",
   "execution_count": null,
   "metadata": {
    "hidden": true
   },
   "outputs": [],
   "source": [
    "def is_right_angled_triangle(a,b,c):\n",
    "    if a*a + b*b == c*c:\n",
    "        return True\n",
    "    elif a*a + c*c == b*b:\n",
    "        return True\n",
    "    elif b*b + c*c == a*a:\n",
    "        return True\n",
    "    else:\n",
    "        return False"
   ]
  },
  {
   "cell_type": "markdown",
   "metadata": {
    "hidden": true
   },
   "source": [
    "It should be noted, that once the interpreter sees the return statement, it will exit the function - even if there is more code afterwards."
   ]
  },
  {
   "cell_type": "code",
   "execution_count": 192,
   "metadata": {
    "ExecuteTime": {
     "end_time": "2020-05-05T13:23:24.396963Z",
     "start_time": "2020-05-05T13:23:24.394170Z"
    },
    "hidden": true
   },
   "outputs": [],
   "source": [
    "def print_hello(name):\n",
    "    print(\"Hello \"+name)\n",
    "    return\n",
    "    print(\"Now I can write whatever I want here\")\n",
    "    print(\"It will not execute\")"
   ]
  },
  {
   "cell_type": "code",
   "execution_count": 194,
   "metadata": {
    "ExecuteTime": {
     "end_time": "2020-05-05T13:23:36.525466Z",
     "start_time": "2020-05-05T13:23:36.522378Z"
    },
    "hidden": true
   },
   "outputs": [
    {
     "name": "stdout",
     "output_type": "stream",
     "text": [
      "Hello Ram\n"
     ]
    }
   ],
   "source": [
    "print_hello(\"Ram\")"
   ]
  },
  {
   "cell_type": "markdown",
   "metadata": {
    "hidden": true
   },
   "source": [
    "Exploiting this fact we can rewrite the above function by removing all the ``elif``s"
   ]
  },
  {
   "cell_type": "code",
   "execution_count": 169,
   "metadata": {
    "ExecuteTime": {
     "end_time": "2020-05-05T12:47:09.071623Z",
     "start_time": "2020-05-05T12:47:09.069043Z"
    },
    "hidden": true
   },
   "outputs": [],
   "source": [
    "def is_right_angled_triangle(a,b,c):\n",
    "    if a*a + b*b == c*c:\n",
    "        return True\n",
    "    if a*a + c*c == b*b:\n",
    "        return True\n",
    "    if b*b + c*c == a*a:\n",
    "        return True\n",
    "    return False"
   ]
  },
  {
   "cell_type": "markdown",
   "metadata": {
    "hidden": true
   },
   "source": [
    "* Remember there are many ways to write the same logic as code, just as there are many ways to communicate the same idea with words!\n",
    "* Always try to refactor your code for maximum readability."
   ]
  },
  {
   "cell_type": "markdown",
   "metadata": {
    "heading_collapsed": true,
    "hidden": true
   },
   "source": [
    "#### Example 2 : Recursion"
   ]
  },
  {
   "cell_type": "markdown",
   "metadata": {
    "hidden": true
   },
   "source": [
    "* Recursion is a common design pattern in functions.\n",
    "* Recursion is when a function calls itself. \n",
    "* Usually, you start with a \"big\" problem, and if you can break it up into a smaller problem where the same logic has to be applied you can call the same function on it.\n",
    "* Finally, you should end up with a small enough problem - whose answer you know - called the base case. "
   ]
  },
  {
   "cell_type": "markdown",
   "metadata": {
    "hidden": true
   },
   "source": [
    "The classic example of recursion is - calculating n!\n",
    "\n",
    "We know, \n",
    "\n",
    "```\n",
    "n! = n * (n-1) * ... * 1\n",
    "   = n * (n-1)!\n",
    "```\n",
    "\n",
    "Now you can see that we can represent n! in terms of (n-1)!.\\\n",
    "So maybe we can write a recursive function for it!"
   ]
  },
  {
   "cell_type": "code",
   "execution_count": 547,
   "metadata": {
    "ExecuteTime": {
     "end_time": "2020-05-06T20:21:19.478590Z",
     "start_time": "2020-05-06T20:21:19.475896Z"
    },
    "hidden": true
   },
   "outputs": [],
   "source": [
    "def factorial(n):\n",
    "    print(n)\n",
    "    return n * factorial(n-1)"
   ]
  },
  {
   "cell_type": "code",
   "execution_count": 548,
   "metadata": {
    "ExecuteTime": {
     "end_time": "2020-05-06T20:21:26.080228Z",
     "start_time": "2020-05-06T20:21:23.188822Z"
    },
    "hidden": true
   },
   "outputs": [
    {
     "name": "stdout",
     "output_type": "stream",
     "text": [
      "5\n",
      "4\n",
      "3\n",
      "2\n",
      "1\n",
      "0\n",
      "-1\n",
      "-2\n",
      "-3\n",
      "-4\n",
      "-5\n",
      "-6\n",
      "-7\n",
      "-8\n",
      "-9\n",
      "-10\n",
      "-11\n",
      "-12\n",
      "-13\n",
      "-14\n",
      "-15\n",
      "-16\n",
      "-17\n",
      "-18\n",
      "-19\n",
      "-20\n",
      "-21\n",
      "-22\n",
      "-23\n",
      "-24\n",
      "-25\n",
      "-26\n",
      "-27\n",
      "-28\n",
      "-29\n",
      "-30\n",
      "-31\n",
      "-32\n",
      "-33\n",
      "-34\n",
      "-35\n",
      "-36\n",
      "-37\n",
      "-38\n",
      "-39\n",
      "-40\n",
      "-41\n",
      "-42\n",
      "-43\n",
      "-44\n",
      "-45\n",
      "-46\n",
      "-47\n",
      "-48\n",
      "-49\n",
      "-50\n",
      "-51\n",
      "-52\n",
      "-53\n",
      "-54\n",
      "-55\n",
      "-56\n",
      "-57\n",
      "-58\n",
      "-59\n",
      "-60\n",
      "-61\n",
      "-62\n",
      "-63\n",
      "-64\n",
      "-65\n",
      "-66\n",
      "-67\n",
      "-68\n",
      "-69\n",
      "-70\n",
      "-71\n",
      "-72\n",
      "-73\n",
      "-74\n",
      "-75\n",
      "-76\n",
      "-77\n",
      "-78\n",
      "-79\n",
      "-80\n",
      "-81\n",
      "-82\n",
      "-83\n",
      "-84\n",
      "-85\n",
      "-86\n",
      "-87\n",
      "-88\n",
      "-89\n",
      "-90\n",
      "-91\n",
      "-92\n",
      "-93\n",
      "-94\n",
      "-95\n",
      "-96\n",
      "-97\n",
      "-98\n",
      "-99\n",
      "-100\n",
      "-101\n",
      "-102\n",
      "-103\n",
      "-104\n",
      "-105\n",
      "-106\n",
      "-107\n",
      "-108\n",
      "-109\n",
      "-110\n",
      "-111\n",
      "-112\n",
      "-113\n",
      "-114\n",
      "-115\n",
      "-116\n",
      "-117\n",
      "-118\n",
      "-119\n",
      "-120\n",
      "-121\n",
      "-122\n",
      "-123\n",
      "-124\n",
      "-125\n",
      "-126\n",
      "-127\n",
      "-128\n",
      "-129\n",
      "-130\n",
      "-131\n",
      "-132\n",
      "-133\n",
      "-134\n",
      "-135\n",
      "-136\n",
      "-137\n",
      "-138\n",
      "-139\n",
      "-140\n",
      "-141\n",
      "-142\n",
      "-143\n",
      "-144\n",
      "-145\n",
      "-146\n",
      "-147\n",
      "-148\n",
      "-149\n",
      "-150\n",
      "-151\n",
      "-152\n",
      "-153\n",
      "-154\n",
      "-155\n",
      "-156\n",
      "-157\n",
      "-158\n",
      "-159\n",
      "-160\n",
      "-161\n",
      "-162\n",
      "-163\n",
      "-164\n",
      "-165\n",
      "-166\n",
      "-167\n",
      "-168\n",
      "-169\n",
      "-170\n",
      "-171\n",
      "-172\n",
      "-173\n",
      "-174\n",
      "-175\n",
      "-176\n",
      "-177\n",
      "-178\n",
      "-179\n",
      "-180\n",
      "-181\n",
      "-182\n",
      "-183\n",
      "-184\n",
      "-185\n",
      "-186\n",
      "-187\n",
      "-188\n",
      "-189\n",
      "-190\n",
      "-191\n",
      "-192\n",
      "-193\n",
      "-194\n",
      "-195\n",
      "-196\n",
      "-197\n",
      "-198\n",
      "-199\n",
      "-200\n",
      "-201\n",
      "-202\n",
      "-203\n",
      "-204\n",
      "-205\n",
      "-206\n",
      "-207\n",
      "-208\n",
      "-209\n",
      "-210\n",
      "-211\n",
      "-212\n",
      "-213\n",
      "-214\n",
      "-215\n",
      "-216\n",
      "-217\n",
      "-218\n",
      "-219\n",
      "-220\n",
      "-221\n",
      "-222\n",
      "-223\n",
      "-224\n",
      "-225\n",
      "-226\n",
      "-227\n",
      "-228\n",
      "-229\n",
      "-230\n",
      "-231\n",
      "-232\n",
      "-233\n",
      "-234\n",
      "-235\n",
      "-236\n",
      "-237\n",
      "-238\n",
      "-239\n",
      "-240\n",
      "-241\n",
      "-242\n",
      "-243\n",
      "-244\n",
      "-245\n",
      "-246\n",
      "-247\n",
      "-248\n",
      "-249\n",
      "-250\n",
      "-251\n",
      "-252\n",
      "-253\n",
      "-254\n",
      "-255\n",
      "-256\n",
      "-257\n",
      "-258\n",
      "-259\n",
      "-260\n",
      "-261\n",
      "-262\n",
      "-263\n",
      "-264\n",
      "-265\n",
      "-266\n",
      "-267\n",
      "-268\n",
      "-269\n",
      "-270\n",
      "-271\n",
      "-272\n",
      "-273\n",
      "-274\n",
      "-275\n",
      "-276\n",
      "-277\n",
      "-278\n",
      "-279\n",
      "-280\n",
      "-281\n",
      "-282\n",
      "-283\n",
      "-284\n",
      "-285\n",
      "-286\n",
      "-287\n",
      "-288\n",
      "-289\n",
      "-290\n",
      "-291\n",
      "-292\n",
      "-293\n",
      "-294\n",
      "-295\n",
      "-296\n",
      "-297\n",
      "-298\n",
      "-299\n",
      "-300\n",
      "-301\n",
      "-302\n",
      "-303\n",
      "-304\n",
      "-305\n",
      "-306\n",
      "-307\n",
      "-308\n",
      "-309\n",
      "-310\n",
      "-311\n",
      "-312\n",
      "-313\n",
      "-314\n",
      "-315\n",
      "-316\n",
      "-317\n",
      "-318\n",
      "-319\n",
      "-320\n",
      "-321\n",
      "-322\n",
      "-323\n",
      "-324\n",
      "-325\n",
      "-326\n",
      "-327\n",
      "-328\n",
      "-329\n",
      "-330\n",
      "-331\n",
      "-332\n",
      "-333\n",
      "-334\n",
      "-335\n",
      "-336\n",
      "-337\n",
      "-338\n",
      "-339\n",
      "-340\n",
      "-341\n",
      "-342\n",
      "-343\n",
      "-344\n",
      "-345\n",
      "-346\n",
      "-347\n",
      "-348\n",
      "-349\n",
      "-350\n",
      "-351\n",
      "-352\n",
      "-353\n",
      "-354\n",
      "-355\n",
      "-356\n",
      "-357\n",
      "-358\n",
      "-359\n",
      "-360\n",
      "-361\n",
      "-362\n",
      "-363\n",
      "-364\n",
      "-365\n",
      "-366\n",
      "-367\n",
      "-368\n",
      "-369\n",
      "-370\n",
      "-371\n",
      "-372\n",
      "-373\n",
      "-374\n",
      "-375\n",
      "-376\n",
      "-377\n",
      "-378\n",
      "-379\n",
      "-380\n",
      "-381\n",
      "-382\n",
      "-383\n",
      "-384\n",
      "-385\n",
      "-386\n",
      "-387\n",
      "-388\n",
      "-389\n",
      "-390\n",
      "-391\n",
      "-392\n",
      "-393\n",
      "-394\n",
      "-395\n",
      "-396\n",
      "-397\n",
      "-398\n",
      "-399\n",
      "-400\n",
      "-401\n",
      "-402\n",
      "-403\n",
      "-404\n",
      "-405\n",
      "-406\n",
      "-407\n",
      "-408\n",
      "-409\n",
      "-410\n",
      "-411\n",
      "-412\n",
      "-413\n",
      "-414\n",
      "-415\n",
      "-416\n",
      "-417\n",
      "-418\n",
      "-419\n",
      "-420\n",
      "-421\n",
      "-422\n",
      "-423\n",
      "-424\n",
      "-425\n",
      "-426\n",
      "-427\n",
      "-428\n",
      "-429\n",
      "-430\n",
      "-431\n",
      "-432\n",
      "-433\n",
      "-434\n",
      "-435\n",
      "-436\n",
      "-437\n",
      "-438\n",
      "-439\n",
      "-440\n",
      "-441\n",
      "-442\n",
      "-443\n",
      "-444\n",
      "-445\n",
      "-446\n",
      "-447\n",
      "-448\n",
      "-449\n",
      "-450\n",
      "-451\n",
      "-452\n",
      "-453\n",
      "-454\n",
      "-455\n",
      "-456\n",
      "-457\n",
      "-458\n",
      "-459\n",
      "-460\n",
      "-461\n",
      "-462\n",
      "-463\n",
      "-464\n",
      "-465\n",
      "-466\n",
      "-467\n",
      "-468\n",
      "-469\n",
      "-470\n",
      "-471\n",
      "-472\n",
      "-473\n",
      "-474\n",
      "-475\n",
      "-476\n",
      "-477\n",
      "-478\n",
      "-479\n",
      "-480\n",
      "-481\n",
      "-482\n",
      "-483\n",
      "-484\n",
      "-485\n",
      "-486\n",
      "-487\n",
      "-488\n",
      "-489\n",
      "-490\n",
      "-491\n",
      "-492\n",
      "-493\n",
      "-494\n",
      "-495\n",
      "-496\n",
      "-497\n",
      "-498\n",
      "-499\n",
      "-500\n",
      "-501\n",
      "-502\n",
      "-503\n",
      "-504\n",
      "-505\n",
      "-506\n",
      "-507\n",
      "-508\n",
      "-509\n",
      "-510\n",
      "-511\n",
      "-512\n",
      "-513\n",
      "-514\n",
      "-515\n",
      "-516\n",
      "-517\n",
      "-518\n",
      "-519\n",
      "-520\n",
      "-521\n",
      "-522\n",
      "-523\n",
      "-524\n",
      "-525\n",
      "-526\n",
      "-527\n",
      "-528\n",
      "-529\n",
      "-530\n",
      "-531\n",
      "-532\n",
      "-533\n",
      "-534\n",
      "-535\n",
      "-536\n",
      "-537\n",
      "-538\n",
      "-539\n",
      "-540\n",
      "-541\n",
      "-542\n",
      "-543\n",
      "-544\n",
      "-545\n",
      "-546\n",
      "-547\n",
      "-548\n",
      "-549\n",
      "-550\n",
      "-551\n",
      "-552\n",
      "-553\n",
      "-554\n",
      "-555\n",
      "-556\n",
      "-557\n",
      "-558\n",
      "-559\n",
      "-560\n",
      "-561\n",
      "-562\n",
      "-563\n",
      "-564\n",
      "-565\n",
      "-566\n",
      "-567\n",
      "-568\n",
      "-569\n",
      "-570\n",
      "-571\n",
      "-572\n",
      "-573\n",
      "-574\n",
      "-575\n",
      "-576\n",
      "-577\n",
      "-578\n",
      "-579\n",
      "-580\n",
      "-581\n",
      "-582\n",
      "-583\n",
      "-584\n",
      "-585\n",
      "-586\n",
      "-587\n",
      "-588\n",
      "-589\n",
      "-590\n",
      "-591\n",
      "-592\n",
      "-593\n",
      "-594\n",
      "-595\n",
      "-596\n",
      "-597\n",
      "-598\n",
      "-599\n",
      "-600\n",
      "-601\n",
      "-602\n",
      "-603\n",
      "-604\n",
      "-605\n",
      "-606\n",
      "-607\n",
      "-608\n",
      "-609\n",
      "-610\n",
      "-611\n",
      "-612\n",
      "-613\n",
      "-614\n",
      "-615\n",
      "-616\n",
      "-617\n",
      "-618\n",
      "-619\n",
      "-620\n",
      "-621\n",
      "-622\n",
      "-623\n",
      "-624\n",
      "-625\n",
      "-626\n",
      "-627\n",
      "-628\n",
      "-629\n",
      "-630\n",
      "-631\n",
      "-632\n",
      "-633\n",
      "-634\n",
      "-635\n",
      "-636\n",
      "-637\n",
      "-638\n",
      "-639\n",
      "-640\n",
      "-641\n",
      "-642\n",
      "-643\n",
      "-644\n",
      "-645\n",
      "-646\n",
      "-647\n",
      "-648\n",
      "-649\n",
      "-650\n",
      "-651\n",
      "-652\n",
      "-653\n",
      "-654\n",
      "-655\n",
      "-656\n",
      "-657\n",
      "-658\n",
      "-659\n",
      "-660\n",
      "-661\n",
      "-662\n",
      "-663\n",
      "-664\n",
      "-665\n",
      "-666\n",
      "-667\n",
      "-668\n",
      "-669\n",
      "-670\n",
      "-671\n",
      "-672\n",
      "-673\n",
      "-674\n",
      "-675\n",
      "-676\n",
      "-677\n",
      "-678\n",
      "-679\n",
      "-680\n",
      "-681\n",
      "-682\n",
      "-683\n",
      "-684\n",
      "-685\n",
      "-686\n",
      "-687\n",
      "-688\n",
      "-689\n",
      "-690\n",
      "-691\n",
      "-692\n",
      "-693\n",
      "-694\n",
      "-695\n",
      "-696\n",
      "-697\n",
      "-698\n",
      "-699\n",
      "-700\n",
      "-701\n",
      "-702\n",
      "-703\n",
      "-704\n",
      "-705\n",
      "-706\n",
      "-707\n",
      "-708\n",
      "-709\n",
      "-710\n",
      "-711\n",
      "-712\n",
      "-713\n",
      "-714\n",
      "-715\n",
      "-716\n",
      "-717\n",
      "-718\n",
      "-719\n",
      "-720\n",
      "-721\n",
      "-722\n",
      "-723\n",
      "-724\n",
      "-725\n",
      "-726\n",
      "-727\n",
      "-728\n",
      "-729\n",
      "-730\n",
      "-731\n",
      "-732\n",
      "-733\n",
      "-734\n",
      "-735\n",
      "-736\n",
      "-737\n",
      "-738\n",
      "-739\n",
      "-740\n",
      "-741\n",
      "-742\n",
      "-743\n",
      "-744\n",
      "-745\n",
      "-746\n",
      "-747\n",
      "-748\n",
      "-749\n",
      "-750\n",
      "-751\n",
      "-752\n",
      "-753\n",
      "-754\n",
      "-755\n",
      "-756\n",
      "-757\n",
      "-758\n",
      "-759\n",
      "-760\n",
      "-761\n",
      "-762\n",
      "-763\n",
      "-764\n",
      "-765\n",
      "-766\n",
      "-767\n",
      "-768\n",
      "-769\n",
      "-770\n",
      "-771\n",
      "-772\n",
      "-773\n",
      "-774\n",
      "-775\n",
      "-776\n",
      "-777\n",
      "-778\n",
      "-779\n",
      "-780\n",
      "-781\n",
      "-782\n",
      "-783\n",
      "-784\n",
      "-785\n",
      "-786\n",
      "-787\n",
      "-788\n",
      "-789\n",
      "-790\n",
      "-791\n",
      "-792\n",
      "-793\n",
      "-794\n",
      "-795\n",
      "-796\n",
      "-797\n",
      "-798\n",
      "-799\n",
      "-800\n",
      "-801\n",
      "-802\n",
      "-803\n",
      "-804\n",
      "-805\n",
      "-806\n",
      "-807\n",
      "-808\n",
      "-809\n",
      "-810\n",
      "-811\n",
      "-812\n",
      "-813\n",
      "-814\n",
      "-815\n",
      "-816\n",
      "-817\n",
      "-818\n",
      "-819\n",
      "-820\n",
      "-821\n",
      "-822\n",
      "-823\n",
      "-824\n",
      "-825\n",
      "-826\n",
      "-827\n",
      "-828\n",
      "-829\n",
      "-830\n",
      "-831\n",
      "-832\n",
      "-833\n",
      "-834\n",
      "-835\n",
      "-836\n",
      "-837\n",
      "-838\n",
      "-839\n",
      "-840\n",
      "-841\n",
      "-842\n",
      "-843\n",
      "-844\n",
      "-845\n",
      "-846\n",
      "-847\n",
      "-848\n",
      "-849\n",
      "-850\n",
      "-851\n",
      "-852\n",
      "-853\n",
      "-854\n",
      "-855\n",
      "-856\n",
      "-857\n",
      "-858\n",
      "-859\n",
      "-860\n",
      "-861\n",
      "-862\n",
      "-863\n",
      "-864\n",
      "-865\n",
      "-866\n",
      "-867\n",
      "-868\n",
      "-869\n",
      "-870\n",
      "-871\n",
      "-872\n",
      "-873\n",
      "-874\n",
      "-875\n",
      "-876\n",
      "-877\n",
      "-878\n",
      "-879\n",
      "-880\n",
      "-881\n",
      "-882\n",
      "-883\n",
      "-884\n",
      "-885\n",
      "-886\n",
      "-887\n",
      "-888\n",
      "-889\n",
      "-890\n",
      "-891\n",
      "-892\n",
      "-893\n",
      "-894\n",
      "-895\n",
      "-896\n",
      "-897\n",
      "-898\n",
      "-899\n",
      "-900\n",
      "-901\n",
      "-902\n",
      "-903\n",
      "-904\n",
      "-905\n",
      "-906\n",
      "-907\n",
      "-908\n",
      "-909\n",
      "-910\n",
      "-911\n",
      "-912\n",
      "-913\n",
      "-914\n",
      "-915\n",
      "-916\n",
      "-917\n",
      "-918\n",
      "-919\n",
      "-920\n",
      "-921\n",
      "-922\n",
      "-923\n",
      "-924\n",
      "-925\n",
      "-926\n",
      "-927\n",
      "-928\n",
      "-929\n",
      "-930\n",
      "-931\n",
      "-932\n",
      "-933\n",
      "-934\n",
      "-935\n",
      "-936\n",
      "-937\n",
      "-938\n",
      "-939\n",
      "-940\n",
      "-941\n",
      "-942\n",
      "-943\n",
      "-944\n",
      "-945\n",
      "-946\n",
      "-947\n",
      "-948\n",
      "-949\n",
      "-950\n",
      "-951\n",
      "-952\n",
      "-953\n",
      "-954\n",
      "-955\n",
      "-956\n",
      "-957\n",
      "-958\n",
      "-959\n",
      "-960\n",
      "-961\n",
      "-962\n",
      "-963\n",
      "-964\n",
      "-965\n",
      "-966\n",
      "-967\n",
      "-968\n",
      "-969\n",
      "-970\n",
      "-971\n",
      "-972\n",
      "-973\n",
      "-974\n",
      "-975\n",
      "-976\n",
      "-977\n",
      "-978\n",
      "-979\n",
      "-980\n",
      "-981\n",
      "-982\n",
      "-983\n",
      "-984\n",
      "-985\n",
      "-986\n",
      "-987\n",
      "-988\n",
      "-989\n",
      "-990\n",
      "-991\n",
      "-992\n",
      "-993\n",
      "-994\n",
      "-995\n",
      "-996\n",
      "-997\n",
      "-998\n",
      "-999\n",
      "-1000\n",
      "-1001\n",
      "-1002\n",
      "-1003\n",
      "-1004\n",
      "-1005\n",
      "-1006\n",
      "-1007\n",
      "-1008\n",
      "-1009\n",
      "-1010\n",
      "-1011\n",
      "-1012\n",
      "-1013\n",
      "-1014\n",
      "-1015\n",
      "-1016\n",
      "-1017\n",
      "-1018\n",
      "-1019\n",
      "-1020\n",
      "-1021\n",
      "-1022\n",
      "-1023\n",
      "-1024\n",
      "-1025\n",
      "-1026\n",
      "-1027\n",
      "-1028\n",
      "-1029\n",
      "-1030\n",
      "-1031\n",
      "-1032\n",
      "-1033\n",
      "-1034\n",
      "-1035\n",
      "-1036\n",
      "-1037\n",
      "-1038\n",
      "-1039\n",
      "-1040\n",
      "-1041\n",
      "-1042\n",
      "-1043\n",
      "-1044\n",
      "-1045\n",
      "-1046\n",
      "-1047\n",
      "-1048\n",
      "-1049\n",
      "-1050\n",
      "-1051\n",
      "-1052\n",
      "-1053\n",
      "-1054\n",
      "-1055\n",
      "-1056\n",
      "-1057\n",
      "-1058\n",
      "-1059\n",
      "-1060\n",
      "-1061\n",
      "-1062\n",
      "-1063\n",
      "-1064\n",
      "-1065\n",
      "-1066\n",
      "-1067\n",
      "-1068\n",
      "-1069\n",
      "-1070\n",
      "-1071\n",
      "-1072\n",
      "-1073\n",
      "-1074\n",
      "-1075\n",
      "-1076\n",
      "-1077\n",
      "-1078\n",
      "-1079\n",
      "-1080\n",
      "-1081\n",
      "-1082\n",
      "-1083\n",
      "-1084\n",
      "-1085\n",
      "-1086\n",
      "-1087\n",
      "-1088\n",
      "-1089\n",
      "-1090\n",
      "-1091\n",
      "-1092\n",
      "-1093\n",
      "-1094\n",
      "-1095\n",
      "-1096\n",
      "-1097\n",
      "-1098\n",
      "-1099\n",
      "-1100\n",
      "-1101\n",
      "-1102\n",
      "-1103\n",
      "-1104\n",
      "-1105\n",
      "-1106\n",
      "-1107\n",
      "-1108\n",
      "-1109\n",
      "-1110\n",
      "-1111\n",
      "-1112\n",
      "-1113\n",
      "-1114\n",
      "-1115\n",
      "-1116\n",
      "-1117\n",
      "-1118\n",
      "-1119\n",
      "-1120\n",
      "-1121\n",
      "-1122\n",
      "-1123\n",
      "-1124\n",
      "-1125\n",
      "-1126\n",
      "-1127\n",
      "-1128\n",
      "-1129\n",
      "-1130\n",
      "-1131\n",
      "-1132\n",
      "-1133\n",
      "-1134\n",
      "-1135\n",
      "-1136\n",
      "-1137\n",
      "-1138\n",
      "-1139\n",
      "-1140\n",
      "-1141\n",
      "-1142\n",
      "-1143\n",
      "-1144\n",
      "-1145\n",
      "-1146\n",
      "-1147\n",
      "-1148\n",
      "-1149\n",
      "-1150\n",
      "-1151\n",
      "-1152\n",
      "-1153\n",
      "-1154\n",
      "-1155\n",
      "-1156\n",
      "-1157\n",
      "-1158\n",
      "-1159\n",
      "-1160\n",
      "-1161\n",
      "-1162\n",
      "-1163\n",
      "-1164\n",
      "-1165\n",
      "-1166\n",
      "-1167\n",
      "-1168\n",
      "-1169\n",
      "-1170\n",
      "-1171\n",
      "-1172\n",
      "-1173\n",
      "-1174\n",
      "-1175\n",
      "-1176\n",
      "-1177\n",
      "-1178\n",
      "-1179\n",
      "-1180\n",
      "-1181\n",
      "-1182\n",
      "-1183\n",
      "-1184\n",
      "-1185\n",
      "-1186\n",
      "-1187\n",
      "-1188\n",
      "-1189\n",
      "-1190\n",
      "-1191\n",
      "-1192\n",
      "-1193\n",
      "-1194\n",
      "-1195\n",
      "-1196\n",
      "-1197\n",
      "-1198\n",
      "-1199\n",
      "-1200\n",
      "-1201\n",
      "-1202\n",
      "-1203\n",
      "-1204\n",
      "-1205\n",
      "-1206\n",
      "-1207\n",
      "-1208\n",
      "-1209\n",
      "-1210\n",
      "-1211\n",
      "-1212\n",
      "-1213\n",
      "-1214\n",
      "-1215\n",
      "-1216\n",
      "-1217\n",
      "-1218\n",
      "-1219\n",
      "-1220\n",
      "-1221\n",
      "-1222\n",
      "-1223\n",
      "-1224\n",
      "-1225\n",
      "-1226\n",
      "-1227\n",
      "-1228\n",
      "-1229\n",
      "-1230\n",
      "-1231\n",
      "-1232\n",
      "-1233\n",
      "-1234\n",
      "-1235\n",
      "-1236\n",
      "-1237\n",
      "-1238\n",
      "-1239\n",
      "-1240\n",
      "-1241\n",
      "-1242\n",
      "-1243\n",
      "-1244\n",
      "-1245\n",
      "-1246\n",
      "-1247\n",
      "-1248\n",
      "-1249\n",
      "-1250\n",
      "-1251\n",
      "-1252\n",
      "-1253\n",
      "-1254\n",
      "-1255\n",
      "-1256\n",
      "-1257\n",
      "-1258\n",
      "-1259\n",
      "-1260\n",
      "-1261\n",
      "-1262\n",
      "-1263\n",
      "-1264\n",
      "-1265\n",
      "-1266\n",
      "-1267\n",
      "-1268\n",
      "-1269\n",
      "-1270\n",
      "-1271\n",
      "-1272\n",
      "-1273\n",
      "-1274\n",
      "-1275\n",
      "-1276\n",
      "-1277\n",
      "-1278\n",
      "-1279\n",
      "-1280\n",
      "-1281\n",
      "-1282\n",
      "-1283\n",
      "-1284\n",
      "-1285\n",
      "-1286\n",
      "-1287\n",
      "-1288\n",
      "-1289\n",
      "-1290\n",
      "-1291\n",
      "-1292\n",
      "-1293\n",
      "-1294\n",
      "-1295\n",
      "-1296\n",
      "-1297\n",
      "-1298\n",
      "-1299\n",
      "-1300\n",
      "-1301\n",
      "-1302\n",
      "-1303\n",
      "-1304\n",
      "-1305\n",
      "-1306\n",
      "-1307\n",
      "-1308\n",
      "-1309\n",
      "-1310\n",
      "-1311\n",
      "-1312\n",
      "-1313\n",
      "-1314\n",
      "-1315\n",
      "-1316\n",
      "-1317\n",
      "-1318\n",
      "-1319\n",
      "-1320\n",
      "-1321\n",
      "-1322\n",
      "-1323\n",
      "-1324\n",
      "-1325\n",
      "-1326\n",
      "-1327\n",
      "-1328\n",
      "-1329\n",
      "-1330\n",
      "-1331\n",
      "-1332\n",
      "-1333\n",
      "-1334\n",
      "-1335\n",
      "-1336\n",
      "-1337\n",
      "-1338\n",
      "-1339\n",
      "-1340\n",
      "-1341\n",
      "-1342\n",
      "-1343\n",
      "-1344\n",
      "-1345\n",
      "-1346\n",
      "-1347\n",
      "-1348\n",
      "-1349\n",
      "-1350\n",
      "-1351\n",
      "-1352\n",
      "-1353\n",
      "-1354\n",
      "-1355\n",
      "-1356\n",
      "-1357\n",
      "-1358\n",
      "-1359\n",
      "-1360\n",
      "-1361\n",
      "-1362\n",
      "-1363\n",
      "-1364\n",
      "-1365\n",
      "-1366\n",
      "-1367\n",
      "-1368\n",
      "-1369\n",
      "-1370\n",
      "-1371\n",
      "-1372\n",
      "-1373\n",
      "-1374\n",
      "-1375\n",
      "-1376\n",
      "-1377\n",
      "-1378\n",
      "-1379\n",
      "-1380\n",
      "-1381\n",
      "-1382\n",
      "-1383\n",
      "-1384\n",
      "-1385\n",
      "-1386\n",
      "-1387\n",
      "-1388\n",
      "-1389\n",
      "-1390\n",
      "-1391\n",
      "-1392\n",
      "-1393\n",
      "-1394\n",
      "-1395\n",
      "-1396\n",
      "-1397\n",
      "-1398\n",
      "-1399\n",
      "-1400\n",
      "-1401\n",
      "-1402\n",
      "-1403\n",
      "-1404\n",
      "-1405\n",
      "-1406\n",
      "-1407\n",
      "-1408\n",
      "-1409\n",
      "-1410\n",
      "-1411\n",
      "-1412\n",
      "-1413\n",
      "-1414\n",
      "-1415\n",
      "-1416\n",
      "-1417\n",
      "-1418\n",
      "-1419\n",
      "-1420\n",
      "-1421\n",
      "-1422\n",
      "-1423\n",
      "-1424\n",
      "-1425\n",
      "-1426\n",
      "-1427\n",
      "-1428\n",
      "-1429\n",
      "-1430\n",
      "-1431\n",
      "-1432\n",
      "-1433\n",
      "-1434\n",
      "-1435\n",
      "-1436\n",
      "-1437\n",
      "-1438\n",
      "-1439\n",
      "-1440\n",
      "-1441\n",
      "-1442\n",
      "-1443\n",
      "-1444\n",
      "-1445\n",
      "-1446\n",
      "-1447\n",
      "-1448\n",
      "-1449\n",
      "-1450\n",
      "-1451\n",
      "-1452\n",
      "-1453\n",
      "-1454\n",
      "-1455\n",
      "-1456\n",
      "-1457\n",
      "-1458\n",
      "-1459\n",
      "-1460\n",
      "-1461\n",
      "-1462\n",
      "-1463\n",
      "-1464\n",
      "-1465\n",
      "-1466\n",
      "-1467\n",
      "-1468\n",
      "-1469\n",
      "-1470\n",
      "-1471\n",
      "-1472\n",
      "-1473\n",
      "-1474\n",
      "-1475\n",
      "-1476\n",
      "-1477\n",
      "-1478\n",
      "-1479\n",
      "-1480\n",
      "-1481\n",
      "-1482\n",
      "-1483\n",
      "-1484\n",
      "-1485\n",
      "-1486\n",
      "-1487\n",
      "-1488\n",
      "-1489\n",
      "-1490\n",
      "-1491\n",
      "-1492\n",
      "-1493\n",
      "-1494\n",
      "-1495\n",
      "-1496\n",
      "-1497\n",
      "-1498\n",
      "-1499\n",
      "-1500\n",
      "-1501\n",
      "-1502\n",
      "-1503\n",
      "-1504\n",
      "-1505\n",
      "-1506\n",
      "-1507\n",
      "-1508\n",
      "-1509\n",
      "-1510\n",
      "-1511\n",
      "-1512\n",
      "-1513\n",
      "-1514\n",
      "-1515\n",
      "-1516\n",
      "-1517\n",
      "-1518\n",
      "-1519\n",
      "-1520\n",
      "-1521\n",
      "-1522\n",
      "-1523\n",
      "-1524\n",
      "-1525\n",
      "-1526\n",
      "-1527\n",
      "-1528\n",
      "-1529\n",
      "-1530\n",
      "-1531\n",
      "-1532\n",
      "-1533\n",
      "-1534\n",
      "-1535\n",
      "-1536\n",
      "-1537\n",
      "-1538\n",
      "-1539\n",
      "-1540\n",
      "-1541\n",
      "-1542\n",
      "-1543\n",
      "-1544\n",
      "-1545\n",
      "-1546\n",
      "-1547\n",
      "-1548\n",
      "-1549\n",
      "-1550\n",
      "-1551\n",
      "-1552\n",
      "-1553\n",
      "-1554\n",
      "-1555\n",
      "-1556\n",
      "-1557\n",
      "-1558\n",
      "-1559\n",
      "-1560\n",
      "-1561\n",
      "-1562\n",
      "-1563\n",
      "-1564\n",
      "-1565\n",
      "-1566\n",
      "-1567\n",
      "-1568\n",
      "-1569\n",
      "-1570\n",
      "-1571\n",
      "-1572\n",
      "-1573\n",
      "-1574\n",
      "-1575\n",
      "-1576\n",
      "-1577\n",
      "-1578\n",
      "-1579\n",
      "-1580\n",
      "-1581\n",
      "-1582\n",
      "-1583\n",
      "-1584\n",
      "-1585\n",
      "-1586\n",
      "-1587\n",
      "-1588\n",
      "-1589\n",
      "-1590\n",
      "-1591\n",
      "-1592\n",
      "-1593\n",
      "-1594\n",
      "-1595\n",
      "-1596\n",
      "-1597\n",
      "-1598\n",
      "-1599\n",
      "-1600\n",
      "-1601\n",
      "-1602\n",
      "-1603\n",
      "-1604\n",
      "-1605\n",
      "-1606\n",
      "-1607\n",
      "-1608\n",
      "-1609\n",
      "-1610\n",
      "-1611\n",
      "-1612\n",
      "-1613\n",
      "-1614\n",
      "-1615\n",
      "-1616\n",
      "-1617\n",
      "-1618\n",
      "-1619\n",
      "-1620\n",
      "-1621\n",
      "-1622\n",
      "-1623\n",
      "-1624\n",
      "-1625\n",
      "-1626\n",
      "-1627\n",
      "-1628\n",
      "-1629\n",
      "-1630\n",
      "-1631\n",
      "-1632\n",
      "-1633\n",
      "-1634\n",
      "-1635\n",
      "-1636\n",
      "-1637\n",
      "-1638\n",
      "-1639\n",
      "-1640\n",
      "-1641\n",
      "-1642\n",
      "-1643\n",
      "-1644\n",
      "-1645\n",
      "-1646\n",
      "-1647\n",
      "-1648\n",
      "-1649\n",
      "-1650\n",
      "-1651\n",
      "-1652\n",
      "-1653\n",
      "-1654\n",
      "-1655\n",
      "-1656\n",
      "-1657\n",
      "-1658\n",
      "-1659\n",
      "-1660\n",
      "-1661\n",
      "-1662\n",
      "-1663\n",
      "-1664\n",
      "-1665\n",
      "-1666\n",
      "-1667\n",
      "-1668\n",
      "-1669\n",
      "-1670\n",
      "-1671\n",
      "-1672\n",
      "-1673\n",
      "-1674\n",
      "-1675\n",
      "-1676\n",
      "-1677\n",
      "-1678\n",
      "-1679\n",
      "-1680\n",
      "-1681\n",
      "-1682\n",
      "-1683\n",
      "-1684\n",
      "-1685\n",
      "-1686\n",
      "-1687\n",
      "-1688\n",
      "-1689\n",
      "-1690\n",
      "-1691\n",
      "-1692\n",
      "-1693\n",
      "-1694\n",
      "-1695\n",
      "-1696\n",
      "-1697\n",
      "-1698\n",
      "-1699\n",
      "-1700\n",
      "-1701\n",
      "-1702\n",
      "-1703\n",
      "-1704\n",
      "-1705\n",
      "-1706\n",
      "-1707\n",
      "-1708\n",
      "-1709\n",
      "-1710\n",
      "-1711\n",
      "-1712\n",
      "-1713\n",
      "-1714\n",
      "-1715\n",
      "-1716\n",
      "-1717\n",
      "-1718\n",
      "-1719\n",
      "-1720\n",
      "-1721\n",
      "-1722\n",
      "-1723\n",
      "-1724\n",
      "-1725\n",
      "-1726\n",
      "-1727\n",
      "-1728\n",
      "-1729\n",
      "-1730\n",
      "-1731\n",
      "-1732\n",
      "-1733\n",
      "-1734\n",
      "-1735\n",
      "-1736\n",
      "-1737\n",
      "-1738\n",
      "-1739\n",
      "-1740\n",
      "-1741\n",
      "-1742\n",
      "-1743\n",
      "-1744\n",
      "-1745\n",
      "-1746\n",
      "-1747\n",
      "-1748\n",
      "-1749\n",
      "-1750\n",
      "-1751\n",
      "-1752\n",
      "-1753\n",
      "-1754\n",
      "-1755\n",
      "-1756\n",
      "-1757\n",
      "-1758\n",
      "-1759\n",
      "-1760\n",
      "-1761\n",
      "-1762\n",
      "-1763\n",
      "-1764\n",
      "-1765\n",
      "-1766\n",
      "-1767\n",
      "-1768\n",
      "-1769\n",
      "-1770\n",
      "-1771\n",
      "-1772\n",
      "-1773\n",
      "-1774\n",
      "-1775\n",
      "-1776\n",
      "-1777\n",
      "-1778\n",
      "-1779\n",
      "-1780\n",
      "-1781\n",
      "-1782\n",
      "-1783\n",
      "-1784\n",
      "-1785\n",
      "-1786\n",
      "-1787\n",
      "-1788\n",
      "-1789\n",
      "-1790\n",
      "-1791\n",
      "-1792\n",
      "-1793\n",
      "-1794\n",
      "-1795\n",
      "-1796\n",
      "-1797\n",
      "-1798\n",
      "-1799\n",
      "-1800\n",
      "-1801\n",
      "-1802\n",
      "-1803\n",
      "-1804\n",
      "-1805\n",
      "-1806\n",
      "-1807\n",
      "-1808\n",
      "-1809\n",
      "-1810\n",
      "-1811\n",
      "-1812\n",
      "-1813\n",
      "-1814\n",
      "-1815\n",
      "-1816\n",
      "-1817\n",
      "-1818\n",
      "-1819\n",
      "-1820\n",
      "-1821\n",
      "-1822\n",
      "-1823\n",
      "-1824\n",
      "-1825\n",
      "-1826\n",
      "-1827\n",
      "-1828\n",
      "-1829\n",
      "-1830\n",
      "-1831\n",
      "-1832\n",
      "-1833\n",
      "-1834\n",
      "-1835\n",
      "-1836\n",
      "-1837\n",
      "-1838\n",
      "-1839\n",
      "-1840\n",
      "-1841\n",
      "-1842\n",
      "-1843\n",
      "-1844\n",
      "-1845\n",
      "-1846\n",
      "-1847\n",
      "-1848\n",
      "-1849\n",
      "-1850\n",
      "-1851\n",
      "-1852\n",
      "-1853\n",
      "-1854\n",
      "-1855\n",
      "-1856\n",
      "-1857\n",
      "-1858\n",
      "-1859\n",
      "-1860\n",
      "-1861\n",
      "-1862\n",
      "-1863\n",
      "-1864\n",
      "-1865\n",
      "-1866\n",
      "-1867\n",
      "-1868\n",
      "-1869\n",
      "-1870\n",
      "-1871\n",
      "-1872\n",
      "-1873\n",
      "-1874\n",
      "-1875\n",
      "-1876\n",
      "-1877\n",
      "-1878\n",
      "-1879\n",
      "-1880\n",
      "-1881\n",
      "-1882\n",
      "-1883\n",
      "-1884\n",
      "-1885\n",
      "-1886\n",
      "-1887\n",
      "-1888\n",
      "-1889\n",
      "-1890\n",
      "-1891\n",
      "-1892\n",
      "-1893\n",
      "-1894\n",
      "-1895\n",
      "-1896\n",
      "-1897\n",
      "-1898\n",
      "-1899\n",
      "-1900\n",
      "-1901\n",
      "-1902\n",
      "-1903\n",
      "-1904\n",
      "-1905\n",
      "-1906\n",
      "-1907\n",
      "-1908\n",
      "-1909\n",
      "-1910\n",
      "-1911\n",
      "-1912\n",
      "-1913\n",
      "-1914\n",
      "-1915\n",
      "-1916\n",
      "-1917\n",
      "-1918\n",
      "-1919\n",
      "-1920\n",
      "-1921\n",
      "-1922\n",
      "-1923\n",
      "-1924\n",
      "-1925\n",
      "-1926\n",
      "-1927\n",
      "-1928\n",
      "-1929\n",
      "-1930\n",
      "-1931\n",
      "-1932\n",
      "-1933\n",
      "-1934\n",
      "-1935\n",
      "-1936\n",
      "-1937\n",
      "-1938\n",
      "-1939\n",
      "-1940\n",
      "-1941\n",
      "-1942\n",
      "-1943\n",
      "-1944\n",
      "-1945\n",
      "-1946\n",
      "-1947\n",
      "-1948\n",
      "-1949\n",
      "-1950\n",
      "-1951\n",
      "-1952\n",
      "-1953\n",
      "-1954\n",
      "-1955\n",
      "-1956\n",
      "-1957\n",
      "-1958\n",
      "-1959\n",
      "-1960\n",
      "-1961\n",
      "-1962\n",
      "-1963\n",
      "-1964\n",
      "-1965\n",
      "-1966\n",
      "-1967\n",
      "-1968\n",
      "-1969\n",
      "-1970\n",
      "-1971\n",
      "-1972\n",
      "-1973\n",
      "-1974\n",
      "-1975\n",
      "-1976\n",
      "-1977\n",
      "-1978\n",
      "-1979\n",
      "-1980\n",
      "-1981\n",
      "-1982\n",
      "-1983\n",
      "-1984\n",
      "-1985\n",
      "-1986\n",
      "-1987\n",
      "-1988\n",
      "-1989\n",
      "-1990\n",
      "-1991\n",
      "-1992\n",
      "-1993\n",
      "-1994\n",
      "-1995\n",
      "-1996\n",
      "-1997\n",
      "-1998\n",
      "-1999\n",
      "-2000\n",
      "-2001\n",
      "-2002\n",
      "-2003\n",
      "-2004\n",
      "-2005\n",
      "-2006\n",
      "-2007\n",
      "-2008\n",
      "-2009\n",
      "-2010\n",
      "-2011\n",
      "-2012\n",
      "-2013\n",
      "-2014\n",
      "-2015\n",
      "-2016\n",
      "-2017\n",
      "-2018\n",
      "-2019\n",
      "-2020\n",
      "-2021\n",
      "-2022\n",
      "-2023\n",
      "-2024\n",
      "-2025\n",
      "-2026\n",
      "-2027\n",
      "-2028\n",
      "-2029\n",
      "-2030\n",
      "-2031\n",
      "-2032\n",
      "-2033\n",
      "-2034\n",
      "-2035\n",
      "-2036\n",
      "-2037\n",
      "-2038\n",
      "-2039\n",
      "-2040\n",
      "-2041\n",
      "-2042\n",
      "-2043\n",
      "-2044\n",
      "-2045\n",
      "-2046\n",
      "-2047\n",
      "-2048\n",
      "-2049\n",
      "-2050\n",
      "-2051\n",
      "-2052\n",
      "-2053\n",
      "-2054\n",
      "-2055\n",
      "-2056\n",
      "-2057\n",
      "-2058\n",
      "-2059\n",
      "-2060\n",
      "-2061\n",
      "-2062\n",
      "-2063\n",
      "-2064\n",
      "-2065\n",
      "-2066\n",
      "-2067\n",
      "-2068\n",
      "-2069\n",
      "-2070\n",
      "-2071\n",
      "-2072\n",
      "-2073\n",
      "-2074\n",
      "-2075\n",
      "-2076\n",
      "-2077\n",
      "-2078\n",
      "-2079\n",
      "-2080\n",
      "-2081\n",
      "-2082\n",
      "-2083\n",
      "-2084\n",
      "-2085\n",
      "-2086\n",
      "-2087\n",
      "-2088\n",
      "-2089\n",
      "-2090\n",
      "-2091\n",
      "-2092\n",
      "-2093\n",
      "-2094\n",
      "-2095\n",
      "-2096\n",
      "-2097\n",
      "-2098\n",
      "-2099\n",
      "-2100\n",
      "-2101\n",
      "-2102\n",
      "-2103\n",
      "-2104\n",
      "-2105\n",
      "-2106\n",
      "-2107\n",
      "-2108\n",
      "-2109\n",
      "-2110\n",
      "-2111\n",
      "-2112\n",
      "-2113\n",
      "-2114\n",
      "-2115\n",
      "-2116\n",
      "-2117\n",
      "-2118\n",
      "-2119\n",
      "-2120\n",
      "-2121\n",
      "-2122\n",
      "-2123\n",
      "-2124\n",
      "-2125\n",
      "-2126\n",
      "-2127\n",
      "-2128\n",
      "-2129\n",
      "-2130\n",
      "-2131\n",
      "-2132\n",
      "-2133\n",
      "-2134\n",
      "-2135\n",
      "-2136\n",
      "-2137\n",
      "-2138\n",
      "-2139\n",
      "-2140\n",
      "-2141\n",
      "-2142\n",
      "-2143\n",
      "-2144\n",
      "-2145\n",
      "-2146\n",
      "-2147\n",
      "-2148\n",
      "-2149\n",
      "-2150\n",
      "-2151\n",
      "-2152\n",
      "-2153\n",
      "-2154\n",
      "-2155\n",
      "-2156\n",
      "-2157\n",
      "-2158\n",
      "-2159\n",
      "-2160\n",
      "-2161\n",
      "-2162\n",
      "-2163\n",
      "-2164\n",
      "-2165\n",
      "-2166\n",
      "-2167\n",
      "-2168\n",
      "-2169\n",
      "-2170\n",
      "-2171\n",
      "-2172\n",
      "-2173\n",
      "-2174\n",
      "-2175\n",
      "-2176\n",
      "-2177\n",
      "-2178\n",
      "-2179\n",
      "-2180\n",
      "-2181\n",
      "-2182\n",
      "-2183\n",
      "-2184\n",
      "-2185\n",
      "-2186\n",
      "-2187\n",
      "-2188\n",
      "-2189\n",
      "-2190\n",
      "-2191\n",
      "-2192\n",
      "-2193\n",
      "-2194\n",
      "-2195\n",
      "-2196\n",
      "-2197\n",
      "-2198\n",
      "-2199\n",
      "-2200\n",
      "-2201\n",
      "-2202\n",
      "-2203\n",
      "-2204\n",
      "-2205\n",
      "-2206\n",
      "-2207\n",
      "-2208\n",
      "-2209\n",
      "-2210\n",
      "-2211\n",
      "-2212\n",
      "-2213\n",
      "-2214\n",
      "-2215\n",
      "-2216\n",
      "-2217\n",
      "-2218\n",
      "-2219\n",
      "-2220\n",
      "-2221\n",
      "-2222\n",
      "-2223\n",
      "-2224\n",
      "-2225\n",
      "-2226\n",
      "-2227\n",
      "-2228\n",
      "-2229\n",
      "-2230\n",
      "-2231\n",
      "-2232\n",
      "-2233\n",
      "-2234\n",
      "-2235\n",
      "-2236\n",
      "-2237\n",
      "-2238\n",
      "-2239\n",
      "-2240\n",
      "-2241\n",
      "-2242\n",
      "-2243\n",
      "-2244\n",
      "-2245\n",
      "-2246\n",
      "-2247\n",
      "-2248\n",
      "-2249\n",
      "-2250\n",
      "-2251\n",
      "-2252\n",
      "-2253\n",
      "-2254\n",
      "-2255\n",
      "-2256\n",
      "-2257\n",
      "-2258\n",
      "-2259\n",
      "-2260\n",
      "-2261\n",
      "-2262\n",
      "-2263\n",
      "-2264\n",
      "-2265\n",
      "-2266\n",
      "-2267\n",
      "-2268\n",
      "-2269\n",
      "-2270\n",
      "-2271\n",
      "-2272\n",
      "-2273\n",
      "-2274\n",
      "-2275\n",
      "-2276\n",
      "-2277\n",
      "-2278\n",
      "-2279\n",
      "-2280\n",
      "-2281\n",
      "-2282\n",
      "-2283\n",
      "-2284\n",
      "-2285\n",
      "-2286\n",
      "-2287\n",
      "-2288\n",
      "-2289\n",
      "-2290\n",
      "-2291\n",
      "-2292\n",
      "-2293\n",
      "-2294\n",
      "-2295\n",
      "-2296\n",
      "-2297\n",
      "-2298\n",
      "-2299\n",
      "-2300\n",
      "-2301\n",
      "-2302\n",
      "-2303\n",
      "-2304\n",
      "-2305\n",
      "-2306\n",
      "-2307\n",
      "-2308\n",
      "-2309\n",
      "-2310\n",
      "-2311\n",
      "-2312\n",
      "-2313\n",
      "-2314\n",
      "-2315\n",
      "-2316\n",
      "-2317\n",
      "-2318\n",
      "-2319\n",
      "-2320\n",
      "-2321\n",
      "-2322\n",
      "-2323\n",
      "-2324\n",
      "-2325\n",
      "-2326\n",
      "-2327\n",
      "-2328\n",
      "-2329\n",
      "-2330\n",
      "-2331\n",
      "-2332\n",
      "-2333\n",
      "-2334\n",
      "-2335\n",
      "-2336\n",
      "-2337\n",
      "-2338\n",
      "-2339\n",
      "-2340\n",
      "-2341\n",
      "-2342\n",
      "-2343\n",
      "-2344\n",
      "-2345\n",
      "-2346\n",
      "-2347\n",
      "-2348\n",
      "-2349\n",
      "-2350\n",
      "-2351\n",
      "-2352\n",
      "-2353\n",
      "-2354\n",
      "-2355\n",
      "-2356\n",
      "-2357\n",
      "-2358\n",
      "-2359\n",
      "-2360\n",
      "-2361\n",
      "-2362\n",
      "-2363\n",
      "-2364\n",
      "-2365\n",
      "-2366\n",
      "-2367\n",
      "-2368\n",
      "-2369\n",
      "-2370\n",
      "-2371\n",
      "-2372\n",
      "-2373\n",
      "-2374\n",
      "-2375\n",
      "-2376\n",
      "-2377\n",
      "-2378\n",
      "-2379\n",
      "-2380\n",
      "-2381\n",
      "-2382\n",
      "-2383\n",
      "-2384\n",
      "-2385\n",
      "-2386\n",
      "-2387\n",
      "-2388\n",
      "-2389\n",
      "-2390\n",
      "-2391\n",
      "-2392\n",
      "-2393\n",
      "-2394\n",
      "-2395\n",
      "-2396\n",
      "-2397\n",
      "-2398\n",
      "-2399\n",
      "-2400\n",
      "-2401\n",
      "-2402\n",
      "-2403\n",
      "-2404\n",
      "-2405\n",
      "-2406\n",
      "-2407\n",
      "-2408\n",
      "-2409\n",
      "-2410\n",
      "-2411\n",
      "-2412\n",
      "-2413\n",
      "-2414\n",
      "-2415\n",
      "-2416\n",
      "-2417\n",
      "-2418\n",
      "-2419\n",
      "-2420\n",
      "-2421\n",
      "-2422\n",
      "-2423\n",
      "-2424\n",
      "-2425\n",
      "-2426\n",
      "-2427\n",
      "-2428\n",
      "-2429\n",
      "-2430\n",
      "-2431\n",
      "-2432\n",
      "-2433\n",
      "-2434\n",
      "-2435\n",
      "-2436\n",
      "-2437\n",
      "-2438\n",
      "-2439\n",
      "-2440\n",
      "-2441\n",
      "-2442\n",
      "-2443\n",
      "-2444\n",
      "-2445\n",
      "-2446\n",
      "-2447\n",
      "-2448\n",
      "-2449\n",
      "-2450\n",
      "-2451\n",
      "-2452\n",
      "-2453\n",
      "-2454\n",
      "-2455\n",
      "-2456\n",
      "-2457\n",
      "-2458\n",
      "-2459\n",
      "-2460\n",
      "-2461\n",
      "-2462\n",
      "-2463\n",
      "-2464\n",
      "-2465\n",
      "-2466\n",
      "-2467\n",
      "-2468\n",
      "-2469\n",
      "-2470\n",
      "-2471\n",
      "-2472\n",
      "-2473\n",
      "-2474\n",
      "-2475\n",
      "-2476\n",
      "-2477\n",
      "-2478\n",
      "-2479\n",
      "-2480\n",
      "-2481\n",
      "-2482\n",
      "-2483\n",
      "-2484\n",
      "-2485\n",
      "-2486\n",
      "-2487\n",
      "-2488\n",
      "-2489\n",
      "-2490\n",
      "-2491\n",
      "-2492\n",
      "-2493\n",
      "-2494\n",
      "-2495\n",
      "-2496\n",
      "-2497\n",
      "-2498\n",
      "-2499\n",
      "-2500\n",
      "-2501\n",
      "-2502\n",
      "-2503\n",
      "-2504\n",
      "-2505\n",
      "-2506\n",
      "-2507\n",
      "-2508\n",
      "-2509\n",
      "-2510\n",
      "-2511\n",
      "-2512\n",
      "-2513\n",
      "-2514\n",
      "-2515\n",
      "-2516\n",
      "-2517\n",
      "-2518\n",
      "-2519\n",
      "-2520\n",
      "-2521\n",
      "-2522\n",
      "-2523\n",
      "-2524\n",
      "-2525\n",
      "-2526\n",
      "-2527\n",
      "-2528\n",
      "-2529\n",
      "-2530\n",
      "-2531\n",
      "-2532\n",
      "-2533\n",
      "-2534\n",
      "-2535\n",
      "-2536\n",
      "-2537\n",
      "-2538\n",
      "-2539\n",
      "-2540\n",
      "-2541\n",
      "-2542\n",
      "-2543\n",
      "-2544\n",
      "-2545\n",
      "-2546\n",
      "-2547\n",
      "-2548\n",
      "-2549\n",
      "-2550\n",
      "-2551\n",
      "-2552\n",
      "-2553\n",
      "-2554\n",
      "-2555\n",
      "-2556\n",
      "-2557\n",
      "-2558\n",
      "-2559\n",
      "-2560\n",
      "-2561\n",
      "-2562\n",
      "-2563\n",
      "-2564\n",
      "-2565\n",
      "-2566\n",
      "-2567\n",
      "-2568\n",
      "-2569\n",
      "-2570\n",
      "-2571\n",
      "-2572\n",
      "-2573\n",
      "-2574\n",
      "-2575\n",
      "-2576\n",
      "-2577\n",
      "-2578\n",
      "-2579\n",
      "-2580\n",
      "-2581\n",
      "-2582\n",
      "-2583\n",
      "-2584\n",
      "-2585\n",
      "-2586\n",
      "-2587\n",
      "-2588\n",
      "-2589\n",
      "-2590\n",
      "-2591\n",
      "-2592\n",
      "-2593\n",
      "-2594\n",
      "-2595\n",
      "-2596\n",
      "-2597\n",
      "-2598\n",
      "-2599\n",
      "-2600\n",
      "-2601\n",
      "-2602\n",
      "-2603\n",
      "-2604\n",
      "-2605\n",
      "-2606\n",
      "-2607\n",
      "-2608\n",
      "-2609\n",
      "-2610\n",
      "-2611\n",
      "-2612\n",
      "-2613\n",
      "-2614\n",
      "-2615\n",
      "-2616\n",
      "-2617\n",
      "-2618\n",
      "-2619\n",
      "-2620\n",
      "-2621\n",
      "-2622\n",
      "-2623\n",
      "-2624\n",
      "-2625\n",
      "-2626\n",
      "-2627\n",
      "-2628\n",
      "-2629\n",
      "-2630\n",
      "-2631\n",
      "-2632\n",
      "-2633\n",
      "-2634\n",
      "-2635\n",
      "-2636\n",
      "-2637\n",
      "-2638\n",
      "-2639\n",
      "-2640\n",
      "-2641\n",
      "-2642\n",
      "-2643\n",
      "-2644\n",
      "-2645\n",
      "-2646\n",
      "-2647\n",
      "-2648\n",
      "-2649\n",
      "-2650\n",
      "-2651\n",
      "-2652\n",
      "-2653\n",
      "-2654\n",
      "-2655\n",
      "-2656\n",
      "-2657\n",
      "-2658\n",
      "-2659\n",
      "-2660\n",
      "-2661\n",
      "-2662\n",
      "-2663\n",
      "-2664\n",
      "-2665\n",
      "-2666\n",
      "-2667\n",
      "-2668\n",
      "-2669\n",
      "-2670\n",
      "-2671\n",
      "-2672\n",
      "-2673\n",
      "-2674\n",
      "-2675\n",
      "-2676\n",
      "-2677\n",
      "-2678\n",
      "-2679\n",
      "-2680\n",
      "-2681\n",
      "-2682\n",
      "-2683\n",
      "-2684\n",
      "-2685\n",
      "-2686\n",
      "-2687\n",
      "-2688\n",
      "-2689\n",
      "-2690\n",
      "-2691\n",
      "-2692\n",
      "-2693\n",
      "-2694\n",
      "-2695\n",
      "-2696\n",
      "-2697\n",
      "-2698\n",
      "-2699\n",
      "-2700\n",
      "-2701\n",
      "-2702\n",
      "-2703\n",
      "-2704\n",
      "-2705\n",
      "-2706\n",
      "-2707\n",
      "-2708\n",
      "-2709\n",
      "-2710\n",
      "-2711\n",
      "-2712\n",
      "-2713\n",
      "-2714\n",
      "-2715\n",
      "-2716\n",
      "-2717\n",
      "-2718\n",
      "-2719\n",
      "-2720\n",
      "-2721\n",
      "-2722\n",
      "-2723\n",
      "-2724\n",
      "-2725\n",
      "-2726\n",
      "-2727\n",
      "-2728\n",
      "-2729\n",
      "-2730\n",
      "-2731\n",
      "-2732\n",
      "-2733\n",
      "-2734\n",
      "-2735\n",
      "-2736\n",
      "-2737\n",
      "-2738\n",
      "-2739\n",
      "-2740\n",
      "-2741\n",
      "-2742\n",
      "-2743\n",
      "-2744\n",
      "-2745\n",
      "-2746\n",
      "-2747\n",
      "-2748\n",
      "-2749\n",
      "-2750\n",
      "-2751\n",
      "-2752\n",
      "-2753\n",
      "-2754\n",
      "-2755\n",
      "-2756\n",
      "-2757\n",
      "-2758\n",
      "-2759\n",
      "-2760\n",
      "-2761\n",
      "-2762\n",
      "-2763\n",
      "-2764\n",
      "-2765\n",
      "-2766\n",
      "-2767\n",
      "-2768\n",
      "-2769\n",
      "-2770\n",
      "-2771\n",
      "-2772\n",
      "-2773\n",
      "-2774\n",
      "-2775\n",
      "-2776\n",
      "-2777\n",
      "-2778\n",
      "-2779\n",
      "-2780\n",
      "-2781\n",
      "-2782\n",
      "-2783\n",
      "-2784\n",
      "-2785\n",
      "-2786\n",
      "-2787\n",
      "-2788\n",
      "-2789\n",
      "-2790\n",
      "-2791\n",
      "-2792\n",
      "-2793\n",
      "-2794\n",
      "-2795\n",
      "-2796\n",
      "-2797\n",
      "-2798\n",
      "-2799\n",
      "-2800\n",
      "-2801\n",
      "-2802\n",
      "-2803\n",
      "-2804\n",
      "-2805\n",
      "-2806\n",
      "-2807\n",
      "-2808\n",
      "-2809\n",
      "-2810\n",
      "-2811\n",
      "-2812\n",
      "-2813\n",
      "-2814\n",
      "-2815\n",
      "-2816\n",
      "-2817\n",
      "-2818\n",
      "-2819\n",
      "-2820\n",
      "-2821\n",
      "-2822\n",
      "-2823\n",
      "-2824\n",
      "-2825\n",
      "-2826\n",
      "-2827\n",
      "-2828\n",
      "-2829\n",
      "-2830\n",
      "-2831\n",
      "-2832\n",
      "-2833\n",
      "-2834\n",
      "-2835\n",
      "-2836\n",
      "-2837\n",
      "-2838\n",
      "-2839\n",
      "-2840\n",
      "-2841\n",
      "-2842\n",
      "-2843\n",
      "-2844\n"
     ]
    },
    {
     "name": "stdout",
     "output_type": "stream",
     "text": [
      "-2845\n",
      "-2846\n",
      "-2847\n",
      "-2848\n",
      "-2849\n",
      "-2850\n",
      "-2851\n",
      "-2852\n",
      "-2853\n",
      "-2854\n",
      "-2855\n",
      "-2856\n",
      "-2857\n",
      "-2858\n",
      "-2859\n",
      "-2860\n",
      "-2861\n",
      "-2862\n",
      "-2863\n",
      "-2864\n",
      "-2865\n",
      "-2866\n",
      "-2867\n",
      "-2868\n",
      "-2869\n",
      "-2870\n",
      "-2871\n",
      "-2872\n",
      "-2873\n",
      "-2874\n",
      "-2875\n",
      "-2876\n",
      "-2877\n",
      "-2878\n",
      "-2879\n",
      "-2880\n",
      "-2881\n",
      "-2882\n",
      "-2883\n",
      "-2884\n",
      "-2885\n",
      "-2886\n",
      "-2887\n",
      "-2888\n",
      "-2889\n",
      "-2890\n",
      "-2891\n",
      "-2892\n",
      "-2893\n",
      "-2894\n",
      "-2895\n",
      "-2896\n",
      "-2897\n",
      "-2898\n",
      "-2899\n",
      "-2900\n",
      "-2901\n",
      "-2902\n",
      "-2903\n",
      "-2904\n",
      "-2905\n",
      "-2906\n",
      "-2907\n",
      "-2908\n",
      "-2909\n",
      "-2910\n",
      "-2911\n",
      "-2912\n",
      "-2913\n",
      "-2914\n",
      "-2915\n",
      "-2916\n",
      "-2917\n",
      "-2918\n",
      "-2919\n",
      "-2920\n",
      "-2921\n",
      "-2922\n",
      "-2923\n",
      "-2924\n",
      "-2925\n",
      "-2926\n",
      "-2927\n",
      "-2928\n",
      "-2929\n",
      "-2930\n",
      "-2931\n",
      "-2932\n",
      "-2933\n",
      "-2934\n",
      "-2935\n",
      "-2936\n",
      "-2937\n",
      "-2938\n",
      "-2939\n",
      "-2940\n",
      "-2941\n",
      "-2942\n",
      "-2943\n",
      "-2944\n",
      "-2945\n",
      "-2946\n",
      "-2947\n",
      "-2948\n",
      "-2949\n",
      "-2950\n",
      "-2951\n",
      "-2952"
     ]
    },
    {
     "ename": "RecursionError",
     "evalue": "maximum recursion depth exceeded in comparison",
     "output_type": "error",
     "traceback": [
      "\u001b[0;31m--------------------------------------------------------\u001b[0m",
      "\u001b[0;31mRecursionError\u001b[0m         Traceback (most recent call last)",
      "\u001b[0;32m<ipython-input-548-637175d621a4>\u001b[0m in \u001b[0;36m<module>\u001b[0;34m\u001b[0m\n\u001b[0;32m----> 1\u001b[0;31m \u001b[0mfactorial\u001b[0m\u001b[0;34m(\u001b[0m\u001b[0;36m5\u001b[0m\u001b[0;34m)\u001b[0m\u001b[0;34m\u001b[0m\u001b[0;34m\u001b[0m\u001b[0m\n\u001b[0m",
      "\u001b[0;32m<ipython-input-547-942f0cd1b5f2>\u001b[0m in \u001b[0;36mfactorial\u001b[0;34m(n)\u001b[0m\n\u001b[1;32m      1\u001b[0m \u001b[0;32mdef\u001b[0m \u001b[0mfactorial\u001b[0m\u001b[0;34m(\u001b[0m\u001b[0mn\u001b[0m\u001b[0;34m)\u001b[0m\u001b[0;34m:\u001b[0m\u001b[0;34m\u001b[0m\u001b[0;34m\u001b[0m\u001b[0m\n\u001b[1;32m      2\u001b[0m     \u001b[0mprint\u001b[0m\u001b[0;34m(\u001b[0m\u001b[0mn\u001b[0m\u001b[0;34m)\u001b[0m\u001b[0;34m\u001b[0m\u001b[0;34m\u001b[0m\u001b[0m\n\u001b[0;32m----> 3\u001b[0;31m     \u001b[0;32mreturn\u001b[0m \u001b[0mn\u001b[0m \u001b[0;34m*\u001b[0m \u001b[0mfactorial\u001b[0m\u001b[0;34m(\u001b[0m\u001b[0mn\u001b[0m\u001b[0;34m-\u001b[0m\u001b[0;36m1\u001b[0m\u001b[0;34m)\u001b[0m\u001b[0;34m\u001b[0m\u001b[0;34m\u001b[0m\u001b[0m\n\u001b[0m",
      "... last 1 frames repeated, from the frame below ...\n",
      "\u001b[0;32m<ipython-input-547-942f0cd1b5f2>\u001b[0m in \u001b[0;36mfactorial\u001b[0;34m(n)\u001b[0m\n\u001b[1;32m      1\u001b[0m \u001b[0;32mdef\u001b[0m \u001b[0mfactorial\u001b[0m\u001b[0;34m(\u001b[0m\u001b[0mn\u001b[0m\u001b[0;34m)\u001b[0m\u001b[0;34m:\u001b[0m\u001b[0;34m\u001b[0m\u001b[0;34m\u001b[0m\u001b[0m\n\u001b[1;32m      2\u001b[0m     \u001b[0mprint\u001b[0m\u001b[0;34m(\u001b[0m\u001b[0mn\u001b[0m\u001b[0;34m)\u001b[0m\u001b[0;34m\u001b[0m\u001b[0;34m\u001b[0m\u001b[0m\n\u001b[0;32m----> 3\u001b[0;31m     \u001b[0;32mreturn\u001b[0m \u001b[0mn\u001b[0m \u001b[0;34m*\u001b[0m \u001b[0mfactorial\u001b[0m\u001b[0;34m(\u001b[0m\u001b[0mn\u001b[0m\u001b[0;34m-\u001b[0m\u001b[0;36m1\u001b[0m\u001b[0;34m)\u001b[0m\u001b[0;34m\u001b[0m\u001b[0;34m\u001b[0m\u001b[0m\n\u001b[0m",
      "\u001b[0;31mRecursionError\u001b[0m: maximum recursion depth exceeded in comparison"
     ]
    }
   ],
   "source": [
    "factorial(5)"
   ]
  },
  {
   "cell_type": "markdown",
   "metadata": {
    "hidden": true
   },
   "source": [
    "* Oops what just happened?\n",
    "* The danger of calling a function **recursively** is infinite recursion!\n",
    "* Infinite recursion usually happens when the base case does not apply correctly, in this case we totally forgot to write the base case.\n",
    "* Imagine it like falling through the floors of a building (like a cartoon!)... If someone forget's the floor - you'll fall forever!"
   ]
  },
  {
   "cell_type": "code",
   "execution_count": 549,
   "metadata": {
    "ExecuteTime": {
     "end_time": "2020-05-06T20:25:12.951932Z",
     "start_time": "2020-05-06T20:25:12.949101Z"
    },
    "hidden": true
   },
   "outputs": [],
   "source": [
    "# lets try again\n",
    "def factorial(n):\n",
    "    print(n)\n",
    "    if n==1:\n",
    "        return 1\n",
    "    return n * factorial(n-1)"
   ]
  },
  {
   "cell_type": "code",
   "execution_count": 550,
   "metadata": {
    "ExecuteTime": {
     "end_time": "2020-05-06T20:25:16.690844Z",
     "start_time": "2020-05-06T20:25:16.686263Z"
    },
    "hidden": true
   },
   "outputs": [
    {
     "name": "stdout",
     "output_type": "stream",
     "text": [
      "5\n",
      "4\n",
      "3\n",
      "2\n",
      "1\n"
     ]
    },
    {
     "data": {
      "text/plain": [
       "120"
      ]
     },
     "execution_count": 550,
     "metadata": {},
     "output_type": "execute_result"
    }
   ],
   "source": [
    "factorial(5)"
   ]
  },
  {
   "cell_type": "markdown",
   "metadata": {
    "ExecuteTime": {
     "end_time": "2020-05-06T20:25:30.385565Z",
     "start_time": "2020-05-06T20:25:30.381927Z"
    },
    "hidden": true
   },
   "source": [
    "* This time it works!"
   ]
  },
  {
   "cell_type": "markdown",
   "metadata": {
    "hidden": true
   },
   "source": [
    "Let's look at another example"
   ]
  },
  {
   "cell_type": "code",
   "execution_count": 559,
   "metadata": {
    "ExecuteTime": {
     "end_time": "2020-05-06T20:38:50.942882Z",
     "start_time": "2020-05-06T20:38:50.939434Z"
    },
    "hidden": true
   },
   "outputs": [],
   "source": [
    "def check_palindrome(string):\n",
    "    if len(string)<=1:\n",
    "        return True\n",
    "\n",
    "    if string[0]==string[-1]:\n",
    "        return check_palindrome(string[1:-1])\n",
    "    else:\n",
    "        return False"
   ]
  },
  {
   "cell_type": "code",
   "execution_count": 560,
   "metadata": {
    "ExecuteTime": {
     "end_time": "2020-05-06T20:39:10.133023Z",
     "start_time": "2020-05-06T20:39:10.129634Z"
    },
    "hidden": true
   },
   "outputs": [
    {
     "name": "stdout",
     "output_type": "stream",
     "text": [
      "True\n",
      "True\n",
      "False\n"
     ]
    }
   ],
   "source": [
    "print(check_palindrome(\"abcba\"))\n",
    "print(check_palindrome(\"abba\"))\n",
    "print(check_palindrome(\"abcbas\"))"
   ]
  },
  {
   "cell_type": "markdown",
   "metadata": {
    "hidden": true
   },
   "source": [
    "#### Built-in functions"
   ]
  },
  {
   "cell_type": "markdown",
   "metadata": {
    "hidden": true
   },
   "source": [
    "Python provides many built in functions that are always available (as opposed to? Read about imports)."
   ]
  },
  {
   "cell_type": "markdown",
   "metadata": {
    "hidden": true
   },
   "source": [
    "The print function"
   ]
  },
  {
   "cell_type": "code",
   "execution_count": 304,
   "metadata": {
    "ExecuteTime": {
     "end_time": "2020-05-06T14:27:24.655139Z",
     "start_time": "2020-05-06T14:27:24.650725Z"
    },
    "hidden": true
   },
   "outputs": [
    {
     "name": "stdout",
     "output_type": "stream",
     "text": [
      "A single string\n",
      "Still a singlestring is passed\n",
      "Many strings are passed\n",
      "Some may not even be strings : 1 True <built-in function print>\n"
     ]
    }
   ],
   "source": [
    "print(\"A single string\")\n",
    "print(\"Still \"+\"a single\"+\"string is passed\")\n",
    "print(\"Many\",\"strings\",\"are\",\"passed\")\n",
    "print(\"Some may not even be strings :\",1,True,print)"
   ]
  },
  {
   "cell_type": "markdown",
   "metadata": {
    "hidden": true
   },
   "source": [
    "Some math related functions"
   ]
  },
  {
   "cell_type": "code",
   "execution_count": 307,
   "metadata": {
    "ExecuteTime": {
     "end_time": "2020-05-06T14:30:02.155062Z",
     "start_time": "2020-05-06T14:30:02.151587Z"
    },
    "hidden": true
   },
   "outputs": [
    {
     "name": "stdout",
     "output_type": "stream",
     "text": [
      "22.44\n",
      "22.1\n"
     ]
    }
   ],
   "source": [
    "print(abs(-22.44))\n",
    "print(abs(22.1))"
   ]
  },
  {
   "cell_type": "code",
   "execution_count": 309,
   "metadata": {
    "ExecuteTime": {
     "end_time": "2020-05-06T14:30:04.881011Z",
     "start_time": "2020-05-06T14:30:04.876862Z"
    },
    "hidden": true
   },
   "outputs": [
    {
     "name": "stdout",
     "output_type": "stream",
     "text": [
      "5\n",
      "6\n",
      "1\n",
      "3\n"
     ]
    }
   ],
   "source": [
    "print(max([1,2,4,5]))\n",
    "print(max(6,3))\n",
    "print(min([1,2,4,5]))\n",
    "print(min(6,3))"
   ]
  },
  {
   "cell_type": "code",
   "execution_count": 311,
   "metadata": {
    "ExecuteTime": {
     "end_time": "2020-05-06T14:30:45.727501Z",
     "start_time": "2020-05-06T14:30:45.724003Z"
    },
    "hidden": true
   },
   "outputs": [
    {
     "name": "stdout",
     "output_type": "stream",
     "text": [
      "3.0\n",
      "15\n"
     ]
    }
   ],
   "source": [
    "print(pow(9,1/2))\n",
    "print(sum([2,5,8]))"
   ]
  },
  {
   "cell_type": "markdown",
   "metadata": {
    "hidden": true
   },
   "source": [
    "The len() function"
   ]
  },
  {
   "cell_type": "code",
   "execution_count": 302,
   "metadata": {
    "ExecuteTime": {
     "end_time": "2020-05-06T14:26:06.786418Z",
     "start_time": "2020-05-06T14:26:06.782979Z"
    },
    "hidden": true
   },
   "outputs": [
    {
     "name": "stdout",
     "output_type": "stream",
     "text": [
      "4\n",
      "9\n"
     ]
    }
   ],
   "source": [
    "print(len([1,2,3,4]))\n",
    "print(len(\"How long?\"))"
   ]
  },
  {
   "cell_type": "markdown",
   "metadata": {
    "hidden": true
   },
   "source": [
    "The id() function"
   ]
  },
  {
   "cell_type": "code",
   "execution_count": 361,
   "metadata": {
    "ExecuteTime": {
     "end_time": "2020-05-06T15:16:02.702054Z",
     "start_time": "2020-05-06T15:16:02.698143Z"
    },
    "hidden": true
   },
   "outputs": [
    {
     "name": "stdout",
     "output_type": "stream",
     "text": [
      "4572846040\n",
      "4572846040\n",
      "True\n"
     ]
    }
   ],
   "source": [
    "x=\"abcd\"\n",
    "y=x\n",
    "print(id(x))\n",
    "print(id(y))\n",
    "print(id(x)==id(y))"
   ]
  },
  {
   "cell_type": "code",
   "execution_count": 305,
   "metadata": {
    "ExecuteTime": {
     "end_time": "2020-05-06T14:28:49.892216Z",
     "start_time": "2020-05-06T14:27:48.599774Z"
    },
    "hidden": true,
    "scrolled": true
   },
   "outputs": [
    {
     "name": "stdout",
     "output_type": "stream",
     "text": [
      "\n",
      "Welcome to Python 3.6's help utility!\n",
      "\n",
      "If this is your first time using Python, you should definitely check out\n",
      "the tutorial on the Internet at https://docs.python.org/3.6/tutorial/.\n",
      "\n",
      "Enter the name of any module, keyword, or topic to get help on writing\n",
      "Python programs and using Python modules.  To quit this help utility and\n",
      "return to the interpreter, just type \"quit\".\n",
      "\n",
      "To get a list of available modules, keywords, symbols, or topics, type\n",
      "\"modules\", \"keywords\", \"symbols\", or \"topics\".  Each module also comes\n",
      "with a one-line summary of what it does; to list the modules whose name\n",
      "or summary contain a given string such as \"spam\", type \"modules spam\".\n",
      "\n",
      "help> builtin\n",
      "No Python documentation found for 'builtin'.\n",
      "Use help() to get the interactive help utility.\n",
      "Use help(str) for help on the str class.\n",
      "\n",
      "help> built-in\n",
      "No Python documentation found for 'built-in'.\n",
      "Use help() to get the interactive help utility.\n",
      "Use help(str) for help on the str class.\n",
      "\n",
      "help> functions\n",
      "No Python documentation found for 'functions'.\n",
      "Use help() to get the interactive help utility.\n",
      "Use help(str) for help on the str class.\n",
      "\n",
      "help> max\n",
      "Help on built-in function max in module builtins:\n",
      "\n",
      "max(...)\n",
      "    max(iterable, *[, default=obj, key=func]) -> value\n",
      "    max(arg1, arg2, *args, *[, key=func]) -> value\n",
      "    \n",
      "    With a single iterable argument, return its biggest item. The\n",
      "    default keyword-only argument specifies an object to return if\n",
      "    the provided iterable is empty.\n",
      "    With two or more arguments, return the largest argument.\n",
      "\n",
      "help> min\n",
      "Help on built-in function min in module builtins:\n",
      "\n",
      "min(...)\n",
      "    min(iterable, *[, default=obj, key=func]) -> value\n",
      "    min(arg1, arg2, *args, *[, key=func]) -> value\n",
      "    \n",
      "    With a single iterable argument, return its smallest item. The\n",
      "    default keyword-only argument specifies an object to return if\n",
      "    the provided iterable is empty.\n",
      "    With two or more arguments, return the smallest argument.\n",
      "\n",
      "help> str\n",
      "Help on class str in module builtins:\n",
      "\n",
      "class str(object)\n",
      " |  str(object='') -> str\n",
      " |  str(bytes_or_buffer[, encoding[, errors]]) -> str\n",
      " |  \n",
      " |  Create a new string object from the given object. If encoding or\n",
      " |  errors is specified, then the object must expose a data buffer\n",
      " |  that will be decoded using the given encoding and error handler.\n",
      " |  Otherwise, returns the result of object.__str__() (if defined)\n",
      " |  or repr(object).\n",
      " |  encoding defaults to sys.getdefaultencoding().\n",
      " |  errors defaults to 'strict'.\n",
      " |  \n",
      " |  Methods defined here:\n",
      " |  \n",
      " |  __add__(self, value, /)\n",
      " |      Return self+value.\n",
      " |  \n",
      " |  __contains__(self, key, /)\n",
      " |      Return key in self.\n",
      " |  \n",
      " |  __eq__(self, value, /)\n",
      " |      Return self==value.\n",
      " |  \n",
      " |  __format__(...)\n",
      " |      S.__format__(format_spec) -> str\n",
      " |      \n",
      " |      Return a formatted version of S as described by format_spec.\n",
      " |  \n",
      " |  __ge__(self, value, /)\n",
      " |      Return self>=value.\n",
      " |  \n",
      " |  __getattribute__(self, name, /)\n",
      " |      Return getattr(self, name).\n",
      " |  \n",
      " |  __getitem__(self, key, /)\n",
      " |      Return self[key].\n",
      " |  \n",
      " |  __getnewargs__(...)\n",
      " |  \n",
      " |  __gt__(self, value, /)\n",
      " |      Return self>value.\n",
      " |  \n",
      " |  __hash__(self, /)\n",
      " |      Return hash(self).\n",
      " |  \n",
      " |  __iter__(self, /)\n",
      " |      Implement iter(self).\n",
      " |  \n",
      " |  __le__(self, value, /)\n",
      " |      Return self<=value.\n",
      " |  \n",
      " |  __len__(self, /)\n",
      " |      Return len(self).\n",
      " |  \n",
      " |  __lt__(self, value, /)\n",
      " |      Return self<value.\n",
      " |  \n",
      " |  __mod__(self, value, /)\n",
      " |      Return self%value.\n",
      " |  \n",
      " |  __mul__(self, value, /)\n",
      " |      Return self*value.\n",
      " |  \n",
      " |  __ne__(self, value, /)\n",
      " |      Return self!=value.\n",
      " |  \n",
      " |  __new__(*args, **kwargs) from builtins.type\n",
      " |      Create and return a new object.  See help(type) for accurate signature.\n",
      " |  \n",
      " |  __repr__(self, /)\n",
      " |      Return repr(self).\n",
      " |  \n",
      " |  __rmod__(self, value, /)\n",
      " |      Return value%self.\n",
      " |  \n",
      " |  __rmul__(self, value, /)\n",
      " |      Return value*self.\n",
      " |  \n",
      " |  __sizeof__(...)\n",
      " |      S.__sizeof__() -> size of S in memory, in bytes\n",
      " |  \n",
      " |  __str__(self, /)\n",
      " |      Return str(self).\n",
      " |  \n",
      " |  capitalize(...)\n",
      " |      S.capitalize() -> str\n",
      " |      \n",
      " |      Return a capitalized version of S, i.e. make the first character\n",
      " |      have upper case and the rest lower case.\n",
      " |  \n",
      " |  casefold(...)\n",
      " |      S.casefold() -> str\n",
      " |      \n",
      " |      Return a version of S suitable for caseless comparisons.\n",
      " |  \n",
      " |  center(...)\n",
      " |      S.center(width[, fillchar]) -> str\n",
      " |      \n",
      " |      Return S centered in a string of length width. Padding is\n",
      " |      done using the specified fill character (default is a space)\n",
      " |  \n",
      " |  count(...)\n",
      " |      S.count(sub[, start[, end]]) -> int\n",
      " |      \n",
      " |      Return the number of non-overlapping occurrences of substring sub in\n",
      " |      string S[start:end].  Optional arguments start and end are\n",
      " |      interpreted as in slice notation.\n",
      " |  \n",
      " |  encode(...)\n",
      " |      S.encode(encoding='utf-8', errors='strict') -> bytes\n",
      " |      \n",
      " |      Encode S using the codec registered for encoding. Default encoding\n",
      " |      is 'utf-8'. errors may be given to set a different error\n",
      " |      handling scheme. Default is 'strict' meaning that encoding errors raise\n",
      " |      a UnicodeEncodeError. Other possible values are 'ignore', 'replace' and\n",
      " |      'xmlcharrefreplace' as well as any other name registered with\n",
      " |      codecs.register_error that can handle UnicodeEncodeErrors.\n",
      " |  \n",
      " |  endswith(...)\n",
      " |      S.endswith(suffix[, start[, end]]) -> bool\n",
      " |      \n",
      " |      Return True if S ends with the specified suffix, False otherwise.\n",
      " |      With optional start, test S beginning at that position.\n",
      " |      With optional end, stop comparing S at that position.\n",
      " |      suffix can also be a tuple of strings to try.\n",
      " |  \n",
      " |  expandtabs(...)\n",
      " |      S.expandtabs(tabsize=8) -> str\n",
      " |      \n",
      " |      Return a copy of S where all tab characters are expanded using spaces.\n",
      " |      If tabsize is not given, a tab size of 8 characters is assumed.\n",
      " |  \n",
      " |  find(...)\n",
      " |      S.find(sub[, start[, end]]) -> int\n",
      " |      \n",
      " |      Return the lowest index in S where substring sub is found,\n",
      " |      such that sub is contained within S[start:end].  Optional\n",
      " |      arguments start and end are interpreted as in slice notation.\n",
      " |      \n",
      " |      Return -1 on failure.\n",
      " |  \n",
      " |  format(...)\n",
      " |      S.format(*args, **kwargs) -> str\n",
      " |      \n",
      " |      Return a formatted version of S, using substitutions from args and kwargs.\n",
      " |      The substitutions are identified by braces ('{' and '}').\n",
      " |  \n",
      " |  format_map(...)\n",
      " |      S.format_map(mapping) -> str\n",
      " |      \n",
      " |      Return a formatted version of S, using substitutions from mapping.\n",
      " |      The substitutions are identified by braces ('{' and '}').\n",
      " |  \n",
      " |  index(...)\n",
      " |      S.index(sub[, start[, end]]) -> int\n",
      " |      \n",
      " |      Return the lowest index in S where substring sub is found, \n",
      " |      such that sub is contained within S[start:end].  Optional\n",
      " |      arguments start and end are interpreted as in slice notation.\n",
      " |      \n",
      " |      Raises ValueError when the substring is not found.\n",
      " |  \n",
      " |  isalnum(...)\n",
      " |      S.isalnum() -> bool\n",
      " |      \n",
      " |      Return True if all characters in S are alphanumeric\n",
      " |      and there is at least one character in S, False otherwise.\n",
      " |  \n",
      " |  isalpha(...)\n",
      " |      S.isalpha() -> bool\n",
      " |      \n",
      " |      Return True if all characters in S are alphabetic\n",
      " |      and there is at least one character in S, False otherwise.\n",
      " |  \n",
      " |  isdecimal(...)\n",
      " |      S.isdecimal() -> bool\n",
      " |      \n",
      " |      Return True if there are only decimal characters in S,\n",
      " |      False otherwise.\n",
      " |  \n",
      " |  isdigit(...)\n",
      " |      S.isdigit() -> bool\n",
      " |      \n",
      " |      Return True if all characters in S are digits\n",
      " |      and there is at least one character in S, False otherwise.\n",
      " |  \n",
      " |  isidentifier(...)\n",
      " |      S.isidentifier() -> bool\n",
      " |      \n",
      " |      Return True if S is a valid identifier according\n",
      " |      to the language definition.\n",
      " |      \n",
      " |      Use keyword.iskeyword() to test for reserved identifiers\n",
      " |      such as \"def\" and \"class\".\n",
      " |  \n",
      " |  islower(...)\n",
      " |      S.islower() -> bool\n",
      " |      \n",
      " |      Return True if all cased characters in S are lowercase and there is\n",
      " |      at least one cased character in S, False otherwise.\n",
      " |  \n",
      " |  isnumeric(...)\n",
      " |      S.isnumeric() -> bool\n",
      " |      \n",
      " |      Return True if there are only numeric characters in S,\n",
      " |      False otherwise.\n",
      " |  \n",
      " |  isprintable(...)\n",
      " |      S.isprintable() -> bool\n",
      " |      \n",
      " |      Return True if all characters in S are considered\n",
      " |      printable in repr() or S is empty, False otherwise.\n",
      " |  \n",
      " |  isspace(...)\n",
      " |      S.isspace() -> bool\n",
      " |      \n",
      " |      Return True if all characters in S are whitespace\n",
      " |      and there is at least one character in S, False otherwise.\n",
      " |  \n",
      " |  istitle(...)\n",
      " |      S.istitle() -> bool\n",
      " |      \n",
      " |      Return True if S is a titlecased string and there is at least one\n",
      " |      character in S, i.e. upper- and titlecase characters may only\n",
      " |      follow uncased characters and lowercase characters only cased ones.\n",
      " |      Return False otherwise.\n",
      " |  \n",
      " |  isupper(...)\n",
      " |      S.isupper() -> bool\n",
      " |      \n",
      " |      Return True if all cased characters in S are uppercase and there is\n",
      " |      at least one cased character in S, False otherwise.\n",
      " |  \n",
      " |  join(...)\n",
      " |      S.join(iterable) -> str\n",
      " |      \n",
      " |      Return a string which is the concatenation of the strings in the\n",
      " |      iterable.  The separator between elements is S.\n",
      " |  \n",
      " |  ljust(...)\n",
      " |      S.ljust(width[, fillchar]) -> str\n",
      " |      \n",
      " |      Return S left-justified in a Unicode string of length width. Padding is\n",
      " |      done using the specified fill character (default is a space).\n",
      " |  \n",
      " |  lower(...)\n",
      " |      S.lower() -> str\n",
      " |      \n",
      " |      Return a copy of the string S converted to lowercase.\n",
      " |  \n",
      " |  lstrip(...)\n",
      " |      S.lstrip([chars]) -> str\n",
      " |      \n",
      " |      Return a copy of the string S with leading whitespace removed.\n",
      " |      If chars is given and not None, remove characters in chars instead.\n",
      " |  \n",
      " |  partition(...)\n",
      " |      S.partition(sep) -> (head, sep, tail)\n",
      " |      \n",
      " |      Search for the separator sep in S, and return the part before it,\n",
      " |      the separator itself, and the part after it.  If the separator is not\n",
      " |      found, return S and two empty strings.\n",
      " |  \n",
      " |  replace(...)\n",
      " |      S.replace(old, new[, count]) -> str\n",
      " |      \n",
      " |      Return a copy of S with all occurrences of substring\n",
      " |      old replaced by new.  If the optional argument count is\n",
      " |      given, only the first count occurrences are replaced.\n",
      " |  \n",
      " |  rfind(...)\n",
      " |      S.rfind(sub[, start[, end]]) -> int\n",
      " |      \n",
      " |      Return the highest index in S where substring sub is found,\n",
      " |      such that sub is contained within S[start:end].  Optional\n",
      " |      arguments start and end are interpreted as in slice notation.\n",
      " |      \n",
      " |      Return -1 on failure.\n",
      " |  \n",
      " |  rindex(...)\n",
      " |      S.rindex(sub[, start[, end]]) -> int\n",
      " |      \n",
      " |      Return the highest index in S where substring sub is found,\n",
      " |      such that sub is contained within S[start:end].  Optional\n",
      " |      arguments start and end are interpreted as in slice notation.\n",
      " |      \n",
      " |      Raises ValueError when the substring is not found.\n",
      " |  \n",
      " |  rjust(...)\n",
      " |      S.rjust(width[, fillchar]) -> str\n",
      " |      \n",
      " |      Return S right-justified in a string of length width. Padding is\n",
      " |      done using the specified fill character (default is a space).\n",
      " |  \n",
      " |  rpartition(...)\n",
      " |      S.rpartition(sep) -> (head, sep, tail)\n",
      " |      \n",
      " |      Search for the separator sep in S, starting at the end of S, and return\n",
      " |      the part before it, the separator itself, and the part after it.  If the\n",
      " |      separator is not found, return two empty strings and S.\n",
      " |  \n",
      " |  rsplit(...)\n",
      " |      S.rsplit(sep=None, maxsplit=-1) -> list of strings\n",
      " |      \n",
      " |      Return a list of the words in S, using sep as the\n",
      " |      delimiter string, starting at the end of the string and\n",
      " |      working to the front.  If maxsplit is given, at most maxsplit\n",
      " |      splits are done. If sep is not specified, any whitespace string\n",
      " |      is a separator.\n",
      " |  \n",
      " |  rstrip(...)\n",
      " |      S.rstrip([chars]) -> str\n",
      " |      \n",
      " |      Return a copy of the string S with trailing whitespace removed.\n",
      " |      If chars is given and not None, remove characters in chars instead.\n",
      " |  \n",
      " |  split(...)\n",
      " |      S.split(sep=None, maxsplit=-1) -> list of strings\n",
      " |      \n",
      " |      Return a list of the words in S, using sep as the\n",
      " |      delimiter string.  If maxsplit is given, at most maxsplit\n",
      " |      splits are done. If sep is not specified or is None, any\n",
      " |      whitespace string is a separator and empty strings are\n",
      " |      removed from the result.\n",
      " |  \n",
      " |  splitlines(...)\n",
      " |      S.splitlines([keepends]) -> list of strings\n",
      " |      \n",
      " |      Return a list of the lines in S, breaking at line boundaries.\n",
      " |      Line breaks are not included in the resulting list unless keepends\n",
      " |      is given and true.\n",
      " |  \n",
      " |  startswith(...)\n",
      " |      S.startswith(prefix[, start[, end]]) -> bool\n",
      " |      \n",
      " |      Return True if S starts with the specified prefix, False otherwise.\n",
      " |      With optional start, test S beginning at that position.\n",
      " |      With optional end, stop comparing S at that position.\n",
      " |      prefix can also be a tuple of strings to try.\n",
      " |  \n",
      " |  strip(...)\n",
      " |      S.strip([chars]) -> str\n",
      " |      \n",
      " |      Return a copy of the string S with leading and trailing\n",
      " |      whitespace removed.\n",
      " |      If chars is given and not None, remove characters in chars instead.\n",
      " |  \n",
      " |  swapcase(...)\n",
      " |      S.swapcase() -> str\n",
      " |      \n",
      " |      Return a copy of S with uppercase characters converted to lowercase\n",
      " |      and vice versa.\n",
      " |  \n",
      " |  title(...)\n",
      " |      S.title() -> str\n",
      " |      \n",
      " |      Return a titlecased version of S, i.e. words start with title case\n",
      " |      characters, all remaining cased characters have lower case.\n",
      " |  \n",
      " |  translate(...)\n",
      " |      S.translate(table) -> str\n",
      " |      \n",
      " |      Return a copy of the string S in which each character has been mapped\n",
      " |      through the given translation table. The table must implement\n",
      " |      lookup/indexing via __getitem__, for instance a dictionary or list,\n",
      " |      mapping Unicode ordinals to Unicode ordinals, strings, or None. If\n",
      " |      this operation raises LookupError, the character is left untouched.\n",
      " |      Characters mapped to None are deleted.\n",
      " |  \n",
      " |  upper(...)\n",
      " |      S.upper() -> str\n",
      " |      \n",
      " |      Return a copy of S converted to uppercase.\n",
      " |  \n",
      " |  zfill(...)\n",
      " |      S.zfill(width) -> str\n",
      " |      \n",
      " |      Pad a numeric string S with zeros on the left, to fill a field\n",
      " |      of the specified width. The string S is never truncated.\n",
      " |  \n",
      " |  ----------------------------------------------------------------------\n",
      " |  Static methods defined here:\n",
      " |  \n",
      " |  maketrans(x, y=None, z=None, /)\n",
      " |      Return a translation table usable for str.translate().\n",
      " |      \n",
      " |      If there is only one argument, it must be a dictionary mapping Unicode\n",
      " |      ordinals (integers) or characters to Unicode ordinals, strings or None.\n",
      " |      Character keys will be then converted to ordinals.\n",
      " |      If there are two arguments, they must be strings of equal length, and\n",
      " |      in the resulting dictionary, each character in x will be mapped to the\n",
      " |      character at the same position in y. If there is a third argument, it\n",
      " |      must be a string, whose characters will be mapped to None in the result.\n",
      "\n"
     ]
    },
    {
     "name": "stdout",
     "output_type": "stream",
     "text": [
      "\n",
      "You are now leaving help and returning to the Python interpreter.\n",
      "If you want to ask for help on a particular object directly from the\n",
      "interpreter, you can type \"help(object)\".  Executing \"help('string')\"\n",
      "has the same effect as typing a particular string at the help> prompt.\n"
     ]
    }
   ],
   "source": [
    "help()"
   ]
  },
  {
   "cell_type": "markdown",
   "metadata": {
    "hidden": true
   },
   "source": [
    "See this [link](https://docs.python.org/3/library/functions.html) for the full list of built-in functions."
   ]
  },
  {
   "cell_type": "markdown",
   "metadata": {
    "heading_collapsed": true
   },
   "source": [
    "### Classes, Objects, Attributes & Methods (15 min)"
   ]
  },
  {
   "cell_type": "markdown",
   "metadata": {
    "hidden": true
   },
   "source": [
    "* You saw that functions were a way to \"pack up\" some piece of logic.\n",
    "* What if you want to \"pack up\" both logic and data?"
   ]
  },
  {
   "cell_type": "code",
   "execution_count": 267,
   "metadata": {
    "ExecuteTime": {
     "end_time": "2020-05-05T14:15:44.701151Z",
     "start_time": "2020-05-05T14:15:44.693983Z"
    },
    "hidden": true
   },
   "outputs": [],
   "source": [
    "class Family:\n",
    "    \n",
    "    def __init__(self,father_name,mother_name,children_names,children_ages,home_address):\n",
    "        self.father_name=father_name\n",
    "        self.mother_name=mother_name\n",
    "        self.children_names=children_names\n",
    "        self.children_ages=children_ages\n",
    "        self.home_address=home_address\n",
    "        \n",
    "    def print_diwali_invitation(self):\n",
    "        print(\"*\"*25)\n",
    "        print(\"Hello, please come for our Diwali celebration at \"+self.home_address)\n",
    "        print(\"from\")\n",
    "        print(self.mother_name+\" and \"+self.father_name)\n",
    "        print(\"and our wonderful children\")\n",
    "        namestring=\"\"\n",
    "        for childname in self.children_names:\n",
    "            namestring+=childname+\",\"\n",
    "        namestring=namestring[:-1]\n",
    "        print(namestring)\n",
    "        print(\"*\"*25)\n",
    "        \n",
    "    def return_youngest_child(self):\n",
    "        min_index=0\n",
    "        min_age=1000\n",
    "        for i in range(0,len(self.children_names)):\n",
    "            if self.children_ages[i]<min_age:\n",
    "                min_age=self.children_ages[i]\n",
    "                min_index=i\n",
    "        return self.children_names[min_index], min_age\n",
    "    \n",
    "    def change_address(self, new_address):\n",
    "        self.home_address=new_address"
   ]
  },
  {
   "cell_type": "code",
   "execution_count": 280,
   "metadata": {
    "ExecuteTime": {
     "end_time": "2020-05-05T14:23:47.554495Z",
     "start_time": "2020-05-05T14:23:47.551641Z"
    },
    "hidden": true
   },
   "outputs": [],
   "source": [
    "sharmas=Family(\"Ram Sharma\",\"Kusum Sharma\",[\"Ravi Sharma\",\"Rani Sharma\",\"Komal Sharma\"],[21,15,9],\"Geetanjali Residency, Kondapur, Hyderabad\")"
   ]
  },
  {
   "cell_type": "code",
   "execution_count": 281,
   "metadata": {
    "ExecuteTime": {
     "end_time": "2020-05-05T14:23:47.560756Z",
     "start_time": "2020-05-05T14:23:47.557410Z"
    },
    "hidden": true
   },
   "outputs": [
    {
     "name": "stdout",
     "output_type": "stream",
     "text": [
      "['Ravi Sharma', 'Rani Sharma', 'Komal Sharma']\n"
     ]
    }
   ],
   "source": [
    "print(sharmas.children_names)"
   ]
  },
  {
   "cell_type": "code",
   "execution_count": 282,
   "metadata": {
    "ExecuteTime": {
     "end_time": "2020-05-05T14:23:47.566617Z",
     "start_time": "2020-05-05T14:23:47.562622Z"
    },
    "hidden": true
   },
   "outputs": [
    {
     "name": "stdout",
     "output_type": "stream",
     "text": [
      "*************************\n",
      "Hello, please come for our Diwali celebration at Geetanjali Residency, Kondapur, Hyderabad\n",
      "from\n",
      "Kusum Sharma and Ram Sharma\n",
      "and our wonderful children\n",
      "Ravi Sharma,Rani Sharma,Komal Sharma\n",
      "*************************\n"
     ]
    }
   ],
   "source": [
    "sharmas.print_diwali_invitation()"
   ]
  },
  {
   "cell_type": "code",
   "execution_count": 283,
   "metadata": {
    "ExecuteTime": {
     "end_time": "2020-05-05T14:23:47.571584Z",
     "start_time": "2020-05-05T14:23:47.568561Z"
    },
    "hidden": true
   },
   "outputs": [
    {
     "name": "stdout",
     "output_type": "stream",
     "text": [
      "('Komal Sharma', 9)\n"
     ]
    }
   ],
   "source": [
    "print(sharmas.return_youngest_child())"
   ]
  },
  {
   "cell_type": "code",
   "execution_count": 284,
   "metadata": {
    "ExecuteTime": {
     "end_time": "2020-05-05T14:23:47.576696Z",
     "start_time": "2020-05-05T14:23:47.573433Z"
    },
    "hidden": true
   },
   "outputs": [
    {
     "name": "stdout",
     "output_type": "stream",
     "text": [
      "Lumbini Enclave, Whitefields, Hyderabad\n"
     ]
    }
   ],
   "source": [
    "sharmas.change_address(\"Lumbini Enclave, Whitefields, Hyderabad\")\n",
    "print(sharmas.home_address)"
   ]
  },
  {
   "cell_type": "code",
   "execution_count": 285,
   "metadata": {
    "ExecuteTime": {
     "end_time": "2020-05-05T14:23:47.581530Z",
     "start_time": "2020-05-05T14:23:47.578577Z"
    },
    "hidden": true
   },
   "outputs": [
    {
     "name": "stdout",
     "output_type": "stream",
     "text": [
      "Geetanjali Residency, Kondapur, Hyderabad\n"
     ]
    }
   ],
   "source": [
    "sharmas.home_address=\"Geetanjali Residency, Kondapur, Hyderabad\"\n",
    "print(sharmas.home_address)"
   ]
  },
  {
   "cell_type": "markdown",
   "metadata": {
    "hidden": true
   },
   "source": [
    "* Everything that was said about positional arguments, keyword arguments, return values etc for **functions** applies to methods and the constructor as well."
   ]
  },
  {
   "cell_type": "code",
   "execution_count": 286,
   "metadata": {
    "ExecuteTime": {
     "end_time": "2020-05-05T14:23:50.792541Z",
     "start_time": "2020-05-05T14:23:50.789785Z"
    },
    "hidden": true
   },
   "outputs": [],
   "source": [
    "vijs=Family(\"Prateek Vij\",\"Kareena Vij\",[\"Lucky Vij\",\"Ravi Vij\"],[13,5],\"Geetanjali Residency, Kondapur, Hyderabad\")"
   ]
  },
  {
   "cell_type": "code",
   "execution_count": 287,
   "metadata": {
    "ExecuteTime": {
     "end_time": "2020-05-05T14:23:50.799540Z",
     "start_time": "2020-05-05T14:23:50.795365Z"
    },
    "hidden": true
   },
   "outputs": [
    {
     "name": "stdout",
     "output_type": "stream",
     "text": [
      "*************************\n",
      "Hello, please come for our Diwali celebration at Geetanjali Residency, Kondapur, Hyderabad\n",
      "from\n",
      "Kusum Sharma and Ram Sharma\n",
      "and our wonderful children\n",
      "Ravi Sharma,Rani Sharma,Komal Sharma\n",
      "*************************\n",
      "*************************\n",
      "Hello, please come for our Diwali celebration at Geetanjali Residency, Kondapur, Hyderabad\n",
      "from\n",
      "Kareena Vij and Prateek Vij\n",
      "and our wonderful children\n",
      "Lucky Vij,Ravi Vij\n",
      "*************************\n"
     ]
    }
   ],
   "source": [
    "sharmas.print_diwali_invitation()\n",
    "vijs.print_diwali_invitation()"
   ]
  },
  {
   "cell_type": "markdown",
   "metadata": {
    "hidden": true
   },
   "source": [
    "* Now you understand that a class is just a way **to pack some data with functions**.\n",
    "* So, now we can tell you a secret -- In Python everything is an object! We will deal with this in detail in the next section!"
   ]
  },
  {
   "cell_type": "markdown",
   "metadata": {
    "heading_collapsed": true
   },
   "source": [
    "### End of Part 1 !!"
   ]
  },
  {
   "cell_type": "markdown",
   "metadata": {
    "hidden": true
   },
   "source": [
    "Congratulations, now you know a little bit about everything!\n",
    "\n",
    "* Datatypes (Numbers,Strings,Booleans)\n",
    "* Operators\n",
    "* Variables\n",
    "* Assignments\n",
    "* Conditional Statements (if...else)\n",
    "* Loops (while and for)\n",
    "* Data Structures (Lists)\n",
    "* Functions\n",
    "* Classes, Objects, Attributes and Methods\n",
    "\n",
    "But there were many things that are missing because they require a mix of all these concepts. So we will cover them in the next section!\n",
    "\n",
    "* Instructor Note : Now would be a good time to quickly revise Part 1."
   ]
  },
  {
   "cell_type": "markdown",
   "metadata": {},
   "source": [
    "## Part 2 (2h)"
   ]
  },
  {
   "cell_type": "markdown",
   "metadata": {
    "heading_collapsed": true
   },
   "source": [
    "### Everything in Python is an object"
   ]
  },
  {
   "cell_type": "markdown",
   "metadata": {
    "heading_collapsed": true,
    "hidden": true
   },
   "source": [
    "#### Lists!"
   ]
  },
  {
   "cell_type": "markdown",
   "metadata": {
    "hidden": true
   },
   "source": [
    "* People with experience in programming would have guessed by now - lists are objects.\n",
    "* You are right!"
   ]
  },
  {
   "cell_type": "code",
   "execution_count": 362,
   "metadata": {
    "ExecuteTime": {
     "end_time": "2020-05-06T15:17:19.936906Z",
     "start_time": "2020-05-06T15:17:19.933560Z"
    },
    "hidden": true
   },
   "outputs": [
    {
     "name": "stdout",
     "output_type": "stream",
     "text": [
      "1\n"
     ]
    }
   ],
   "source": [
    "# Lists are obviously objects\n",
    "mylist=[22,34,56,77]\n",
    "# Check out the index method\n",
    "print(mylist.index(34))"
   ]
  },
  {
   "cell_type": "code",
   "execution_count": 363,
   "metadata": {
    "ExecuteTime": {
     "end_time": "2020-05-06T15:17:37.889267Z",
     "start_time": "2020-05-06T15:17:37.885753Z"
    },
    "hidden": true
   },
   "outputs": [
    {
     "data": {
      "text/plain": [
       "list"
      ]
     },
     "execution_count": 363,
     "metadata": {},
     "output_type": "execute_result"
    }
   ],
   "source": [
    "# Let's check its type - a builtin method\n",
    "type(mylist)"
   ]
  },
  {
   "cell_type": "code",
   "execution_count": 317,
   "metadata": {
    "ExecuteTime": {
     "end_time": "2020-05-06T14:34:21.080496Z",
     "start_time": "2020-05-06T14:34:21.076458Z"
    },
    "hidden": true
   },
   "outputs": [
    {
     "data": {
      "text/plain": [
       "['__add__',\n",
       " '__class__',\n",
       " '__contains__',\n",
       " '__delattr__',\n",
       " '__delitem__',\n",
       " '__dir__',\n",
       " '__doc__',\n",
       " '__eq__',\n",
       " '__format__',\n",
       " '__ge__',\n",
       " '__getattribute__',\n",
       " '__getitem__',\n",
       " '__gt__',\n",
       " '__hash__',\n",
       " '__iadd__',\n",
       " '__imul__',\n",
       " '__init__',\n",
       " '__init_subclass__',\n",
       " '__iter__',\n",
       " '__le__',\n",
       " '__len__',\n",
       " '__lt__',\n",
       " '__mul__',\n",
       " '__ne__',\n",
       " '__new__',\n",
       " '__reduce__',\n",
       " '__reduce_ex__',\n",
       " '__repr__',\n",
       " '__reversed__',\n",
       " '__rmul__',\n",
       " '__setattr__',\n",
       " '__setitem__',\n",
       " '__sizeof__',\n",
       " '__str__',\n",
       " '__subclasshook__',\n",
       " 'append',\n",
       " 'clear',\n",
       " 'copy',\n",
       " 'count',\n",
       " 'extend',\n",
       " 'index',\n",
       " 'insert',\n",
       " 'pop',\n",
       " 'remove',\n",
       " 'reverse',\n",
       " 'sort']"
      ]
     },
     "execution_count": 317,
     "metadata": {},
     "output_type": "execute_result"
    }
   ],
   "source": [
    "# We can use dir to see all attributes\n",
    "dir(mylist)"
   ]
  },
  {
   "cell_type": "markdown",
   "metadata": {
    "hidden": true
   },
   "source": [
    "#### The basic datatypes!"
   ]
  },
  {
   "cell_type": "markdown",
   "metadata": {
    "hidden": true
   },
   "source": [
    "The builtin data types you've been using are all objects!"
   ]
  },
  {
   "cell_type": "code",
   "execution_count": 312,
   "metadata": {
    "ExecuteTime": {
     "end_time": "2020-05-06T14:31:27.853113Z",
     "start_time": "2020-05-06T14:31:27.849463Z"
    },
    "hidden": true
   },
   "outputs": [
    {
     "name": "stdout",
     "output_type": "stream",
     "text": [
      "<class 'type'>\n",
      "<class 'type'>\n",
      "<class 'type'>\n"
     ]
    }
   ],
   "source": [
    "# When you've been converting datatypes,\n",
    "# You've actually been calling the constructors of these built-in types\n",
    "print(type(str))\n",
    "print(type(int))\n",
    "print(type(bool))"
   ]
  },
  {
   "cell_type": "markdown",
   "metadata": {
    "hidden": true
   },
   "source": [
    "Really, even numbers? Let's check!"
   ]
  },
  {
   "cell_type": "code",
   "execution_count": 318,
   "metadata": {
    "ExecuteTime": {
     "end_time": "2020-05-06T14:35:05.418984Z",
     "start_time": "2020-05-06T14:35:05.414832Z"
    },
    "hidden": true,
    "scrolled": true
   },
   "outputs": [
    {
     "data": {
      "text/plain": [
       "['__abs__',\n",
       " '__add__',\n",
       " '__bool__',\n",
       " '__class__',\n",
       " '__delattr__',\n",
       " '__dir__',\n",
       " '__divmod__',\n",
       " '__doc__',\n",
       " '__eq__',\n",
       " '__float__',\n",
       " '__floordiv__',\n",
       " '__format__',\n",
       " '__ge__',\n",
       " '__getattribute__',\n",
       " '__getformat__',\n",
       " '__getnewargs__',\n",
       " '__gt__',\n",
       " '__hash__',\n",
       " '__init__',\n",
       " '__init_subclass__',\n",
       " '__int__',\n",
       " '__le__',\n",
       " '__lt__',\n",
       " '__mod__',\n",
       " '__mul__',\n",
       " '__ne__',\n",
       " '__neg__',\n",
       " '__new__',\n",
       " '__pos__',\n",
       " '__pow__',\n",
       " '__radd__',\n",
       " '__rdivmod__',\n",
       " '__reduce__',\n",
       " '__reduce_ex__',\n",
       " '__repr__',\n",
       " '__rfloordiv__',\n",
       " '__rmod__',\n",
       " '__rmul__',\n",
       " '__round__',\n",
       " '__rpow__',\n",
       " '__rsub__',\n",
       " '__rtruediv__',\n",
       " '__setattr__',\n",
       " '__setformat__',\n",
       " '__sizeof__',\n",
       " '__str__',\n",
       " '__sub__',\n",
       " '__subclasshook__',\n",
       " '__truediv__',\n",
       " '__trunc__',\n",
       " 'as_integer_ratio',\n",
       " 'conjugate',\n",
       " 'fromhex',\n",
       " 'hex',\n",
       " 'imag',\n",
       " 'is_integer',\n",
       " 'real']"
      ]
     },
     "execution_count": 318,
     "metadata": {},
     "output_type": "execute_result"
    }
   ],
   "source": [
    "dir(2.0)"
   ]
  },
  {
   "cell_type": "code",
   "execution_count": 319,
   "metadata": {
    "ExecuteTime": {
     "end_time": "2020-05-06T14:35:21.866223Z",
     "start_time": "2020-05-06T14:35:21.862609Z"
    },
    "hidden": true
   },
   "outputs": [
    {
     "data": {
      "text/plain": [
       "True"
      ]
     },
     "execution_count": 319,
     "metadata": {},
     "output_type": "execute_result"
    }
   ],
   "source": [
    "2.0.is_integer()"
   ]
  },
  {
   "cell_type": "markdown",
   "metadata": {
    "heading_collapsed": true,
    "hidden": true
   },
   "source": [
    "#### Even functions are objects!"
   ]
  },
  {
   "cell_type": "markdown",
   "metadata": {
    "hidden": true
   },
   "source": [
    "* Functions are objects as well. \n",
    "* They are nothing special, when you call them, you are just calling their ``__call__`` method.\n",
    "* You can assign functions to variables, put them in lists, pass them as arguments to other functions - anything you can do with a number or a string."
   ]
  },
  {
   "cell_type": "code",
   "execution_count": 320,
   "metadata": {
    "ExecuteTime": {
     "end_time": "2020-05-06T14:36:07.801080Z",
     "start_time": "2020-05-06T14:36:07.798503Z"
    },
    "hidden": true
   },
   "outputs": [],
   "source": [
    "def greeter(name):\n",
    "    print(\"Hello \"+name)"
   ]
  },
  {
   "cell_type": "code",
   "execution_count": 323,
   "metadata": {
    "ExecuteTime": {
     "end_time": "2020-05-06T14:36:43.253529Z",
     "start_time": "2020-05-06T14:36:43.250148Z"
    },
    "hidden": true
   },
   "outputs": [
    {
     "name": "stdout",
     "output_type": "stream",
     "text": [
      "<class 'function'>\n",
      "['__annotations__', '__call__', '__class__', '__closure__', '__code__', '__defaults__', '__delattr__', '__dict__', '__dir__', '__doc__', '__eq__', '__format__', '__ge__', '__get__', '__getattribute__', '__globals__', '__gt__', '__hash__', '__init__', '__init_subclass__', '__kwdefaults__', '__le__', '__lt__', '__module__', '__name__', '__ne__', '__new__', '__qualname__', '__reduce__', '__reduce_ex__', '__repr__', '__setattr__', '__sizeof__', '__str__', '__subclasshook__']\n"
     ]
    }
   ],
   "source": [
    "print(type(greeter))\n",
    "print(dir(greeter))"
   ]
  },
  {
   "cell_type": "code",
   "execution_count": 327,
   "metadata": {
    "ExecuteTime": {
     "end_time": "2020-05-06T14:39:01.491613Z",
     "start_time": "2020-05-06T14:39:01.488143Z"
    },
    "hidden": true
   },
   "outputs": [
    {
     "name": "stdout",
     "output_type": "stream",
     "text": [
      "greeter\n",
      "<code object greeter at 0x1108fc930, file \"<ipython-input-320-80612c9eab1d>\", line 1>\n"
     ]
    }
   ],
   "source": [
    "x=greeter\n",
    "print(x.__name__)\n",
    "print(x.__code__)"
   ]
  },
  {
   "cell_type": "code",
   "execution_count": 328,
   "metadata": {
    "ExecuteTime": {
     "end_time": "2020-05-06T14:39:37.650389Z",
     "start_time": "2020-05-06T14:39:37.647608Z"
    },
    "hidden": true
   },
   "outputs": [
    {
     "name": "stdout",
     "output_type": "stream",
     "text": [
      "Hello Aneesh\n",
      "Hello Aneesh\n"
     ]
    }
   ],
   "source": [
    "x(\"Aneesh\")\n",
    "x.__call__(\"Aneesh\")"
   ]
  },
  {
   "cell_type": "markdown",
   "metadata": {
    "hidden": true
   },
   "source": [
    "#### Don't get intimidated, it's just data + logic!"
   ]
  },
  {
   "cell_type": "markdown",
   "metadata": {
    "hidden": true
   },
   "source": [
    "I hope this doesn't confuse you! It's very simple,\n",
    "* In Python, everythinhg is an object - this means that everything packages some data + some logic with it.\n",
    "* For example, a number packages the number's value & lots of logic defining what is the absolute value of the number, how to add to numbers, how to take powers etc. Just like our Family class earlier."
   ]
  },
  {
   "cell_type": "markdown",
   "metadata": {
    "hidden": true
   },
   "source": [
    "#### Note on variable assignments and garbage collection"
   ]
  },
  {
   "cell_type": "code",
   "execution_count": 583,
   "metadata": {
    "ExecuteTime": {
     "end_time": "2020-05-06T21:22:14.655689Z",
     "start_time": "2020-05-06T21:22:14.652373Z"
    },
    "hidden": true
   },
   "outputs": [
    {
     "name": "stdout",
     "output_type": "stream",
     "text": [
      "4577051080\n",
      "4577051080\n"
     ]
    }
   ],
   "source": [
    "x=[22,33]\n",
    "print(id(x))\n",
    "y=x\n",
    "print(id(y))"
   ]
  },
  {
   "cell_type": "markdown",
   "metadata": {
    "hidden": true
   },
   "source": [
    "* Clearly, the earlier logic for variable assignments hold true for all objects. \n",
    "* A variable is just a name for an object.\n",
    "* In the above example, when we write ``y=x``, now ``y`` is another name for the list ``x`` refers to."
   ]
  },
  {
   "cell_type": "code",
   "execution_count": 585,
   "metadata": {
    "ExecuteTime": {
     "end_time": "2020-05-06T21:24:59.413951Z",
     "start_time": "2020-05-06T21:24:59.410807Z"
    },
    "hidden": true
   },
   "outputs": [
    {
     "name": "stdout",
     "output_type": "stream",
     "text": [
      "[22, 33]\n"
     ]
    }
   ],
   "source": [
    "x=None\n",
    "print(y)"
   ]
  },
  {
   "cell_type": "markdown",
   "metadata": {
    "hidden": true
   },
   "source": [
    "* We can now make x refer to something else...\n",
    "* We can still refer to the list via ``y``."
   ]
  },
  {
   "cell_type": "code",
   "execution_count": 586,
   "metadata": {
    "ExecuteTime": {
     "end_time": "2020-05-06T21:25:30.586065Z",
     "start_time": "2020-05-06T21:25:30.583677Z"
    },
    "hidden": true
   },
   "outputs": [],
   "source": [
    "y=2"
   ]
  },
  {
   "cell_type": "markdown",
   "metadata": {
    "hidden": true
   },
   "source": [
    "* But now, the list is gone.\n",
    "* Once an object has no more names, Python deletes it."
   ]
  },
  {
   "cell_type": "markdown",
   "metadata": {
    "heading_collapsed": true
   },
   "source": [
    "### More on Strings"
   ]
  },
  {
   "cell_type": "markdown",
   "metadata": {
    "hidden": true
   },
   "source": [
    "* So you now know that strings are objects as well. \n",
    "* So the first thing you should ask is : Does it have any interesting methods?\n",
    "\n",
    "You can use ``dir`` to find out!"
   ]
  },
  {
   "cell_type": "code",
   "execution_count": 329,
   "metadata": {
    "ExecuteTime": {
     "end_time": "2020-05-06T14:46:24.513131Z",
     "start_time": "2020-05-06T14:46:24.508910Z"
    },
    "hidden": true
   },
   "outputs": [
    {
     "data": {
      "text/plain": [
       "['__add__',\n",
       " '__class__',\n",
       " '__contains__',\n",
       " '__delattr__',\n",
       " '__dir__',\n",
       " '__doc__',\n",
       " '__eq__',\n",
       " '__format__',\n",
       " '__ge__',\n",
       " '__getattribute__',\n",
       " '__getitem__',\n",
       " '__getnewargs__',\n",
       " '__gt__',\n",
       " '__hash__',\n",
       " '__init__',\n",
       " '__init_subclass__',\n",
       " '__iter__',\n",
       " '__le__',\n",
       " '__len__',\n",
       " '__lt__',\n",
       " '__mod__',\n",
       " '__mul__',\n",
       " '__ne__',\n",
       " '__new__',\n",
       " '__reduce__',\n",
       " '__reduce_ex__',\n",
       " '__repr__',\n",
       " '__rmod__',\n",
       " '__rmul__',\n",
       " '__setattr__',\n",
       " '__sizeof__',\n",
       " '__str__',\n",
       " '__subclasshook__',\n",
       " 'capitalize',\n",
       " 'casefold',\n",
       " 'center',\n",
       " 'count',\n",
       " 'encode',\n",
       " 'endswith',\n",
       " 'expandtabs',\n",
       " 'find',\n",
       " 'format',\n",
       " 'format_map',\n",
       " 'index',\n",
       " 'isalnum',\n",
       " 'isalpha',\n",
       " 'isdecimal',\n",
       " 'isdigit',\n",
       " 'isidentifier',\n",
       " 'islower',\n",
       " 'isnumeric',\n",
       " 'isprintable',\n",
       " 'isspace',\n",
       " 'istitle',\n",
       " 'isupper',\n",
       " 'join',\n",
       " 'ljust',\n",
       " 'lower',\n",
       " 'lstrip',\n",
       " 'maketrans',\n",
       " 'partition',\n",
       " 'replace',\n",
       " 'rfind',\n",
       " 'rindex',\n",
       " 'rjust',\n",
       " 'rpartition',\n",
       " 'rsplit',\n",
       " 'rstrip',\n",
       " 'split',\n",
       " 'splitlines',\n",
       " 'startswith',\n",
       " 'strip',\n",
       " 'swapcase',\n",
       " 'title',\n",
       " 'translate',\n",
       " 'upper',\n",
       " 'zfill']"
      ]
     },
     "execution_count": 329,
     "metadata": {},
     "output_type": "execute_result"
    }
   ],
   "source": [
    "dir(\"abc\")"
   ]
  },
  {
   "cell_type": "markdown",
   "metadata": {
    "hidden": true
   },
   "source": [
    "* Wow, lots of functions. \n",
    "* But you're going to need them - because you will need to work with strings a lot!"
   ]
  },
  {
   "cell_type": "markdown",
   "metadata": {
    "hidden": true
   },
   "source": [
    "**Checking strings**"
   ]
  },
  {
   "cell_type": "code",
   "execution_count": 339,
   "metadata": {
    "ExecuteTime": {
     "end_time": "2020-05-06T14:55:38.893839Z",
     "start_time": "2020-05-06T14:55:38.890001Z"
    },
    "hidden": true
   },
   "outputs": [
    {
     "name": "stdout",
     "output_type": "stream",
     "text": [
      "True\n",
      "True\n",
      "True\n"
     ]
    }
   ],
   "source": [
    "print(\"New Delhi\".startswith(\"New\"))\n",
    "print(\"225\".isdigit())\n",
    "print(\"attributes\".islower())"
   ]
  },
  {
   "cell_type": "markdown",
   "metadata": {
    "hidden": true
   },
   "source": [
    "**Transforming strings**"
   ]
  },
  {
   "cell_type": "code",
   "execution_count": 345,
   "metadata": {
    "ExecuteTime": {
     "end_time": "2020-05-06T14:58:07.268973Z",
     "start_time": "2020-05-06T14:58:07.265664Z"
    },
    "hidden": true,
    "scrolled": true
   },
   "outputs": [
    {
     "name": "stdout",
     "output_type": "stream",
     "text": [
      "ravina\n",
      "RAVINA\n",
      "Ravina\n"
     ]
    }
   ],
   "source": [
    "print(\"RavIna\".lower())\n",
    "print(\"RaViNa\".upper())\n",
    "print(\"ravina\".capitalize())"
   ]
  },
  {
   "cell_type": "markdown",
   "metadata": {
    "hidden": true
   },
   "source": [
    "#### Some methods very useful for data processing"
   ]
  },
  {
   "cell_type": "code",
   "execution_count": 348,
   "metadata": {
    "ExecuteTime": {
     "end_time": "2020-05-06T14:59:54.361900Z",
     "start_time": "2020-05-06T14:59:54.358209Z"
    },
    "hidden": true
   },
   "outputs": [
    {
     "name": "stdout",
     "output_type": "stream",
     "text": [
      "['This', 'is', 'a', 'sentence', 'I', 'want', 'to', 'break', 'into', 'parts']\n",
      "['Thi', ' i', ' a ', 'entence I want to break into part', '']\n"
     ]
    }
   ],
   "source": [
    "x=\"This is a sentence I want to break into parts\"\n",
    "parts=x.split()\n",
    "print(parts)\n",
    "print(x.split(\"s\"))"
   ]
  },
  {
   "cell_type": "code",
   "execution_count": 350,
   "metadata": {
    "ExecuteTime": {
     "end_time": "2020-05-06T15:00:44.758984Z",
     "start_time": "2020-05-06T15:00:44.755721Z"
    },
    "hidden": true
   },
   "outputs": [
    {
     "name": "stdout",
     "output_type": "stream",
     "text": [
      "This_is_a_sentence_I_want_to_break_into_parts\n"
     ]
    }
   ],
   "source": [
    "print(\"_\".join(parts))"
   ]
  },
  {
   "cell_type": "code",
   "execution_count": 344,
   "metadata": {
    "ExecuteTime": {
     "end_time": "2020-05-06T14:57:49.153500Z",
     "start_time": "2020-05-06T14:57:49.149604Z"
    },
    "hidden": true
   },
   "outputs": [
    {
     "name": "stdout",
     "output_type": "stream",
     "text": [
      "|Remove all the extra space    |\n",
      "|    Remove all the extra space|\n",
      "|Remove all the extra space|\n"
     ]
    }
   ],
   "source": [
    "x=\"    Remove all the extra space    \"\n",
    "print(\"|\"+x.lstrip()+\"|\")\n",
    "print(\"|\"+x.rstrip()+\"|\")\n",
    "print(\"|\"+x.strip()+\"|\")"
   ]
  },
  {
   "cell_type": "code",
   "execution_count": 347,
   "metadata": {
    "ExecuteTime": {
     "end_time": "2020-05-06T14:59:26.862661Z",
     "start_time": "2020-05-06T14:59:26.859244Z"
    },
    "hidden": true
   },
   "outputs": [
    {
     "name": "stdout",
     "output_type": "stream",
     "text": [
      "I wAnt to cApitAlize every A in here\n"
     ]
    }
   ],
   "source": [
    "x=\"I want to capitalize every a in here\"\n",
    "print(x.replace(\"a\",\"A\"))"
   ]
  },
  {
   "cell_type": "markdown",
   "metadata": {
    "hidden": true
   },
   "source": [
    "Tip :\n",
    "* Practice manipulating strings - very useful for software development. \n",
    "* But even for ML, you have to read files which are strings. You can't escape strings!"
   ]
  },
  {
   "cell_type": "markdown",
   "metadata": {
    "hidden": true
   },
   "source": [
    "#### But can you change strings?"
   ]
  },
  {
   "cell_type": "code",
   "execution_count": 355,
   "metadata": {
    "ExecuteTime": {
     "end_time": "2020-05-06T15:09:44.486703Z",
     "start_time": "2020-05-06T15:09:44.482960Z"
    },
    "hidden": true
   },
   "outputs": [
    {
     "name": "stdout",
     "output_type": "stream",
     "text": [
      "[12, 1, 'abc']\n",
      "[12, 'one', 'abc']\n"
     ]
    }
   ],
   "source": [
    "# you can do this with lists\n",
    "x = [12, 1 ,\"abc\"]\n",
    "print(x)\n",
    "x[1]=\"one\"\n",
    "print(x)"
   ]
  },
  {
   "cell_type": "code",
   "execution_count": 357,
   "metadata": {
    "ExecuteTime": {
     "end_time": "2020-05-06T15:10:25.838458Z",
     "start_time": "2020-05-06T15:10:25.831479Z"
    },
    "hidden": true
   },
   "outputs": [
    {
     "name": "stdout",
     "output_type": "stream",
     "text": [
      "abcdefgh\n"
     ]
    },
    {
     "ename": "TypeError",
     "evalue": "'str' object does not support item assignment",
     "output_type": "error",
     "traceback": [
      "\u001b[0;31m--------------------------------------\u001b[0m",
      "\u001b[0;31mTypeError\u001b[0mTraceback (most recent call last)",
      "\u001b[0;32m<ipython-input-357-97e942e0ac6f>\u001b[0m in \u001b[0;36m<module>\u001b[0;34m\u001b[0m\n\u001b[1;32m      2\u001b[0m \u001b[0mx\u001b[0m\u001b[0;34m=\u001b[0m\u001b[0;34m\"abcdefgh\"\u001b[0m\u001b[0;34m\u001b[0m\u001b[0;34m\u001b[0m\u001b[0m\n\u001b[1;32m      3\u001b[0m \u001b[0mprint\u001b[0m\u001b[0;34m(\u001b[0m\u001b[0mx\u001b[0m\u001b[0;34m)\u001b[0m\u001b[0;34m\u001b[0m\u001b[0;34m\u001b[0m\u001b[0m\n\u001b[0;32m----> 4\u001b[0;31m \u001b[0mx\u001b[0m\u001b[0;34m[\u001b[0m\u001b[0;36m0\u001b[0m\u001b[0;34m]\u001b[0m\u001b[0;34m=\u001b[0m\u001b[0;34m\"z\"\u001b[0m\u001b[0;34m\u001b[0m\u001b[0;34m\u001b[0m\u001b[0m\n\u001b[0m",
      "\u001b[0;31mTypeError\u001b[0m: 'str' object does not support item assignment"
     ]
    }
   ],
   "source": [
    "# can you do the same thing with strings?\n",
    "x=\"abcdefgh\"\n",
    "print(x)\n",
    "x[0]=\"z\""
   ]
  },
  {
   "cell_type": "markdown",
   "metadata": {
    "hidden": true
   },
   "source": [
    "* No strings are immutable objects - you can't edit them once they have been created.\n",
    "* Nothing complicated, just like turning off a switch. \n",
    "* Numbers and booleans are also immutable objects"
   ]
  },
  {
   "cell_type": "code",
   "execution_count": 358,
   "metadata": {
    "ExecuteTime": {
     "end_time": "2020-05-06T15:12:29.574914Z",
     "start_time": "2020-05-06T15:12:29.571726Z"
    },
    "hidden": true
   },
   "outputs": [
    {
     "name": "stdout",
     "output_type": "stream",
     "text": [
      "ravina\n",
      "Ravina\n"
     ]
    }
   ],
   "source": [
    "# but then doesn't this mutate the string?\n",
    "x=\"Ravina\"\n",
    "print(x.lower())\n",
    "print(x)"
   ]
  },
  {
   "cell_type": "markdown",
   "metadata": {
    "hidden": true
   },
   "source": [
    "Nope, its just returning a new string."
   ]
  },
  {
   "cell_type": "markdown",
   "metadata": {},
   "source": [
    "### File I/O"
   ]
  },
  {
   "cell_type": "markdown",
   "metadata": {},
   "source": [
    "* In this section you will learn how to read and write to files.\n",
    "* For this section, the files that you are dealing with will be text files.\n",
    "\n",
    "####  A Note on files \n",
    "\n",
    "* Generally, there are two kinds of files ~ binary and text files.\n",
    "* .py, .txt, .c - anything that can be opened with a text editor is a text file.\n",
    "* Even .docx files are text files - but they are in XML format. If you're curious you can try opening one afterwards! :)\n",
    "* .jpeg, .jpg, .exe, .mp3, .wav etc are generally binary files - although they might have some text content.\n",
    "* Finally everything is made up of sequences of bytes - an 8 bit number like this 01010101 (could be represented in hex, oct, doesn't matter, it's finally an 8-bit number)\n",
    "* But when the file is a text file, the byte corresponds to a character table/encoding like ASCII or unicode."
   ]
  },
  {
   "cell_type": "markdown",
   "metadata": {
    "heading_collapsed": true
   },
   "source": [
    "#### Reading from a file"
   ]
  },
  {
   "cell_type": "markdown",
   "metadata": {
    "hidden": true
   },
   "source": [
    "* The ``open()`` function returns a ``File`` object that exposes methods to read the file.\n",
    "* How does it actually read the file from the disc? Don't know, don't care! That's the beauty of abstraction (hiding implementation details behind an interface)"
   ]
  },
  {
   "cell_type": "markdown",
   "metadata": {
    "hidden": true
   },
   "source": [
    "There are two ways you can open a file."
   ]
  },
  {
   "cell_type": "code",
   "execution_count": 463,
   "metadata": {
    "ExecuteTime": {
     "end_time": "2020-05-06T18:32:10.484521Z",
     "start_time": "2020-05-06T18:32:10.480988Z"
    },
    "hidden": true
   },
   "outputs": [
    {
     "name": "stdout",
     "output_type": "stream",
     "text": [
      "It little profits that an idle king,\n",
      "\n"
     ]
    }
   ],
   "source": [
    "input_file=open(\"example1.txt\",\"r\")\n",
    "print(input_file.readline())\n",
    "# input_file.close()"
   ]
  },
  {
   "cell_type": "markdown",
   "metadata": {
    "hidden": true
   },
   "source": [
    "* When you open a file, this is a transaction between Python and the OS - Windows/Mac/Linux. \n",
    "* The OS gives Python a **handle** or connection to the file. \n",
    "* It's python's responsibility to **close that connection**. \n",
    "* If you forget to close files, **bad things might happen**. For example, your program might become slow, especially if you're opening too many files. See this [SO post](https://stackoverflow.com/questions/25070854/why-should-i-close-files-in-python) for more examples. \n",
    "* In general, it's just bad programming."
   ]
  },
  {
   "cell_type": "markdown",
   "metadata": {
    "hidden": true
   },
   "source": [
    "So I recommend you always use this syntax"
   ]
  },
  {
   "cell_type": "code",
   "execution_count": 462,
   "metadata": {
    "ExecuteTime": {
     "end_time": "2020-05-06T18:24:07.497077Z",
     "start_time": "2020-05-06T18:24:07.493487Z"
    },
    "hidden": true,
    "scrolled": true
   },
   "outputs": [
    {
     "name": "stdout",
     "output_type": "stream",
     "text": [
      "It little profits that an idle king,\n",
      "\n"
     ]
    }
   ],
   "source": [
    "# the file will be automatically closed once you reach the end of the block\n",
    "with open(\"example1.txt\",\"r\") as input_file:\n",
    "    print(input_file.readline())"
   ]
  },
  {
   "cell_type": "markdown",
   "metadata": {
    "hidden": true
   },
   "source": [
    "* What is the second argument to open()?\n",
    "* It's the mode of opening the file.\n",
    "* \"r\" mode = open for reading. Actually this is same as \"rt\" = read text\n",
    "* \"rb\" is for reading binary files"
   ]
  },
  {
   "cell_type": "markdown",
   "metadata": {
    "hidden": true
   },
   "source": [
    "* But now lets look at the methods that let us actually read a text file.\n",
    "* While reading a file, a \"line\" is a string that ends with a newline character i.e. \"\\n\"."
   ]
  },
  {
   "cell_type": "code",
   "execution_count": 466,
   "metadata": {
    "ExecuteTime": {
     "end_time": "2020-05-06T18:36:36.430207Z",
     "start_time": "2020-05-06T18:36:36.425979Z"
    },
    "hidden": true
   },
   "outputs": [
    {
     "name": "stdout",
     "output_type": "stream",
     "text": [
      "['It little profits that an idle king,\\n', 'By this still hearth, among these barren crags,\\n', \"Match'd with an aged wife, I mete and dole\\n\", 'Unequal laws unto a savage race,\\n', 'That hoard, and sleep, and feed, and know not me.\\n', 'I cannot rest from travel: I will drink\\n', \"Life to the lees: All times I have enjoy'd\\n\", \"Greatly, have suffer'd greatly, both with those\\n\", 'That loved me, and alone, on shore, and when\\n', \"Thro' scudding drifts the rainy Hyades\\n\", 'Vext the dim sea: I am become a name;\\n', 'For always roaming with a hungry heart\\n', 'Much have I seen and known; cities of men', '']\n"
     ]
    }
   ],
   "source": [
    "with open(\"example1.txt\",\"r\") as fi:\n",
    "    line=\"starting\"\n",
    "    lines=[]\n",
    "    # readline returns \"\" at the end of the file\n",
    "    while line !=\"\":\n",
    "        line=fi.readline()\n",
    "        lines.append(line)\n",
    "print(lines)"
   ]
  },
  {
   "cell_type": "markdown",
   "metadata": {
    "hidden": true
   },
   "source": [
    "* Notice, the newlines are preserved."
   ]
  },
  {
   "cell_type": "code",
   "execution_count": 467,
   "metadata": {
    "ExecuteTime": {
     "end_time": "2020-05-06T18:37:59.878526Z",
     "start_time": "2020-05-06T18:37:59.874649Z"
    },
    "hidden": true,
    "scrolled": true
   },
   "outputs": [
    {
     "name": "stdout",
     "output_type": "stream",
     "text": [
      "['It little profits that an idle king,\\n', 'By this still hearth, among these barren crags,\\n', \"Match'd with an aged wife, I mete and dole\\n\", 'Unequal laws unto a savage race,\\n', 'That hoard, and sleep, and feed, and know not me.\\n', 'I cannot rest from travel: I will drink\\n', \"Life to the lees: All times I have enjoy'd\\n\", \"Greatly, have suffer'd greatly, both with those\\n\", 'That loved me, and alone, on shore, and when\\n', \"Thro' scudding drifts the rainy Hyades\\n\", 'Vext the dim sea: I am become a name;\\n', 'For always roaming with a hungry heart\\n', 'Much have I seen and known; cities of men']\n"
     ]
    }
   ],
   "source": [
    "with open(\"example1.txt\",\"rt\") as fi:\n",
    "    lines=fi.readlines()\n",
    "print(lines)"
   ]
  },
  {
   "cell_type": "markdown",
   "metadata": {
    "hidden": true
   },
   "source": [
    "* You can also pass how many bytes to read to the readlines() function."
   ]
  },
  {
   "cell_type": "code",
   "execution_count": 477,
   "metadata": {
    "ExecuteTime": {
     "end_time": "2020-05-06T18:40:33.380489Z",
     "start_time": "2020-05-06T18:40:33.376269Z"
    },
    "hidden": true
   },
   "outputs": [
    {
     "name": "stdout",
     "output_type": "stream",
     "text": [
      "['It little profits that an idle king,\\n', 'By this still hearth, among these barren crags,\\n']\n",
      "[37, 48]\n"
     ]
    }
   ],
   "source": [
    "with open(\"example1.txt\",\"rt\") as fi:\n",
    "    # read lines upto this many bytes\n",
    "    lines=fi.readlines(50)\n",
    "print(lines)\n",
    "# curious people can check out below syntax\n",
    "# its called \"list comprehension\"\n",
    "print([len(line) for line in lines])"
   ]
  },
  {
   "cell_type": "code",
   "execution_count": 478,
   "metadata": {
    "ExecuteTime": {
     "end_time": "2020-05-06T18:42:55.469151Z",
     "start_time": "2020-05-06T18:42:55.464313Z"
    },
    "hidden": true
   },
   "outputs": [
    {
     "name": "stdout",
     "output_type": "stream",
     "text": [
      "It l\n",
      "ittl\n",
      "e pr\n",
      "ofit\n",
      "s th\n",
      "at a\n",
      "n id\n",
      "le k\n",
      "ing,\n",
      "\n",
      "By \n"
     ]
    }
   ],
   "source": [
    "with open(\"example1.txt\",\"rt\") as fi:\n",
    "    # you can read character by character\n",
    "    i=0\n",
    "    while i <10:\n",
    "        # read just 4 bytes = 4 characters\n",
    "        print(fi.read(4))\n",
    "        i+=1"
   ]
  },
  {
   "cell_type": "markdown",
   "metadata": {
    "hidden": true
   },
   "source": [
    "Finally the most common way to read a file, using a for loop!"
   ]
  },
  {
   "cell_type": "code",
   "execution_count": 480,
   "metadata": {
    "ExecuteTime": {
     "end_time": "2020-05-06T18:44:19.264421Z",
     "start_time": "2020-05-06T18:44:19.259632Z"
    },
    "hidden": true
   },
   "outputs": [
    {
     "name": "stdout",
     "output_type": "stream",
     "text": [
      "It little profits that an idle king,\n",
      "\n",
      "By this still hearth, among these barren crags,\n",
      "\n",
      "Match'd with an aged wife, I mete and dole\n",
      "\n",
      "Unequal laws unto a savage race,\n",
      "\n",
      "That hoard, and sleep, and feed, and know not me.\n",
      "\n",
      "I cannot rest from travel: I will drink\n",
      "\n"
     ]
    }
   ],
   "source": [
    "with open(\"example1.txt\",\"rt\") as fi:\n",
    "    i=0\n",
    "    for line in fi:\n",
    "        print(line)\n",
    "        if i==5:\n",
    "            break\n",
    "        i+=1"
   ]
  },
  {
   "cell_type": "markdown",
   "metadata": {},
   "source": [
    "#### Writing to a file"
   ]
  },
  {
   "cell_type": "markdown",
   "metadata": {},
   "source": [
    "* The difference between reading and writing is just the **mode** and the methods! \\\n",
    "* With the \"w\" mode, ``open`` will open a file for writing.\n",
    "* If the file doesn't exit a new file will be created."
   ]
  },
  {
   "cell_type": "code",
   "execution_count": 499,
   "metadata": {
    "ExecuteTime": {
     "end_time": "2020-05-06T18:57:02.944039Z",
     "start_time": "2020-05-06T18:57:02.940329Z"
    }
   },
   "outputs": [],
   "source": [
    "with open(\"outfile\",\"w\") as fo:\n",
    "    fo.write(\"Hello my name is Aneesh\\n\")\n",
    "    fo.write(\"There is no \")\n",
    "    fo.write(\"automatic insertion of newline\")"
   ]
  },
  {
   "cell_type": "markdown",
   "metadata": {},
   "source": [
    "Now let's see what we wrote."
   ]
  },
  {
   "cell_type": "code",
   "execution_count": 500,
   "metadata": {
    "ExecuteTime": {
     "end_time": "2020-05-06T18:57:04.706179Z",
     "start_time": "2020-05-06T18:57:04.702653Z"
    }
   },
   "outputs": [
    {
     "name": "stdout",
     "output_type": "stream",
     "text": [
      "Hello my name is Aneesh\n",
      "There is no automatic insertion of newline\n"
     ]
    }
   ],
   "source": [
    "with open(\"outfile\",\"r\") as fi:\n",
    "    print(fi.read())"
   ]
  },
  {
   "cell_type": "code",
   "execution_count": 498,
   "metadata": {
    "ExecuteTime": {
     "end_time": "2020-05-06T18:56:56.695870Z",
     "start_time": "2020-05-06T18:56:56.692819Z"
    }
   },
   "outputs": [],
   "source": [
    "with open(\"outfile\",\"w\") as fo:\n",
    "    fo.write(\"This will overwrite the original stuff\")\n",
    "    \n",
    "with open(\"outfile\",\"r\") as fi:\n",
    "    print(fi.read())"
   ]
  },
  {
   "cell_type": "markdown",
   "metadata": {},
   "source": [
    "* \"w\" mode deletes everything in the file when it opens it.\n",
    "* So what do we do, are we forced to write everything at one go?\n",
    "* Nope, we can use the \"a\" or append mode"
   ]
  },
  {
   "cell_type": "code",
   "execution_count": 501,
   "metadata": {
    "ExecuteTime": {
     "end_time": "2020-05-06T18:57:10.119350Z",
     "start_time": "2020-05-06T18:57:10.115228Z"
    }
   },
   "outputs": [
    {
     "name": "stdout",
     "output_type": "stream",
     "text": [
      "Hello my name is Aneesh\n",
      "There is no automatic insertion of newlineThis will be added to the original stuff\n"
     ]
    }
   ],
   "source": [
    "with open(\"outfile\",\"a\") as fo:\n",
    "    fo.write(\"This will be added to the original stuff\")\n",
    "\n",
    "with open(\"outfile\",\"r\") as fi:\n",
    "    print(fi.read())"
   ]
  },
  {
   "cell_type": "markdown",
   "metadata": {},
   "source": [
    "* Mode matters! You can't use read() on a file opened with \"w\" or \"a\" mode.\n",
    "* You can't use write on a file opened with \"r\"."
   ]
  },
  {
   "cell_type": "code",
   "execution_count": 489,
   "metadata": {
    "ExecuteTime": {
     "end_time": "2020-05-06T18:53:06.372978Z",
     "start_time": "2020-05-06T18:53:06.366095Z"
    }
   },
   "outputs": [
    {
     "ename": "UnsupportedOperation",
     "evalue": "not writable",
     "output_type": "error",
     "traceback": [
      "\u001b[0;31m--------------------------------------\u001b[0m",
      "\u001b[0;31mUnsupportedOperation\u001b[0mTraceback (most recent call last)",
      "\u001b[0;32m<ipython-input-489-52b73a13085f>\u001b[0m in \u001b[0;36m<module>\u001b[0;34m\u001b[0m\n\u001b[1;32m      1\u001b[0m \u001b[0;32mwith\u001b[0m \u001b[0mopen\u001b[0m\u001b[0;34m(\u001b[0m\u001b[0;34m\"outfile\"\u001b[0m\u001b[0;34m,\u001b[0m\u001b[0;34m\"r\"\u001b[0m\u001b[0;34m)\u001b[0m \u001b[0;32mas\u001b[0m \u001b[0mfi\u001b[0m\u001b[0;34m:\u001b[0m\u001b[0;34m\u001b[0m\u001b[0;34m\u001b[0m\u001b[0m\n\u001b[0;32m----> 2\u001b[0;31m     \u001b[0mprint\u001b[0m\u001b[0;34m(\u001b[0m\u001b[0mfi\u001b[0m\u001b[0;34m.\u001b[0m\u001b[0mwrite\u001b[0m\u001b[0;34m(\u001b[0m\u001b[0;34m\"Won't work\"\u001b[0m\u001b[0;34m)\u001b[0m\u001b[0;34m)\u001b[0m\u001b[0;34m\u001b[0m\u001b[0;34m\u001b[0m\u001b[0m\n\u001b[0m",
      "\u001b[0;31mUnsupportedOperation\u001b[0m: not writable"
     ]
    }
   ],
   "source": [
    "with open(\"outfile\",\"r\") as fi:\n",
    "    print(fi.write(\"Won't work\"))"
   ]
  },
  {
   "cell_type": "markdown",
   "metadata": {
    "heading_collapsed": true
   },
   "source": [
    "### More on lists"
   ]
  },
  {
   "cell_type": "markdown",
   "metadata": {
    "hidden": true
   },
   "source": [
    "So you already know how to \n",
    "\n",
    "* create lists\n",
    "* index lists\n",
    "* slice lists\n",
    "* update value at an index of a list\n",
    "\n",
    "Here's some more important stuff"
   ]
  },
  {
   "cell_type": "markdown",
   "metadata": {
    "hidden": true
   },
   "source": [
    "#### Appending to lists"
   ]
  },
  {
   "cell_type": "code",
   "execution_count": 160,
   "metadata": {
    "ExecuteTime": {
     "end_time": "2020-05-05T11:29:18.459248Z",
     "start_time": "2020-05-05T11:29:18.455679Z"
    },
    "hidden": true
   },
   "outputs": [
    {
     "name": "stdout",
     "output_type": "stream",
     "text": [
      "[]\n",
      "['first', 2, 3.0]\n"
     ]
    }
   ],
   "source": [
    "empty_list=[]\n",
    "\n",
    "print(empty_list)\n",
    "empty_list.append(\"first\")\n",
    "empty_list.append(2)\n",
    "empty_list.append(3.0)\n",
    "print(empty_list)"
   ]
  },
  {
   "cell_type": "markdown",
   "metadata": {
    "hidden": true
   },
   "source": [
    "#### Concatenating lists"
   ]
  },
  {
   "cell_type": "markdown",
   "metadata": {
    "hidden": true
   },
   "source": [
    "You can add 2 (or more) lists together, and they are concatenated just like strings."
   ]
  },
  {
   "cell_type": "code",
   "execution_count": 354,
   "metadata": {
    "ExecuteTime": {
     "end_time": "2020-05-06T15:08:11.996549Z",
     "start_time": "2020-05-06T15:08:11.993136Z"
    },
    "hidden": true,
    "scrolled": true
   },
   "outputs": [
    {
     "name": "stdout",
     "output_type": "stream",
     "text": [
      "[25, 27, 28, 2, 5, 1]\n"
     ]
    }
   ],
   "source": [
    "l1=[25, 27, 28] \n",
    "l2=[2,5,1]\n",
    "print(l1+l2)"
   ]
  },
  {
   "cell_type": "markdown",
   "metadata": {
    "hidden": true
   },
   "source": [
    "You can even multiply lists!"
   ]
  },
  {
   "cell_type": "code",
   "execution_count": 359,
   "metadata": {
    "ExecuteTime": {
     "end_time": "2020-05-06T15:13:17.499605Z",
     "start_time": "2020-05-06T15:13:17.496709Z"
    },
    "hidden": true,
    "scrolled": true
   },
   "outputs": [
    {
     "name": "stdout",
     "output_type": "stream",
     "text": [
      "[25, 27, 28, 25, 27, 28, 25, 27, 28]\n"
     ]
    }
   ],
   "source": [
    "l3=l1*3\n",
    "print(l3)"
   ]
  },
  {
   "cell_type": "markdown",
   "metadata": {
    "hidden": true
   },
   "source": [
    "But I wanted to show you this because it doesn't exactly work as expected..."
   ]
  },
  {
   "cell_type": "code",
   "execution_count": 368,
   "metadata": {
    "ExecuteTime": {
     "end_time": "2020-05-06T15:19:49.573283Z",
     "start_time": "2020-05-06T15:19:49.569233Z"
    },
    "hidden": true
   },
   "outputs": [
    {
     "name": "stdout",
     "output_type": "stream",
     "text": [
      "[[22, 33], 12, [22], [22, 33], 12, [22], [22, 33], 12, [22]]\n",
      "[[11, 33], 12, [22], [11, 33], 12, [22], [11, 33], 12, [22]]\n"
     ]
    }
   ],
   "source": [
    "x=[[22,33],12,[22]]\n",
    "y=x*3\n",
    "print(y)\n",
    "x[0][0]=11\n",
    "print(y)"
   ]
  },
  {
   "cell_type": "code",
   "execution_count": 372,
   "metadata": {
    "ExecuteTime": {
     "end_time": "2020-05-06T15:20:29.073285Z",
     "start_time": "2020-05-06T15:20:29.069333Z"
    },
    "hidden": true
   },
   "outputs": [
    {
     "data": {
      "text/plain": [
       "True"
      ]
     },
     "execution_count": 372,
     "metadata": {},
     "output_type": "execute_result"
    }
   ],
   "source": [
    "id(y[0])==id(y[3])"
   ]
  },
  {
   "cell_type": "markdown",
   "metadata": {
    "ExecuteTime": {
     "end_time": "2020-05-06T15:22:46.894608Z",
     "start_time": "2020-05-06T15:22:46.891971Z"
    },
    "hidden": true
   },
   "source": [
    "You can even do this..."
   ]
  },
  {
   "cell_type": "code",
   "execution_count": 380,
   "metadata": {
    "ExecuteTime": {
     "end_time": "2020-05-06T15:23:54.073057Z",
     "start_time": "2020-05-06T15:23:54.069578Z"
    },
    "hidden": true
   },
   "outputs": [
    {
     "name": "stdout",
     "output_type": "stream",
     "text": [
      "[99, 4]\n",
      "[99, 4, 'h', 'e', 'l', 'l', 'o']\n"
     ]
    }
   ],
   "source": [
    "x=[99,4]\n",
    "print(x)\n",
    "x+=\"hello\"\n",
    "print(x)"
   ]
  },
  {
   "cell_type": "markdown",
   "metadata": {
    "hidden": true
   },
   "source": [
    "* Why? I'll leave that answer to you \n",
    "* hint: Why can you use for loop for both strings and lists?"
   ]
  },
  {
   "cell_type": "markdown",
   "metadata": {
    "hidden": true
   },
   "source": [
    "#### How to delete an item?"
   ]
  },
  {
   "cell_type": "code",
   "execution_count": 395,
   "metadata": {
    "ExecuteTime": {
     "end_time": "2020-05-06T15:34:21.946360Z",
     "start_time": "2020-05-06T15:34:21.941109Z"
    },
    "hidden": true
   },
   "outputs": [
    {
     "name": "stdout",
     "output_type": "stream",
     "text": [
      "[9, 5, 6, 8, 2, 44, 1]\n",
      "[5, 6, 8, 2, 44, 1]\n",
      "[9, 6, 8, 2, 44, 1]\n",
      "[9, 2, 44, 1]\n"
     ]
    }
   ],
   "source": [
    "x=[9,5,6,8,2,44,1]\n",
    "print(x)\n",
    "x.remove(9)\n",
    "print(x)\n",
    "x=[9,5,6,8,2,44,1]\n",
    "del x[1]\n",
    "print(x)\n",
    "x=[9,5,6,8,2,44,1]\n",
    "del x[1:4]\n",
    "print(x)"
   ]
  },
  {
   "cell_type": "markdown",
   "metadata": {
    "hidden": true
   },
   "source": [
    "#### Note on operators (Advanced)"
   ]
  },
  {
   "cell_type": "markdown",
   "metadata": {
    "hidden": true
   },
   "source": [
    "* You might have seen that a list has a + operator and a * operator, and oh, this must be how lists are.\n",
    "* Nope! It's all defined somewhere. The creators wanted lists to behave this way.\n",
    "* In fact, operators like + are implemented as **methods** on the class they work on.\n",
    "* Try looking at the objects using ``dir`` and guessing which methods implement the operators."
   ]
  },
  {
   "cell_type": "code",
   "execution_count": 392,
   "metadata": {
    "ExecuteTime": {
     "end_time": "2020-05-06T15:32:30.135661Z",
     "start_time": "2020-05-06T15:32:30.131912Z"
    },
    "hidden": true
   },
   "outputs": [
    {
     "name": "stdout",
     "output_type": "stream",
     "text": [
      "[44, 22]\n",
      "[44, 22]\n"
     ]
    }
   ],
   "source": [
    "x=[44]\n",
    "x=x.__add__([22])\n",
    "print(x)\n",
    "\n",
    "x=[44]\n",
    "x=x+[22]\n",
    "print(x)"
   ]
  },
  {
   "cell_type": "markdown",
   "metadata": {
    "heading_collapsed": true
   },
   "source": [
    "### Other datastructures in Python"
   ]
  },
  {
   "cell_type": "markdown",
   "metadata": {
    "hidden": true
   },
   "source": [
    "#### Sets"
   ]
  },
  {
   "cell_type": "markdown",
   "metadata": {
    "ExecuteTime": {
     "end_time": "2020-05-06T16:30:53.029951Z",
     "start_time": "2020-05-06T16:30:53.025780Z"
    },
    "hidden": true
   },
   "source": [
    "Let's look at sets.\n",
    "\n",
    "* Sets are like lists - they are collections of items.\n",
    "* But there is no order.\n",
    "* And there can be just one copy of each item.\n",
    "* Just like mathematical sets!"
   ]
  },
  {
   "cell_type": "code",
   "execution_count": 398,
   "metadata": {
    "ExecuteTime": {
     "end_time": "2020-05-06T16:31:45.897040Z",
     "start_time": "2020-05-06T16:31:45.893906Z"
    },
    "hidden": true
   },
   "outputs": [
    {
     "name": "stdout",
     "output_type": "stream",
     "text": [
      "{1, 2, 6, 7}\n"
     ]
    }
   ],
   "source": [
    "# create a set from scratch\n",
    "x = {1, 2, 6, 7, 2}\n",
    "print(x)"
   ]
  },
  {
   "cell_type": "code",
   "execution_count": 399,
   "metadata": {
    "ExecuteTime": {
     "end_time": "2020-05-06T16:32:02.546072Z",
     "start_time": "2020-05-06T16:32:02.542480Z"
    },
    "hidden": true
   },
   "outputs": [
    {
     "name": "stdout",
     "output_type": "stream",
     "text": [
      "{1, 2, 3, 4, 13}\n"
     ]
    }
   ],
   "source": [
    "# from a list\n",
    "print(set([1,2,3,1,1,13,4]))"
   ]
  },
  {
   "cell_type": "markdown",
   "metadata": {
    "hidden": true
   },
   "source": [
    "* You can do interesting operations on sets"
   ]
  },
  {
   "cell_type": "code",
   "execution_count": 401,
   "metadata": {
    "ExecuteTime": {
     "end_time": "2020-05-06T16:33:45.706040Z",
     "start_time": "2020-05-06T16:33:45.703049Z"
    },
    "hidden": true
   },
   "outputs": [],
   "source": [
    "x1={1,2,3,4,5,6}\n",
    "x2={2,4,6,8}"
   ]
  },
  {
   "cell_type": "markdown",
   "metadata": {
    "hidden": true
   },
   "source": [
    "* Union"
   ]
  },
  {
   "cell_type": "code",
   "execution_count": 402,
   "metadata": {
    "ExecuteTime": {
     "end_time": "2020-05-06T16:33:46.595132Z",
     "start_time": "2020-05-06T16:33:46.591968Z"
    },
    "hidden": true
   },
   "outputs": [
    {
     "name": "stdout",
     "output_type": "stream",
     "text": [
      "{1, 2, 3, 4, 5, 6, 8}\n"
     ]
    }
   ],
   "source": [
    "# Read as x1 or x2\n",
    "print(x1 | x2)  "
   ]
  },
  {
   "cell_type": "markdown",
   "metadata": {
    "hidden": true
   },
   "source": [
    "* Intersection"
   ]
  },
  {
   "cell_type": "code",
   "execution_count": 403,
   "metadata": {
    "ExecuteTime": {
     "end_time": "2020-05-06T16:40:52.713083Z",
     "start_time": "2020-05-06T16:40:52.709621Z"
    },
    "hidden": true
   },
   "outputs": [
    {
     "name": "stdout",
     "output_type": "stream",
     "text": [
      "{2, 4, 6}\n"
     ]
    }
   ],
   "source": [
    "# Read as x1 and x2\n",
    "print(x1 & x2)  "
   ]
  },
  {
   "cell_type": "markdown",
   "metadata": {
    "hidden": true
   },
   "source": [
    "* Set Difference ( Remove elements in x2 from x1)"
   ]
  },
  {
   "cell_type": "code",
   "execution_count": 404,
   "metadata": {
    "ExecuteTime": {
     "end_time": "2020-05-06T16:40:52.713083Z",
     "start_time": "2020-05-06T16:40:52.709621Z"
    },
    "hidden": true
   },
   "outputs": [
    {
     "name": "stdout",
     "output_type": "stream",
     "text": [
      "{1, 3, 5}\n"
     ]
    }
   ],
   "source": [
    "# Read as x1 minus x2\n",
    "print(x1 - x2)  "
   ]
  },
  {
   "cell_type": "markdown",
   "metadata": {
    "hidden": true
   },
   "source": [
    "* Check for membership"
   ]
  },
  {
   "cell_type": "code",
   "execution_count": 413,
   "metadata": {
    "ExecuteTime": {
     "end_time": "2020-05-06T16:40:52.713083Z",
     "start_time": "2020-05-06T16:40:52.709621Z"
    },
    "hidden": true
   },
   "outputs": [
    {
     "name": "stdout",
     "output_type": "stream",
     "text": [
      "True\n",
      "False\n"
     ]
    }
   ],
   "source": [
    "myset={1,2,4,6,7}\n",
    "print(1 in myset)\n",
    "print(2 not in myset)"
   ]
  },
  {
   "cell_type": "markdown",
   "metadata": {
    "hidden": true
   },
   "source": [
    "* You can convert from a set to a list by calling the ``list()`` constructor."
   ]
  },
  {
   "cell_type": "code",
   "execution_count": 405,
   "metadata": {
    "ExecuteTime": {
     "end_time": "2020-05-06T16:36:15.310236Z",
     "start_time": "2020-05-06T16:36:15.307711Z"
    },
    "hidden": true
   },
   "outputs": [
    {
     "name": "stdout",
     "output_type": "stream",
     "text": [
      "[1, 2, 3, 4, 5, 6]\n"
     ]
    }
   ],
   "source": [
    "print(list(x1))"
   ]
  },
  {
   "cell_type": "markdown",
   "metadata": {
    "hidden": true
   },
   "source": [
    "* You can loop through a set using a for loop.\n",
    "* But **remember the order of the set is not guaranteed**"
   ]
  },
  {
   "cell_type": "code",
   "execution_count": 407,
   "metadata": {
    "ExecuteTime": {
     "end_time": "2020-05-06T16:37:48.523603Z",
     "start_time": "2020-05-06T16:37:48.520019Z"
    },
    "hidden": true
   },
   "outputs": [
    {
     "name": "stdout",
     "output_type": "stream",
     "text": [
      "1\n",
      "3\n",
      "5\n",
      "6\n",
      "abc\n"
     ]
    }
   ],
   "source": [
    "# sets can have heterogeneous elements too\n",
    "myset={\"abc\",1,1.0,3,3,3,5,6,\"abc\"}\n",
    "for element in myset:\n",
    "    print(element)"
   ]
  },
  {
   "cell_type": "markdown",
   "metadata": {
    "heading_collapsed": true,
    "hidden": true
   },
   "source": [
    "#### Tuples"
   ]
  },
  {
   "cell_type": "markdown",
   "metadata": {
    "hidden": true
   },
   "source": [
    "* Tuples are an ordered collection of objects. \n",
    "* They are immutable - they can't be changed. "
   ]
  },
  {
   "cell_type": "code",
   "execution_count": 412,
   "metadata": {
    "ExecuteTime": {
     "end_time": "2020-05-06T16:39:58.503655Z",
     "start_time": "2020-05-06T16:39:58.499907Z"
    },
    "hidden": true
   },
   "outputs": [
    {
     "name": "stdout",
     "output_type": "stream",
     "text": [
      "(1, 2, 4, 5)\n",
      "4\n",
      "(4, 5)\n"
     ]
    }
   ],
   "source": [
    "x=(1,2,4,5)\n",
    "print(x)\n",
    "# you can index tuples\n",
    "print(x[2])\n",
    "# you can slice tuples\n",
    "print(x[2:4])"
   ]
  },
  {
   "cell_type": "code",
   "execution_count": 415,
   "metadata": {
    "ExecuteTime": {
     "end_time": "2020-05-06T16:41:46.909701Z",
     "start_time": "2020-05-06T16:41:46.903454Z"
    },
    "hidden": true
   },
   "outputs": [
    {
     "ename": "TypeError",
     "evalue": "'tuple' object does not support item assignment",
     "output_type": "error",
     "traceback": [
      "\u001b[0;31m--------------------------------------\u001b[0m",
      "\u001b[0;31mTypeError\u001b[0mTraceback (most recent call last)",
      "\u001b[0;32m<ipython-input-415-8ce09a9675a1>\u001b[0m in \u001b[0;36m<module>\u001b[0;34m\u001b[0m\n\u001b[1;32m      1\u001b[0m \u001b[0;31m# you can't change tuples\u001b[0m\u001b[0;34m\u001b[0m\u001b[0;34m\u001b[0m\u001b[0;34m\u001b[0m\u001b[0m\n\u001b[0;32m----> 2\u001b[0;31m \u001b[0mx\u001b[0m\u001b[0;34m[\u001b[0m\u001b[0;36m0\u001b[0m\u001b[0;34m]\u001b[0m\u001b[0;34m=\u001b[0m\u001b[0;36m2\u001b[0m\u001b[0;34m\u001b[0m\u001b[0;34m\u001b[0m\u001b[0m\n\u001b[0m",
      "\u001b[0;31mTypeError\u001b[0m: 'tuple' object does not support item assignment"
     ]
    }
   ],
   "source": [
    "# you can't change tuples\n",
    "x[0]=2"
   ]
  },
  {
   "cell_type": "markdown",
   "metadata": {
    "hidden": true
   },
   "source": [
    "* Remember you saw tuples in the functions section?\n",
    "* If they are multiple return values they are packed into a tuple first."
   ]
  },
  {
   "cell_type": "code",
   "execution_count": 416,
   "metadata": {
    "ExecuteTime": {
     "end_time": "2020-05-06T16:42:51.359281Z",
     "start_time": "2020-05-06T16:42:51.355544Z"
    },
    "hidden": true
   },
   "outputs": [
    {
     "name": "stdout",
     "output_type": "stream",
     "text": [
      "('J', 'W', 'L')\n"
     ]
    }
   ],
   "source": [
    "def return_initials(first_name,middle_name,last_name):\n",
    "    return first_name[0],middle_name[0],last_name[0]\n",
    "\n",
    "print(return_initials(\"John\",\"Winston\",\"Lennon\"))"
   ]
  },
  {
   "cell_type": "code",
   "execution_count": 426,
   "metadata": {
    "ExecuteTime": {
     "end_time": "2020-05-06T16:50:15.508033Z",
     "start_time": "2020-05-06T16:50:15.505229Z"
    },
    "hidden": true
   },
   "outputs": [
    {
     "name": "stdout",
     "output_type": "stream",
     "text": [
      "1\n",
      "2\n",
      "4\n",
      "5\n"
     ]
    }
   ],
   "source": [
    "# You can also apply for loop on tuples\n",
    "for el in x:\n",
    "    print(el)"
   ]
  },
  {
   "cell_type": "markdown",
   "metadata": {
    "heading_collapsed": true,
    "hidden": true
   },
   "source": [
    "#### Dictionaries"
   ]
  },
  {
   "cell_type": "markdown",
   "metadata": {
    "hidden": true
   },
   "source": [
    "* After lists, dictionaries are **the most important pythonic datastructure!**\n",
    "* Dictionaries are maps from **key** to **value**."
   ]
  },
  {
   "cell_type": "code",
   "execution_count": 421,
   "metadata": {
    "ExecuteTime": {
     "end_time": "2020-05-06T16:48:36.053084Z",
     "start_time": "2020-05-06T16:48:36.050157Z"
    },
    "hidden": true
   },
   "outputs": [],
   "source": [
    "student_ages={ \"Jibran\" : 24,\n",
    "                \"Maria\" : 22,\n",
    "                \"Kaustav\" : 23,\n",
    "                \"Somali\": 22,\n",
    "                \"Devika\": 25,\n",
    "                \"Jibran\": 21\n",
    "               }"
   ]
  },
  {
   "cell_type": "markdown",
   "metadata": {
    "hidden": true
   },
   "source": [
    "* Keys are **unique**, you can't add more than one value for a key.\n",
    "* You can see the unique keys in a dictionary by calling the ``keys()`` method.\n",
    "* Note that ``keys()`` does not return a list!"
   ]
  },
  {
   "cell_type": "code",
   "execution_count": 428,
   "metadata": {
    "ExecuteTime": {
     "end_time": "2020-05-06T16:52:25.647060Z",
     "start_time": "2020-05-06T16:52:25.643717Z"
    },
    "hidden": true
   },
   "outputs": [
    {
     "name": "stdout",
     "output_type": "stream",
     "text": [
      "dict_keys(['Jibran', 'Maria', 'Kaustav', 'Somali', 'Devika'])\n",
      "['Jibran', 'Maria', 'Kaustav', 'Somali', 'Devika']\n"
     ]
    }
   ],
   "source": [
    "print(student_ages.keys())\n",
    "# keys() is not a list, but you can convert it to one\n",
    "print(list(student_ages.keys()))"
   ]
  },
  {
   "cell_type": "markdown",
   "metadata": {
    "hidden": true
   },
   "source": [
    "You can **read and update** the value of a key by indexing the dictionary"
   ]
  },
  {
   "cell_type": "code",
   "execution_count": 430,
   "metadata": {
    "ExecuteTime": {
     "end_time": "2020-05-06T16:55:04.776621Z",
     "start_time": "2020-05-06T16:55:04.773272Z"
    },
    "hidden": true
   },
   "outputs": [
    {
     "name": "stdout",
     "output_type": "stream",
     "text": [
      "24\n",
      "{'Jibran': 24, 'Maria': 22, 'Kaustav': 23, 'Somali': 22, 'Devika': 25}\n"
     ]
    }
   ],
   "source": [
    "# The first value got overwritten.\n",
    "print(student_ages[\"Jibran\"])\n",
    "student_ages[\"Jibran\"]=24 \n",
    "print(student_ages)"
   ]
  },
  {
   "cell_type": "markdown",
   "metadata": {
    "hidden": true
   },
   "source": [
    "* **Obviously, slicing a dictionary doesn't make sense. Why?**"
   ]
  },
  {
   "cell_type": "code",
   "execution_count": 431,
   "metadata": {
    "ExecuteTime": {
     "end_time": "2020-05-06T16:56:01.466265Z",
     "start_time": "2020-05-06T16:56:01.463099Z"
    },
    "hidden": true
   },
   "outputs": [
    {
     "name": "stdout",
     "output_type": "stream",
     "text": [
      "{'Jibran': 24, 'Maria': 22, 'Kaustav': 23, 'Somali': 22, 'Devika': 25, 'Shubham': 27}\n"
     ]
    }
   ],
   "source": [
    "# You can add a new key just by indexing and assigning a value\n",
    "student_ages[\"Shubham\"]=27\n",
    "print(student_ages)"
   ]
  },
  {
   "cell_type": "markdown",
   "metadata": {
    "hidden": true
   },
   "source": [
    "You can check for membership (w.r.t keys)"
   ]
  },
  {
   "cell_type": "code",
   "execution_count": 535,
   "metadata": {
    "ExecuteTime": {
     "end_time": "2020-05-06T19:50:43.303467Z",
     "start_time": "2020-05-06T19:50:43.300350Z"
    },
    "hidden": true
   },
   "outputs": [
    {
     "name": "stdout",
     "output_type": "stream",
     "text": [
      "True\n",
      "False\n"
     ]
    }
   ],
   "source": [
    "print(\"Jibran\" in student_ages)\n",
    "print(\"Kamala\" in student_ages)"
   ]
  },
  {
   "cell_type": "markdown",
   "metadata": {
    "hidden": true
   },
   "source": [
    "* You can also loop through a dictionary\n",
    "* But the values that are returned are **keys** not values."
   ]
  },
  {
   "cell_type": "code",
   "execution_count": 432,
   "metadata": {
    "ExecuteTime": {
     "end_time": "2020-05-06T16:58:31.440835Z",
     "start_time": "2020-05-06T16:58:31.436444Z"
    },
    "hidden": true
   },
   "outputs": [
    {
     "name": "stdout",
     "output_type": "stream",
     "text": [
      "Jibran 24\n",
      "Maria 22\n",
      "Kaustav 23\n",
      "Somali 22\n",
      "Devika 25\n",
      "Shubham 27\n"
     ]
    }
   ],
   "source": [
    "for key in student_ages:\n",
    "    print(key,student_ages[key])"
   ]
  },
  {
   "cell_type": "markdown",
   "metadata": {
    "hidden": true
   },
   "source": [
    "* The keys and values can all be heterogeneous. Anything goes!"
   ]
  },
  {
   "cell_type": "code",
   "execution_count": 441,
   "metadata": {
    "ExecuteTime": {
     "end_time": "2020-05-06T17:06:59.588949Z",
     "start_time": "2020-05-06T17:06:59.585051Z"
    },
    "hidden": true
   },
   "outputs": [
    {
     "name": "stdout",
     "output_type": "stream",
     "text": [
      "{'key1': [1, 2, 4, 6], 10: {'hello': True, 1.2: 'watsup'}, <built-in function print>: 2, (1, 2): 'tupless'}\n"
     ]
    }
   ],
   "source": [
    "chaos = { # list within dictionary\n",
    "        \"key1\" : [1,2,4,6],\n",
    "         # dictionary within dictionary\n",
    "           10: {\"hello\":True,1.2 : \"watsup\"},\n",
    "        # tuples\n",
    "        (1,2) : \"tuples\"\n",
    "        }\n",
    "print(chaos)"
   ]
  },
  {
   "cell_type": "markdown",
   "metadata": {
    "hidden": true
   },
   "source": [
    "Well, almost anything... "
   ]
  },
  {
   "cell_type": "code",
   "execution_count": 442,
   "metadata": {
    "ExecuteTime": {
     "end_time": "2020-05-06T17:07:17.514153Z",
     "start_time": "2020-05-06T17:07:17.507653Z"
    },
    "hidden": true
   },
   "outputs": [
    {
     "ename": "TypeError",
     "evalue": "unhashable type: 'list'",
     "output_type": "error",
     "traceback": [
      "\u001b[0;31m--------------------------------------\u001b[0m",
      "\u001b[0;31mTypeError\u001b[0mTraceback (most recent call last)",
      "\u001b[0;32m<ipython-input-442-354d43970691>\u001b[0m in \u001b[0;36m<module>\u001b[0;34m\u001b[0m\n\u001b[0;32m----> 1\u001b[0;31m \u001b[0mchaos\u001b[0m\u001b[0;34m[\u001b[0m\u001b[0;34m[\u001b[0m\u001b[0;36m21\u001b[0m\u001b[0;34m]\u001b[0m\u001b[0;34m]\u001b[0m\u001b[0;34m\u001b[0m\u001b[0;34m\u001b[0m\u001b[0m\n\u001b[0m",
      "\u001b[0;31mTypeError\u001b[0m: unhashable type: 'list'"
     ]
    }
   ],
   "source": [
    "chaos[[21]]=\"Will this work?\""
   ]
  },
  {
   "cell_type": "code",
   "execution_count": 444,
   "metadata": {
    "ExecuteTime": {
     "end_time": "2020-05-06T17:07:40.754053Z",
     "start_time": "2020-05-06T17:07:40.747774Z"
    },
    "hidden": true
   },
   "outputs": [
    {
     "ename": "TypeError",
     "evalue": "unhashable type: 'dict'",
     "output_type": "error",
     "traceback": [
      "\u001b[0;31m--------------------------------------\u001b[0m",
      "\u001b[0;31mTypeError\u001b[0mTraceback (most recent call last)",
      "\u001b[0;32m<ipython-input-444-05b5e972d101>\u001b[0m in \u001b[0;36m<module>\u001b[0;34m\u001b[0m\n\u001b[0;32m----> 1\u001b[0;31m \u001b[0mchaos\u001b[0m\u001b[0;34m[\u001b[0m\u001b[0;34m{\u001b[0m\u001b[0;36m21\u001b[0m\u001b[0;34m:\u001b[0m\u001b[0;34m\"hello\"\u001b[0m\u001b[0;34m}\u001b[0m\u001b[0;34m]\u001b[0m\u001b[0;34m=\u001b[0m\u001b[0;34m\"Will this work?\"\u001b[0m\u001b[0;34m\u001b[0m\u001b[0;34m\u001b[0m\u001b[0m\n\u001b[0m",
      "\u001b[0;31mTypeError\u001b[0m: unhashable type: 'dict'"
     ]
    }
   ],
   "source": [
    "chaos[{21:\"hello\"}]=\"Will this work?\""
   ]
  },
  {
   "cell_type": "markdown",
   "metadata": {
    "hidden": true
   },
   "source": [
    "* The reason has to do with mutability and its relationship with hashing. You can read [this StackOverflow post](https://stackoverflow.com/questions/42203673/in-python-why-is-a-tuple-hashable-but-not-a-list) for more on this.\n",
    "* For now, to be safe, just stick to using Numbers, Booleans, Strings and Tuples as keys for your dictionary.\n",
    "* Trust me you won't need anything else!\n",
    "* Any value is safe as a value."
   ]
  },
  {
   "cell_type": "markdown",
   "metadata": {
    "ExecuteTime": {
     "end_time": "2020-05-06T16:59:30.544817Z",
     "start_time": "2020-05-06T16:59:30.541248Z"
    },
    "hidden": true
   },
   "source": [
    "**With lists and dictionaries, you can represent PRACTICALLY ANY TYPE OF DATA**"
   ]
  },
  {
   "cell_type": "code",
   "execution_count": 449,
   "metadata": {
    "ExecuteTime": {
     "end_time": "2020-05-06T17:27:28.460593Z",
     "start_time": "2020-05-06T17:27:28.455277Z"
    },
    "hidden": true
   },
   "outputs": [],
   "source": [
    "family = {\n",
    "    \n",
    "    \"father\" : {\n",
    "        \"name\" : \"Joseph D'Souza\",\n",
    "        \"age\": 55,\n",
    "        \"hobbies\": [\"cricket\",\"tabla\"],\n",
    "        \"employed\":True\n",
    "        \n",
    "    },\n",
    "    \"mother\" : {\n",
    "        \"name\" : \"Mary D'Souza\",\n",
    "        \"age\": 50,\n",
    "        \"hobbies\": [\"guitar\",\"tennis\"],\n",
    "        \"employed\":True\n",
    "    },\n",
    "    \"children\": [\n",
    "        {\n",
    "            \"name\" : \"Mary D'Souza\",\n",
    "            \"age\": 22,\n",
    "            \"gender\" : \"female\",\n",
    "            \"hobbies\": [\"guitar\",\"drums\"],\n",
    "            \"employed\":True\n",
    "        },\n",
    "         {\n",
    "            \"name\" : \"Aron D'Souza\",\n",
    "            \"age\": 15,\n",
    "            \"gender\" : \"male\",\n",
    "            \"hobbies\": [\"sketching\",\"swimming\"],\n",
    "            \"employed\":False\n",
    "        }\n",
    "    ],\n",
    "    \"home_address\": \"Lumbini Avenue, Gachibowli, Hyderabad\"\n",
    "}"
   ]
  },
  {
   "cell_type": "markdown",
   "metadata": {
    "hidden": true
   },
   "source": [
    "* People coming from Javascript, might find this combination of dictionaries and lists to be similar to JSON - JavaScript Object Notation."
   ]
  },
  {
   "cell_type": "markdown",
   "metadata": {
    "heading_collapsed": true
   },
   "source": [
    "### More on for loops"
   ]
  },
  {
   "cell_type": "markdown",
   "metadata": {
    "hidden": true
   },
   "source": [
    "* Last time we saw the for loop, you didn't know about functions so we couldn't introduce two important functions."
   ]
  },
  {
   "cell_type": "code",
   "execution_count": 502,
   "metadata": {
    "ExecuteTime": {
     "end_time": "2020-05-06T19:00:06.243255Z",
     "start_time": "2020-05-06T19:00:06.239833Z"
    },
    "hidden": true
   },
   "outputs": [
    {
     "name": "stdout",
     "output_type": "stream",
     "text": [
      "2\n",
      "3\n",
      "4\n"
     ]
    }
   ],
   "source": [
    "for i in range(2,5):\n",
    "    print(i)"
   ]
  },
  {
   "cell_type": "code",
   "execution_count": 505,
   "metadata": {
    "ExecuteTime": {
     "end_time": "2020-05-06T19:02:28.533733Z",
     "start_time": "2020-05-06T19:02:28.530337Z"
    },
    "hidden": true
   },
   "outputs": [
    {
     "name": "stdout",
     "output_type": "stream",
     "text": [
      "2\n",
      "4\n",
      "6\n",
      "8\n"
     ]
    }
   ],
   "source": [
    "for i in range(2,10,2):\n",
    "    print(i)"
   ]
  },
  {
   "cell_type": "code",
   "execution_count": 506,
   "metadata": {
    "ExecuteTime": {
     "end_time": "2020-05-06T19:04:19.114491Z",
     "start_time": "2020-05-06T19:04:19.110255Z"
    },
    "hidden": true
   },
   "outputs": [
    {
     "name": "stdout",
     "output_type": "stream",
     "text": [
      "range(0, 10)\n",
      "[0, 1, 2, 3, 4, 5, 6, 7, 8, 9]\n"
     ]
    }
   ],
   "source": [
    "# range is an iterable, but not a list. It's actually a generator, it creates its items on the fly\n",
    "print(range(0,10))\n",
    "# Note :  you can use range to create a list though\n",
    "print(list(range(0,10)))"
   ]
  },
  {
   "cell_type": "code",
   "execution_count": 509,
   "metadata": {
    "ExecuteTime": {
     "end_time": "2020-05-06T19:05:39.194385Z",
     "start_time": "2020-05-06T19:05:39.190739Z"
    },
    "hidden": true
   },
   "outputs": [
    {
     "name": "stdout",
     "output_type": "stream",
     "text": [
      "0 red\n",
      "1 blue\n",
      "2 green\n",
      "3 yellow\n"
     ]
    }
   ],
   "source": [
    "# many times its useful to have the index while iterating\n",
    "colors=[\"red\",\"blue\",\"green\",\"yellow\"]\n",
    "for i,color in enumerate(colors):\n",
    "    print(i,color)"
   ]
  },
  {
   "cell_type": "markdown",
   "metadata": {
    "hidden": true
   },
   "source": [
    "* One last point I want to make is that for loops are absolutely 100% representable by while loops.\n",
    "* Then why do we need the for loop?\n",
    "* For readability! Consider which of the following examples makes the meaning of the code clearer"
   ]
  },
  {
   "cell_type": "code",
   "execution_count": 511,
   "metadata": {
    "ExecuteTime": {
     "end_time": "2020-05-06T19:08:56.787574Z",
     "start_time": "2020-05-06T19:08:56.783303Z"
    },
    "hidden": true
   },
   "outputs": [
    {
     "name": "stdout",
     "output_type": "stream",
     "text": [
      "Students of our class\n",
      "Jibran\n",
      "Rukmini\n",
      "Ravi\n",
      "John\n"
     ]
    }
   ],
   "source": [
    "students=[\"jibran\",\"rukmini\",\"ravi\",\"john\"]\n",
    "print(\"Students of our class\")\n",
    "i=0\n",
    "while i < len(students):\n",
    "    print(students[i].capitalize())\n",
    "    i+=1"
   ]
  },
  {
   "cell_type": "code",
   "execution_count": 512,
   "metadata": {
    "ExecuteTime": {
     "end_time": "2020-05-06T19:09:30.718941Z",
     "start_time": "2020-05-06T19:09:30.715371Z"
    },
    "hidden": true
   },
   "outputs": [
    {
     "name": "stdout",
     "output_type": "stream",
     "text": [
      "Students of our class\n",
      "Jibran\n",
      "Rukmini\n",
      "Ravi\n",
      "John\n"
     ]
    }
   ],
   "source": [
    "students=[\"jibran\",\"rukmini\",\"ravi\",\"john\"]\n",
    "print(\"Students of our class\")\n",
    "for student in students:\n",
    "    print(student.capitalize())"
   ]
  },
  {
   "cell_type": "markdown",
   "metadata": {},
   "source": [
    "### Practical use case : Reading a data file"
   ]
  },
  {
   "cell_type": "markdown",
   "metadata": {},
   "source": [
    "* Let's first read a few lines of the data file"
   ]
  },
  {
   "cell_type": "code",
   "execution_count": 524,
   "metadata": {
    "ExecuteTime": {
     "end_time": "2020-05-06T19:40:47.748393Z",
     "start_time": "2020-05-06T19:40:47.743987Z"
    }
   },
   "outputs": [
    {
     "name": "stdout",
     "output_type": "stream",
     "text": [
      "id,first_name,last_name,email,gender,ip_address\n",
      "\n",
      "1,Imojean,Fidock,ifidock0@ebay.com,Female,37.151.142.118\n",
      "\n",
      "2,Brnaby,Belch,bbelch1@cbslocal.com,Male,80.158.217.23\n",
      "\n",
      "3,Basile,Killby,bkillby2@sphinn.com,Male,27.36.169.115\n",
      "\n",
      "4,Sargent,Jakeway,sjakeway3@ted.com,Male,153.39.159.130\n",
      "\n",
      "5,Ruthi,Calbert,rcalbert4@weebly.com,Female,28.90.57.225\n",
      "\n"
     ]
    }
   ],
   "source": [
    "with open(\"MOCK_DATA.csv\",\"r\") as fi:\n",
    "    i=0\n",
    "    for line in fi:\n",
    "        print(line)\n",
    "        if i==5:\n",
    "            break\n",
    "        i+=1"
   ]
  },
  {
   "cell_type": "markdown",
   "metadata": {},
   "source": [
    "* First line represents the data fields.\n",
    "* Second line onwards, every line contains the profile of one person.\n",
    "* Let's decide the data format of one person."
   ]
  },
  {
   "cell_type": "code",
   "execution_count": 516,
   "metadata": {
    "ExecuteTime": {
     "end_time": "2020-05-06T19:34:57.365996Z",
     "start_time": "2020-05-06T19:34:57.362724Z"
    }
   },
   "outputs": [],
   "source": [
    "person={\n",
    "    \"id\" : 1,\n",
    "    \"name\":{\n",
    "        \"first_name\":\"Imojean\",\n",
    "        \"last_name\":\"Fidock\"\n",
    "    },\n",
    "    \"email\":{\n",
    "        \"local_part\":\"ifidock0\",\n",
    "        \"domain\":\"ebay.com\"\n",
    "    },\n",
    "    \"gender\": \"Female\",\n",
    "    \"ip_address\":[37,151,142,118]\n",
    "}"
   ]
  },
  {
   "cell_type": "markdown",
   "metadata": {},
   "source": [
    "* This seems like a nice format for getting the data.\n",
    "* Now let's parse one line, after that we just need to loop over the file."
   ]
  },
  {
   "cell_type": "code",
   "execution_count": 529,
   "metadata": {
    "ExecuteTime": {
     "end_time": "2020-05-06T19:44:13.855725Z",
     "start_time": "2020-05-06T19:44:13.847975Z"
    }
   },
   "outputs": [
    {
     "name": "stdout",
     "output_type": "stream",
     "text": [
      "|1,Imojean,Fidock,ifidock0@ebay.com,Female,37.151.142.118\n",
      "|\n",
      "|1,Imojean,Fidock,ifidock0@ebay.com,Female,37.151.142.118|\n",
      "['1', 'Imojean', 'Fidock', 'ifidock0@ebay.com', 'Female', '37.151.142.118']\n",
      "['ifidock0', 'ebay.com']\n",
      "{'id': 1, 'first_name': 'Imojean', 'last_name': 'Fidock', 'email': {'local_part': 'ifidock0', 'domain': 'ebay.com'}, 'gender': 'Female', 'ip_address': [37, 151, 142, 118]}\n"
     ]
    }
   ],
   "source": [
    "with open(\"MOCK_DATA.csv\",\"r\") as fi:\n",
    "    fi.readline()\n",
    "    line=fi.readline()\n",
    "\n",
    "print(\"|\"+line+\"|\")\n",
    "line=line.strip()\n",
    "print(\"|\"+line+\"|\")\n",
    "parts=line.split(\",\")\n",
    "print(parts)\n",
    "person={}\n",
    "person[\"id\"]=int(parts[0])\n",
    "person[\"first_name\"]=parts[1]\n",
    "person[\"last_name\"]=parts[2]\n",
    "\n",
    "emailparts=parts[3].split(\"@\")\n",
    "print(emailparts)\n",
    "person[\"email\"]={\"local_part\":emailparts[0],\"domain\":emailparts[1]}\n",
    "\n",
    "person[\"gender\"]=parts[4]\n",
    "person[\"ip_address\"]=[]\n",
    "ipparts=parts[5].split(\".\")\n",
    "for n in ipparts:\n",
    "    person[\"ip_address\"].append(int(n))\n",
    "print(person)"
   ]
  },
  {
   "cell_type": "code",
   "execution_count": 533,
   "metadata": {
    "ExecuteTime": {
     "end_time": "2020-05-06T19:45:35.735998Z",
     "start_time": "2020-05-06T19:45:35.729466Z"
    }
   },
   "outputs": [],
   "source": [
    "persons=[]\n",
    "with open(\"MOCK_DATA.csv\",\"r\") as fi:\n",
    "    # discard first line\n",
    "    fi.readline()\n",
    "    for line in fi:\n",
    "        line=line.strip()\n",
    "        parts=line.split(\",\")\n",
    "        \n",
    "        \n",
    "        person={}\n",
    "        person[\"id\"]=int(parts[0])\n",
    "        person[\"first_name\"]=parts[1]\n",
    "        person[\"last_name\"]=parts[2]\n",
    "        emailparts=parts[3].split(\"@\")\n",
    "        person[\"email\"]={\"local_part\":emailparts[0],\"domain\":emailparts[1]}\n",
    "        person[\"gender\"]=parts[4]\n",
    "        person[\"ip_address\"]=[]\n",
    "        ipparts=parts[5].split(\".\")\n",
    "        for n in ipparts:\n",
    "            person[\"ip_address\"].append(int(n))\n",
    "        \n",
    "        persons.append(person)"
   ]
  },
  {
   "cell_type": "code",
   "execution_count": 534,
   "metadata": {
    "ExecuteTime": {
     "end_time": "2020-05-06T19:45:36.850171Z",
     "start_time": "2020-05-06T19:45:36.845512Z"
    }
   },
   "outputs": [
    {
     "data": {
      "text/plain": [
       "[{'id': 1,\n",
       "  'first_name': 'Imojean',\n",
       "  'last_name': 'Fidock',\n",
       "  'email': {'local_part': 'ifidock0', 'domain': 'ebay.com'},\n",
       "  'gender': 'Female',\n",
       "  'ip_address': [37, 151, 142, 118]},\n",
       " {'id': 2,\n",
       "  'first_name': 'Brnaby',\n",
       "  'last_name': 'Belch',\n",
       "  'email': {'local_part': 'bbelch1', 'domain': 'cbslocal.com'},\n",
       "  'gender': 'Male',\n",
       "  'ip_address': [80, 158, 217, 23]},\n",
       " {'id': 3,\n",
       "  'first_name': 'Basile',\n",
       "  'last_name': 'Killby',\n",
       "  'email': {'local_part': 'bkillby2', 'domain': 'sphinn.com'},\n",
       "  'gender': 'Male',\n",
       "  'ip_address': [27, 36, 169, 115]}]"
      ]
     },
     "execution_count": 534,
     "metadata": {},
     "output_type": "execute_result"
    }
   ],
   "source": [
    "persons[0:3]"
   ]
  },
  {
   "cell_type": "markdown",
   "metadata": {},
   "source": [
    "* Now, you can do all sorts of cool stuff with this data.\n",
    "* For example if you want to know how many people have email addresses in which website"
   ]
  },
  {
   "cell_type": "code",
   "execution_count": 537,
   "metadata": {
    "ExecuteTime": {
     "end_time": "2020-05-06T19:51:48.567608Z",
     "start_time": "2020-05-06T19:51:48.564515Z"
    }
   },
   "outputs": [],
   "source": [
    "domains_count={}\n",
    "for person in persons:\n",
    "    dom=person[\"email\"][\"domain\"]\n",
    "    if dom not in domains_count:\n",
    "        domains_count[dom]=0\n",
    "    domains_count[dom]+=1"
   ]
  },
  {
   "cell_type": "code",
   "execution_count": 538,
   "metadata": {
    "ExecuteTime": {
     "end_time": "2020-05-06T19:51:59.091866Z",
     "start_time": "2020-05-06T19:51:59.088871Z"
    }
   },
   "outputs": [
    {
     "name": "stdout",
     "output_type": "stream",
     "text": [
      "{'ebay.com': 1, 'cbslocal.com': 1, 'sphinn.com': 1, 'ted.com': 1, 'weebly.com': 1, 'jigsy.com': 1, 'si.edu': 1, 'kickstarter.com': 1, '360.cn': 1, 'google.com.br': 1, 'ustream.tv': 1, 'cornell.edu': 1, 'disqus.com': 1, 'bloglovin.com': 1, 'shinystat.com': 1, 'tuttocitta.it': 1, 'amazon.com': 1, 'smh.com.au': 1, 'globo.com': 1, 'vistaprint.com': 1, 'wikia.com': 1, 'who.int': 1, 'latimes.com': 1, 'google.cn': 1, 'gravatar.com': 1, 'booking.com': 1, 'ox.ac.uk': 1, 'mozilla.com': 1, 'stumbleupon.com': 1, 'cdc.gov': 1, 'hibu.com': 1, 'mapy.cz': 1, 'wikipedia.org': 1, 'flavors.me': 1, 'bandcamp.com': 1, 'hugedomains.com': 1, 'columbia.edu': 1, 'storify.com': 1, 'eepurl.com': 1, 'ocn.ne.jp': 1, 'istockphoto.com': 1, 'alexa.com': 1, 'geocities.com': 1, 'chron.com': 1, 'instagram.com': 1, 'seesaa.net': 1, 'about.me': 1, 'dropbox.com': 1, 'smugmug.com': 1, 'google.co.jp': 1}\n"
     ]
    }
   ],
   "source": [
    "print(domains_count)"
   ]
  },
  {
   "cell_type": "markdown",
   "metadata": {},
   "source": [
    "### Python Modules and Import Statements"
   ]
  },
  {
   "cell_type": "markdown",
   "metadata": {},
   "source": [
    "* What is a module?\n",
    "* It's a collection of functions and/or classes.\n",
    "* Like functions, classes, this is just a larger unit of \"packaging\".\n",
    "* Progammers love to package logic at many levels - in fact there is one more above modules - a \"package\"!"
   ]
  },
  {
   "cell_type": "markdown",
   "metadata": {},
   "source": [
    "* Any .py file is automatically a module.\n",
    "* Let's look at the file ``mymodules.py``.\n",
    "* It's got some interesting functions and a Cat class. How do I get it here?\n",
    "* We can use the ``import`` statement.\n",
    "* There are a few ways we can do this."
   ]
  },
  {
   "cell_type": "markdown",
   "metadata": {},
   "source": [
    "**Instructor Note**: Show the following examples in interpreter to avoid having to restart notebook."
   ]
  },
  {
   "cell_type": "markdown",
   "metadata": {},
   "source": [
    "**Import the module's name, then we can access the functions and class as it's attributes**"
   ]
  },
  {
   "cell_type": "code",
   "execution_count": 566,
   "metadata": {
    "ExecuteTime": {
     "end_time": "2020-05-06T21:01:50.850406Z",
     "start_time": "2020-05-06T21:01:50.847235Z"
    }
   },
   "outputs": [
    {
     "name": "stdout",
     "output_type": "stream",
     "text": [
      "Wassup from mymodule  Neel !\n"
     ]
    }
   ],
   "source": [
    "import mymodules\n",
    "mymodules.my_hello_func(\"Neel\")"
   ]
  },
  {
   "cell_type": "code",
   "execution_count": 564,
   "metadata": {
    "ExecuteTime": {
     "end_time": "2020-05-06T21:01:06.989281Z",
     "start_time": "2020-05-06T21:01:06.985648Z"
    }
   },
   "outputs": [
    {
     "name": "stdout",
     "output_type": "stream",
     "text": [
      "Wassup from mymodule  Neel !\n"
     ]
    }
   ],
   "source": [
    "import mymodules as mm\n",
    "mm.my_hello_func(\"Neel\")"
   ]
  },
  {
   "cell_type": "markdown",
   "metadata": {},
   "source": [
    "* ``as`` keyword allows us to alias the name, useful for long names - but not necessary."
   ]
  },
  {
   "cell_type": "markdown",
   "metadata": {},
   "source": [
    "Or you can import only what you want"
   ]
  },
  {
   "cell_type": "code",
   "execution_count": 567,
   "metadata": {
    "ExecuteTime": {
     "end_time": "2020-05-06T21:03:51.704159Z",
     "start_time": "2020-05-06T21:03:51.700951Z"
    }
   },
   "outputs": [
    {
     "name": "stdout",
     "output_type": "stream",
     "text": [
      "meow\n"
     ]
    }
   ],
   "source": [
    "from mymodules import Cat\n",
    "kitty=Cat()\n",
    "kitty.meow()"
   ]
  },
  {
   "cell_type": "code",
   "execution_count": 568,
   "metadata": {
    "ExecuteTime": {
     "end_time": "2020-05-06T21:04:54.787623Z",
     "start_time": "2020-05-06T21:04:54.784499Z"
    }
   },
   "outputs": [
    {
     "name": "stdout",
     "output_type": "stream",
     "text": [
      "[8, 27, 125]\n"
     ]
    }
   ],
   "source": [
    "from mymodules import cube_numbers as cnum\n",
    "print(cnum([2,3,5]))"
   ]
  },
  {
   "cell_type": "markdown",
   "metadata": {},
   "source": [
    "Or you can import **everything**. "
   ]
  },
  {
   "cell_type": "code",
   "execution_count": 569,
   "metadata": {
    "ExecuteTime": {
     "end_time": "2020-05-06T21:06:50.941091Z",
     "start_time": "2020-05-06T21:06:50.937648Z"
    }
   },
   "outputs": [
    {
     "name": "stdout",
     "output_type": "stream",
     "text": [
      "[8, 27, 125]\n"
     ]
    }
   ],
   "source": [
    "from mymodules import *\n",
    "print(cube_numbers([2,3,5]))"
   ]
  },
  {
   "cell_type": "markdown",
   "metadata": {},
   "source": [
    "* This is generally discouraged.\n",
    "* In programming you only take what you need, write what you need etc. Minimal clutter. You don't know how some small thing can lead to a bug later which will waste your time. So keep things as minimal as possible. "
   ]
  },
  {
   "cell_type": "markdown",
   "metadata": {},
   "source": [
    "#### Python Standard Library"
   ]
  },
  {
   "cell_type": "markdown",
   "metadata": {},
   "source": [
    "* Python has a bunch of built-in modules, which you have to import, but don't need to install."
   ]
  },
  {
   "cell_type": "code",
   "execution_count": null,
   "metadata": {
    "ExecuteTime": {
     "end_time": "2020-05-06T21:13:37.964422Z",
     "start_time": "2020-05-06T21:13:37.958376Z"
    }
   },
   "outputs": [],
   "source": [
    "import os\n",
    "\n",
    "# you can use this to create directories, check if a path exists etc\n",
    "# basically command line stuff\n",
    "print(os.getcwd())\n",
    "print(os.listdir(\"..\"))\n",
    "print(os.path.exists(\"./mymodules.py\"))\n",
    "print(os.path.isfile(\"./mymodules.py\"))"
   ]
  },
  {
   "cell_type": "markdown",
   "metadata": {},
   "source": [
    "* ``os`` is a package. This basically means its a module, which has submodules, which may have subsubmodules etc.\n",
    "* ``os.path`` is a submodule. ``os.path.exists`` is a function.\n",
    "* How are packages created? --> Advanced topic."
   ]
  },
  {
   "cell_type": "code",
   "execution_count": 592,
   "metadata": {
    "ExecuteTime": {
     "end_time": "2020-05-06T21:32:27.826354Z",
     "start_time": "2020-05-06T21:32:27.821704Z"
    }
   },
   "outputs": [
    {
     "name": "stdout",
     "output_type": "stream",
     "text": [
      "[2, 56, 88] [2, 56, 88]\n",
      "[2, 56, 88] [22, 56, 88]\n"
     ]
    }
   ],
   "source": [
    "# make copie of objects\n",
    "import copy\n",
    "\n",
    "# normal assignment\n",
    "x=[22,56,88]\n",
    "y=x\n",
    "x[0]=2\n",
    "print(x,y)\n",
    "\n",
    "# copy \n",
    "x=[22,56,88]\n",
    "y=copy.copy(x)\n",
    "x[0]=2\n",
    "print(x,y)"
   ]
  },
  {
   "cell_type": "markdown",
   "metadata": {},
   "source": [
    "* Exercise : What is shallow copy vs deep copy?"
   ]
  },
  {
   "cell_type": "code",
   "execution_count": 588,
   "metadata": {
    "ExecuteTime": {
     "end_time": "2020-05-06T21:28:02.102698Z",
     "start_time": "2020-05-06T21:28:02.097839Z"
    }
   },
   "outputs": [
    {
     "name": "stdout",
     "output_type": "stream",
     "text": [
      "It takes  0.0011851787567138672 seconds to do 10000 loops!\n"
     ]
    }
   ],
   "source": [
    "# time related functions \n",
    "import time\n",
    "\n",
    "start_time=time.time()\n",
    "counter=0\n",
    "for i in range(0,10000):\n",
    "    counter+=2\n",
    "print(\"It takes \",time.time()-start_time,\"seconds to do 10000 loops!\")"
   ]
  },
  {
   "cell_type": "code",
   "execution_count": 591,
   "metadata": {
    "ExecuteTime": {
     "end_time": "2020-05-06T21:31:31.327393Z",
     "start_time": "2020-05-06T21:31:31.322293Z"
    }
   },
   "outputs": [
    {
     "name": "stdout",
     "output_type": "stream",
     "text": [
      "[{'id': 1, 'first_name': 'Imojean', 'last_name': 'Fidock', 'email': {'local_part': 'ifidock0', 'domain': 'ebay.com'}, 'gender': 'Female', 'ip_address': [37, 151, 142, 118]}, {'id': 2, 'first_name': 'Brnaby', 'last_name': 'Belch', 'email': {'local_part': 'bbelch1', 'domain': 'cbslocal.com'}, 'gender': 'Male', 'ip_address': [80, 158, 217, 23]}, {'id': 3, 'first_name': 'Basile', 'last_name': 'Killby', 'email': {'local_part': 'bkillby2', 'domain': 'sphinn.com'}, 'gender': 'Male', 'ip_address': [27, 36, 169, 115]}]\n"
     ]
    }
   ],
   "source": [
    "# save objects as binary files\n",
    "import pickle\n",
    "\n",
    "with open(\"persons.p\",\"wb\") as fo:\n",
    "    pickle.dump(persons,fo)\n",
    "    \n",
    "with open(\"persons.p\",\"rb\") as fi:\n",
    "    unpickled=pickle.load(fi)\n",
    "print(unpickled[:3])"
   ]
  },
  {
   "cell_type": "code",
   "execution_count": 596,
   "metadata": {
    "ExecuteTime": {
     "end_time": "2020-05-06T21:35:41.049806Z",
     "start_time": "2020-05-06T21:35:41.037869Z"
    },
    "scrolled": true
   },
   "outputs": [
    {
     "name": "stdout",
     "output_type": "stream",
     "text": [
      "[{'id': 1, 'first_name': 'Imojean', 'last_name': 'Fidock', 'email': {'local_part': 'ifidock0', 'domain': 'ebay.com'}, 'gender': 'Female', 'ip_address': [37, 151, 142, 118]}, {'id': 2, 'first_name': 'Brnaby', 'last_name': 'Belch', 'email': {'local_part': 'bbelch1', 'domain': 'cbslocal.com'}, 'gender': 'Male', 'ip_address': [80, 158, 217, 23]}, {'id': 3, 'first_name': 'Basile', 'last_name': 'Killby', 'email': {'local_part': 'bkillby2', 'domain': 'sphinn.com'}, 'gender': 'Male', 'ip_address': [27, 36, 169, 115]}]\n"
     ]
    }
   ],
   "source": [
    "# save objects as text files\n",
    "import json\n",
    "\n",
    "with open(\"persons.json\",\"wt\") as fo:\n",
    "    json.dump(persons,fo)\n",
    "\n",
    "with open(\"persons.json\",\"rt\") as fi:\n",
    "    unjsoned=json.load(fi)\n",
    "print(unjsoned[:3])"
   ]
  },
  {
   "cell_type": "markdown",
   "metadata": {},
   "source": [
    "Other very useful modules\n",
    "\n",
    "* random : random number generation\n",
    "* re : regex - useful for getting/checking for complicated patterns from/in strings.\n",
    "* datetime : related to date and time.\n",
    "* sys : command line args + other stuff."
   ]
  },
  {
   "cell_type": "markdown",
   "metadata": {},
   "source": [
    "### How to use the internet to code (15 min)"
   ]
  },
  {
   "cell_type": "markdown",
   "metadata": {},
   "source": [
    "# Intermediate Python (1h30min)"
   ]
  },
  {
   "cell_type": "markdown",
   "metadata": {},
   "source": [
    "### Python packages"
   ]
  },
  {
   "cell_type": "markdown",
   "metadata": {
    "ExecuteTime": {
     "end_time": "2020-05-04T14:03:23.551781Z",
     "start_time": "2020-05-04T14:03:23.372744Z"
    }
   },
   "source": [
    "* re,datetime,math,json,os,sys,copy"
   ]
  },
  {
   "cell_type": "markdown",
   "metadata": {},
   "source": [
    "### Numpy (1 hr)"
   ]
  },
  {
   "cell_type": "markdown",
   "metadata": {
    "ExecuteTime": {
     "end_time": "2020-05-04T14:16:01.548378Z",
     "start_time": "2020-05-04T14:16:01.544683Z"
    }
   },
   "source": [
    "* array creation\n",
    "* operations\n",
    "* broadcasting\n",
    "* indexing \n",
    "* slicing\n",
    "* shape manipulation"
   ]
  }
 ],
 "metadata": {
  "hide_input": false,
  "kernelspec": {
   "display_name": "Python 3",
   "language": "python",
   "name": "python3"
  },
  "language_info": {
   "codemirror_mode": {
    "name": "ipython",
    "version": 3
   },
   "file_extension": ".py",
   "mimetype": "text/x-python",
   "name": "python",
   "nbconvert_exporter": "python",
   "pygments_lexer": "ipython3",
   "version": "3.6.9"
  },
  "toc": {
   "base_numbering": 1,
   "nav_menu": {},
   "number_sections": true,
   "sideBar": true,
   "skip_h1_title": false,
   "title_cell": "Table of Contents",
   "title_sidebar": "Contents",
   "toc_cell": false,
   "toc_position": {},
   "toc_section_display": true,
   "toc_window_display": false
  }
 },
 "nbformat": 4,
 "nbformat_minor": 2
}
