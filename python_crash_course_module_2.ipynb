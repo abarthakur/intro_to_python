{
 "cells": [
  {
   "cell_type": "markdown",
   "metadata": {
    "heading_collapsed": true
   },
   "source": [
    "# Everything in Python is an object"
   ]
  },
  {
   "cell_type": "markdown",
   "metadata": {
    "hidden": true
   },
   "source": [
    "### Lists!"
   ]
  },
  {
   "cell_type": "markdown",
   "metadata": {
    "hidden": true
   },
   "source": [
    "* People with experience in programming would have guessed by now - lists are objects.\n",
    "* You are right!"
   ]
  },
  {
   "cell_type": "code",
   "execution_count": 362,
   "metadata": {
    "ExecuteTime": {
     "end_time": "2020-05-06T15:17:19.936906Z",
     "start_time": "2020-05-06T15:17:19.933560Z"
    },
    "hidden": true
   },
   "outputs": [
    {
     "name": "stdout",
     "output_type": "stream",
     "text": [
      "1\n"
     ]
    }
   ],
   "source": [
    "# Lists are obviously objects\n",
    "mylist=[22,34,56,77]\n",
    "# Check out the index method\n",
    "print(mylist.index(34))"
   ]
  },
  {
   "cell_type": "code",
   "execution_count": 363,
   "metadata": {
    "ExecuteTime": {
     "end_time": "2020-05-06T15:17:37.889267Z",
     "start_time": "2020-05-06T15:17:37.885753Z"
    },
    "hidden": true
   },
   "outputs": [
    {
     "data": {
      "text/plain": [
       "list"
      ]
     },
     "execution_count": 363,
     "metadata": {},
     "output_type": "execute_result"
    }
   ],
   "source": [
    "# Let's check its type - a builtin method\n",
    "type(mylist)"
   ]
  },
  {
   "cell_type": "code",
   "execution_count": 317,
   "metadata": {
    "ExecuteTime": {
     "end_time": "2020-05-06T14:34:21.080496Z",
     "start_time": "2020-05-06T14:34:21.076458Z"
    },
    "hidden": true
   },
   "outputs": [
    {
     "data": {
      "text/plain": [
       "['__add__',\n",
       " '__class__',\n",
       " '__contains__',\n",
       " '__delattr__',\n",
       " '__delitem__',\n",
       " '__dir__',\n",
       " '__doc__',\n",
       " '__eq__',\n",
       " '__format__',\n",
       " '__ge__',\n",
       " '__getattribute__',\n",
       " '__getitem__',\n",
       " '__gt__',\n",
       " '__hash__',\n",
       " '__iadd__',\n",
       " '__imul__',\n",
       " '__init__',\n",
       " '__init_subclass__',\n",
       " '__iter__',\n",
       " '__le__',\n",
       " '__len__',\n",
       " '__lt__',\n",
       " '__mul__',\n",
       " '__ne__',\n",
       " '__new__',\n",
       " '__reduce__',\n",
       " '__reduce_ex__',\n",
       " '__repr__',\n",
       " '__reversed__',\n",
       " '__rmul__',\n",
       " '__setattr__',\n",
       " '__setitem__',\n",
       " '__sizeof__',\n",
       " '__str__',\n",
       " '__subclasshook__',\n",
       " 'append',\n",
       " 'clear',\n",
       " 'copy',\n",
       " 'count',\n",
       " 'extend',\n",
       " 'index',\n",
       " 'insert',\n",
       " 'pop',\n",
       " 'remove',\n",
       " 'reverse',\n",
       " 'sort']"
      ]
     },
     "execution_count": 317,
     "metadata": {},
     "output_type": "execute_result"
    }
   ],
   "source": [
    "# We can use dir to see all attributes\n",
    "dir(mylist)"
   ]
  },
  {
   "cell_type": "markdown",
   "metadata": {
    "hidden": true
   },
   "source": [
    "### The basic datatypes!"
   ]
  },
  {
   "cell_type": "markdown",
   "metadata": {
    "hidden": true
   },
   "source": [
    "The builtin data types you've been using are all objects!"
   ]
  },
  {
   "cell_type": "code",
   "execution_count": 312,
   "metadata": {
    "ExecuteTime": {
     "end_time": "2020-05-06T14:31:27.853113Z",
     "start_time": "2020-05-06T14:31:27.849463Z"
    },
    "hidden": true
   },
   "outputs": [
    {
     "name": "stdout",
     "output_type": "stream",
     "text": [
      "<class 'type'>\n",
      "<class 'type'>\n",
      "<class 'type'>\n"
     ]
    }
   ],
   "source": [
    "# When you've been converting datatypes,\n",
    "# You've actually been calling the constructors of these built-in types\n",
    "print(type(str))\n",
    "print(type(int))\n",
    "print(type(bool))"
   ]
  },
  {
   "cell_type": "markdown",
   "metadata": {
    "hidden": true
   },
   "source": [
    "Really, even numbers? Let's check!"
   ]
  },
  {
   "cell_type": "code",
   "execution_count": 318,
   "metadata": {
    "ExecuteTime": {
     "end_time": "2020-05-06T14:35:05.418984Z",
     "start_time": "2020-05-06T14:35:05.414832Z"
    },
    "hidden": true,
    "scrolled": true
   },
   "outputs": [
    {
     "data": {
      "text/plain": [
       "['__abs__',\n",
       " '__add__',\n",
       " '__bool__',\n",
       " '__class__',\n",
       " '__delattr__',\n",
       " '__dir__',\n",
       " '__divmod__',\n",
       " '__doc__',\n",
       " '__eq__',\n",
       " '__float__',\n",
       " '__floordiv__',\n",
       " '__format__',\n",
       " '__ge__',\n",
       " '__getattribute__',\n",
       " '__getformat__',\n",
       " '__getnewargs__',\n",
       " '__gt__',\n",
       " '__hash__',\n",
       " '__init__',\n",
       " '__init_subclass__',\n",
       " '__int__',\n",
       " '__le__',\n",
       " '__lt__',\n",
       " '__mod__',\n",
       " '__mul__',\n",
       " '__ne__',\n",
       " '__neg__',\n",
       " '__new__',\n",
       " '__pos__',\n",
       " '__pow__',\n",
       " '__radd__',\n",
       " '__rdivmod__',\n",
       " '__reduce__',\n",
       " '__reduce_ex__',\n",
       " '__repr__',\n",
       " '__rfloordiv__',\n",
       " '__rmod__',\n",
       " '__rmul__',\n",
       " '__round__',\n",
       " '__rpow__',\n",
       " '__rsub__',\n",
       " '__rtruediv__',\n",
       " '__setattr__',\n",
       " '__setformat__',\n",
       " '__sizeof__',\n",
       " '__str__',\n",
       " '__sub__',\n",
       " '__subclasshook__',\n",
       " '__truediv__',\n",
       " '__trunc__',\n",
       " 'as_integer_ratio',\n",
       " 'conjugate',\n",
       " 'fromhex',\n",
       " 'hex',\n",
       " 'imag',\n",
       " 'is_integer',\n",
       " 'real']"
      ]
     },
     "execution_count": 318,
     "metadata": {},
     "output_type": "execute_result"
    }
   ],
   "source": [
    "dir(2.0)"
   ]
  },
  {
   "cell_type": "code",
   "execution_count": 319,
   "metadata": {
    "ExecuteTime": {
     "end_time": "2020-05-06T14:35:21.866223Z",
     "start_time": "2020-05-06T14:35:21.862609Z"
    },
    "hidden": true
   },
   "outputs": [
    {
     "data": {
      "text/plain": [
       "True"
      ]
     },
     "execution_count": 319,
     "metadata": {},
     "output_type": "execute_result"
    }
   ],
   "source": [
    "2.0.is_integer()"
   ]
  },
  {
   "cell_type": "markdown",
   "metadata": {
    "hidden": true
   },
   "source": [
    "### Even functions are objects!"
   ]
  },
  {
   "cell_type": "markdown",
   "metadata": {
    "hidden": true
   },
   "source": [
    "* Functions are objects as well. \n",
    "* They are nothing special, when you call them, you are just calling their ``__call__`` method.\n",
    "* You can assign functions to variables, put them in lists, pass them as arguments to other functions - anything you can do with a number or a string."
   ]
  },
  {
   "cell_type": "code",
   "execution_count": 320,
   "metadata": {
    "ExecuteTime": {
     "end_time": "2020-05-06T14:36:07.801080Z",
     "start_time": "2020-05-06T14:36:07.798503Z"
    },
    "hidden": true
   },
   "outputs": [],
   "source": [
    "def greeter(name):\n",
    "    print(\"Hello \"+name)"
   ]
  },
  {
   "cell_type": "code",
   "execution_count": 323,
   "metadata": {
    "ExecuteTime": {
     "end_time": "2020-05-06T14:36:43.253529Z",
     "start_time": "2020-05-06T14:36:43.250148Z"
    },
    "hidden": true
   },
   "outputs": [
    {
     "name": "stdout",
     "output_type": "stream",
     "text": [
      "<class 'function'>\n",
      "['__annotations__', '__call__', '__class__', '__closure__', '__code__', '__defaults__', '__delattr__', '__dict__', '__dir__', '__doc__', '__eq__', '__format__', '__ge__', '__get__', '__getattribute__', '__globals__', '__gt__', '__hash__', '__init__', '__init_subclass__', '__kwdefaults__', '__le__', '__lt__', '__module__', '__name__', '__ne__', '__new__', '__qualname__', '__reduce__', '__reduce_ex__', '__repr__', '__setattr__', '__sizeof__', '__str__', '__subclasshook__']\n"
     ]
    }
   ],
   "source": [
    "print(type(greeter))\n",
    "print(dir(greeter))"
   ]
  },
  {
   "cell_type": "code",
   "execution_count": 327,
   "metadata": {
    "ExecuteTime": {
     "end_time": "2020-05-06T14:39:01.491613Z",
     "start_time": "2020-05-06T14:39:01.488143Z"
    },
    "hidden": true
   },
   "outputs": [
    {
     "name": "stdout",
     "output_type": "stream",
     "text": [
      "greeter\n",
      "<code object greeter at 0x1108fc930, file \"<ipython-input-320-80612c9eab1d>\", line 1>\n"
     ]
    }
   ],
   "source": [
    "x=greeter\n",
    "print(x.__name__)\n",
    "print(x.__code__)"
   ]
  },
  {
   "cell_type": "code",
   "execution_count": 328,
   "metadata": {
    "ExecuteTime": {
     "end_time": "2020-05-06T14:39:37.650389Z",
     "start_time": "2020-05-06T14:39:37.647608Z"
    },
    "hidden": true
   },
   "outputs": [
    {
     "name": "stdout",
     "output_type": "stream",
     "text": [
      "Hello Aneesh\n",
      "Hello Aneesh\n"
     ]
    }
   ],
   "source": [
    "x(\"Aneesh\")\n",
    "x.__call__(\"Aneesh\")"
   ]
  },
  {
   "cell_type": "markdown",
   "metadata": {
    "hidden": true
   },
   "source": [
    "### Don't get intimidated, it's just data + logic!"
   ]
  },
  {
   "cell_type": "markdown",
   "metadata": {
    "hidden": true
   },
   "source": [
    "I hope this doesn't confuse you! It's very simple,\n",
    "* In Python, everythinhg is an object - this means that everything packages some data + some logic with it.\n",
    "* For example, a number packages the number's value & lots of logic defining what is the absolute value of the number, how to add to numbers, how to take powers etc. Just like our Family class earlier."
   ]
  },
  {
   "cell_type": "markdown",
   "metadata": {
    "hidden": true
   },
   "source": [
    "### Note on variable assignments and garbage collection"
   ]
  },
  {
   "cell_type": "code",
   "execution_count": 583,
   "metadata": {
    "ExecuteTime": {
     "end_time": "2020-05-06T21:22:14.655689Z",
     "start_time": "2020-05-06T21:22:14.652373Z"
    },
    "hidden": true
   },
   "outputs": [
    {
     "name": "stdout",
     "output_type": "stream",
     "text": [
      "4577051080\n",
      "4577051080\n"
     ]
    }
   ],
   "source": [
    "x=[22,33]\n",
    "print(id(x))\n",
    "y=x\n",
    "print(id(y))"
   ]
  },
  {
   "cell_type": "markdown",
   "metadata": {
    "hidden": true
   },
   "source": [
    "* Clearly, the earlier logic for variable assignments hold true for all objects. \n",
    "* A variable is just a name for an object.\n",
    "* In the above example, when we write ``y=x``, now ``y`` is another name for the list ``x`` refers to."
   ]
  },
  {
   "cell_type": "code",
   "execution_count": 585,
   "metadata": {
    "ExecuteTime": {
     "end_time": "2020-05-06T21:24:59.413951Z",
     "start_time": "2020-05-06T21:24:59.410807Z"
    },
    "hidden": true
   },
   "outputs": [
    {
     "name": "stdout",
     "output_type": "stream",
     "text": [
      "[22, 33]\n"
     ]
    }
   ],
   "source": [
    "x=None\n",
    "print(y)"
   ]
  },
  {
   "cell_type": "markdown",
   "metadata": {
    "hidden": true
   },
   "source": [
    "* We can now make x refer to something else...\n",
    "* We can still refer to the list via ``y``."
   ]
  },
  {
   "cell_type": "code",
   "execution_count": 586,
   "metadata": {
    "ExecuteTime": {
     "end_time": "2020-05-06T21:25:30.586065Z",
     "start_time": "2020-05-06T21:25:30.583677Z"
    },
    "hidden": true
   },
   "outputs": [],
   "source": [
    "y=2"
   ]
  },
  {
   "cell_type": "markdown",
   "metadata": {
    "hidden": true
   },
   "source": [
    "* But now, the list is gone.\n",
    "* Once an object has no more names, Python deletes it."
   ]
  },
  {
   "cell_type": "markdown",
   "metadata": {
    "heading_collapsed": true
   },
   "source": [
    "# More on Strings"
   ]
  },
  {
   "cell_type": "markdown",
   "metadata": {
    "hidden": true
   },
   "source": [
    "* So you now know that strings are objects as well. \n",
    "* So the first thing you should ask is : Does it have any interesting methods?\n",
    "\n",
    "You can use ``dir`` to find out!"
   ]
  },
  {
   "cell_type": "code",
   "execution_count": 329,
   "metadata": {
    "ExecuteTime": {
     "end_time": "2020-05-06T14:46:24.513131Z",
     "start_time": "2020-05-06T14:46:24.508910Z"
    },
    "hidden": true
   },
   "outputs": [
    {
     "data": {
      "text/plain": [
       "['__add__',\n",
       " '__class__',\n",
       " '__contains__',\n",
       " '__delattr__',\n",
       " '__dir__',\n",
       " '__doc__',\n",
       " '__eq__',\n",
       " '__format__',\n",
       " '__ge__',\n",
       " '__getattribute__',\n",
       " '__getitem__',\n",
       " '__getnewargs__',\n",
       " '__gt__',\n",
       " '__hash__',\n",
       " '__init__',\n",
       " '__init_subclass__',\n",
       " '__iter__',\n",
       " '__le__',\n",
       " '__len__',\n",
       " '__lt__',\n",
       " '__mod__',\n",
       " '__mul__',\n",
       " '__ne__',\n",
       " '__new__',\n",
       " '__reduce__',\n",
       " '__reduce_ex__',\n",
       " '__repr__',\n",
       " '__rmod__',\n",
       " '__rmul__',\n",
       " '__setattr__',\n",
       " '__sizeof__',\n",
       " '__str__',\n",
       " '__subclasshook__',\n",
       " 'capitalize',\n",
       " 'casefold',\n",
       " 'center',\n",
       " 'count',\n",
       " 'encode',\n",
       " 'endswith',\n",
       " 'expandtabs',\n",
       " 'find',\n",
       " 'format',\n",
       " 'format_map',\n",
       " 'index',\n",
       " 'isalnum',\n",
       " 'isalpha',\n",
       " 'isdecimal',\n",
       " 'isdigit',\n",
       " 'isidentifier',\n",
       " 'islower',\n",
       " 'isnumeric',\n",
       " 'isprintable',\n",
       " 'isspace',\n",
       " 'istitle',\n",
       " 'isupper',\n",
       " 'join',\n",
       " 'ljust',\n",
       " 'lower',\n",
       " 'lstrip',\n",
       " 'maketrans',\n",
       " 'partition',\n",
       " 'replace',\n",
       " 'rfind',\n",
       " 'rindex',\n",
       " 'rjust',\n",
       " 'rpartition',\n",
       " 'rsplit',\n",
       " 'rstrip',\n",
       " 'split',\n",
       " 'splitlines',\n",
       " 'startswith',\n",
       " 'strip',\n",
       " 'swapcase',\n",
       " 'title',\n",
       " 'translate',\n",
       " 'upper',\n",
       " 'zfill']"
      ]
     },
     "execution_count": 329,
     "metadata": {},
     "output_type": "execute_result"
    }
   ],
   "source": [
    "dir(\"abc\")"
   ]
  },
  {
   "cell_type": "markdown",
   "metadata": {
    "hidden": true
   },
   "source": [
    "* Wow, lots of functions. \n",
    "* But you're going to need them - because you will need to work with strings a lot!"
   ]
  },
  {
   "cell_type": "markdown",
   "metadata": {
    "hidden": true
   },
   "source": [
    "**Checking strings**"
   ]
  },
  {
   "cell_type": "code",
   "execution_count": 339,
   "metadata": {
    "ExecuteTime": {
     "end_time": "2020-05-06T14:55:38.893839Z",
     "start_time": "2020-05-06T14:55:38.890001Z"
    },
    "hidden": true
   },
   "outputs": [
    {
     "name": "stdout",
     "output_type": "stream",
     "text": [
      "True\n",
      "True\n",
      "True\n"
     ]
    }
   ],
   "source": [
    "print(\"New Delhi\".startswith(\"New\"))\n",
    "print(\"225\".isdigit())\n",
    "print(\"attributes\".islower())"
   ]
  },
  {
   "cell_type": "markdown",
   "metadata": {
    "hidden": true
   },
   "source": [
    "**Transforming strings**"
   ]
  },
  {
   "cell_type": "code",
   "execution_count": 345,
   "metadata": {
    "ExecuteTime": {
     "end_time": "2020-05-06T14:58:07.268973Z",
     "start_time": "2020-05-06T14:58:07.265664Z"
    },
    "hidden": true,
    "scrolled": true
   },
   "outputs": [
    {
     "name": "stdout",
     "output_type": "stream",
     "text": [
      "ravina\n",
      "RAVINA\n",
      "Ravina\n"
     ]
    }
   ],
   "source": [
    "print(\"RavIna\".lower())\n",
    "print(\"RaViNa\".upper())\n",
    "print(\"ravina\".capitalize())"
   ]
  },
  {
   "cell_type": "markdown",
   "metadata": {
    "hidden": true
   },
   "source": [
    "### Some methods very useful for data processing"
   ]
  },
  {
   "cell_type": "code",
   "execution_count": 348,
   "metadata": {
    "ExecuteTime": {
     "end_time": "2020-05-06T14:59:54.361900Z",
     "start_time": "2020-05-06T14:59:54.358209Z"
    },
    "hidden": true
   },
   "outputs": [
    {
     "name": "stdout",
     "output_type": "stream",
     "text": [
      "['This', 'is', 'a', 'sentence', 'I', 'want', 'to', 'break', 'into', 'parts']\n",
      "['Thi', ' i', ' a ', 'entence I want to break into part', '']\n"
     ]
    }
   ],
   "source": [
    "x=\"This is a sentence I want to break into parts\"\n",
    "parts=x.split()\n",
    "print(parts)\n",
    "print(x.split(\"s\"))"
   ]
  },
  {
   "cell_type": "code",
   "execution_count": 350,
   "metadata": {
    "ExecuteTime": {
     "end_time": "2020-05-06T15:00:44.758984Z",
     "start_time": "2020-05-06T15:00:44.755721Z"
    },
    "hidden": true
   },
   "outputs": [
    {
     "name": "stdout",
     "output_type": "stream",
     "text": [
      "This_is_a_sentence_I_want_to_break_into_parts\n"
     ]
    }
   ],
   "source": [
    "print(\"_\".join(parts))"
   ]
  },
  {
   "cell_type": "code",
   "execution_count": 344,
   "metadata": {
    "ExecuteTime": {
     "end_time": "2020-05-06T14:57:49.153500Z",
     "start_time": "2020-05-06T14:57:49.149604Z"
    },
    "hidden": true
   },
   "outputs": [
    {
     "name": "stdout",
     "output_type": "stream",
     "text": [
      "|Remove all the extra space    |\n",
      "|    Remove all the extra space|\n",
      "|Remove all the extra space|\n"
     ]
    }
   ],
   "source": [
    "x=\"    Remove all the extra space    \"\n",
    "print(\"|\"+x.lstrip()+\"|\")\n",
    "print(\"|\"+x.rstrip()+\"|\")\n",
    "print(\"|\"+x.strip()+\"|\")"
   ]
  },
  {
   "cell_type": "code",
   "execution_count": 347,
   "metadata": {
    "ExecuteTime": {
     "end_time": "2020-05-06T14:59:26.862661Z",
     "start_time": "2020-05-06T14:59:26.859244Z"
    },
    "hidden": true
   },
   "outputs": [
    {
     "name": "stdout",
     "output_type": "stream",
     "text": [
      "I wAnt to cApitAlize every A in here\n"
     ]
    }
   ],
   "source": [
    "x=\"I want to capitalize every a in here\"\n",
    "print(x.replace(\"a\",\"A\"))"
   ]
  },
  {
   "cell_type": "markdown",
   "metadata": {
    "hidden": true
   },
   "source": [
    "Tip :\n",
    "* Practice manipulating strings - very useful for software development. \n",
    "* But even for ML, you have to read files which are strings. You can't escape strings!"
   ]
  },
  {
   "cell_type": "markdown",
   "metadata": {
    "hidden": true
   },
   "source": [
    "### But can you change strings?"
   ]
  },
  {
   "cell_type": "code",
   "execution_count": 355,
   "metadata": {
    "ExecuteTime": {
     "end_time": "2020-05-06T15:09:44.486703Z",
     "start_time": "2020-05-06T15:09:44.482960Z"
    },
    "hidden": true
   },
   "outputs": [
    {
     "name": "stdout",
     "output_type": "stream",
     "text": [
      "[12, 1, 'abc']\n",
      "[12, 'one', 'abc']\n"
     ]
    }
   ],
   "source": [
    "# you can do this with lists\n",
    "x = [12, 1 ,\"abc\"]\n",
    "print(x)\n",
    "x[1]=\"one\"\n",
    "print(x)"
   ]
  },
  {
   "cell_type": "code",
   "execution_count": 357,
   "metadata": {
    "ExecuteTime": {
     "end_time": "2020-05-06T15:10:25.838458Z",
     "start_time": "2020-05-06T15:10:25.831479Z"
    },
    "hidden": true
   },
   "outputs": [
    {
     "name": "stdout",
     "output_type": "stream",
     "text": [
      "abcdefgh\n"
     ]
    },
    {
     "ename": "TypeError",
     "evalue": "'str' object does not support item assignment",
     "output_type": "error",
     "traceback": [
      "\u001b[0;31m--------------------------------------\u001b[0m",
      "\u001b[0;31mTypeError\u001b[0mTraceback (most recent call last)",
      "\u001b[0;32m<ipython-input-357-97e942e0ac6f>\u001b[0m in \u001b[0;36m<module>\u001b[0;34m\u001b[0m\n\u001b[1;32m      2\u001b[0m \u001b[0mx\u001b[0m\u001b[0;34m=\u001b[0m\u001b[0;34m\"abcdefgh\"\u001b[0m\u001b[0;34m\u001b[0m\u001b[0;34m\u001b[0m\u001b[0m\n\u001b[1;32m      3\u001b[0m \u001b[0mprint\u001b[0m\u001b[0;34m(\u001b[0m\u001b[0mx\u001b[0m\u001b[0;34m)\u001b[0m\u001b[0;34m\u001b[0m\u001b[0;34m\u001b[0m\u001b[0m\n\u001b[0;32m----> 4\u001b[0;31m \u001b[0mx\u001b[0m\u001b[0;34m[\u001b[0m\u001b[0;36m0\u001b[0m\u001b[0;34m]\u001b[0m\u001b[0;34m=\u001b[0m\u001b[0;34m\"z\"\u001b[0m\u001b[0;34m\u001b[0m\u001b[0;34m\u001b[0m\u001b[0m\n\u001b[0m",
      "\u001b[0;31mTypeError\u001b[0m: 'str' object does not support item assignment"
     ]
    }
   ],
   "source": [
    "# can you do the same thing with strings?\n",
    "x=\"abcdefgh\"\n",
    "print(x)\n",
    "x[0]=\"z\""
   ]
  },
  {
   "cell_type": "markdown",
   "metadata": {
    "hidden": true
   },
   "source": [
    "* No strings are immutable objects - you can't edit them once they have been created.\n",
    "* Nothing complicated, just like turning off a switch. \n",
    "* Numbers and booleans are also immutable objects"
   ]
  },
  {
   "cell_type": "code",
   "execution_count": 358,
   "metadata": {
    "ExecuteTime": {
     "end_time": "2020-05-06T15:12:29.574914Z",
     "start_time": "2020-05-06T15:12:29.571726Z"
    },
    "hidden": true
   },
   "outputs": [
    {
     "name": "stdout",
     "output_type": "stream",
     "text": [
      "ravina\n",
      "Ravina\n"
     ]
    }
   ],
   "source": [
    "# but then doesn't this mutate the string?\n",
    "x=\"Ravina\"\n",
    "print(x.lower())\n",
    "print(x)"
   ]
  },
  {
   "cell_type": "markdown",
   "metadata": {
    "hidden": true
   },
   "source": [
    "Nope, its just returning a new string."
   ]
  },
  {
   "cell_type": "markdown",
   "metadata": {
    "heading_collapsed": true
   },
   "source": [
    "# File I/O"
   ]
  },
  {
   "cell_type": "markdown",
   "metadata": {
    "hidden": true
   },
   "source": [
    "* In this section you will learn how to read and write to files.\n",
    "* For this section, the files that you are dealing with will be text files.\n",
    "\n",
    "###  A Note on files \n",
    "\n",
    "* Generally, there are two kinds of files ~ binary and text files.\n",
    "* .py, .txt, .c - anything that can be opened with a text editor is a text file.\n",
    "* Even .docx files are text files - but they are in XML format. If you're curious you can try opening one afterwards! :)\n",
    "* .jpeg, .jpg, .exe, .mp3, .wav etc are generally binary files - although they might have some text content.\n",
    "* Finally everything is made up of sequences of bytes - an 8 bit number like this 01010101 (could be represented in hex, oct, doesn't matter, it's finally an 8-bit number)\n",
    "* But when the file is a text file, the byte corresponds to a character table/encoding like ASCII or unicode."
   ]
  },
  {
   "cell_type": "markdown",
   "metadata": {
    "hidden": true
   },
   "source": [
    "### Reading from a file"
   ]
  },
  {
   "cell_type": "markdown",
   "metadata": {
    "hidden": true
   },
   "source": [
    "* The ``open()`` function returns a ``File`` object that exposes methods to read the file.\n",
    "* How does it actually read the file from the disc? Don't know, don't care! That's the beauty of abstraction (hiding implementation details behind an interface)"
   ]
  },
  {
   "cell_type": "markdown",
   "metadata": {
    "hidden": true
   },
   "source": [
    "There are two ways you can open a file."
   ]
  },
  {
   "cell_type": "code",
   "execution_count": 463,
   "metadata": {
    "ExecuteTime": {
     "end_time": "2020-05-06T18:32:10.484521Z",
     "start_time": "2020-05-06T18:32:10.480988Z"
    },
    "hidden": true
   },
   "outputs": [
    {
     "name": "stdout",
     "output_type": "stream",
     "text": [
      "It little profits that an idle king,\n",
      "\n"
     ]
    }
   ],
   "source": [
    "input_file=open(\"example1.txt\",\"r\")\n",
    "print(input_file.readline())\n",
    "# input_file.close()"
   ]
  },
  {
   "cell_type": "markdown",
   "metadata": {
    "hidden": true
   },
   "source": [
    "* When you open a file, this is a transaction between Python and the OS - Windows/Mac/Linux. \n",
    "* The OS gives Python a **handle** or connection to the file. \n",
    "* It's python's responsibility to **close that connection**. \n",
    "* If you forget to close files, **bad things might happen**. For example, your program might become slow, especially if you're opening too many files. See this [SO post](https://stackoverflow.com/questions/25070854/why-should-i-close-files-in-python) for more examples. \n",
    "* In general, it's just bad programming."
   ]
  },
  {
   "cell_type": "markdown",
   "metadata": {
    "hidden": true
   },
   "source": [
    "So I recommend you always use this syntax"
   ]
  },
  {
   "cell_type": "code",
   "execution_count": 462,
   "metadata": {
    "ExecuteTime": {
     "end_time": "2020-05-06T18:24:07.497077Z",
     "start_time": "2020-05-06T18:24:07.493487Z"
    },
    "hidden": true,
    "scrolled": true
   },
   "outputs": [
    {
     "name": "stdout",
     "output_type": "stream",
     "text": [
      "It little profits that an idle king,\n",
      "\n"
     ]
    }
   ],
   "source": [
    "# the file will be automatically closed once you reach the end of the block\n",
    "with open(\"example1.txt\",\"r\") as input_file:\n",
    "    print(input_file.readline())"
   ]
  },
  {
   "cell_type": "markdown",
   "metadata": {
    "hidden": true
   },
   "source": [
    "* What is the second argument to open()?\n",
    "* It's the mode of opening the file.\n",
    "* \"r\" mode = open for reading. Actually this is same as \"rt\" = read text\n",
    "* \"rb\" is for reading binary files"
   ]
  },
  {
   "cell_type": "markdown",
   "metadata": {
    "hidden": true
   },
   "source": [
    "* But now lets look at the methods that let us actually read a text file.\n",
    "* While reading a file, a \"line\" is a string that ends with a newline character i.e. \"\\n\"."
   ]
  },
  {
   "cell_type": "code",
   "execution_count": 466,
   "metadata": {
    "ExecuteTime": {
     "end_time": "2020-05-06T18:36:36.430207Z",
     "start_time": "2020-05-06T18:36:36.425979Z"
    },
    "hidden": true
   },
   "outputs": [
    {
     "name": "stdout",
     "output_type": "stream",
     "text": [
      "['It little profits that an idle king,\\n', 'By this still hearth, among these barren crags,\\n', \"Match'd with an aged wife, I mete and dole\\n\", 'Unequal laws unto a savage race,\\n', 'That hoard, and sleep, and feed, and know not me.\\n', 'I cannot rest from travel: I will drink\\n', \"Life to the lees: All times I have enjoy'd\\n\", \"Greatly, have suffer'd greatly, both with those\\n\", 'That loved me, and alone, on shore, and when\\n', \"Thro' scudding drifts the rainy Hyades\\n\", 'Vext the dim sea: I am become a name;\\n', 'For always roaming with a hungry heart\\n', 'Much have I seen and known; cities of men', '']\n"
     ]
    }
   ],
   "source": [
    "with open(\"example1.txt\",\"r\") as fi:\n",
    "    line=\"starting\"\n",
    "    lines=[]\n",
    "    # readline returns \"\" at the end of the file\n",
    "    while line !=\"\":\n",
    "        line=fi.readline()\n",
    "        lines.append(line)\n",
    "print(lines)"
   ]
  },
  {
   "cell_type": "markdown",
   "metadata": {
    "hidden": true
   },
   "source": [
    "* Notice, the newlines are preserved."
   ]
  },
  {
   "cell_type": "code",
   "execution_count": 467,
   "metadata": {
    "ExecuteTime": {
     "end_time": "2020-05-06T18:37:59.878526Z",
     "start_time": "2020-05-06T18:37:59.874649Z"
    },
    "hidden": true,
    "scrolled": true
   },
   "outputs": [
    {
     "name": "stdout",
     "output_type": "stream",
     "text": [
      "['It little profits that an idle king,\\n', 'By this still hearth, among these barren crags,\\n', \"Match'd with an aged wife, I mete and dole\\n\", 'Unequal laws unto a savage race,\\n', 'That hoard, and sleep, and feed, and know not me.\\n', 'I cannot rest from travel: I will drink\\n', \"Life to the lees: All times I have enjoy'd\\n\", \"Greatly, have suffer'd greatly, both with those\\n\", 'That loved me, and alone, on shore, and when\\n', \"Thro' scudding drifts the rainy Hyades\\n\", 'Vext the dim sea: I am become a name;\\n', 'For always roaming with a hungry heart\\n', 'Much have I seen and known; cities of men']\n"
     ]
    }
   ],
   "source": [
    "with open(\"example1.txt\",\"rt\") as fi:\n",
    "    lines=fi.readlines()\n",
    "print(lines)"
   ]
  },
  {
   "cell_type": "markdown",
   "metadata": {
    "hidden": true
   },
   "source": [
    "* You can also pass how many bytes to read to the readlines() function."
   ]
  },
  {
   "cell_type": "code",
   "execution_count": 477,
   "metadata": {
    "ExecuteTime": {
     "end_time": "2020-05-06T18:40:33.380489Z",
     "start_time": "2020-05-06T18:40:33.376269Z"
    },
    "hidden": true
   },
   "outputs": [
    {
     "name": "stdout",
     "output_type": "stream",
     "text": [
      "['It little profits that an idle king,\\n', 'By this still hearth, among these barren crags,\\n']\n",
      "[37, 48]\n"
     ]
    }
   ],
   "source": [
    "with open(\"example1.txt\",\"rt\") as fi:\n",
    "    # read lines upto this many bytes\n",
    "    lines=fi.readlines(50)\n",
    "print(lines)\n",
    "# curious people can check out below syntax\n",
    "# its called \"list comprehension\"\n",
    "print([len(line) for line in lines])"
   ]
  },
  {
   "cell_type": "code",
   "execution_count": 478,
   "metadata": {
    "ExecuteTime": {
     "end_time": "2020-05-06T18:42:55.469151Z",
     "start_time": "2020-05-06T18:42:55.464313Z"
    },
    "hidden": true
   },
   "outputs": [
    {
     "name": "stdout",
     "output_type": "stream",
     "text": [
      "It l\n",
      "ittl\n",
      "e pr\n",
      "ofit\n",
      "s th\n",
      "at a\n",
      "n id\n",
      "le k\n",
      "ing,\n",
      "\n",
      "By \n"
     ]
    }
   ],
   "source": [
    "with open(\"example1.txt\",\"rt\") as fi:\n",
    "    # you can read character by character\n",
    "    i=0\n",
    "    while i <10:\n",
    "        # read just 4 bytes = 4 characters\n",
    "        print(fi.read(4))\n",
    "        i+=1"
   ]
  },
  {
   "cell_type": "markdown",
   "metadata": {
    "hidden": true
   },
   "source": [
    "Finally the most common way to read a file, using a for loop!"
   ]
  },
  {
   "cell_type": "code",
   "execution_count": 480,
   "metadata": {
    "ExecuteTime": {
     "end_time": "2020-05-06T18:44:19.264421Z",
     "start_time": "2020-05-06T18:44:19.259632Z"
    },
    "hidden": true
   },
   "outputs": [
    {
     "name": "stdout",
     "output_type": "stream",
     "text": [
      "It little profits that an idle king,\n",
      "\n",
      "By this still hearth, among these barren crags,\n",
      "\n",
      "Match'd with an aged wife, I mete and dole\n",
      "\n",
      "Unequal laws unto a savage race,\n",
      "\n",
      "That hoard, and sleep, and feed, and know not me.\n",
      "\n",
      "I cannot rest from travel: I will drink\n",
      "\n"
     ]
    }
   ],
   "source": [
    "with open(\"example1.txt\",\"rt\") as fi:\n",
    "    i=0\n",
    "    for line in fi:\n",
    "        print(line)\n",
    "        if i==5:\n",
    "            break\n",
    "        i+=1"
   ]
  },
  {
   "cell_type": "markdown",
   "metadata": {
    "hidden": true
   },
   "source": [
    "### Writing to a file"
   ]
  },
  {
   "cell_type": "markdown",
   "metadata": {
    "hidden": true
   },
   "source": [
    "* The difference between reading and writing is just the **mode** and the methods! \\\n",
    "* With the \"w\" mode, ``open`` will open a file for writing.\n",
    "* If the file doesn't exit a new file will be created."
   ]
  },
  {
   "cell_type": "code",
   "execution_count": 499,
   "metadata": {
    "ExecuteTime": {
     "end_time": "2020-05-06T18:57:02.944039Z",
     "start_time": "2020-05-06T18:57:02.940329Z"
    },
    "hidden": true
   },
   "outputs": [],
   "source": [
    "with open(\"outfile\",\"w\") as fo:\n",
    "    fo.write(\"Hello my name is Aneesh\\n\")\n",
    "    fo.write(\"There is no \")\n",
    "    fo.write(\"automatic insertion of newline\")"
   ]
  },
  {
   "cell_type": "markdown",
   "metadata": {
    "hidden": true
   },
   "source": [
    "Now let's see what we wrote."
   ]
  },
  {
   "cell_type": "code",
   "execution_count": 500,
   "metadata": {
    "ExecuteTime": {
     "end_time": "2020-05-06T18:57:04.706179Z",
     "start_time": "2020-05-06T18:57:04.702653Z"
    },
    "hidden": true
   },
   "outputs": [
    {
     "name": "stdout",
     "output_type": "stream",
     "text": [
      "Hello my name is Aneesh\n",
      "There is no automatic insertion of newline\n"
     ]
    }
   ],
   "source": [
    "with open(\"outfile\",\"r\") as fi:\n",
    "    print(fi.read())"
   ]
  },
  {
   "cell_type": "code",
   "execution_count": 498,
   "metadata": {
    "ExecuteTime": {
     "end_time": "2020-05-06T18:56:56.695870Z",
     "start_time": "2020-05-06T18:56:56.692819Z"
    },
    "hidden": true
   },
   "outputs": [],
   "source": [
    "with open(\"outfile\",\"w\") as fo:\n",
    "    fo.write(\"This will overwrite the original stuff\")\n",
    "    \n",
    "with open(\"outfile\",\"r\") as fi:\n",
    "    print(fi.read())"
   ]
  },
  {
   "cell_type": "markdown",
   "metadata": {
    "hidden": true
   },
   "source": [
    "* \"w\" mode deletes everything in the file when it opens it.\n",
    "* So what do we do, are we forced to write everything at one go?\n",
    "* Nope, we can use the \"a\" or append mode"
   ]
  },
  {
   "cell_type": "code",
   "execution_count": 501,
   "metadata": {
    "ExecuteTime": {
     "end_time": "2020-05-06T18:57:10.119350Z",
     "start_time": "2020-05-06T18:57:10.115228Z"
    },
    "hidden": true
   },
   "outputs": [
    {
     "name": "stdout",
     "output_type": "stream",
     "text": [
      "Hello my name is Aneesh\n",
      "There is no automatic insertion of newlineThis will be added to the original stuff\n"
     ]
    }
   ],
   "source": [
    "with open(\"outfile\",\"a\") as fo:\n",
    "    fo.write(\"This will be added to the original stuff\")\n",
    "\n",
    "with open(\"outfile\",\"r\") as fi:\n",
    "    print(fi.read())"
   ]
  },
  {
   "cell_type": "markdown",
   "metadata": {
    "hidden": true
   },
   "source": [
    "* Mode matters! You can't use read() on a file opened with \"w\" or \"a\" mode.\n",
    "* You can't use write on a file opened with \"r\"."
   ]
  },
  {
   "cell_type": "code",
   "execution_count": 489,
   "metadata": {
    "ExecuteTime": {
     "end_time": "2020-05-06T18:53:06.372978Z",
     "start_time": "2020-05-06T18:53:06.366095Z"
    },
    "hidden": true
   },
   "outputs": [
    {
     "ename": "UnsupportedOperation",
     "evalue": "not writable",
     "output_type": "error",
     "traceback": [
      "\u001b[0;31m--------------------------------------\u001b[0m",
      "\u001b[0;31mUnsupportedOperation\u001b[0mTraceback (most recent call last)",
      "\u001b[0;32m<ipython-input-489-52b73a13085f>\u001b[0m in \u001b[0;36m<module>\u001b[0;34m\u001b[0m\n\u001b[1;32m      1\u001b[0m \u001b[0;32mwith\u001b[0m \u001b[0mopen\u001b[0m\u001b[0;34m(\u001b[0m\u001b[0;34m\"outfile\"\u001b[0m\u001b[0;34m,\u001b[0m\u001b[0;34m\"r\"\u001b[0m\u001b[0;34m)\u001b[0m \u001b[0;32mas\u001b[0m \u001b[0mfi\u001b[0m\u001b[0;34m:\u001b[0m\u001b[0;34m\u001b[0m\u001b[0;34m\u001b[0m\u001b[0m\n\u001b[0;32m----> 2\u001b[0;31m     \u001b[0mprint\u001b[0m\u001b[0;34m(\u001b[0m\u001b[0mfi\u001b[0m\u001b[0;34m.\u001b[0m\u001b[0mwrite\u001b[0m\u001b[0;34m(\u001b[0m\u001b[0;34m\"Won't work\"\u001b[0m\u001b[0;34m)\u001b[0m\u001b[0;34m)\u001b[0m\u001b[0;34m\u001b[0m\u001b[0;34m\u001b[0m\u001b[0m\n\u001b[0m",
      "\u001b[0;31mUnsupportedOperation\u001b[0m: not writable"
     ]
    }
   ],
   "source": [
    "with open(\"outfile\",\"r\") as fi:\n",
    "    print(fi.write(\"Won't work\"))"
   ]
  },
  {
   "cell_type": "markdown",
   "metadata": {
    "heading_collapsed": true
   },
   "source": [
    "# More on lists"
   ]
  },
  {
   "cell_type": "markdown",
   "metadata": {
    "hidden": true
   },
   "source": [
    "So you already know how to \n",
    "\n",
    "* create lists\n",
    "* index lists\n",
    "* slice lists\n",
    "* update value at an index of a list\n",
    "\n",
    "Here's some more important stuff"
   ]
  },
  {
   "cell_type": "markdown",
   "metadata": {
    "hidden": true
   },
   "source": [
    "### Appending to lists"
   ]
  },
  {
   "cell_type": "code",
   "execution_count": 160,
   "metadata": {
    "ExecuteTime": {
     "end_time": "2020-05-05T11:29:18.459248Z",
     "start_time": "2020-05-05T11:29:18.455679Z"
    },
    "hidden": true
   },
   "outputs": [
    {
     "name": "stdout",
     "output_type": "stream",
     "text": [
      "[]\n",
      "['first', 2, 3.0]\n"
     ]
    }
   ],
   "source": [
    "empty_list=[]\n",
    "\n",
    "print(empty_list)\n",
    "empty_list.append(\"first\")\n",
    "empty_list.append(2)\n",
    "empty_list.append(3.0)\n",
    "print(empty_list)"
   ]
  },
  {
   "cell_type": "markdown",
   "metadata": {
    "hidden": true
   },
   "source": [
    "### Concatenating lists"
   ]
  },
  {
   "cell_type": "markdown",
   "metadata": {
    "hidden": true
   },
   "source": [
    "You can add 2 (or more) lists together, and they are concatenated just like strings."
   ]
  },
  {
   "cell_type": "code",
   "execution_count": 354,
   "metadata": {
    "ExecuteTime": {
     "end_time": "2020-05-06T15:08:11.996549Z",
     "start_time": "2020-05-06T15:08:11.993136Z"
    },
    "hidden": true,
    "scrolled": true
   },
   "outputs": [
    {
     "name": "stdout",
     "output_type": "stream",
     "text": [
      "[25, 27, 28, 2, 5, 1]\n"
     ]
    }
   ],
   "source": [
    "l1=[25, 27, 28] \n",
    "l2=[2,5,1]\n",
    "print(l1+l2)"
   ]
  },
  {
   "cell_type": "markdown",
   "metadata": {
    "hidden": true
   },
   "source": [
    "You can even multiply lists!"
   ]
  },
  {
   "cell_type": "code",
   "execution_count": 359,
   "metadata": {
    "ExecuteTime": {
     "end_time": "2020-05-06T15:13:17.499605Z",
     "start_time": "2020-05-06T15:13:17.496709Z"
    },
    "hidden": true,
    "scrolled": true
   },
   "outputs": [
    {
     "name": "stdout",
     "output_type": "stream",
     "text": [
      "[25, 27, 28, 25, 27, 28, 25, 27, 28]\n"
     ]
    }
   ],
   "source": [
    "l3=l1*3\n",
    "print(l3)"
   ]
  },
  {
   "cell_type": "markdown",
   "metadata": {
    "hidden": true
   },
   "source": [
    "But I wanted to show you this because it doesn't exactly work as expected..."
   ]
  },
  {
   "cell_type": "code",
   "execution_count": 368,
   "metadata": {
    "ExecuteTime": {
     "end_time": "2020-05-06T15:19:49.573283Z",
     "start_time": "2020-05-06T15:19:49.569233Z"
    },
    "hidden": true
   },
   "outputs": [
    {
     "name": "stdout",
     "output_type": "stream",
     "text": [
      "[[22, 33], 12, [22], [22, 33], 12, [22], [22, 33], 12, [22]]\n",
      "[[11, 33], 12, [22], [11, 33], 12, [22], [11, 33], 12, [22]]\n"
     ]
    }
   ],
   "source": [
    "x=[[22,33],12,[22]]\n",
    "y=x*3\n",
    "print(y)\n",
    "x[0][0]=11\n",
    "print(y)"
   ]
  },
  {
   "cell_type": "code",
   "execution_count": 372,
   "metadata": {
    "ExecuteTime": {
     "end_time": "2020-05-06T15:20:29.073285Z",
     "start_time": "2020-05-06T15:20:29.069333Z"
    },
    "hidden": true
   },
   "outputs": [
    {
     "data": {
      "text/plain": [
       "True"
      ]
     },
     "execution_count": 372,
     "metadata": {},
     "output_type": "execute_result"
    }
   ],
   "source": [
    "id(y[0])==id(y[3])"
   ]
  },
  {
   "cell_type": "markdown",
   "metadata": {
    "ExecuteTime": {
     "end_time": "2020-05-06T15:22:46.894608Z",
     "start_time": "2020-05-06T15:22:46.891971Z"
    },
    "hidden": true
   },
   "source": [
    "You can even do this..."
   ]
  },
  {
   "cell_type": "code",
   "execution_count": 380,
   "metadata": {
    "ExecuteTime": {
     "end_time": "2020-05-06T15:23:54.073057Z",
     "start_time": "2020-05-06T15:23:54.069578Z"
    },
    "hidden": true
   },
   "outputs": [
    {
     "name": "stdout",
     "output_type": "stream",
     "text": [
      "[99, 4]\n",
      "[99, 4, 'h', 'e', 'l', 'l', 'o']\n"
     ]
    }
   ],
   "source": [
    "x=[99,4]\n",
    "print(x)\n",
    "x+=\"hello\"\n",
    "print(x)"
   ]
  },
  {
   "cell_type": "markdown",
   "metadata": {
    "hidden": true
   },
   "source": [
    "* Why? I'll leave that answer to you \n",
    "* hint: Why can you use for loop for both strings and lists?"
   ]
  },
  {
   "cell_type": "markdown",
   "metadata": {
    "hidden": true
   },
   "source": [
    "### How to delete an item?"
   ]
  },
  {
   "cell_type": "code",
   "execution_count": 395,
   "metadata": {
    "ExecuteTime": {
     "end_time": "2020-05-06T15:34:21.946360Z",
     "start_time": "2020-05-06T15:34:21.941109Z"
    },
    "hidden": true
   },
   "outputs": [
    {
     "name": "stdout",
     "output_type": "stream",
     "text": [
      "[9, 5, 6, 8, 2, 44, 1]\n",
      "[5, 6, 8, 2, 44, 1]\n",
      "[9, 6, 8, 2, 44, 1]\n",
      "[9, 2, 44, 1]\n"
     ]
    }
   ],
   "source": [
    "x=[9,5,6,8,2,44,1]\n",
    "print(x)\n",
    "x.remove(9)\n",
    "print(x)\n",
    "x=[9,5,6,8,2,44,1]\n",
    "del x[1]\n",
    "print(x)\n",
    "x=[9,5,6,8,2,44,1]\n",
    "del x[1:4]\n",
    "print(x)"
   ]
  },
  {
   "cell_type": "markdown",
   "metadata": {
    "hidden": true
   },
   "source": [
    "### Note on operators (Advanced)"
   ]
  },
  {
   "cell_type": "markdown",
   "metadata": {
    "hidden": true
   },
   "source": [
    "* You might have seen that a list has a + operator and a * operator, and oh, this must be how lists are.\n",
    "* Nope! It's all defined somewhere. The creators wanted lists to behave this way.\n",
    "* In fact, operators like + are implemented as **methods** on the class they work on.\n",
    "* Try looking at the objects using ``dir`` and guessing which methods implement the operators."
   ]
  },
  {
   "cell_type": "code",
   "execution_count": 392,
   "metadata": {
    "ExecuteTime": {
     "end_time": "2020-05-06T15:32:30.135661Z",
     "start_time": "2020-05-06T15:32:30.131912Z"
    },
    "hidden": true
   },
   "outputs": [
    {
     "name": "stdout",
     "output_type": "stream",
     "text": [
      "[44, 22]\n",
      "[44, 22]\n"
     ]
    }
   ],
   "source": [
    "x=[44]\n",
    "x=x.__add__([22])\n",
    "print(x)\n",
    "\n",
    "x=[44]\n",
    "x=x+[22]\n",
    "print(x)"
   ]
  },
  {
   "cell_type": "markdown",
   "metadata": {
    "heading_collapsed": true
   },
   "source": [
    "# Other datastructures in Python"
   ]
  },
  {
   "cell_type": "markdown",
   "metadata": {
    "hidden": true
   },
   "source": [
    "### Sets"
   ]
  },
  {
   "cell_type": "markdown",
   "metadata": {
    "ExecuteTime": {
     "end_time": "2020-05-06T16:30:53.029951Z",
     "start_time": "2020-05-06T16:30:53.025780Z"
    },
    "hidden": true
   },
   "source": [
    "Let's look at sets.\n",
    "\n",
    "* Sets are like lists - they are collections of items.\n",
    "* But there is no order.\n",
    "* And there can be just one copy of each item.\n",
    "* Just like mathematical sets!"
   ]
  },
  {
   "cell_type": "code",
   "execution_count": 398,
   "metadata": {
    "ExecuteTime": {
     "end_time": "2020-05-06T16:31:45.897040Z",
     "start_time": "2020-05-06T16:31:45.893906Z"
    },
    "hidden": true
   },
   "outputs": [
    {
     "name": "stdout",
     "output_type": "stream",
     "text": [
      "{1, 2, 6, 7}\n"
     ]
    }
   ],
   "source": [
    "# create a set from scratch\n",
    "x = {1, 2, 6, 7, 2}\n",
    "print(x)"
   ]
  },
  {
   "cell_type": "code",
   "execution_count": 399,
   "metadata": {
    "ExecuteTime": {
     "end_time": "2020-05-06T16:32:02.546072Z",
     "start_time": "2020-05-06T16:32:02.542480Z"
    },
    "hidden": true
   },
   "outputs": [
    {
     "name": "stdout",
     "output_type": "stream",
     "text": [
      "{1, 2, 3, 4, 13}\n"
     ]
    }
   ],
   "source": [
    "# from a list\n",
    "print(set([1,2,3,1,1,13,4]))"
   ]
  },
  {
   "cell_type": "markdown",
   "metadata": {
    "hidden": true
   },
   "source": [
    "* You can do interesting operations on sets"
   ]
  },
  {
   "cell_type": "code",
   "execution_count": 401,
   "metadata": {
    "ExecuteTime": {
     "end_time": "2020-05-06T16:33:45.706040Z",
     "start_time": "2020-05-06T16:33:45.703049Z"
    },
    "hidden": true
   },
   "outputs": [],
   "source": [
    "x1={1,2,3,4,5,6}\n",
    "x2={2,4,6,8}"
   ]
  },
  {
   "cell_type": "markdown",
   "metadata": {
    "hidden": true
   },
   "source": [
    "* Union"
   ]
  },
  {
   "cell_type": "code",
   "execution_count": 402,
   "metadata": {
    "ExecuteTime": {
     "end_time": "2020-05-06T16:33:46.595132Z",
     "start_time": "2020-05-06T16:33:46.591968Z"
    },
    "hidden": true
   },
   "outputs": [
    {
     "name": "stdout",
     "output_type": "stream",
     "text": [
      "{1, 2, 3, 4, 5, 6, 8}\n"
     ]
    }
   ],
   "source": [
    "# Read as x1 or x2\n",
    "print(x1 | x2)  "
   ]
  },
  {
   "cell_type": "markdown",
   "metadata": {
    "hidden": true
   },
   "source": [
    "* Intersection"
   ]
  },
  {
   "cell_type": "code",
   "execution_count": 403,
   "metadata": {
    "ExecuteTime": {
     "end_time": "2020-05-06T16:40:52.713083Z",
     "start_time": "2020-05-06T16:40:52.709621Z"
    },
    "hidden": true
   },
   "outputs": [
    {
     "name": "stdout",
     "output_type": "stream",
     "text": [
      "{2, 4, 6}\n"
     ]
    }
   ],
   "source": [
    "# Read as x1 and x2\n",
    "print(x1 & x2)  "
   ]
  },
  {
   "cell_type": "markdown",
   "metadata": {
    "hidden": true
   },
   "source": [
    "* Set Difference ( Remove elements in x2 from x1)"
   ]
  },
  {
   "cell_type": "code",
   "execution_count": 404,
   "metadata": {
    "ExecuteTime": {
     "end_time": "2020-05-06T16:40:52.713083Z",
     "start_time": "2020-05-06T16:40:52.709621Z"
    },
    "hidden": true
   },
   "outputs": [
    {
     "name": "stdout",
     "output_type": "stream",
     "text": [
      "{1, 3, 5}\n"
     ]
    }
   ],
   "source": [
    "# Read as x1 minus x2\n",
    "print(x1 - x2)  "
   ]
  },
  {
   "cell_type": "markdown",
   "metadata": {
    "hidden": true
   },
   "source": [
    "* Check for membership"
   ]
  },
  {
   "cell_type": "code",
   "execution_count": 413,
   "metadata": {
    "ExecuteTime": {
     "end_time": "2020-05-06T16:40:52.713083Z",
     "start_time": "2020-05-06T16:40:52.709621Z"
    },
    "hidden": true
   },
   "outputs": [
    {
     "name": "stdout",
     "output_type": "stream",
     "text": [
      "True\n",
      "False\n"
     ]
    }
   ],
   "source": [
    "myset={1,2,4,6,7}\n",
    "print(1 in myset)\n",
    "print(2 not in myset)"
   ]
  },
  {
   "cell_type": "markdown",
   "metadata": {
    "hidden": true
   },
   "source": [
    "* You can convert from a set to a list by calling the ``list()`` constructor."
   ]
  },
  {
   "cell_type": "code",
   "execution_count": 405,
   "metadata": {
    "ExecuteTime": {
     "end_time": "2020-05-06T16:36:15.310236Z",
     "start_time": "2020-05-06T16:36:15.307711Z"
    },
    "hidden": true
   },
   "outputs": [
    {
     "name": "stdout",
     "output_type": "stream",
     "text": [
      "[1, 2, 3, 4, 5, 6]\n"
     ]
    }
   ],
   "source": [
    "print(list(x1))"
   ]
  },
  {
   "cell_type": "markdown",
   "metadata": {
    "hidden": true
   },
   "source": [
    "* You can loop through a set using a for loop.\n",
    "* But **remember the order of the set is not guaranteed**"
   ]
  },
  {
   "cell_type": "code",
   "execution_count": 407,
   "metadata": {
    "ExecuteTime": {
     "end_time": "2020-05-06T16:37:48.523603Z",
     "start_time": "2020-05-06T16:37:48.520019Z"
    },
    "hidden": true
   },
   "outputs": [
    {
     "name": "stdout",
     "output_type": "stream",
     "text": [
      "1\n",
      "3\n",
      "5\n",
      "6\n",
      "abc\n"
     ]
    }
   ],
   "source": [
    "# sets can have heterogeneous elements too\n",
    "myset={\"abc\",1,1.0,3,3,3,5,6,\"abc\"}\n",
    "for element in myset:\n",
    "    print(element)"
   ]
  },
  {
   "cell_type": "markdown",
   "metadata": {
    "hidden": true
   },
   "source": [
    "### Tuples"
   ]
  },
  {
   "cell_type": "markdown",
   "metadata": {
    "hidden": true
   },
   "source": [
    "* Tuples are an ordered collection of objects. \n",
    "* They are immutable - they can't be changed. "
   ]
  },
  {
   "cell_type": "code",
   "execution_count": 412,
   "metadata": {
    "ExecuteTime": {
     "end_time": "2020-05-06T16:39:58.503655Z",
     "start_time": "2020-05-06T16:39:58.499907Z"
    },
    "hidden": true
   },
   "outputs": [
    {
     "name": "stdout",
     "output_type": "stream",
     "text": [
      "(1, 2, 4, 5)\n",
      "4\n",
      "(4, 5)\n"
     ]
    }
   ],
   "source": [
    "x=(1,2,4,5)\n",
    "print(x)\n",
    "# you can index tuples\n",
    "print(x[2])\n",
    "# you can slice tuples\n",
    "print(x[2:4])"
   ]
  },
  {
   "cell_type": "code",
   "execution_count": 415,
   "metadata": {
    "ExecuteTime": {
     "end_time": "2020-05-06T16:41:46.909701Z",
     "start_time": "2020-05-06T16:41:46.903454Z"
    },
    "hidden": true
   },
   "outputs": [
    {
     "ename": "TypeError",
     "evalue": "'tuple' object does not support item assignment",
     "output_type": "error",
     "traceback": [
      "\u001b[0;31m--------------------------------------\u001b[0m",
      "\u001b[0;31mTypeError\u001b[0mTraceback (most recent call last)",
      "\u001b[0;32m<ipython-input-415-8ce09a9675a1>\u001b[0m in \u001b[0;36m<module>\u001b[0;34m\u001b[0m\n\u001b[1;32m      1\u001b[0m \u001b[0;31m# you can't change tuples\u001b[0m\u001b[0;34m\u001b[0m\u001b[0;34m\u001b[0m\u001b[0;34m\u001b[0m\u001b[0m\n\u001b[0;32m----> 2\u001b[0;31m \u001b[0mx\u001b[0m\u001b[0;34m[\u001b[0m\u001b[0;36m0\u001b[0m\u001b[0;34m]\u001b[0m\u001b[0;34m=\u001b[0m\u001b[0;36m2\u001b[0m\u001b[0;34m\u001b[0m\u001b[0;34m\u001b[0m\u001b[0m\n\u001b[0m",
      "\u001b[0;31mTypeError\u001b[0m: 'tuple' object does not support item assignment"
     ]
    }
   ],
   "source": [
    "# you can't change tuples\n",
    "x[0]=2"
   ]
  },
  {
   "cell_type": "markdown",
   "metadata": {
    "hidden": true
   },
   "source": [
    "* Remember you saw tuples in the functions section?\n",
    "* If they are multiple return values they are packed into a tuple first."
   ]
  },
  {
   "cell_type": "code",
   "execution_count": 416,
   "metadata": {
    "ExecuteTime": {
     "end_time": "2020-05-06T16:42:51.359281Z",
     "start_time": "2020-05-06T16:42:51.355544Z"
    },
    "hidden": true
   },
   "outputs": [
    {
     "name": "stdout",
     "output_type": "stream",
     "text": [
      "('J', 'W', 'L')\n"
     ]
    }
   ],
   "source": [
    "def return_initials(first_name,middle_name,last_name):\n",
    "    return first_name[0],middle_name[0],last_name[0]\n",
    "\n",
    "print(return_initials(\"John\",\"Winston\",\"Lennon\"))"
   ]
  },
  {
   "cell_type": "code",
   "execution_count": 426,
   "metadata": {
    "ExecuteTime": {
     "end_time": "2020-05-06T16:50:15.508033Z",
     "start_time": "2020-05-06T16:50:15.505229Z"
    },
    "hidden": true
   },
   "outputs": [
    {
     "name": "stdout",
     "output_type": "stream",
     "text": [
      "1\n",
      "2\n",
      "4\n",
      "5\n"
     ]
    }
   ],
   "source": [
    "# You can also apply for loop on tuples\n",
    "for el in x:\n",
    "    print(el)"
   ]
  },
  {
   "cell_type": "markdown",
   "metadata": {
    "hidden": true
   },
   "source": [
    "### Dictionaries"
   ]
  },
  {
   "cell_type": "markdown",
   "metadata": {
    "hidden": true
   },
   "source": [
    "* After lists, dictionaries are **the most important pythonic datastructure!**\n",
    "* Dictionaries are maps from **key** to **value**."
   ]
  },
  {
   "cell_type": "code",
   "execution_count": 421,
   "metadata": {
    "ExecuteTime": {
     "end_time": "2020-05-06T16:48:36.053084Z",
     "start_time": "2020-05-06T16:48:36.050157Z"
    },
    "hidden": true
   },
   "outputs": [],
   "source": [
    "student_ages={ \"Jibran\" : 24,\n",
    "                \"Maria\" : 22,\n",
    "                \"Kaustav\" : 23,\n",
    "                \"Somali\": 22,\n",
    "                \"Devika\": 25,\n",
    "                \"Jibran\": 21\n",
    "               }"
   ]
  },
  {
   "cell_type": "markdown",
   "metadata": {
    "hidden": true
   },
   "source": [
    "* Keys are **unique**, you can't add more than one value for a key.\n",
    "* You can see the unique keys in a dictionary by calling the ``keys()`` method.\n",
    "* Note that ``keys()`` does not return a list!"
   ]
  },
  {
   "cell_type": "code",
   "execution_count": 428,
   "metadata": {
    "ExecuteTime": {
     "end_time": "2020-05-06T16:52:25.647060Z",
     "start_time": "2020-05-06T16:52:25.643717Z"
    },
    "hidden": true
   },
   "outputs": [
    {
     "name": "stdout",
     "output_type": "stream",
     "text": [
      "dict_keys(['Jibran', 'Maria', 'Kaustav', 'Somali', 'Devika'])\n",
      "['Jibran', 'Maria', 'Kaustav', 'Somali', 'Devika']\n"
     ]
    }
   ],
   "source": [
    "print(student_ages.keys())\n",
    "# keys() is not a list, but you can convert it to one\n",
    "print(list(student_ages.keys()))"
   ]
  },
  {
   "cell_type": "markdown",
   "metadata": {
    "hidden": true
   },
   "source": [
    "You can **read and update** the value of a key by indexing the dictionary"
   ]
  },
  {
   "cell_type": "code",
   "execution_count": 430,
   "metadata": {
    "ExecuteTime": {
     "end_time": "2020-05-06T16:55:04.776621Z",
     "start_time": "2020-05-06T16:55:04.773272Z"
    },
    "hidden": true
   },
   "outputs": [
    {
     "name": "stdout",
     "output_type": "stream",
     "text": [
      "24\n",
      "{'Jibran': 24, 'Maria': 22, 'Kaustav': 23, 'Somali': 22, 'Devika': 25}\n"
     ]
    }
   ],
   "source": [
    "# The first value got overwritten.\n",
    "print(student_ages[\"Jibran\"])\n",
    "student_ages[\"Jibran\"]=24 \n",
    "print(student_ages)"
   ]
  },
  {
   "cell_type": "markdown",
   "metadata": {
    "hidden": true
   },
   "source": [
    "* **Obviously, slicing a dictionary doesn't make sense. Why?**"
   ]
  },
  {
   "cell_type": "code",
   "execution_count": 431,
   "metadata": {
    "ExecuteTime": {
     "end_time": "2020-05-06T16:56:01.466265Z",
     "start_time": "2020-05-06T16:56:01.463099Z"
    },
    "hidden": true
   },
   "outputs": [
    {
     "name": "stdout",
     "output_type": "stream",
     "text": [
      "{'Jibran': 24, 'Maria': 22, 'Kaustav': 23, 'Somali': 22, 'Devika': 25, 'Shubham': 27}\n"
     ]
    }
   ],
   "source": [
    "# You can add a new key just by indexing and assigning a value\n",
    "student_ages[\"Shubham\"]=27\n",
    "print(student_ages)"
   ]
  },
  {
   "cell_type": "markdown",
   "metadata": {
    "hidden": true
   },
   "source": [
    "You can check for membership (w.r.t keys)"
   ]
  },
  {
   "cell_type": "code",
   "execution_count": 535,
   "metadata": {
    "ExecuteTime": {
     "end_time": "2020-05-06T19:50:43.303467Z",
     "start_time": "2020-05-06T19:50:43.300350Z"
    },
    "hidden": true
   },
   "outputs": [
    {
     "name": "stdout",
     "output_type": "stream",
     "text": [
      "True\n",
      "False\n"
     ]
    }
   ],
   "source": [
    "print(\"Jibran\" in student_ages)\n",
    "print(\"Kamala\" in student_ages)"
   ]
  },
  {
   "cell_type": "markdown",
   "metadata": {
    "hidden": true
   },
   "source": [
    "* You can also loop through a dictionary\n",
    "* But the values that are returned are **keys** not values."
   ]
  },
  {
   "cell_type": "code",
   "execution_count": 432,
   "metadata": {
    "ExecuteTime": {
     "end_time": "2020-05-06T16:58:31.440835Z",
     "start_time": "2020-05-06T16:58:31.436444Z"
    },
    "hidden": true
   },
   "outputs": [
    {
     "name": "stdout",
     "output_type": "stream",
     "text": [
      "Jibran 24\n",
      "Maria 22\n",
      "Kaustav 23\n",
      "Somali 22\n",
      "Devika 25\n",
      "Shubham 27\n"
     ]
    }
   ],
   "source": [
    "for key in student_ages:\n",
    "    print(key,student_ages[key])"
   ]
  },
  {
   "cell_type": "markdown",
   "metadata": {
    "hidden": true
   },
   "source": [
    "* The keys and values can all be heterogeneous. Anything goes!"
   ]
  },
  {
   "cell_type": "code",
   "execution_count": 441,
   "metadata": {
    "ExecuteTime": {
     "end_time": "2020-05-06T17:06:59.588949Z",
     "start_time": "2020-05-06T17:06:59.585051Z"
    },
    "hidden": true
   },
   "outputs": [
    {
     "name": "stdout",
     "output_type": "stream",
     "text": [
      "{'key1': [1, 2, 4, 6], 10: {'hello': True, 1.2: 'watsup'}, <built-in function print>: 2, (1, 2): 'tupless'}\n"
     ]
    }
   ],
   "source": [
    "chaos = { # list within dictionary\n",
    "        \"key1\" : [1,2,4,6],\n",
    "         # dictionary within dictionary\n",
    "           10: {\"hello\":True,1.2 : \"watsup\"},\n",
    "        # tuples\n",
    "        (1,2) : \"tuples\"\n",
    "        }\n",
    "print(chaos)"
   ]
  },
  {
   "cell_type": "markdown",
   "metadata": {
    "hidden": true
   },
   "source": [
    "Well, almost anything... "
   ]
  },
  {
   "cell_type": "code",
   "execution_count": 442,
   "metadata": {
    "ExecuteTime": {
     "end_time": "2020-05-06T17:07:17.514153Z",
     "start_time": "2020-05-06T17:07:17.507653Z"
    },
    "hidden": true
   },
   "outputs": [
    {
     "ename": "TypeError",
     "evalue": "unhashable type: 'list'",
     "output_type": "error",
     "traceback": [
      "\u001b[0;31m--------------------------------------\u001b[0m",
      "\u001b[0;31mTypeError\u001b[0mTraceback (most recent call last)",
      "\u001b[0;32m<ipython-input-442-354d43970691>\u001b[0m in \u001b[0;36m<module>\u001b[0;34m\u001b[0m\n\u001b[0;32m----> 1\u001b[0;31m \u001b[0mchaos\u001b[0m\u001b[0;34m[\u001b[0m\u001b[0;34m[\u001b[0m\u001b[0;36m21\u001b[0m\u001b[0;34m]\u001b[0m\u001b[0;34m]\u001b[0m\u001b[0;34m\u001b[0m\u001b[0;34m\u001b[0m\u001b[0m\n\u001b[0m",
      "\u001b[0;31mTypeError\u001b[0m: unhashable type: 'list'"
     ]
    }
   ],
   "source": [
    "chaos[[21]]=\"Will this work?\""
   ]
  },
  {
   "cell_type": "code",
   "execution_count": 444,
   "metadata": {
    "ExecuteTime": {
     "end_time": "2020-05-06T17:07:40.754053Z",
     "start_time": "2020-05-06T17:07:40.747774Z"
    },
    "hidden": true
   },
   "outputs": [
    {
     "ename": "TypeError",
     "evalue": "unhashable type: 'dict'",
     "output_type": "error",
     "traceback": [
      "\u001b[0;31m--------------------------------------\u001b[0m",
      "\u001b[0;31mTypeError\u001b[0mTraceback (most recent call last)",
      "\u001b[0;32m<ipython-input-444-05b5e972d101>\u001b[0m in \u001b[0;36m<module>\u001b[0;34m\u001b[0m\n\u001b[0;32m----> 1\u001b[0;31m \u001b[0mchaos\u001b[0m\u001b[0;34m[\u001b[0m\u001b[0;34m{\u001b[0m\u001b[0;36m21\u001b[0m\u001b[0;34m:\u001b[0m\u001b[0;34m\"hello\"\u001b[0m\u001b[0;34m}\u001b[0m\u001b[0;34m]\u001b[0m\u001b[0;34m=\u001b[0m\u001b[0;34m\"Will this work?\"\u001b[0m\u001b[0;34m\u001b[0m\u001b[0;34m\u001b[0m\u001b[0m\n\u001b[0m",
      "\u001b[0;31mTypeError\u001b[0m: unhashable type: 'dict'"
     ]
    }
   ],
   "source": [
    "chaos[{21:\"hello\"}]=\"Will this work?\""
   ]
  },
  {
   "cell_type": "markdown",
   "metadata": {
    "hidden": true
   },
   "source": [
    "* The reason has to do with mutability and its relationship with hashing. You can read [this StackOverflow post](https://stackoverflow.com/questions/42203673/in-python-why-is-a-tuple-hashable-but-not-a-list) for more on this.\n",
    "* For now, to be safe, just stick to using Numbers, Booleans, Strings and Tuples as keys for your dictionary.\n",
    "* Trust me you won't need anything else!\n",
    "* Any value is safe as a value."
   ]
  },
  {
   "cell_type": "markdown",
   "metadata": {
    "hidden": true
   },
   "source": [
    "### Example : Representing data with lists and dictionaries"
   ]
  },
  {
   "cell_type": "markdown",
   "metadata": {
    "ExecuteTime": {
     "end_time": "2020-05-06T16:59:30.544817Z",
     "start_time": "2020-05-06T16:59:30.541248Z"
    },
    "hidden": true
   },
   "source": [
    "**With lists and dictionaries, you can represent PRACTICALLY ANY TYPE OF DATA**"
   ]
  },
  {
   "cell_type": "code",
   "execution_count": 449,
   "metadata": {
    "ExecuteTime": {
     "end_time": "2020-05-06T17:27:28.460593Z",
     "start_time": "2020-05-06T17:27:28.455277Z"
    },
    "hidden": true
   },
   "outputs": [],
   "source": [
    "family = {\n",
    "    \n",
    "    \"father\" : {\n",
    "        \"name\" : \"Joseph D'Souza\",\n",
    "        \"age\": 55,\n",
    "        \"hobbies\": [\"cricket\",\"tabla\"],\n",
    "        \"employed\":True\n",
    "        \n",
    "    },\n",
    "    \"mother\" : {\n",
    "        \"name\" : \"Mary D'Souza\",\n",
    "        \"age\": 50,\n",
    "        \"hobbies\": [\"guitar\",\"tennis\"],\n",
    "        \"employed\":True\n",
    "    },\n",
    "    \"children\": [\n",
    "        {\n",
    "            \"name\" : \"Mary D'Souza\",\n",
    "            \"age\": 22,\n",
    "            \"gender\" : \"female\",\n",
    "            \"hobbies\": [\"guitar\",\"drums\"],\n",
    "            \"employed\":True\n",
    "        },\n",
    "         {\n",
    "            \"name\" : \"Aron D'Souza\",\n",
    "            \"age\": 15,\n",
    "            \"gender\" : \"male\",\n",
    "            \"hobbies\": [\"sketching\",\"swimming\"],\n",
    "            \"employed\":False\n",
    "        }\n",
    "    ],\n",
    "    \"home_address\": \"Lumbini Avenue, Gachibowli, Hyderabad\"\n",
    "}"
   ]
  },
  {
   "cell_type": "markdown",
   "metadata": {
    "hidden": true
   },
   "source": [
    "* People coming from Javascript, might find this combination of dictionaries and lists to be similar to JSON - JavaScript Object Notation."
   ]
  },
  {
   "cell_type": "markdown",
   "metadata": {
    "heading_collapsed": true
   },
   "source": [
    "# More on for loops"
   ]
  },
  {
   "cell_type": "markdown",
   "metadata": {
    "hidden": true
   },
   "source": [
    "* Last time we saw the for loop, you didn't know about functions so we couldn't introduce two important functions."
   ]
  },
  {
   "cell_type": "code",
   "execution_count": 502,
   "metadata": {
    "ExecuteTime": {
     "end_time": "2020-05-06T19:00:06.243255Z",
     "start_time": "2020-05-06T19:00:06.239833Z"
    },
    "hidden": true
   },
   "outputs": [
    {
     "name": "stdout",
     "output_type": "stream",
     "text": [
      "2\n",
      "3\n",
      "4\n"
     ]
    }
   ],
   "source": [
    "for i in range(2,5):\n",
    "    print(i)"
   ]
  },
  {
   "cell_type": "code",
   "execution_count": 505,
   "metadata": {
    "ExecuteTime": {
     "end_time": "2020-05-06T19:02:28.533733Z",
     "start_time": "2020-05-06T19:02:28.530337Z"
    },
    "hidden": true
   },
   "outputs": [
    {
     "name": "stdout",
     "output_type": "stream",
     "text": [
      "2\n",
      "4\n",
      "6\n",
      "8\n"
     ]
    }
   ],
   "source": [
    "for i in range(2,10,2):\n",
    "    print(i)"
   ]
  },
  {
   "cell_type": "code",
   "execution_count": 506,
   "metadata": {
    "ExecuteTime": {
     "end_time": "2020-05-06T19:04:19.114491Z",
     "start_time": "2020-05-06T19:04:19.110255Z"
    },
    "hidden": true
   },
   "outputs": [
    {
     "name": "stdout",
     "output_type": "stream",
     "text": [
      "range(0, 10)\n",
      "[0, 1, 2, 3, 4, 5, 6, 7, 8, 9]\n"
     ]
    }
   ],
   "source": [
    "# range is an iterable, but not a list. It's actually a generator, it creates its items on the fly\n",
    "print(range(0,10))\n",
    "# Note :  you can use range to create a list though\n",
    "print(list(range(0,10)))"
   ]
  },
  {
   "cell_type": "code",
   "execution_count": 509,
   "metadata": {
    "ExecuteTime": {
     "end_time": "2020-05-06T19:05:39.194385Z",
     "start_time": "2020-05-06T19:05:39.190739Z"
    },
    "hidden": true
   },
   "outputs": [
    {
     "name": "stdout",
     "output_type": "stream",
     "text": [
      "0 red\n",
      "1 blue\n",
      "2 green\n",
      "3 yellow\n"
     ]
    }
   ],
   "source": [
    "# many times its useful to have the index while iterating\n",
    "colors=[\"red\",\"blue\",\"green\",\"yellow\"]\n",
    "for i,color in enumerate(colors):\n",
    "    print(i,color)"
   ]
  },
  {
   "cell_type": "markdown",
   "metadata": {
    "hidden": true
   },
   "source": [
    "* One last point I want to make is that for loops are absolutely 100% representable by while loops.\n",
    "* Then why do we need the for loop?\n",
    "* For readability! Consider which of the following examples makes the meaning of the code clearer"
   ]
  },
  {
   "cell_type": "code",
   "execution_count": 511,
   "metadata": {
    "ExecuteTime": {
     "end_time": "2020-05-06T19:08:56.787574Z",
     "start_time": "2020-05-06T19:08:56.783303Z"
    },
    "hidden": true
   },
   "outputs": [
    {
     "name": "stdout",
     "output_type": "stream",
     "text": [
      "Students of our class\n",
      "Jibran\n",
      "Rukmini\n",
      "Ravi\n",
      "John\n"
     ]
    }
   ],
   "source": [
    "students=[\"jibran\",\"rukmini\",\"ravi\",\"john\"]\n",
    "print(\"Students of our class\")\n",
    "i=0\n",
    "while i < len(students):\n",
    "    print(students[i].capitalize())\n",
    "    i+=1"
   ]
  },
  {
   "cell_type": "code",
   "execution_count": 512,
   "metadata": {
    "ExecuteTime": {
     "end_time": "2020-05-06T19:09:30.718941Z",
     "start_time": "2020-05-06T19:09:30.715371Z"
    },
    "hidden": true
   },
   "outputs": [
    {
     "name": "stdout",
     "output_type": "stream",
     "text": [
      "Students of our class\n",
      "Jibran\n",
      "Rukmini\n",
      "Ravi\n",
      "John\n"
     ]
    }
   ],
   "source": [
    "students=[\"jibran\",\"rukmini\",\"ravi\",\"john\"]\n",
    "print(\"Students of our class\")\n",
    "for student in students:\n",
    "    print(student.capitalize())"
   ]
  },
  {
   "cell_type": "markdown",
   "metadata": {
    "heading_collapsed": true
   },
   "source": [
    "# Practical use case : Reading a data file"
   ]
  },
  {
   "cell_type": "markdown",
   "metadata": {
    "hidden": true
   },
   "source": [
    "* Let's first read a few lines of the data file"
   ]
  },
  {
   "cell_type": "code",
   "execution_count": 524,
   "metadata": {
    "ExecuteTime": {
     "end_time": "2020-05-06T19:40:47.748393Z",
     "start_time": "2020-05-06T19:40:47.743987Z"
    },
    "hidden": true
   },
   "outputs": [
    {
     "name": "stdout",
     "output_type": "stream",
     "text": [
      "id,first_name,last_name,email,gender,ip_address\n",
      "\n",
      "1,Imojean,Fidock,ifidock0@ebay.com,Female,37.151.142.118\n",
      "\n",
      "2,Brnaby,Belch,bbelch1@cbslocal.com,Male,80.158.217.23\n",
      "\n",
      "3,Basile,Killby,bkillby2@sphinn.com,Male,27.36.169.115\n",
      "\n",
      "4,Sargent,Jakeway,sjakeway3@ted.com,Male,153.39.159.130\n",
      "\n",
      "5,Ruthi,Calbert,rcalbert4@weebly.com,Female,28.90.57.225\n",
      "\n"
     ]
    }
   ],
   "source": [
    "with open(\"MOCK_DATA.csv\",\"r\") as fi:\n",
    "    i=0\n",
    "    for line in fi:\n",
    "        print(line)\n",
    "        if i==5:\n",
    "            break\n",
    "        i+=1"
   ]
  },
  {
   "cell_type": "markdown",
   "metadata": {
    "hidden": true
   },
   "source": [
    "* First line represents the data fields.\n",
    "* Second line onwards, every line contains the profile of one person.\n",
    "* Let's decide the data format of one person."
   ]
  },
  {
   "cell_type": "code",
   "execution_count": 516,
   "metadata": {
    "ExecuteTime": {
     "end_time": "2020-05-06T19:34:57.365996Z",
     "start_time": "2020-05-06T19:34:57.362724Z"
    },
    "hidden": true
   },
   "outputs": [],
   "source": [
    "person={\n",
    "    \"id\" : 1,\n",
    "    \"name\":{\n",
    "        \"first_name\":\"Imojean\",\n",
    "        \"last_name\":\"Fidock\"\n",
    "    },\n",
    "    \"email\":{\n",
    "        \"local_part\":\"ifidock0\",\n",
    "        \"domain\":\"ebay.com\"\n",
    "    },\n",
    "    \"gender\": \"Female\",\n",
    "    \"ip_address\":[37,151,142,118]\n",
    "}"
   ]
  },
  {
   "cell_type": "markdown",
   "metadata": {
    "hidden": true
   },
   "source": [
    "* This seems like a nice format for getting the data.\n",
    "* Now let's parse one line, after that we just need to loop over the file."
   ]
  },
  {
   "cell_type": "code",
   "execution_count": 529,
   "metadata": {
    "ExecuteTime": {
     "end_time": "2020-05-06T19:44:13.855725Z",
     "start_time": "2020-05-06T19:44:13.847975Z"
    },
    "hidden": true
   },
   "outputs": [
    {
     "name": "stdout",
     "output_type": "stream",
     "text": [
      "|1,Imojean,Fidock,ifidock0@ebay.com,Female,37.151.142.118\n",
      "|\n",
      "|1,Imojean,Fidock,ifidock0@ebay.com,Female,37.151.142.118|\n",
      "['1', 'Imojean', 'Fidock', 'ifidock0@ebay.com', 'Female', '37.151.142.118']\n",
      "['ifidock0', 'ebay.com']\n",
      "{'id': 1, 'first_name': 'Imojean', 'last_name': 'Fidock', 'email': {'local_part': 'ifidock0', 'domain': 'ebay.com'}, 'gender': 'Female', 'ip_address': [37, 151, 142, 118]}\n"
     ]
    }
   ],
   "source": [
    "with open(\"MOCK_DATA.csv\",\"r\") as fi:\n",
    "    fi.readline()\n",
    "    line=fi.readline()\n",
    "\n",
    "print(\"|\"+line+\"|\")\n",
    "line=line.strip()\n",
    "print(\"|\"+line+\"|\")\n",
    "parts=line.split(\",\")\n",
    "print(parts)\n",
    "person={}\n",
    "person[\"id\"]=int(parts[0])\n",
    "person[\"first_name\"]=parts[1]\n",
    "person[\"last_name\"]=parts[2]\n",
    "\n",
    "emailparts=parts[3].split(\"@\")\n",
    "print(emailparts)\n",
    "person[\"email\"]={\"local_part\":emailparts[0],\"domain\":emailparts[1]}\n",
    "\n",
    "person[\"gender\"]=parts[4]\n",
    "person[\"ip_address\"]=[]\n",
    "ipparts=parts[5].split(\".\")\n",
    "for n in ipparts:\n",
    "    person[\"ip_address\"].append(int(n))\n",
    "print(person)"
   ]
  },
  {
   "cell_type": "code",
   "execution_count": 533,
   "metadata": {
    "ExecuteTime": {
     "end_time": "2020-05-06T19:45:35.735998Z",
     "start_time": "2020-05-06T19:45:35.729466Z"
    },
    "hidden": true
   },
   "outputs": [],
   "source": [
    "persons=[]\n",
    "with open(\"MOCK_DATA.csv\",\"r\") as fi:\n",
    "    # discard first line\n",
    "    fi.readline()\n",
    "    for line in fi:\n",
    "        line=line.strip()\n",
    "        parts=line.split(\",\")\n",
    "        \n",
    "        \n",
    "        person={}\n",
    "        person[\"id\"]=int(parts[0])\n",
    "        person[\"first_name\"]=parts[1]\n",
    "        person[\"last_name\"]=parts[2]\n",
    "        emailparts=parts[3].split(\"@\")\n",
    "        person[\"email\"]={\"local_part\":emailparts[0],\"domain\":emailparts[1]}\n",
    "        person[\"gender\"]=parts[4]\n",
    "        person[\"ip_address\"]=[]\n",
    "        ipparts=parts[5].split(\".\")\n",
    "        for n in ipparts:\n",
    "            person[\"ip_address\"].append(int(n))\n",
    "        \n",
    "        persons.append(person)"
   ]
  },
  {
   "cell_type": "code",
   "execution_count": 534,
   "metadata": {
    "ExecuteTime": {
     "end_time": "2020-05-06T19:45:36.850171Z",
     "start_time": "2020-05-06T19:45:36.845512Z"
    },
    "hidden": true
   },
   "outputs": [
    {
     "data": {
      "text/plain": [
       "[{'id': 1,\n",
       "  'first_name': 'Imojean',\n",
       "  'last_name': 'Fidock',\n",
       "  'email': {'local_part': 'ifidock0', 'domain': 'ebay.com'},\n",
       "  'gender': 'Female',\n",
       "  'ip_address': [37, 151, 142, 118]},\n",
       " {'id': 2,\n",
       "  'first_name': 'Brnaby',\n",
       "  'last_name': 'Belch',\n",
       "  'email': {'local_part': 'bbelch1', 'domain': 'cbslocal.com'},\n",
       "  'gender': 'Male',\n",
       "  'ip_address': [80, 158, 217, 23]},\n",
       " {'id': 3,\n",
       "  'first_name': 'Basile',\n",
       "  'last_name': 'Killby',\n",
       "  'email': {'local_part': 'bkillby2', 'domain': 'sphinn.com'},\n",
       "  'gender': 'Male',\n",
       "  'ip_address': [27, 36, 169, 115]}]"
      ]
     },
     "execution_count": 534,
     "metadata": {},
     "output_type": "execute_result"
    }
   ],
   "source": [
    "persons[0:3]"
   ]
  },
  {
   "cell_type": "markdown",
   "metadata": {
    "hidden": true
   },
   "source": [
    "* Now, you can do all sorts of cool stuff with this data.\n",
    "* For example if you want to know how many people have email addresses in which website"
   ]
  },
  {
   "cell_type": "code",
   "execution_count": 537,
   "metadata": {
    "ExecuteTime": {
     "end_time": "2020-05-06T19:51:48.567608Z",
     "start_time": "2020-05-06T19:51:48.564515Z"
    },
    "hidden": true
   },
   "outputs": [],
   "source": [
    "domains_count={}\n",
    "for person in persons:\n",
    "    dom=person[\"email\"][\"domain\"]\n",
    "    if dom not in domains_count:\n",
    "        domains_count[dom]=0\n",
    "    domains_count[dom]+=1"
   ]
  },
  {
   "cell_type": "code",
   "execution_count": 538,
   "metadata": {
    "ExecuteTime": {
     "end_time": "2020-05-06T19:51:59.091866Z",
     "start_time": "2020-05-06T19:51:59.088871Z"
    },
    "hidden": true
   },
   "outputs": [
    {
     "name": "stdout",
     "output_type": "stream",
     "text": [
      "{'ebay.com': 1, 'cbslocal.com': 1, 'sphinn.com': 1, 'ted.com': 1, 'weebly.com': 1, 'jigsy.com': 1, 'si.edu': 1, 'kickstarter.com': 1, '360.cn': 1, 'google.com.br': 1, 'ustream.tv': 1, 'cornell.edu': 1, 'disqus.com': 1, 'bloglovin.com': 1, 'shinystat.com': 1, 'tuttocitta.it': 1, 'amazon.com': 1, 'smh.com.au': 1, 'globo.com': 1, 'vistaprint.com': 1, 'wikia.com': 1, 'who.int': 1, 'latimes.com': 1, 'google.cn': 1, 'gravatar.com': 1, 'booking.com': 1, 'ox.ac.uk': 1, 'mozilla.com': 1, 'stumbleupon.com': 1, 'cdc.gov': 1, 'hibu.com': 1, 'mapy.cz': 1, 'wikipedia.org': 1, 'flavors.me': 1, 'bandcamp.com': 1, 'hugedomains.com': 1, 'columbia.edu': 1, 'storify.com': 1, 'eepurl.com': 1, 'ocn.ne.jp': 1, 'istockphoto.com': 1, 'alexa.com': 1, 'geocities.com': 1, 'chron.com': 1, 'instagram.com': 1, 'seesaa.net': 1, 'about.me': 1, 'dropbox.com': 1, 'smugmug.com': 1, 'google.co.jp': 1}\n"
     ]
    }
   ],
   "source": [
    "print(domains_count)"
   ]
  },
  {
   "cell_type": "markdown",
   "metadata": {
    "heading_collapsed": true
   },
   "source": [
    "# Python Modules and Import Statements"
   ]
  },
  {
   "cell_type": "markdown",
   "metadata": {
    "hidden": true
   },
   "source": [
    "* What is a module?\n",
    "* It's a collection of functions and/or classes.\n",
    "* Like functions, classes, this is just a larger unit of \"packaging\".\n",
    "* Progammers love to package logic at many levels - in fact there is one more above modules - a \"package\"!"
   ]
  },
  {
   "cell_type": "markdown",
   "metadata": {
    "hidden": true
   },
   "source": [
    "* Any .py file is automatically a module.\n",
    "* Let's look at the file ``mymodules.py``.\n",
    "* It's got some interesting functions and a Cat class. How do I get it here?\n",
    "* We can use the ``import`` statement.\n",
    "* There are a few ways we can do this."
   ]
  },
  {
   "cell_type": "markdown",
   "metadata": {
    "hidden": true
   },
   "source": [
    "**Instructor Note**: Show the following examples in interpreter to avoid having to restart notebook."
   ]
  },
  {
   "cell_type": "markdown",
   "metadata": {
    "hidden": true
   },
   "source": [
    "**Import the module's name, then we can access the functions and class as it's attributes**"
   ]
  },
  {
   "cell_type": "code",
   "execution_count": 566,
   "metadata": {
    "ExecuteTime": {
     "end_time": "2020-05-06T21:01:50.850406Z",
     "start_time": "2020-05-06T21:01:50.847235Z"
    },
    "hidden": true
   },
   "outputs": [
    {
     "name": "stdout",
     "output_type": "stream",
     "text": [
      "Wassup from mymodule  Neel !\n"
     ]
    }
   ],
   "source": [
    "import mymodules\n",
    "mymodules.my_hello_func(\"Neel\")"
   ]
  },
  {
   "cell_type": "code",
   "execution_count": 564,
   "metadata": {
    "ExecuteTime": {
     "end_time": "2020-05-06T21:01:06.989281Z",
     "start_time": "2020-05-06T21:01:06.985648Z"
    },
    "hidden": true
   },
   "outputs": [
    {
     "name": "stdout",
     "output_type": "stream",
     "text": [
      "Wassup from mymodule  Neel !\n"
     ]
    }
   ],
   "source": [
    "import mymodules as mm\n",
    "mm.my_hello_func(\"Neel\")"
   ]
  },
  {
   "cell_type": "markdown",
   "metadata": {
    "hidden": true
   },
   "source": [
    "* ``as`` keyword allows us to alias the name, useful for long names - but not necessary."
   ]
  },
  {
   "cell_type": "markdown",
   "metadata": {
    "hidden": true
   },
   "source": [
    "Or you can import only what you want"
   ]
  },
  {
   "cell_type": "code",
   "execution_count": 567,
   "metadata": {
    "ExecuteTime": {
     "end_time": "2020-05-06T21:03:51.704159Z",
     "start_time": "2020-05-06T21:03:51.700951Z"
    },
    "hidden": true
   },
   "outputs": [
    {
     "name": "stdout",
     "output_type": "stream",
     "text": [
      "meow\n"
     ]
    }
   ],
   "source": [
    "from mymodules import Cat\n",
    "kitty=Cat()\n",
    "kitty.meow()"
   ]
  },
  {
   "cell_type": "code",
   "execution_count": 568,
   "metadata": {
    "ExecuteTime": {
     "end_time": "2020-05-06T21:04:54.787623Z",
     "start_time": "2020-05-06T21:04:54.784499Z"
    },
    "hidden": true
   },
   "outputs": [
    {
     "name": "stdout",
     "output_type": "stream",
     "text": [
      "[8, 27, 125]\n"
     ]
    }
   ],
   "source": [
    "from mymodules import cube_numbers as cnum\n",
    "print(cnum([2,3,5]))"
   ]
  },
  {
   "cell_type": "markdown",
   "metadata": {
    "hidden": true
   },
   "source": [
    "Or you can import **everything**. "
   ]
  },
  {
   "cell_type": "code",
   "execution_count": 569,
   "metadata": {
    "ExecuteTime": {
     "end_time": "2020-05-06T21:06:50.941091Z",
     "start_time": "2020-05-06T21:06:50.937648Z"
    },
    "hidden": true
   },
   "outputs": [
    {
     "name": "stdout",
     "output_type": "stream",
     "text": [
      "[8, 27, 125]\n"
     ]
    }
   ],
   "source": [
    "from mymodules import *\n",
    "print(cube_numbers([2,3,5]))"
   ]
  },
  {
   "cell_type": "markdown",
   "metadata": {
    "hidden": true
   },
   "source": [
    "* This is generally discouraged.\n",
    "* In programming you only take what you need, write what you need etc. Minimal clutter. You don't know how some small thing can lead to a bug later which will waste your time. So keep things as minimal as possible. "
   ]
  },
  {
   "cell_type": "markdown",
   "metadata": {
    "hidden": true
   },
   "source": [
    "### Python Standard Library"
   ]
  },
  {
   "cell_type": "markdown",
   "metadata": {
    "hidden": true
   },
   "source": [
    "* Python has a bunch of built-in modules, which you have to import, but don't need to install."
   ]
  },
  {
   "cell_type": "code",
   "execution_count": null,
   "metadata": {
    "ExecuteTime": {
     "end_time": "2020-05-06T21:13:37.964422Z",
     "start_time": "2020-05-06T21:13:37.958376Z"
    },
    "hidden": true
   },
   "outputs": [],
   "source": [
    "import os\n",
    "\n",
    "# you can use this to create directories, check if a path exists etc\n",
    "# basically command line stuff\n",
    "print(os.getcwd())\n",
    "print(os.listdir(\"..\"))\n",
    "print(os.path.exists(\"./mymodules.py\"))\n",
    "print(os.path.isfile(\"./mymodules.py\"))"
   ]
  },
  {
   "cell_type": "markdown",
   "metadata": {
    "hidden": true
   },
   "source": [
    "* ``os`` is a package. This basically means its a module, which has submodules, which may have subsubmodules etc.\n",
    "* ``os.path`` is a submodule. ``os.path.exists`` is a function.\n",
    "* How are packages created? --> Advanced topic."
   ]
  },
  {
   "cell_type": "code",
   "execution_count": 592,
   "metadata": {
    "ExecuteTime": {
     "end_time": "2020-05-06T21:32:27.826354Z",
     "start_time": "2020-05-06T21:32:27.821704Z"
    },
    "hidden": true
   },
   "outputs": [
    {
     "name": "stdout",
     "output_type": "stream",
     "text": [
      "[2, 56, 88] [2, 56, 88]\n",
      "[2, 56, 88] [22, 56, 88]\n"
     ]
    }
   ],
   "source": [
    "# make copie of objects\n",
    "import copy\n",
    "\n",
    "# normal assignment\n",
    "x=[22,56,88]\n",
    "y=x\n",
    "x[0]=2\n",
    "print(x,y)\n",
    "\n",
    "# copy \n",
    "x=[22,56,88]\n",
    "y=copy.copy(x)\n",
    "x[0]=2\n",
    "print(x,y)"
   ]
  },
  {
   "cell_type": "markdown",
   "metadata": {
    "hidden": true
   },
   "source": [
    "* Exercise : What is shallow copy vs deep copy?"
   ]
  },
  {
   "cell_type": "code",
   "execution_count": 588,
   "metadata": {
    "ExecuteTime": {
     "end_time": "2020-05-06T21:28:02.102698Z",
     "start_time": "2020-05-06T21:28:02.097839Z"
    },
    "hidden": true
   },
   "outputs": [
    {
     "name": "stdout",
     "output_type": "stream",
     "text": [
      "It takes  0.0011851787567138672 seconds to do 10000 loops!\n"
     ]
    }
   ],
   "source": [
    "# time related functions \n",
    "import time\n",
    "\n",
    "start_time=time.time()\n",
    "counter=0\n",
    "for i in range(0,10000):\n",
    "    counter+=2\n",
    "print(\"It takes \",time.time()-start_time,\"seconds to do 10000 loops!\")"
   ]
  },
  {
   "cell_type": "code",
   "execution_count": 591,
   "metadata": {
    "ExecuteTime": {
     "end_time": "2020-05-06T21:31:31.327393Z",
     "start_time": "2020-05-06T21:31:31.322293Z"
    },
    "hidden": true
   },
   "outputs": [
    {
     "name": "stdout",
     "output_type": "stream",
     "text": [
      "[{'id': 1, 'first_name': 'Imojean', 'last_name': 'Fidock', 'email': {'local_part': 'ifidock0', 'domain': 'ebay.com'}, 'gender': 'Female', 'ip_address': [37, 151, 142, 118]}, {'id': 2, 'first_name': 'Brnaby', 'last_name': 'Belch', 'email': {'local_part': 'bbelch1', 'domain': 'cbslocal.com'}, 'gender': 'Male', 'ip_address': [80, 158, 217, 23]}, {'id': 3, 'first_name': 'Basile', 'last_name': 'Killby', 'email': {'local_part': 'bkillby2', 'domain': 'sphinn.com'}, 'gender': 'Male', 'ip_address': [27, 36, 169, 115]}]\n"
     ]
    }
   ],
   "source": [
    "# save objects as binary files\n",
    "import pickle\n",
    "\n",
    "with open(\"persons.p\",\"wb\") as fo:\n",
    "    pickle.dump(persons,fo)\n",
    "    \n",
    "with open(\"persons.p\",\"rb\") as fi:\n",
    "    unpickled=pickle.load(fi)\n",
    "print(unpickled[:3])"
   ]
  },
  {
   "cell_type": "code",
   "execution_count": 596,
   "metadata": {
    "ExecuteTime": {
     "end_time": "2020-05-06T21:35:41.049806Z",
     "start_time": "2020-05-06T21:35:41.037869Z"
    },
    "hidden": true,
    "scrolled": true
   },
   "outputs": [
    {
     "name": "stdout",
     "output_type": "stream",
     "text": [
      "[{'id': 1, 'first_name': 'Imojean', 'last_name': 'Fidock', 'email': {'local_part': 'ifidock0', 'domain': 'ebay.com'}, 'gender': 'Female', 'ip_address': [37, 151, 142, 118]}, {'id': 2, 'first_name': 'Brnaby', 'last_name': 'Belch', 'email': {'local_part': 'bbelch1', 'domain': 'cbslocal.com'}, 'gender': 'Male', 'ip_address': [80, 158, 217, 23]}, {'id': 3, 'first_name': 'Basile', 'last_name': 'Killby', 'email': {'local_part': 'bkillby2', 'domain': 'sphinn.com'}, 'gender': 'Male', 'ip_address': [27, 36, 169, 115]}]\n"
     ]
    }
   ],
   "source": [
    "# save objects as text files\n",
    "import json\n",
    "\n",
    "with open(\"persons.json\",\"wt\") as fo:\n",
    "    json.dump(persons,fo)\n",
    "\n",
    "with open(\"persons.json\",\"rt\") as fi:\n",
    "    unjsoned=json.load(fi)\n",
    "print(unjsoned[:3])"
   ]
  },
  {
   "cell_type": "markdown",
   "metadata": {
    "hidden": true
   },
   "source": [
    "Other very useful modules\n",
    "\n",
    "* random : random number generation\n",
    "* re : regex - useful for getting/checking for complicated patterns from/in strings.\n",
    "* datetime : related to date and time.\n",
    "* sys : command line args + other stuff."
   ]
  },
  {
   "cell_type": "markdown",
   "metadata": {},
   "source": [
    "# How to use the internet to code"
   ]
  }
 ],
 "metadata": {
  "hide_input": false,
  "kernelspec": {
   "display_name": "Python 3",
   "language": "python",
   "name": "python3"
  },
  "language_info": {
   "codemirror_mode": {
    "name": "ipython",
    "version": 3
   },
   "file_extension": ".py",
   "mimetype": "text/x-python",
   "name": "python",
   "nbconvert_exporter": "python",
   "pygments_lexer": "ipython3",
   "version": "3.6.9"
  },
  "toc": {
   "base_numbering": 1,
   "nav_menu": {},
   "number_sections": true,
   "sideBar": true,
   "skip_h1_title": false,
   "title_cell": "Table of Contents",
   "title_sidebar": "Contents",
   "toc_cell": false,
   "toc_position": {},
   "toc_section_display": true,
   "toc_window_display": false
  }
 },
 "nbformat": 4,
 "nbformat_minor": 2
}
